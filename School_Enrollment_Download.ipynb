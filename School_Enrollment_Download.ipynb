{
 "cells": [
  {
   "cell_type": "code",
   "execution_count": 1,
   "metadata": {},
   "outputs": [],
   "source": [
    "import requests\n",
    "from bs4 import BeautifulSoup\n",
    "import pandas as pd"
   ]
  },
  {
   "cell_type": "code",
   "execution_count": 4,
   "metadata": {},
   "outputs": [],
   "source": [
    "#Helper function that is used to concatenate census data return\n",
    "def create_or_append_df(df, summary_df):\n",
    "    if df.empty:\n",
    "        df = summary_df.copy()\n",
    "    else:\n",
    "        df = pd.concat([df, summary_df])\n",
    "    return df"
   ]
  },
  {
   "cell_type": "code",
   "execution_count": 6,
   "metadata": {},
   "outputs": [],
   "source": [
    "download_years = [\n",
    "    '2014-15', '2015-16','2016-17','2017-18','2018-19','2019-20','2020-21','2021-22','2022-23'\n",
    "]\n",
    "\n",
    "base_url = 'https://dq.cde.ca.gov/dataquest/dqcensus/EnrGrdLevels.aspx?cds=0961903&agglevel=district&year='\n",
    "\n",
    "combined_data = pd.DataFrame()\n",
    "\n",
    "for year in download_years:\n",
    "    url = base_url+year\n",
    "    response = requests.get(url)\n",
    "    soup = BeautifulSoup(response.content, 'html.parser')\n",
    "    table = soup.find('table', {'id': \"ContentPlaceHolder1_grdEnrlPct\"})\n",
    "    df = pd.read_html(str(table))[0]\n",
    "    df['school_year']=year\n",
    "    combined_data = create_or_append_df(combined_data, df)\n",
    "    \n",
    "    \n"
   ]
  }
 ],
 "metadata": {
  "kernelspec": {
   "display_name": "Python 3",
   "language": "python",
   "name": "python3"
  },
  "language_info": {
   "codemirror_mode": {
    "name": "ipython",
    "version": 3
   },
   "file_extension": ".py",
   "mimetype": "text/x-python",
   "name": "python",
   "nbconvert_exporter": "python",
   "pygments_lexer": "ipython3",
   "version": "3.9.11"
  },
  "orig_nbformat": 4
 },
 "nbformat": 4,
 "nbformat_minor": 2
}
