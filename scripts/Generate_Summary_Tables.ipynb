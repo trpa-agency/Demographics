{
 "cells": [
  {
   "cell_type": "code",
   "execution_count": null,
   "metadata": {},
   "outputs": [],
   "source": [
    "import pandas as pd\n",
    "import summary_functions as sf\n",
    "import arcpy\n",
    "from arcgis import GeoAccessor\n",
    "from arcgis.features import FeatureLayer\n",
    "import os\n",
    "\n",
    "sample_year = 2022\n",
    "dataset = 'acs/acs5'"
   ]
  },
  {
   "cell_type": "code",
   "execution_count": null,
   "metadata": {},
   "outputs": [],
   "source": [
    "service_url = 'https://maps.trpa.org/server/rest/services/Demographics/MapServer/27'\n",
    "\n",
    "feature_layer = FeatureLayer(service_url)\n",
    "tahoe_geometry_fields = ['YEAR', 'STATE', 'GEOGRAPHY', 'GEOID', 'TRPAID', 'NEIGHBORHOOD']\n",
    "query_result = feature_layer.query(out_fields=\",\".join(tahoe_geometry_fields))\n",
    "# Convert the query result to a list of dictionaries\n",
    "feature_list = query_result.features\n",
    "\n",
    "# Create a pandas DataFrame from the list of dictionaries\n",
    "tahoe_geometry = pd.DataFrame([feature.attributes for feature in feature_list])\n",
    "\n",
    "county_lookup = {\n",
    "    '005': 'Douglas County (Tahoe Basin)',\n",
    "    '017': 'El Dorado County (Tahoe Basin)',\n",
    "    '031': 'Washoe County (Tahoe Basin)',\n",
    "    '061': 'Placer County (Tahoe Basin)'\n",
    "}\n",
    "\n",
    "state_lookup = {\n",
    "    '32': 'Nevada',\n",
    "    '06': 'California'\n",
    "}\n",
    "\n",
    "inflation_adjustment = {\n",
    "    '2000': 1.57,\n",
    "    '2010': 1.24\n",
    "}\n",
    "\n",
    "service_url = 'https://maps.trpa.org/server/rest/services/Demographics/MapServer/28'\n",
    "\n",
    "feature_layer = FeatureLayer(service_url)\n",
    "query_result = feature_layer.query()\n",
    "# Convert the query result to a list of dictionaries\n",
    "feature_list = query_result.features\n",
    "\n",
    "# Create a pandas DataFrame from the list of dictionaries\n",
    "all_data = pd.DataFrame([feature.attributes for feature in feature_list])\n",
    "\n",
    "all_data_clean = all_data.loc[(all_data['county']!='510')&(all_data['value']>=0)]\n",
    "all_data_clean.loc[all_data_clean['county'].isin(['005','017']),'north_south'] = 'South Lake'\n",
    "all_data_clean.loc[all_data_clean['county'].isin(['031','061']),'north_south'] = 'North Lake'\n",
    "all_data_clean['county_name'] = all_data_clean['county'].apply(lambda x: county_lookup.get(x, None))\n",
    "all_data_clean['state_name'] = all_data_clean['state'].apply(lambda x: state_lookup.get(x, None))\n",
    "\n",
    "\n",
    "all_data_clean = all_data_clean.dropna(subset='value')"
   ]
  },
  {
   "cell_type": "code",
   "execution_count": null,
   "metadata": {},
   "outputs": [],
   "source": [
    "filtered_df=all_data_clean.loc[(all_data_clean['year_sample']==sample_year)&(all_data_clean['dataset']==dataset)]\n",
    "\n",
    "summary_df = sf.sum_across_levels_moe(filtered_df,'Total Population','Total Population')"
   ]
  }
 ],
 "metadata": {
  "language_info": {
   "name": "python"
  }
 },
 "nbformat": 4,
 "nbformat_minor": 2
}
