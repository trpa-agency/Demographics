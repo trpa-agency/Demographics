{
 "cells": [
  {
   "cell_type": "code",
   "execution_count": 19,
   "metadata": {},
   "outputs": [],
   "source": [
    "import pandas as pd\n",
    "import summary_functions as sf\n",
    "import arcpy\n",
    "from arcgis import GeoAccessor\n",
    "from arcgis.features import FeatureLayer\n",
    "\n",
    "year_data = 2022\n",
    "def get_census_data(featureset):\n",
    "    service_id = {\n",
    "        'raw_data':'28',\n",
    "        'summaries':'18',\n",
    "        'enrollment':'32',\n",
    "        'visitation':'33',\n",
    "        'water_use':'34'\n",
    "    }\n",
    "\n",
    "    service_number = service_id.get(featureset) \n",
    "    service_url = 'https://maps.trpa.org/server/rest/services/Demographics/MapServer/'+service_number\n",
    "\n",
    "    feature_layer = FeatureLayer(service_url)\n",
    "    query_result = feature_layer.query()\n",
    "    # Convert the query result to a list of dictionaries\n",
    "    feature_list = query_result.features\n",
    "\n",
    "    # Create a pandas DataFrame from the list of dictionaries\n",
    "    all_data = pd.DataFrame([feature.attributes for feature in feature_list])\n",
    "\n",
    "    return all_data"
   ]
  },
  {
   "cell_type": "code",
   "execution_count": 15,
   "metadata": {},
   "outputs": [],
   "source": [
    "census_data = get_census_data('raw_data')\n",
    "tahoe_geography_url = 'https://maps.trpa.org/server/rest/services/Demographics/MapServer/27'\n",
    "# Create a FeatureLayer object directly from the REST map service URL\n",
    "feature_layer = FeatureLayer(tahoe_geography_url)"
   ]
  },
  {
   "cell_type": "code",
   "execution_count": 16,
   "metadata": {},
   "outputs": [],
   "source": [
    "county_zone = {\n",
    "    '061':'North Lake',\n",
    "    '031':'North Lake',\n",
    "    '005': 'South Lake',\n",
    "    '017':'South Lake'\n",
    "}\n",
    "census_data['Zone'] = census_data['county'].map(county_zone)\n",
    "#This list is based on input from Kira and Rachel\n",
    "vehicle_variables = \"../Census_Category_Lists/vehicle_categories.csv\"\n",
    "language_variables = \"../Census_Category_Lists/Language_Categories.csv\""
   ]
  },
  {
   "cell_type": "code",
   "execution_count": 18,
   "metadata": {},
   "outputs": [
    {
     "name": "stderr",
     "output_type": "stream",
     "text": [
      "c:\\Users\\amcclary\\Documents\\GitHub\\Demographics\\scripts\\summary_functions.py:102: SettingWithCopyWarning: \n",
      "A value is trying to be set on a copy of a slice from a DataFrame.\n",
      "Try using .loc[row_indexer,col_indexer] = value instead\n",
      "\n",
      "See the caveats in the documentation: https://pandas.pydata.org/pandas-docs/stable/user_guide/indexing.html#returning-a-view-versus-a-copy\n",
      "  census_df['value'] = census_df['value'].astype(float)\n",
      "c:\\Users\\amcclary\\Documents\\GitHub\\Demographics\\scripts\\summary_functions.py:102: SettingWithCopyWarning: \n",
      "A value is trying to be set on a copy of a slice from a DataFrame.\n",
      "Try using .loc[row_indexer,col_indexer] = value instead\n",
      "\n",
      "See the caveats in the documentation: https://pandas.pydata.org/pandas-docs/stable/user_guide/indexing.html#returning-a-view-versus-a-copy\n",
      "  census_df['value'] = census_df['value'].astype(float)\n"
     ]
    },
    {
     "name": "stdout",
     "output_type": "stream",
     "text": [
      "['GEO_ID', 'state', 'county', 'tract', 'block_group', 'variable_category', 'year_sample', 'sample_level', 'dataset', 'census_geom_year', 'TRPAID', 'NEIGHBORHOOD', 'Data_Scale', 'Zone', 'Broad Category']\n",
      "['GEO_ID', 'state', 'county', 'tract', 'block_group', 'variable_category', 'year_sample', 'sample_level', 'dataset', 'census_geom_year', 'TRPAID', 'NEIGHBORHOOD', 'Data_Scale', 'Zone', 'English Fluency']\n"
     ]
    }
   ],
   "source": [
    "census_data_yearly = census_data.loc[(census_data['year_sample']==year_data)&(census_data['sample_level']=='block group')]\n",
    "grouped_vehicles = sf.categorize_values(census_data_yearly, vehicle_variables, 'Broad Category', 'Household Vehicle Numbers: ')\n",
    "grouped_language = sf.categorize_values(census_data_yearly, language_variables, 'English Fluency', 'English Fluency: ')\n",
    "combined_grouped = pd.concat([grouped_language,grouped_vehicles])\n",
    "combined_grouped.to_excel('grouped_2022.xlsx')"
   ]
  }
 ],
 "metadata": {
  "kernelspec": {
   "display_name": "Python 3",
   "language": "python",
   "name": "python3"
  },
  "language_info": {
   "codemirror_mode": {
    "name": "ipython",
    "version": 3
   },
   "file_extension": ".py",
   "mimetype": "text/x-python",
   "name": "python",
   "nbconvert_exporter": "python",
   "pygments_lexer": "ipython3",
   "version": "3.9.18"
  }
 },
 "nbformat": 4,
 "nbformat_minor": 2
}
