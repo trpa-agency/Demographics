{
 "cells": [
  {
   "cell_type": "code",
   "execution_count": 41,
   "metadata": {},
   "outputs": [],
   "source": [
    "import pandas as pd\n",
    "import summary_functions as sf\n",
    "import arcpy\n",
    "from arcgis import GeoAccessor\n",
    "from arcgis.features import FeatureLayer\n",
    "import os\n",
    "# set workspace\n",
    "arcpy.env.workspace = \"F:\\GIS\\PROJECTS\\ResearchAnalysis\\Demographics\\Workspace.gdb\"\n",
    "workspace           = r\"F:\\GIS\\PROJECTS\\ResearchAnalysis\\Demographics\\Workspace.gdb\"\n",
    "workspace_folder    = r\"F:\\GIS\\PROJECTS\\ResearchAnalysis\\Demographics\"\n",
    "\n",
    "year_data = 2022"
   ]
  },
  {
   "cell_type": "markdown",
   "metadata": {},
   "source": [
    "## Import census data and lookup lists"
   ]
  },
  {
   "cell_type": "code",
   "execution_count": 35,
   "metadata": {},
   "outputs": [],
   "source": [
    "def get_census_data(featureset):\n",
    "    service_id = {\n",
    "        'raw_data':'28',\n",
    "        'summaries':'18',\n",
    "        'enrollment':'32',\n",
    "        'visitation':'33',\n",
    "        'water_use':'34'\n",
    "    }\n",
    "\n",
    "    service_number = service_id.get(featureset) \n",
    "    service_url = 'https://maps.trpa.org/server/rest/services/Demographics/MapServer/'+service_number\n",
    "\n",
    "    feature_layer = FeatureLayer(service_url)\n",
    "    query_result = feature_layer.query()\n",
    "    # Convert the query result to a list of dictionaries\n",
    "    feature_list = query_result.features\n",
    "\n",
    "    # Create a pandas DataFrame from the list of dictionaries\n",
    "    all_data = pd.DataFrame([feature.attributes for feature in feature_list])\n",
    "\n",
    "    return all_data"
   ]
  },
  {
   "cell_type": "code",
   "execution_count": 36,
   "metadata": {},
   "outputs": [],
   "source": [
    "census_data = get_census_data('raw_data')\n",
    "tahoe_geography_url = 'https://maps.trpa.org/server/rest/services/Demographics/MapServer/27'\n",
    "# Create a FeatureLayer object directly from the REST map service URL\n",
    "feature_layer = FeatureLayer(tahoe_geography_url)\n",
    "\n",
    "# Create a spatial DataFrame from the FeatureLayer\n",
    "sdf = GeoAccessor.from_layer(feature_layer)"
   ]
  },
  {
   "cell_type": "code",
   "execution_count": 37,
   "metadata": {},
   "outputs": [],
   "source": [
    "county_zone = {\n",
    "    '061':'North Lake',\n",
    "    '031':'North Lake',\n",
    "    '005': 'South Lake',\n",
    "    '017':'South Lake'\n",
    "}\n",
    "census_data['Zone'] = census_data['county'].map(county_zone)\n",
    "#This list is based on input from Kira and Rachel\n",
    "TDC_Variables = pd.read_csv(\"../Census_Category_Lists/TDC_categories.csv\")"
   ]
  },
  {
   "cell_type": "code",
   "execution_count": 38,
   "metadata": {},
   "outputs": [],
   "source": [
    "# This could be cool to do for all years so we could show change\n",
    "block_group_data = census_data.loc[(census_data['sample_level']=='block group')&(census_data['year_sample']==year_data)]\n",
    "# Map Bipoc, seniors, youth, 0 vehicle households (fillna for no categories)\n",
    "tdc_data = block_group_data.loc[block_group_data['variable_code'].isin(TDC_Variables['variable_code'])]\n",
    "#These will become the feature class column name\n",
    "sort_order = ['TRPAID', 'county', 'tract', 'Total_Population',\n",
    "'Total_Households',\n",
    "'Total_Disability_Population',\n",
    "'Age_Under_18',\n",
    "'Age_18_to_65',\n",
    "'Age_65_and_Over',\n",
    "'With_Disability',\n",
    "'Vehicle_Available_0',\n",
    "'Vehicle_Available_1',\n",
    "'Vehicle_Available_2',\n",
    "'Vehicle_Available_3',\n",
    "'Vehicle_Available_4',\n",
    "'Vehicle_Available_5',\n",
    "'White_Alone',\n",
    "'BIPOC',\n",
    "'Speak_English_Not_Well_Not_at_All'\n",
    "]\n"
   ]
  },
  {
   "cell_type": "code",
   "execution_count": 39,
   "metadata": {},
   "outputs": [
    {
     "name": "stdout",
     "output_type": "stream",
     "text": [
      "['GEO_ID', 'state', 'county', 'tract', 'block_group', 'variable_category', 'year_sample', 'sample_level', 'dataset', 'census_geom_year', 'TRPAID', 'NEIGHBORHOOD', 'Data_Scale', 'Zone', 'Broad Category']\n"
     ]
    },
    {
     "name": "stderr",
     "output_type": "stream",
     "text": [
      "c:\\Users\\amcclary\\Documents\\GitHub\\Demographics\\scripts\\summary_functions.py:100: SettingWithCopyWarning: \n",
      "A value is trying to be set on a copy of a slice from a DataFrame.\n",
      "Try using .loc[row_indexer,col_indexer] = value instead\n",
      "\n",
      "See the caveats in the documentation: https://pandas.pydata.org/pandas-docs/stable/user_guide/indexing.html#returning-a-view-versus-a-copy\n",
      "  categories = pd.read_csv(category_csv)\n"
     ]
    }
   ],
   "source": [
    "# Grab the category assigning function\n",
    "tdc_grouped_data = sf.categorize_values(tdc_data, \"../Census_Category_Lists/TDC_categories.csv\", 'Broad Category', \"\")\n",
    "\n",
    "tdc_flat = tdc_grouped_data.pivot(index=['TRPAID', 'county', 'tract'], columns='variable_name', values='value')\n",
    "tdc_flat = tdc_flat.reset_index()\n",
    "tdc_flat = tdc_flat[sort_order]"
   ]
  },
  {
   "cell_type": "code",
   "execution_count": 40,
   "metadata": {},
   "outputs": [],
   "source": [
    "merged_df = pd.merge(sdf, tdc_flat, on='TRPAID', how='inner')\n",
    "columns_drop=['GlobalID', 'YEAR', 'created_date', 'created_user', 'last_edited_date', 'last_edited_user', 'Shape.STArea()', 'Shape.STLength()']\n",
    "merged_df = merged_df.drop(columns=columns_drop)"
   ]
  },
  {
   "cell_type": "code",
   "execution_count": 42,
   "metadata": {},
   "outputs": [
    {
     "data": {
      "text/plain": [
       "'F:\\\\GIS\\\\PROJECTS\\\\ResearchAnalysis\\\\Demographics\\\\Workspace.gdb\\\\Tahoe_BlockGroup_2022_TDC_Values'"
      ]
     },
     "execution_count": 42,
     "metadata": {},
     "output_type": "execute_result"
    }
   ],
   "source": [
    "## Export spatial dataframes to feature class to use in Spatial join\n",
    "merged_df.spatial.to_featureclass(os.path.join(workspace, \"Tahoe_BlockGroup_2022_TDC_Values\"), sanitize_columns=False)"
   ]
  }
 ],
 "metadata": {
  "kernelspec": {
   "display_name": "ArcGISPro",
   "language": "Python",
   "name": "python3"
  },
  "language_info": {
   "codemirror_mode": {
    "name": "ipython",
    "version": 3
   },
   "file_extension": ".py",
   "mimetype": "text/x-python",
   "name": "python",
   "nbconvert_exporter": "python",
   "pygments_lexer": "ipython3",
   "version": "3.9.18"
  }
 },
 "nbformat": 4,
 "nbformat_minor": 2
}
