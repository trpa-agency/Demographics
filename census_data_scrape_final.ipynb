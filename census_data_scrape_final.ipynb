{
 "cells": [
  {
   "cell_type": "markdown",
   "metadata": {},
   "source": [
    "# Setup and define variables"
   ]
  },
  {
   "cell_type": "code",
   "execution_count": 2,
   "metadata": {},
   "outputs": [
    {
     "name": "stderr",
     "output_type": "stream",
     "text": [
      "c:\\Program Files\\ArcGIS\\Pro\\bin\\Python\\envs\\arcgispro-py3\\lib\\site-packages\\pandas\\io\\sql.py:762: UserWarning: pandas only support SQLAlchemy connectable(engine/connection) ordatabase string URI or sqlite3 DBAPI2 connectionother DBAPI2 objects are not tested, please consider using SQLAlchemy\n",
      "  warnings.warn(\n"
     ]
    }
   ],
   "source": [
    "import pandas as pd\n",
    "import numpy as np\n",
    "import requests\n",
    "import pyodbc\n",
    "import arcpy\n",
    "# This is using Andy's Census API KEy\n",
    "census_api_key = '9a73d08c296b844e58f1c70bd19c831826da5cbf'\n",
    "\n",
    "# Need to define datatypes so that FIPS code doesn't get cast as int and drop leading 0s\n",
    "dtypes = {\n",
    "    'YEAR' : str,\n",
    "    'STATE': str,\n",
    "    'GEOGRAPHY': str,\n",
    "    'GEOID': str,\n",
    "    'TRPAID':str,\n",
    "    'NEIGHBORHOOD': str\n",
    "}\n",
    "\n",
    "#Manually defined list of census tracts that are within the basin\n",
    " \n",
    "#This should be redundant once we get to the new tahoe census feature class\n",
    "#Generated a GEO? that is a combination of the GEOID and Census year. This is how we join to tblDemographics to determine what's in the basin\n",
    "\n",
    "\n",
    "server = 'xxxx'\n",
    "database = 'xxxx'\n",
    "username = 'xxxx'\n",
    "password = 'xxxx'\n",
    "query = 'Select YEAR, STATE, GEOGRAPHY, GEOID, TRPAID, NEIGHBORHOOD from sde.Tahoe_Census_Geography'\n",
    "\n",
    "conn_str = f\"DRIVER={{SQL Server}};SERVER={server};DATABASE={database};UID={username};PWD={password}\"\n",
    "\n",
    "# Establish a connection to the SQL Server\n",
    "conn = pyodbc.connect(conn_str)\n",
    "\n",
    "# Execute the query and fetch the results\n",
    "tahoe_geometry = pd.read_sql_query(query, conn, dtype=dtypes)\n",
    "\n",
    "# Close the database connection\n",
    "conn.close()\n"
   ]
  },
  {
   "cell_type": "markdown",
   "metadata": {},
   "source": [
    "## Define the census download functions"
   ]
  },
  {
   "cell_type": "code",
   "execution_count": 4,
   "metadata": {},
   "outputs": [],
   "source": [
    "#Helper function that is used to concatenate census data return\n",
    "def create_or_append_df(df, summary_df):\n",
    "    if df.empty:\n",
    "        df = summary_df.copy()\n",
    "    else:\n",
    "        df = pd.concat([df, summary_df])\n",
    "    return df\n",
    "\n",
    "#Thus gets the result of the get request and does some data wrangling to make it fit our structure\n",
    "def get_request_census(request_url, sample_level, geo_name):\n",
    "    response = requests.get(request_url)\n",
    "            \n",
    "    df = pd.DataFrame(response.json())\n",
    "    #The json returns column names in the first row\n",
    "    df.columns = df.iloc[0]\n",
    "    df = df[1:]\n",
    "    df['sample_level']=sample_level\n",
    "    df['Geo_Name']=geo_name\n",
    "    #Might as well add counties and states at this stage\n",
    "    return df\n",
    "\n",
    "\n",
    "\n",
    "def get_variable_data(year, dataset, geometry_return, variable, variablename, census_api_key, census_geom_year, tahoe_geometry, variable_category):\n",
    "    #Returns all data for a given dataset for Washoe, El Dorado, Carson City, Douglas, Placer Counties\n",
    "    #Need to make five seperate api calls because of the geometry structure\n",
    "    county_states ={\n",
    "        '06': ['017','061'],\n",
    "        '32': ['005', '031', '510']\n",
    "    }\n",
    "    base_url = 'https://api.census.gov/data'\n",
    "    df_total=pd.DataFrame()\n",
    "    #Formatting to match html get request\n",
    "    geometry_return=geometry_return.replace(\" \", \"%20\")\n",
    "    #This adds tract level to make block groups or blocks get request valid\n",
    "    if geometry_return == 'tract':\n",
    "        geometry_level = ''\n",
    "    else:\n",
    "        geometry_level='%20tract:*'\n",
    "    if 'acs/acs5' in dataset:\n",
    "        variable= variable +'E,'+variable + 'M'\n",
    "\n",
    "    \n",
    "    for state in county_states:\n",
    "        for county in county_states[state]:\n",
    "            print(f'{base_url}/{year}/{dataset}?get=GEO_ID,{variable}&for={geometry_return}:*&in=state:{state}%20county:{county}{geometry_level}&key={census_api_key}')\n",
    "            request_url = f'{base_url}/{year}/{dataset}?get=GEO_ID,{variable}&for={geometry_return}:*&in=state:{state}%20county:{county}{geometry_level}&key={census_api_key}'\n",
    "            response = requests.get(request_url)\n",
    "            \n",
    "            df = pd.DataFrame(response.json())\n",
    "            #The json returns column names in the first row\n",
    "            df.columns = df.iloc[0]\n",
    "            df = df[1:]\n",
    "            #Might as well add counties and states at this stage\n",
    "            if df_total.empty:\n",
    "                df_total=df\n",
    "            else:\n",
    "                df_total=pd.concat([df_total, df])\n",
    "    #Figure out exactly what variable we want here\n",
    "    #Add something here to handle margin of error\n",
    "    df_total['variable_code']=variable\n",
    "    df_total['variable_name']=variablename\n",
    "    df_total['variable_category']= variable_category\n",
    "    df_total['year_sample']=year\n",
    "    df_total['sample_level']=geometry_return.replace(\"%20\", \" \")\n",
    "    df_total['dataset']= dataset\n",
    "    df_total['census_geom_year'] = census_geom_year\n",
    "    df_total['GEO_ID'] = df_total['GEO_ID'].str.split('US').str[1]\n",
    "    df_total['TRPAID'] = df_total['GEO_ID']+df_total['census_geom_year'].astype(str)\n",
    "    df_total.columns.values[1] = 'value'\n",
    "    df_total['value'] = df_total['value'].astype(float)\n",
    "    if 'acs/acs5' in dataset:\n",
    "        df_total.columns.values[2]='MarginOfError'\n",
    "        df_total['variable_code'] = df_total['variable_code'].str.split(',').str[0]\n",
    "    else:\n",
    "        df_total.insert(2, 'MarginOfError', np.NaN)\n",
    "    if geometry_return == 'tract':\n",
    "        tract_col_loc = df_total.columns.get_loc('tract')\n",
    "        df_total.insert(tract_col_loc, 'block group', np.NaN)\n",
    "\n",
    "    #filter to just the tahoe parcels\n",
    "    df_total = df_total[df_total['TRPAID'].isin(tahoe_geometry['TRPAID'])]\n",
    "    df_total =  pd.merge(df_total, tahoe_geometry[['TRPAID', 'NEIGHBORHOOD']], on='TRPAID', how= 'left')\n",
    "    \n",
    "    return df_total\n",
    "\n",
    "def get_non_tahoe_data(year,dataset, variable, variablename, census_api_key, census_geom_year, variable_category):\n",
    "    base_url = 'https://api.census.gov/data'\n",
    "    df_total=pd.DataFrame()\n",
    "    county_states ={\n",
    "        '06': ['017','061'],\n",
    "        '32': ['005', '031', '510']\n",
    "    }\n",
    "    state_names={\n",
    "        '06':'CA',\n",
    "        '32':'NV'\n",
    "    }\n",
    "    county_names={\n",
    "        '017':'El Dorado County',\n",
    "        '061':'Placer County',\n",
    "        '005':'Douglas County',\n",
    "        '031':'Washoe County',\n",
    "        '510':'Carson City County'\n",
    "    }\n",
    "    #Need to update this so that it handles the different years - are 2010 and 2020 the same?\n",
    "    urban_centers = {\n",
    "        'Reno-Sparks MSA':'39900',\n",
    "        'Sacramento MSA': '40900',   \n",
    "    }\n",
    "    combined_metro_areas={\n",
    "        'Sanfranciso CMSA': '488'\n",
    "    }\n",
    "    urban_centers_2000 = {\n",
    "        'Reno-Sparks MSA':'6720',\n",
    "        'Sacramento MSA': '6922',   \n",
    "    }\n",
    "    combined_metro_areas_2000={\n",
    "        'Sanfranciso CMSA': '7362'\n",
    "    }\n",
    "    if year==\"2000\":\n",
    "        for urban_center in urban_centers_2000:\n",
    "            urban_center_code = urban_centers_2000[urban_center]\n",
    "            statistical_region_url = f'metropolitan%20statistical%20area/micropolitan%20statistical%20area'\n",
    "            print(f'{base_url}/{year}/{dataset}?get=GEO_ID,{variable}&for={statistical_region_url}:{urban_center_code}&key={census_api_key}')\n",
    "            request_url= f'{base_url}/{year}/{dataset}?get=GEO_ID,{variable}&for={statistical_region_url}:{urban_center_code}&key={census_api_key}'\n",
    "            df = get_request_census(request_url,'MSA',urban_center)\n",
    "            df_total = create_or_append_df(df_total,df)\n",
    "    else:        \n",
    "        for urban_center in urban_centers:\n",
    "            urban_center_code = urban_centers[urban_center]\n",
    "            print(f'{base_url}/{year}/{dataset}?get=GEO_ID,{variable}&for=metropolitan%20statistical%20area/micropolitan%20statistical%20area:{urban_center_code}&key={census_api_key}')\n",
    "            request_url = f'{base_url}/{year}/{dataset}?get=GEO_ID,{variable}&for=metropolitan%20statistical%20area/micropolitan%20statistical%20area:{urban_center_code}&key={census_api_key}'            \n",
    "            df = get_request_census(request_url,'MSA', urban_center)\n",
    "            df_total = create_or_append_df(df_total, df)    \n",
    "        for cma in combined_metro_areas:\n",
    "            cma_code = combined_metro_areas[cma]\n",
    "            print(f'{base_url}/{year}/{dataset}?get=GEO_ID,{variable}&for=combined%20statistical%20area:{cma_code}&key={census_api_key}')\n",
    "            request_url = f'{base_url}/{year}/{dataset}?get=GEO_ID,{variable}&for=combined%20statistical%20area:{cma_code}&key={census_api_key}'\n",
    "            df = get_request_census(request_url, 'MSA', cma)\n",
    "            df_total = create_or_append_df(df_total, df)\n",
    "    for state in county_states:\n",
    "        for county in county_states[state]:\n",
    "            #https://api.census.gov/data/2010/dec/sf1?get=GEO_ID,P001001&for=county:017&in=state:06&key=9a73d08c296b844e58f1c70bd19c831826da5cbf\n",
    "            print(f'{base_url}/{year}/{dataset}?get=GEO_ID,{variable}&for=county:{county}&in=state:{state}&key={census_api_key}')\n",
    "            request_url = f'{base_url}/{year}/{dataset}?get=GEO_ID,{variable}&for=county:{county}&in=state:{state}&key={census_api_key}'\n",
    "            countyname = county_names[county]\n",
    "            df = get_request_census(request_url, 'County', countyname)\n",
    "            df_total = create_or_append_df(df_total, df)\n",
    "    for state in county_states:\n",
    "        #https://api.census.gov/data/2010/dec/sf1?get=GEO_ID,P001001&for=county:017&in=state:06&key=9a73d08c296b844e58f1c70bd19c831826da5cbf\n",
    "        print(f'{base_url}/{year}/{dataset}?get=GEO_ID,{variable}&for=state:{state}&key={census_api_key}')\n",
    "        request_url = f'{base_url}/{year}/{dataset}?get=GEO_ID,{variable}&for=state:{state}&key={census_api_key}'\n",
    "        geoname = state_names[state]\n",
    "        df = get_request_census(request_url,'State', geoname)\n",
    "        df_total = create_or_append_df(df_total, df)\n",
    "        \n",
    "    #Figure out exactly what variable we want here\n",
    "    df_total['variable_code']=variable\n",
    "    df_total['variable_name']=variablename\n",
    "    df_total['variable_category']= variable_category\n",
    "    df_total['year_sample']=year\n",
    "    df_total['dataset']= dataset\n",
    "    df_total['census_geom_year'] = census_geom_year\n",
    "    df_total['GEO_ID'] = df_total['GEO_ID'].str.split('US').str[1]\n",
    "    df_total['GEO_CODE'] = df_total['GEO_ID']+df_total['census_geom_year'].astype(str)\n",
    "    df_total.columns.values[1] = 'value'\n",
    "    return df_total\n",
    "\n",
    "def census_download_wrapper (variable_file):\n",
    "    dtypes = {\n",
    "    'Variable' : str,\n",
    "    'Code': str,\n",
    "    'Category': str,\n",
    "    'Datasource': str,\n",
    "    'CodeNumber':str,\n",
    "    'Year':str,\n",
    "    'census_geom_year':str,\n",
    "    'GeometryLevel':str\n",
    "    }\n",
    "\n",
    "\n",
    "    variables = pd.read_csv(variable_file,dtype=dtypes)\n",
    "\n",
    "    #Loop through this?\n",
    "    df_values=pd.DataFrame()\n",
    "    for index, row in variables.iterrows():\n",
    "        print(index)\n",
    "        df = get_variable_data(row['Year'], row['Datasource Name'],row['GeometryLevel'],row['CodeNumber'],row['Variable'], census_api_key, row['census_geom_year'], tahoe_geometry, row['Category'])\n",
    "        \n",
    "        df_values = create_or_append_df(df_values, df)\n",
    "    return df_values"
   ]
  },
  {
   "cell_type": "markdown",
   "metadata": {},
   "source": [
    "## Define the processing functions"
   ]
  },
  {
   "cell_type": "code",
   "execution_count": 5,
   "metadata": {},
   "outputs": [],
   "source": [
    "\n",
    "\n",
    "def calculate_median_value(df, bin_column, sort_column, count_column, category_field, category,grouping_variables):\n",
    "        # Create a new DataFrame to avoid modifying the original one\n",
    "    #change value to count column\n",
    "    #Do we need to handle excluding non-tahoe things here or should we do it in the input?\n",
    "    summary_df = df.copy()\n",
    "    summary_df[count_column]=summary_df[count_column].astype(int)\n",
    "    #summary_df=summary_df.loc[summary_df[count_column]!='510']\n",
    "    summary_df = summary_df.groupby(grouping_variables)[count_column].sum()\n",
    "    summary_df = summary_df.reset_index()\n",
    "    #This handles -6666 values that they sometimes add for unknown data\n",
    "    summary_df = summary_df.loc[summary_df[count_column]>=0]\n",
    "    \n",
    "    \n",
    "    summary_df= summary_df.loc[summary_df[category_field]==category]\n",
    "    # Sort the DataFrame based on the variable name column\n",
    "    # This depends on the fact that census variables start with the lowest value and go up \n",
    "    #This needs to all be rethought to have some kind of window function to handle multiple years\n",
    "    summary_df.sort_values(by=sort_column, inplace=True)\n",
    "    summary_df = summary_df.reset_index()\n",
    "    \n",
    "    # Extract lower and upper limits from bin categories\n",
    "    #This uses regex to find numbers and removes commas to make numbers numbers \n",
    "    pattern = r'(\\d+[\\d,]*)'\n",
    "    summary_df['temp'] = summary_df[bin_column].str.replace(',', '').str.findall(pattern)\n",
    "    #Looks for values that have two numbers and puts empty placeholders for the ones that only have one (upper and lower)\n",
    "    summary_df[['Lower', 'Upper']] = summary_df['temp'].apply(lambda x: pd.Series(x[:2]) if len(x) == 2 else pd.Series([None, None]))\n",
    "    summary_df['Lower'] = summary_df['Lower'].astype(float)\n",
    "    summary_df['Upper'] = summary_df['Upper'].astype(float)\n",
    "    # Handle first category\n",
    "    \n",
    "    first_upper = float(summary_df['temp'].iloc[0][0])\n",
    "    #convert string to float\n",
    "    print(first_upper)\n",
    "    summary_df.loc[0, 'Lower'] = 0  # Set lower value to 0\n",
    "    summary_df.loc[0, 'Upper'] = first_upper\n",
    "    \n",
    "    # Handle last category\n",
    "    \n",
    "    last_lower = float(summary_df['temp'].iloc[-1][0])\n",
    "    print(last_lower)\n",
    "    summary_df.loc[summary_df.index[-1], 'Lower'] = last_lower\n",
    "    summary_df.loc[summary_df.index[-1], 'Upper'] = np.inf  # Set upper value to infinity\n",
    "    summary_df[count_column]= summary_df[count_column].astype(float)   \n",
    "    # Calculate cumulative count\n",
    "    summary_df['Cumulative_Count'] = summary_df[count_column].cumsum()\n",
    "    \n",
    "    # Calculate total count\n",
    "    total_count = summary_df[count_column].sum()\n",
    "    \n",
    "    # Find the bin where the cumulative count exceeds or equals half of the total count\n",
    "    median_bin = summary_df.loc[summary_df['Cumulative_Count'] >= total_count / 2, bin_column].iloc[0]\n",
    "    print(median_bin)\n",
    "    # Estimate the median value\n",
    "    #We need to pull the median income\n",
    "    median_bin_index = summary_df[summary_df['Cumulative_Count'] >= total_count / 2].index[0]\n",
    "    print(median_bin_index)\n",
    "    previous_cumulative_count = summary_df.loc[median_bin_index-1, 'Cumulative_Count']\n",
    "    print(previous_cumulative_count)\n",
    "    previous_upper = summary_df.loc[summary_df['Cumulative_Count'] == previous_cumulative_count, 'Upper'].iloc[0]\n",
    "    \n",
    "    next_cumulative_count = summary_df.loc[median_bin_index + 1, 'Cumulative_Count']\n",
    "    print(next_cumulative_count)\n",
    "    next_lower = summary_df.loc[median_bin_index+1, 'Lower']\n",
    "    print(total_count)\n",
    "\n",
    "    median_bin_count = summary_df.loc[median_bin_index, 'Cumulative_Count']\n",
    "    # Interpolate the median value within the bin range\n",
    "    #this is the amount of the range that it takes to get to the exact median\n",
    "    cumulative_diff = total_count / 2 - previous_cumulative_count\n",
    "    print(cumulative_diff)\n",
    "    #this is the number of people it takes to get to the exact median divided by the number of people in the bin\n",
    "    interpolation_ratio = cumulative_diff /  (median_bin_count- previous_cumulative_count)\n",
    "    print(interpolation_ratio)\n",
    "    #this is the upper range of the previous bin times the ratio of the bin that should be applied times the size of the bin\n",
    "    median_value = previous_upper + interpolation_ratio * (next_lower - previous_upper)\n",
    "    \n",
    "    # Add the estimated median value to the new DataFrame\n",
    "    summary_df['Estimated_Median'] = median_value\n",
    "    print(median_value)\n",
    "    \n",
    "    \n",
    "    return summary_df\n",
    "\n",
    "def load_variable_multiple_year(year_range, dataset, geometry_return, variable, variablename, census_api_key, census_geom_year, tahoe_geometry, variable_category):\n",
    "    df=pd.DataFrame()\n",
    "    df_return=pd.DataFrame()\n",
    "    #year_range = [str(num) for num in range(year_start, year_end+1)]\n",
    "    for year in year_range:\n",
    "        if year in ['2020', '2021', '2022']:\n",
    "            census_geom_year = '2020'\n",
    "        else:\n",
    "            census_geom_year = '2010'\n",
    "        df = get_variable_data(year,dataset,geometry_return,variable,variablename,census_api_key, census_geom_year, tahoe_geometry, variable_category)\n",
    "        if df_return.empty:\n",
    "            df_return=df\n",
    "        else:\n",
    "            df_return=pd.concat([df_return, df])\n",
    "    return df_return\n",
    "\n",
    "def categorize_values(census_df, category_csv, category_column, grouping_prefix):\n",
    "    categories = pd.read_csv(category_csv)    \n",
    "    census_df['value'] = census_df['value'].astype(float)\n",
    "    joined_data = census_df.merge(categories, on = 'variable_code', how = 'left')\n",
    "    joined_data.sort_values(by='variable_code', inplace=True)\n",
    "    #This will get rid of any extra columns in the category_csv\n",
    "    group_columns = [column for column in census_df if column not in ['value', 'variable_code', 'variable_name', 'MarginOfError','OBJECTID']]\n",
    "    group_columns.append(category_column)\n",
    "    #grouped_data = joined_data.groupby(group_columns, as_index=False)['value'].sum()    \n",
    "    print(group_columns)\n",
    "    grouped_data = joined_data.groupby(group_columns, as_index=False, dropna=False).agg({'value':'sum',\n",
    "                                                                           'variable_code':lambda x: grouping_prefix +  ', '.join(x)})\n",
    "    \n",
    "    #Need to return this formatted for appending to the table - need to get locations of variable_code and variable name, \n",
    "    #add them in as columns in those locations and then populate them with category column nanme\n",
    "    var_code_col_location = census_df.columns.get_loc('variable_code')\n",
    "    var_name_col_location = census_df.columns.get_loc('variable_name')\n",
    "    var_moe_col_location = census_df.columns.get_loc('MarginOfError')\n",
    "    grouped_data.insert(var_moe_col_location, 'MarginOfError', '')\n",
    "    #grouped_data.insert(var_code_col_location, 'variable_code','Grouped Value')\n",
    "    grouped_data.insert(var_name_col_location, 'variable_name','')\n",
    "    #grouped_data['variable_code'] = grouped_data['variable_code'] +  '_Grouped'\n",
    "    grouped_data['variable_name'] = grouped_data[category_column]\n",
    "    grouped_data['dataset']= grouping_prefix + grouped_data['dataset']\n",
    "    grouped_data['variable_category']= grouping_prefix +  grouped_data['variable_category'] \n",
    "    columns_to_keep = [column for column in census_df if column not in ['OBJECTID']]\n",
    "    grouped_data= grouped_data[columns_to_keep]\n",
    "    return grouped_data\n"
   ]
  },
  {
   "cell_type": "markdown",
   "metadata": {},
   "source": [
    "# Download data sets"
   ]
  },
  {
   "cell_type": "markdown",
   "metadata": {},
   "source": [
    "# Import 1990 data"
   ]
  },
  {
   "cell_type": "code",
   "execution_count": null,
   "metadata": {},
   "outputs": [],
   "source": []
  },
  {
   "cell_type": "markdown",
   "metadata": {},
   "source": [
    "## Download all contents of folder\n",
    "\n"
   ]
  },
  {
   "cell_type": "code",
   "execution_count": null,
   "metadata": {},
   "outputs": [],
   "source": [
    "#Folder of csvs with variables to be downloaded\n",
    "folder_path = 'Census_Variable_Lists/'\n",
    "\n",
    "# Create an empty dictionary to store DataFrames\n",
    "variable_lists = {}\n",
    "\n",
    "# Loop through all files in the folder\n",
    "for filename in os.listdir(folder_path):\n",
    "    # Check if the file is a CSV file\n",
    "    if filename.endswith('.csv'):\n",
    "        # Construct the full path to the CSV file\n",
    "        file_path = os.path.join(folder_path, filename)\n",
    "        \n",
    "        # Read the CSV file into a DataFrame\n",
    "        df_name = os.path.splitext(filename)[0]  # Extract the name without the '.csv' extension\n",
    "        variable_lists[df_name] = pd.read_csv(file_path, dtype=dtypes)"
   ]
  },
  {
   "cell_type": "code",
   "execution_count": null,
   "metadata": {},
   "outputs": [],
   "source": [
    "print(variable_lists.keys())\n",
    "\n",
    "data_downloads = {}\n",
    "\n",
    "for df_name, df in variable_lists.items():\n",
    "    # Perform the substring substitution in the DataFrame name\n",
    "    new_df_name = df_name.replace('variables', 'values')\n",
    "    \n",
    "    # Store the DataFrame with the updated name in the new dictionary\n",
    "    data_downloads[new_df_name] = pd.DataFrame()\n",
    "    for index, row in df.iterrows():\n",
    "        print(index)\n",
    "        df1 = get_variable_data(row['Year'], row['Datasource Name'],'block group',row['CodeNumber'],row['Variable'], census_api_key, row['census_geom_year'], tahoe_geometry, row['Category'])\n",
    "        \n",
    "        data_downloads[new_df_name] = create_or_append_df(data_downloads[new_df_name], df1)\n",
    "    \n",
    "\n",
    "#Loop through this dictionary, create a dataframe using those names and run the downloads for each one"
   ]
  },
  {
   "cell_type": "markdown",
   "metadata": {},
   "source": [
    "## Download Data Sets"
   ]
  },
  {
   "cell_type": "markdown",
   "metadata": {},
   "source": [
    "### Download core acs 2020 block group data"
   ]
  },
  {
   "cell_type": "code",
   "execution_count": null,
   "metadata": {},
   "outputs": [],
   "source": [
    "acs_bg_2020 = census_download_wrapper('census_variables_acs_blockgroup_2020.csv')"
   ]
  },
  {
   "cell_type": "code",
   "execution_count": null,
   "metadata": {},
   "outputs": [],
   "source": [
    "acs_tract_2020 = census_download_wrapper('census_variables_acs_tract_2020.csv')"
   ]
  },
  {
   "cell_type": "code",
   "execution_count": null,
   "metadata": {},
   "outputs": [],
   "source": [
    "acs_bg_homevalue_2020 = census_download_wrapper('Census_Variable_Lists\\census_variables_acs_blockgroup_Median Home Values.csv')"
   ]
  },
  {
   "cell_type": "code",
   "execution_count": 11,
   "metadata": {},
   "outputs": [],
   "source": [
    "acs_bg_homevalue_2020.to_excel(\"acs_bg_homevalue_2020.xlsx\")"
   ]
  },
  {
   "cell_type": "code",
   "execution_count": null,
   "metadata": {},
   "outputs": [],
   "source": [
    "acs_tract_homevalue_2020 = census_download_wrapper('Census_Variable_Lists\\census_variables_acs_tract_home_values.csv')\n",
    "acs_tract_homevalue_2020.to_excel(\"acs_tract_homevalue_2020.xlsx\")"
   ]
  },
  {
   "cell_type": "markdown",
   "metadata": {},
   "source": [
    "## Download 2021 acs tract data"
   ]
  },
  {
   "cell_type": "code",
   "execution_count": null,
   "metadata": {},
   "outputs": [],
   "source": [
    "acs_tract_2020_1 = census_download_wrapper('Census_Variable_Lists\\census_variables_acs_tract_2020_1.csv')\n",
    "acs_tract_2020_1.to_excel(\"Census_Data_Downloads/acs_tract_2020_1.xlsx\", index=False)"
   ]
  },
  {
   "cell_type": "code",
   "execution_count": 4,
   "metadata": {},
   "outputs": [
    {
     "name": "stdout",
     "output_type": "stream",
     "text": [
      "0\n",
      "https://api.census.gov/data/2021/acs/acs5?get=GEO_ID,B28002_013E,B28002_013M&for=block%20group:*&in=state:06%20county:017%20tract:*&key=9a73d08c296b844e58f1c70bd19c831826da5cbf\n",
      "https://api.census.gov/data/2021/acs/acs5?get=GEO_ID,B28002_013E,B28002_013M&for=block%20group:*&in=state:06%20county:061%20tract:*&key=9a73d08c296b844e58f1c70bd19c831826da5cbf\n",
      "https://api.census.gov/data/2021/acs/acs5?get=GEO_ID,B28002_013E,B28002_013M&for=block%20group:*&in=state:32%20county:005%20tract:*&key=9a73d08c296b844e58f1c70bd19c831826da5cbf\n",
      "https://api.census.gov/data/2021/acs/acs5?get=GEO_ID,B28002_013E,B28002_013M&for=block%20group:*&in=state:32%20county:031%20tract:*&key=9a73d08c296b844e58f1c70bd19c831826da5cbf\n",
      "https://api.census.gov/data/2021/acs/acs5?get=GEO_ID,B28002_013E,B28002_013M&for=block%20group:*&in=state:32%20county:510%20tract:*&key=9a73d08c296b844e58f1c70bd19c831826da5cbf\n",
      "1\n",
      "https://api.census.gov/data/2021/acs/acs5?get=GEO_ID,B28002_001E,B28002_001M&for=block%20group:*&in=state:06%20county:017%20tract:*&key=9a73d08c296b844e58f1c70bd19c831826da5cbf\n",
      "https://api.census.gov/data/2021/acs/acs5?get=GEO_ID,B28002_001E,B28002_001M&for=block%20group:*&in=state:06%20county:061%20tract:*&key=9a73d08c296b844e58f1c70bd19c831826da5cbf\n",
      "https://api.census.gov/data/2021/acs/acs5?get=GEO_ID,B28002_001E,B28002_001M&for=block%20group:*&in=state:32%20county:005%20tract:*&key=9a73d08c296b844e58f1c70bd19c831826da5cbf\n",
      "https://api.census.gov/data/2021/acs/acs5?get=GEO_ID,B28002_001E,B28002_001M&for=block%20group:*&in=state:32%20county:031%20tract:*&key=9a73d08c296b844e58f1c70bd19c831826da5cbf\n",
      "https://api.census.gov/data/2021/acs/acs5?get=GEO_ID,B28002_001E,B28002_001M&for=block%20group:*&in=state:32%20county:510%20tract:*&key=9a73d08c296b844e58f1c70bd19c831826da5cbf\n",
      "2\n",
      "https://api.census.gov/data/2021/acs/acs5?get=GEO_ID,B28001_001E,B28001_001M&for=block%20group:*&in=state:06%20county:017%20tract:*&key=9a73d08c296b844e58f1c70bd19c831826da5cbf\n",
      "https://api.census.gov/data/2021/acs/acs5?get=GEO_ID,B28001_001E,B28001_001M&for=block%20group:*&in=state:06%20county:061%20tract:*&key=9a73d08c296b844e58f1c70bd19c831826da5cbf\n",
      "https://api.census.gov/data/2021/acs/acs5?get=GEO_ID,B28001_001E,B28001_001M&for=block%20group:*&in=state:32%20county:005%20tract:*&key=9a73d08c296b844e58f1c70bd19c831826da5cbf\n",
      "https://api.census.gov/data/2021/acs/acs5?get=GEO_ID,B28001_001E,B28001_001M&for=block%20group:*&in=state:32%20county:031%20tract:*&key=9a73d08c296b844e58f1c70bd19c831826da5cbf\n",
      "https://api.census.gov/data/2021/acs/acs5?get=GEO_ID,B28001_001E,B28001_001M&for=block%20group:*&in=state:32%20county:510%20tract:*&key=9a73d08c296b844e58f1c70bd19c831826da5cbf\n",
      "3\n",
      "https://api.census.gov/data/2021/acs/acs5?get=GEO_ID,B28001_002E,B28001_002M&for=block%20group:*&in=state:06%20county:017%20tract:*&key=9a73d08c296b844e58f1c70bd19c831826da5cbf\n",
      "https://api.census.gov/data/2021/acs/acs5?get=GEO_ID,B28001_002E,B28001_002M&for=block%20group:*&in=state:06%20county:061%20tract:*&key=9a73d08c296b844e58f1c70bd19c831826da5cbf\n",
      "https://api.census.gov/data/2021/acs/acs5?get=GEO_ID,B28001_002E,B28001_002M&for=block%20group:*&in=state:32%20county:005%20tract:*&key=9a73d08c296b844e58f1c70bd19c831826da5cbf\n",
      "https://api.census.gov/data/2021/acs/acs5?get=GEO_ID,B28001_002E,B28001_002M&for=block%20group:*&in=state:32%20county:031%20tract:*&key=9a73d08c296b844e58f1c70bd19c831826da5cbf\n",
      "https://api.census.gov/data/2021/acs/acs5?get=GEO_ID,B28001_002E,B28001_002M&for=block%20group:*&in=state:32%20county:510%20tract:*&key=9a73d08c296b844e58f1c70bd19c831826da5cbf\n",
      "4\n",
      "https://api.census.gov/data/2021/acs/acs5?get=GEO_ID,B28001_011E,B28001_011M&for=block%20group:*&in=state:06%20county:017%20tract:*&key=9a73d08c296b844e58f1c70bd19c831826da5cbf\n",
      "https://api.census.gov/data/2021/acs/acs5?get=GEO_ID,B28001_011E,B28001_011M&for=block%20group:*&in=state:06%20county:061%20tract:*&key=9a73d08c296b844e58f1c70bd19c831826da5cbf\n",
      "https://api.census.gov/data/2021/acs/acs5?get=GEO_ID,B28001_011E,B28001_011M&for=block%20group:*&in=state:32%20county:005%20tract:*&key=9a73d08c296b844e58f1c70bd19c831826da5cbf\n",
      "https://api.census.gov/data/2021/acs/acs5?get=GEO_ID,B28001_011E,B28001_011M&for=block%20group:*&in=state:32%20county:031%20tract:*&key=9a73d08c296b844e58f1c70bd19c831826da5cbf\n",
      "https://api.census.gov/data/2021/acs/acs5?get=GEO_ID,B28001_011E,B28001_011M&for=block%20group:*&in=state:32%20county:510%20tract:*&key=9a73d08c296b844e58f1c70bd19c831826da5cbf\n"
     ]
    }
   ],
   "source": [
    "acs_internet_2021 = census_download_wrapper('Census_Variable_Lists\\census_variables_internet.csv')\n",
    "acs_internet_2021.to_excel(\"Census_Data_Downloads/acs_internet_2021.xlsx\", index=False)"
   ]
  },
  {
   "cell_type": "code",
   "execution_count": null,
   "metadata": {},
   "outputs": [],
   "source": [
    "acs_tract_2020_2 = census_download_wrapper('Census_Variable_Lists\\census_variables_acs_tract_2020_2.csv')\n",
    "acs_tract_2020_2.to_excel(\"Census_Data_Downloads/acs_tract_2020_2.xlsx\", index=False)"
   ]
  },
  {
   "cell_type": "code",
   "execution_count": 3,
   "metadata": {},
   "outputs": [
    {
     "name": "stdout",
     "output_type": "stream",
     "text": [
      "0\n",
      "https://api.census.gov/data/2010/acs/acs5?get=GEO_ID,B19001_014E,B19001_014M&for=tract:*&in=state:06%20county:017&key=9a73d08c296b844e58f1c70bd19c831826da5cbf\n",
      "https://api.census.gov/data/2010/acs/acs5?get=GEO_ID,B19001_014E,B19001_014M&for=tract:*&in=state:06%20county:061&key=9a73d08c296b844e58f1c70bd19c831826da5cbf\n",
      "https://api.census.gov/data/2010/acs/acs5?get=GEO_ID,B19001_014E,B19001_014M&for=tract:*&in=state:32%20county:005&key=9a73d08c296b844e58f1c70bd19c831826da5cbf\n",
      "https://api.census.gov/data/2010/acs/acs5?get=GEO_ID,B19001_014E,B19001_014M&for=tract:*&in=state:32%20county:031&key=9a73d08c296b844e58f1c70bd19c831826da5cbf\n",
      "https://api.census.gov/data/2010/acs/acs5?get=GEO_ID,B19001_014E,B19001_014M&for=tract:*&in=state:32%20county:510&key=9a73d08c296b844e58f1c70bd19c831826da5cbf\n",
      "1\n",
      "https://api.census.gov/data/2010/acs/acs5?get=GEO_ID,B19001_015E,B19001_015M&for=tract:*&in=state:06%20county:017&key=9a73d08c296b844e58f1c70bd19c831826da5cbf\n",
      "https://api.census.gov/data/2010/acs/acs5?get=GEO_ID,B19001_015E,B19001_015M&for=tract:*&in=state:06%20county:061&key=9a73d08c296b844e58f1c70bd19c831826da5cbf\n",
      "https://api.census.gov/data/2010/acs/acs5?get=GEO_ID,B19001_015E,B19001_015M&for=tract:*&in=state:32%20county:005&key=9a73d08c296b844e58f1c70bd19c831826da5cbf\n",
      "https://api.census.gov/data/2010/acs/acs5?get=GEO_ID,B19001_015E,B19001_015M&for=tract:*&in=state:32%20county:031&key=9a73d08c296b844e58f1c70bd19c831826da5cbf\n",
      "https://api.census.gov/data/2010/acs/acs5?get=GEO_ID,B19001_015E,B19001_015M&for=tract:*&in=state:32%20county:510&key=9a73d08c296b844e58f1c70bd19c831826da5cbf\n",
      "2\n",
      "https://api.census.gov/data/2010/acs/acs5?get=GEO_ID,B19001_016E,B19001_016M&for=tract:*&in=state:06%20county:017&key=9a73d08c296b844e58f1c70bd19c831826da5cbf\n",
      "https://api.census.gov/data/2010/acs/acs5?get=GEO_ID,B19001_016E,B19001_016M&for=tract:*&in=state:06%20county:061&key=9a73d08c296b844e58f1c70bd19c831826da5cbf\n",
      "https://api.census.gov/data/2010/acs/acs5?get=GEO_ID,B19001_016E,B19001_016M&for=tract:*&in=state:32%20county:005&key=9a73d08c296b844e58f1c70bd19c831826da5cbf\n",
      "https://api.census.gov/data/2010/acs/acs5?get=GEO_ID,B19001_016E,B19001_016M&for=tract:*&in=state:32%20county:031&key=9a73d08c296b844e58f1c70bd19c831826da5cbf\n",
      "https://api.census.gov/data/2010/acs/acs5?get=GEO_ID,B19001_016E,B19001_016M&for=tract:*&in=state:32%20county:510&key=9a73d08c296b844e58f1c70bd19c831826da5cbf\n"
     ]
    }
   ],
   "source": [
    "acs_tract_2010_3 = census_download_wrapper('Census_Variable_Lists\\census_variables_acs_tract_2010_3.csv')\n",
    "acs_tract_2010_3.to_excel(\"Census_Data_Downloads/acs_tract_2010_3.xlsx\", index=False)"
   ]
  },
  {
   "cell_type": "code",
   "execution_count": 4,
   "metadata": {},
   "outputs": [
    {
     "name": "stdout",
     "output_type": "stream",
     "text": [
      "0\n",
      "https://api.census.gov/data/2010/acs/acs5?get=GEO_ID,B19001_017E,B19001_017M&for=tract:*&in=state:06%20county:017&key=9a73d08c296b844e58f1c70bd19c831826da5cbf\n",
      "https://api.census.gov/data/2010/acs/acs5?get=GEO_ID,B19001_017E,B19001_017M&for=tract:*&in=state:06%20county:061&key=9a73d08c296b844e58f1c70bd19c831826da5cbf\n",
      "https://api.census.gov/data/2010/acs/acs5?get=GEO_ID,B19001_017E,B19001_017M&for=tract:*&in=state:32%20county:005&key=9a73d08c296b844e58f1c70bd19c831826da5cbf\n",
      "https://api.census.gov/data/2010/acs/acs5?get=GEO_ID,B19001_017E,B19001_017M&for=tract:*&in=state:32%20county:031&key=9a73d08c296b844e58f1c70bd19c831826da5cbf\n",
      "https://api.census.gov/data/2010/acs/acs5?get=GEO_ID,B19001_017E,B19001_017M&for=tract:*&in=state:32%20county:510&key=9a73d08c296b844e58f1c70bd19c831826da5cbf\n",
      "1\n",
      "https://api.census.gov/data/2010/acs/acs5?get=GEO_ID,B19001_002E,B19001_002M&for=tract:*&in=state:06%20county:017&key=9a73d08c296b844e58f1c70bd19c831826da5cbf\n",
      "https://api.census.gov/data/2010/acs/acs5?get=GEO_ID,B19001_002E,B19001_002M&for=tract:*&in=state:06%20county:061&key=9a73d08c296b844e58f1c70bd19c831826da5cbf\n",
      "https://api.census.gov/data/2010/acs/acs5?get=GEO_ID,B19001_002E,B19001_002M&for=tract:*&in=state:32%20county:005&key=9a73d08c296b844e58f1c70bd19c831826da5cbf\n",
      "https://api.census.gov/data/2010/acs/acs5?get=GEO_ID,B19001_002E,B19001_002M&for=tract:*&in=state:32%20county:031&key=9a73d08c296b844e58f1c70bd19c831826da5cbf\n",
      "https://api.census.gov/data/2010/acs/acs5?get=GEO_ID,B19001_002E,B19001_002M&for=tract:*&in=state:32%20county:510&key=9a73d08c296b844e58f1c70bd19c831826da5cbf\n",
      "2\n",
      "https://api.census.gov/data/2010/acs/acs5?get=GEO_ID,B06011_001E,B06011_001M&for=tract:*&in=state:06%20county:017&key=9a73d08c296b844e58f1c70bd19c831826da5cbf\n",
      "https://api.census.gov/data/2010/acs/acs5?get=GEO_ID,B06011_001E,B06011_001M&for=tract:*&in=state:06%20county:061&key=9a73d08c296b844e58f1c70bd19c831826da5cbf\n",
      "https://api.census.gov/data/2010/acs/acs5?get=GEO_ID,B06011_001E,B06011_001M&for=tract:*&in=state:32%20county:005&key=9a73d08c296b844e58f1c70bd19c831826da5cbf\n",
      "https://api.census.gov/data/2010/acs/acs5?get=GEO_ID,B06011_001E,B06011_001M&for=tract:*&in=state:32%20county:031&key=9a73d08c296b844e58f1c70bd19c831826da5cbf\n",
      "https://api.census.gov/data/2010/acs/acs5?get=GEO_ID,B06011_001E,B06011_001M&for=tract:*&in=state:32%20county:510&key=9a73d08c296b844e58f1c70bd19c831826da5cbf\n",
      "3\n",
      "https://api.census.gov/data/2010/acs/acs5?get=GEO_ID,B19001_001E,B19001_001M&for=tract:*&in=state:06%20county:017&key=9a73d08c296b844e58f1c70bd19c831826da5cbf\n",
      "https://api.census.gov/data/2010/acs/acs5?get=GEO_ID,B19001_001E,B19001_001M&for=tract:*&in=state:06%20county:061&key=9a73d08c296b844e58f1c70bd19c831826da5cbf\n",
      "https://api.census.gov/data/2010/acs/acs5?get=GEO_ID,B19001_001E,B19001_001M&for=tract:*&in=state:32%20county:005&key=9a73d08c296b844e58f1c70bd19c831826da5cbf\n",
      "https://api.census.gov/data/2010/acs/acs5?get=GEO_ID,B19001_001E,B19001_001M&for=tract:*&in=state:32%20county:031&key=9a73d08c296b844e58f1c70bd19c831826da5cbf\n",
      "https://api.census.gov/data/2010/acs/acs5?get=GEO_ID,B19001_001E,B19001_001M&for=tract:*&in=state:32%20county:510&key=9a73d08c296b844e58f1c70bd19c831826da5cbf\n"
     ]
    }
   ],
   "source": [
    "acs_tract_2010_4 = census_download_wrapper('Census_Variable_Lists\\census_variables_acs_tract_2010_4.csv')\n",
    "acs_tract_2010_4.to_excel(\"Census_Data_Downloads/acs_tract_2010_4.xlsx\", index=False)"
   ]
  },
  {
   "cell_type": "code",
   "execution_count": 4,
   "metadata": {},
   "outputs": [
    {
     "name": "stdout",
     "output_type": "stream",
     "text": [
      "0\n",
      "https://api.census.gov/data/2020/acs/acs5?get=GEO_ID,B19052_001E,B19052_001M&for=tract:*&in=state:06%20county:017&key=9a73d08c296b844e58f1c70bd19c831826da5cbf\n",
      "https://api.census.gov/data/2020/acs/acs5?get=GEO_ID,B19052_001E,B19052_001M&for=tract:*&in=state:06%20county:061&key=9a73d08c296b844e58f1c70bd19c831826da5cbf\n",
      "https://api.census.gov/data/2020/acs/acs5?get=GEO_ID,B19052_001E,B19052_001M&for=tract:*&in=state:32%20county:005&key=9a73d08c296b844e58f1c70bd19c831826da5cbf\n",
      "https://api.census.gov/data/2020/acs/acs5?get=GEO_ID,B19052_001E,B19052_001M&for=tract:*&in=state:32%20county:031&key=9a73d08c296b844e58f1c70bd19c831826da5cbf\n",
      "https://api.census.gov/data/2020/acs/acs5?get=GEO_ID,B19052_001E,B19052_001M&for=tract:*&in=state:32%20county:510&key=9a73d08c296b844e58f1c70bd19c831826da5cbf\n",
      "1\n",
      "https://api.census.gov/data/2020/acs/acs5?get=GEO_ID,B19052_002E,B19052_002M&for=tract:*&in=state:06%20county:017&key=9a73d08c296b844e58f1c70bd19c831826da5cbf\n",
      "https://api.census.gov/data/2020/acs/acs5?get=GEO_ID,B19052_002E,B19052_002M&for=tract:*&in=state:06%20county:061&key=9a73d08c296b844e58f1c70bd19c831826da5cbf\n",
      "https://api.census.gov/data/2020/acs/acs5?get=GEO_ID,B19052_002E,B19052_002M&for=tract:*&in=state:32%20county:005&key=9a73d08c296b844e58f1c70bd19c831826da5cbf\n",
      "https://api.census.gov/data/2020/acs/acs5?get=GEO_ID,B19052_002E,B19052_002M&for=tract:*&in=state:32%20county:031&key=9a73d08c296b844e58f1c70bd19c831826da5cbf\n",
      "https://api.census.gov/data/2020/acs/acs5?get=GEO_ID,B19052_002E,B19052_002M&for=tract:*&in=state:32%20county:510&key=9a73d08c296b844e58f1c70bd19c831826da5cbf\n",
      "2\n",
      "https://api.census.gov/data/2020/acs/acs5?get=GEO_ID,B19052_003E,B19052_003M&for=tract:*&in=state:06%20county:017&key=9a73d08c296b844e58f1c70bd19c831826da5cbf\n",
      "https://api.census.gov/data/2020/acs/acs5?get=GEO_ID,B19052_003E,B19052_003M&for=tract:*&in=state:06%20county:061&key=9a73d08c296b844e58f1c70bd19c831826da5cbf\n",
      "https://api.census.gov/data/2020/acs/acs5?get=GEO_ID,B19052_003E,B19052_003M&for=tract:*&in=state:32%20county:005&key=9a73d08c296b844e58f1c70bd19c831826da5cbf\n",
      "https://api.census.gov/data/2020/acs/acs5?get=GEO_ID,B19052_003E,B19052_003M&for=tract:*&in=state:32%20county:031&key=9a73d08c296b844e58f1c70bd19c831826da5cbf\n",
      "https://api.census.gov/data/2020/acs/acs5?get=GEO_ID,B19052_003E,B19052_003M&for=tract:*&in=state:32%20county:510&key=9a73d08c296b844e58f1c70bd19c831826da5cbf\n",
      "3\n",
      "https://api.census.gov/data/2020/acs/acs5?get=GEO_ID,B19001_003E,B19001_003M&for=tract:*&in=state:06%20county:017&key=9a73d08c296b844e58f1c70bd19c831826da5cbf\n",
      "https://api.census.gov/data/2020/acs/acs5?get=GEO_ID,B19001_003E,B19001_003M&for=tract:*&in=state:06%20county:061&key=9a73d08c296b844e58f1c70bd19c831826da5cbf\n",
      "https://api.census.gov/data/2020/acs/acs5?get=GEO_ID,B19001_003E,B19001_003M&for=tract:*&in=state:32%20county:005&key=9a73d08c296b844e58f1c70bd19c831826da5cbf\n",
      "https://api.census.gov/data/2020/acs/acs5?get=GEO_ID,B19001_003E,B19001_003M&for=tract:*&in=state:32%20county:031&key=9a73d08c296b844e58f1c70bd19c831826da5cbf\n",
      "https://api.census.gov/data/2020/acs/acs5?get=GEO_ID,B19001_003E,B19001_003M&for=tract:*&in=state:32%20county:510&key=9a73d08c296b844e58f1c70bd19c831826da5cbf\n",
      "4\n",
      "https://api.census.gov/data/2020/acs/acs5?get=GEO_ID,B19001_004E,B19001_004M&for=tract:*&in=state:06%20county:017&key=9a73d08c296b844e58f1c70bd19c831826da5cbf\n",
      "https://api.census.gov/data/2020/acs/acs5?get=GEO_ID,B19001_004E,B19001_004M&for=tract:*&in=state:06%20county:061&key=9a73d08c296b844e58f1c70bd19c831826da5cbf\n",
      "https://api.census.gov/data/2020/acs/acs5?get=GEO_ID,B19001_004E,B19001_004M&for=tract:*&in=state:32%20county:005&key=9a73d08c296b844e58f1c70bd19c831826da5cbf\n",
      "https://api.census.gov/data/2020/acs/acs5?get=GEO_ID,B19001_004E,B19001_004M&for=tract:*&in=state:32%20county:031&key=9a73d08c296b844e58f1c70bd19c831826da5cbf\n",
      "https://api.census.gov/data/2020/acs/acs5?get=GEO_ID,B19001_004E,B19001_004M&for=tract:*&in=state:32%20county:510&key=9a73d08c296b844e58f1c70bd19c831826da5cbf\n",
      "5\n",
      "https://api.census.gov/data/2020/acs/acs5?get=GEO_ID,B19001_005E,B19001_005M&for=tract:*&in=state:06%20county:017&key=9a73d08c296b844e58f1c70bd19c831826da5cbf\n",
      "https://api.census.gov/data/2020/acs/acs5?get=GEO_ID,B19001_005E,B19001_005M&for=tract:*&in=state:06%20county:061&key=9a73d08c296b844e58f1c70bd19c831826da5cbf\n",
      "https://api.census.gov/data/2020/acs/acs5?get=GEO_ID,B19001_005E,B19001_005M&for=tract:*&in=state:32%20county:005&key=9a73d08c296b844e58f1c70bd19c831826da5cbf\n",
      "https://api.census.gov/data/2020/acs/acs5?get=GEO_ID,B19001_005E,B19001_005M&for=tract:*&in=state:32%20county:031&key=9a73d08c296b844e58f1c70bd19c831826da5cbf\n",
      "https://api.census.gov/data/2020/acs/acs5?get=GEO_ID,B19001_005E,B19001_005M&for=tract:*&in=state:32%20county:510&key=9a73d08c296b844e58f1c70bd19c831826da5cbf\n",
      "6\n",
      "https://api.census.gov/data/2020/acs/acs5?get=GEO_ID,B19001_006E,B19001_006M&for=tract:*&in=state:06%20county:017&key=9a73d08c296b844e58f1c70bd19c831826da5cbf\n",
      "https://api.census.gov/data/2020/acs/acs5?get=GEO_ID,B19001_006E,B19001_006M&for=tract:*&in=state:06%20county:061&key=9a73d08c296b844e58f1c70bd19c831826da5cbf\n",
      "https://api.census.gov/data/2020/acs/acs5?get=GEO_ID,B19001_006E,B19001_006M&for=tract:*&in=state:32%20county:005&key=9a73d08c296b844e58f1c70bd19c831826da5cbf\n",
      "https://api.census.gov/data/2020/acs/acs5?get=GEO_ID,B19001_006E,B19001_006M&for=tract:*&in=state:32%20county:031&key=9a73d08c296b844e58f1c70bd19c831826da5cbf\n",
      "https://api.census.gov/data/2020/acs/acs5?get=GEO_ID,B19001_006E,B19001_006M&for=tract:*&in=state:32%20county:510&key=9a73d08c296b844e58f1c70bd19c831826da5cbf\n"
     ]
    },
    {
     "ename": "",
     "evalue": "",
     "output_type": "error",
     "traceback": [
      "\u001b[1;31mCannot execute code, session has been disposed. Please try restarting the Kernel."
     ]
    },
    {
     "ename": "",
     "evalue": "",
     "output_type": "error",
     "traceback": [
      "\u001b[1;31mThe Kernel crashed while executing code in the the current cell or a previous cell. Please review the code in the cell(s) to identify a possible cause of the failure. Click <a href='https://aka.ms/vscodeJupyterKernelCrash'>here</a> for more info. View Jupyter <a href='command:jupyter.viewOutput'>log</a> for further details."
     ]
    }
   ],
   "source": [
    "dtypes = {\n",
    "    'Variable' : str,\n",
    "    'Code': str,\n",
    "    'Category': str,\n",
    "    'Datasource': str,\n",
    "    'CodeNumber':str,\n",
    "    'Year':str,\n",
    "    'census_geom_year':str,\n",
    "    'GeometryLevel':str\n",
    "}\n",
    "\n",
    "\n",
    "acs_tract_2020_variables = pd.read_csv(\"Census_Variable_Lists\\census_variables_acs_tract_2020.csv\",dtype=dtypes)\n",
    "\n",
    "#Loop through this?\n",
    "acs_tract_2020=pd.DataFrame()\n",
    "for index, row in acs_tract_2020_variables.iterrows():\n",
    "    print(index)\n",
    "    df = get_variable_data(row['Year'], row['Datasource Name'],'tract',row['CodeNumber'],row['Variable'], census_api_key, row['census_geom_year'], tahoe_geometry, row['Category'])\n",
    "    \n",
    "    acs_tract_2020= create_or_append_df(acs_tract_2020, df)"
   ]
  },
  {
   "cell_type": "code",
   "execution_count": null,
   "metadata": {},
   "outputs": [],
   "source": []
  },
  {
   "cell_type": "markdown",
   "metadata": {},
   "source": [
    "## download 2000 Census Data"
   ]
  },
  {
   "cell_type": "code",
   "execution_count": null,
   "metadata": {},
   "outputs": [],
   "source": [
    "dem_tract_2020 = census_download_wrapper('Census_Variable_Lists\\demographic_variables_2000.csv')\n",
    "dem_tract_2020.to_excel(\"dem_tract_2020_first_half.xlsx\")"
   ]
  },
  {
   "cell_type": "code",
   "execution_count": null,
   "metadata": {},
   "outputs": [],
   "source": [
    "dem_tract_2020_2 = census_download_wrapper('Census_Variable_Lists\\demographic_variables_2000_second.csv')\n",
    "dem_tract_2020_2.to_excel(\"dem_tract_2020_second.xlsx\")"
   ]
  },
  {
   "cell_type": "markdown",
   "metadata": {},
   "source": [
    "## Download 2010 DEC Census Data"
   ]
  },
  {
   "cell_type": "code",
   "execution_count": null,
   "metadata": {},
   "outputs": [],
   "source": [
    "dem_tract_2010 = census_download_wrapper('Census_Variable_Lists\\census_variables_dec_tract_2010.csv')\n",
    "dem_tract_2010.to_excel(\"Census_Data_Downloads\\dem_tract_2010.xlsx\")"
   ]
  },
  {
   "cell_type": "code",
   "execution_count": null,
   "metadata": {},
   "outputs": [],
   "source": [
    "dem_tract_2010_age = census_download_wrapper('Census_Variable_Lists\\census_variables_dec_tract_2010_age.csv')\n",
    "dem_tract_2010_age.to_excel(\"Census_Data_Downloads\\dem_tract_2010_age.xlsx\")"
   ]
  },
  {
   "cell_type": "code",
   "execution_count": 5,
   "metadata": {},
   "outputs": [
    {
     "name": "stdout",
     "output_type": "stream",
     "text": [
      "0\n",
      "https://api.census.gov/data/2000/dec/sf1?get=GEO_ID,P012002&for=tract:*&in=state:06%20county:017&key=9a73d08c296b844e58f1c70bd19c831826da5cbf\n",
      "https://api.census.gov/data/2000/dec/sf1?get=GEO_ID,P012002&for=tract:*&in=state:06%20county:061&key=9a73d08c296b844e58f1c70bd19c831826da5cbf\n",
      "https://api.census.gov/data/2000/dec/sf1?get=GEO_ID,P012002&for=tract:*&in=state:32%20county:005&key=9a73d08c296b844e58f1c70bd19c831826da5cbf\n",
      "https://api.census.gov/data/2000/dec/sf1?get=GEO_ID,P012002&for=tract:*&in=state:32%20county:031&key=9a73d08c296b844e58f1c70bd19c831826da5cbf\n",
      "https://api.census.gov/data/2000/dec/sf1?get=GEO_ID,P012002&for=tract:*&in=state:32%20county:510&key=9a73d08c296b844e58f1c70bd19c831826da5cbf\n",
      "1\n",
      "https://api.census.gov/data/2000/dec/sf1?get=GEO_ID,P012003&for=tract:*&in=state:06%20county:017&key=9a73d08c296b844e58f1c70bd19c831826da5cbf\n",
      "https://api.census.gov/data/2000/dec/sf1?get=GEO_ID,P012003&for=tract:*&in=state:06%20county:061&key=9a73d08c296b844e58f1c70bd19c831826da5cbf\n",
      "https://api.census.gov/data/2000/dec/sf1?get=GEO_ID,P012003&for=tract:*&in=state:32%20county:005&key=9a73d08c296b844e58f1c70bd19c831826da5cbf\n",
      "https://api.census.gov/data/2000/dec/sf1?get=GEO_ID,P012003&for=tract:*&in=state:32%20county:031&key=9a73d08c296b844e58f1c70bd19c831826da5cbf\n",
      "https://api.census.gov/data/2000/dec/sf1?get=GEO_ID,P012003&for=tract:*&in=state:32%20county:510&key=9a73d08c296b844e58f1c70bd19c831826da5cbf\n",
      "2\n",
      "https://api.census.gov/data/2000/dec/sf1?get=GEO_ID,P012004&for=tract:*&in=state:06%20county:017&key=9a73d08c296b844e58f1c70bd19c831826da5cbf\n",
      "https://api.census.gov/data/2000/dec/sf1?get=GEO_ID,P012004&for=tract:*&in=state:06%20county:061&key=9a73d08c296b844e58f1c70bd19c831826da5cbf\n",
      "https://api.census.gov/data/2000/dec/sf1?get=GEO_ID,P012004&for=tract:*&in=state:32%20county:005&key=9a73d08c296b844e58f1c70bd19c831826da5cbf\n",
      "https://api.census.gov/data/2000/dec/sf1?get=GEO_ID,P012004&for=tract:*&in=state:32%20county:031&key=9a73d08c296b844e58f1c70bd19c831826da5cbf\n",
      "https://api.census.gov/data/2000/dec/sf1?get=GEO_ID,P012004&for=tract:*&in=state:32%20county:510&key=9a73d08c296b844e58f1c70bd19c831826da5cbf\n",
      "3\n",
      "https://api.census.gov/data/2000/dec/sf1?get=GEO_ID,P012005&for=tract:*&in=state:06%20county:017&key=9a73d08c296b844e58f1c70bd19c831826da5cbf\n",
      "https://api.census.gov/data/2000/dec/sf1?get=GEO_ID,P012005&for=tract:*&in=state:06%20county:061&key=9a73d08c296b844e58f1c70bd19c831826da5cbf\n",
      "https://api.census.gov/data/2000/dec/sf1?get=GEO_ID,P012005&for=tract:*&in=state:32%20county:005&key=9a73d08c296b844e58f1c70bd19c831826da5cbf\n",
      "https://api.census.gov/data/2000/dec/sf1?get=GEO_ID,P012005&for=tract:*&in=state:32%20county:031&key=9a73d08c296b844e58f1c70bd19c831826da5cbf\n",
      "https://api.census.gov/data/2000/dec/sf1?get=GEO_ID,P012005&for=tract:*&in=state:32%20county:510&key=9a73d08c296b844e58f1c70bd19c831826da5cbf\n",
      "4\n",
      "https://api.census.gov/data/2000/dec/sf1?get=GEO_ID,P012006&for=tract:*&in=state:06%20county:017&key=9a73d08c296b844e58f1c70bd19c831826da5cbf\n",
      "https://api.census.gov/data/2000/dec/sf1?get=GEO_ID,P012006&for=tract:*&in=state:06%20county:061&key=9a73d08c296b844e58f1c70bd19c831826da5cbf\n",
      "https://api.census.gov/data/2000/dec/sf1?get=GEO_ID,P012006&for=tract:*&in=state:32%20county:005&key=9a73d08c296b844e58f1c70bd19c831826da5cbf\n",
      "https://api.census.gov/data/2000/dec/sf1?get=GEO_ID,P012006&for=tract:*&in=state:32%20county:031&key=9a73d08c296b844e58f1c70bd19c831826da5cbf\n",
      "https://api.census.gov/data/2000/dec/sf1?get=GEO_ID,P012006&for=tract:*&in=state:32%20county:510&key=9a73d08c296b844e58f1c70bd19c831826da5cbf\n",
      "5\n",
      "https://api.census.gov/data/2000/dec/sf1?get=GEO_ID,P012007&for=tract:*&in=state:06%20county:017&key=9a73d08c296b844e58f1c70bd19c831826da5cbf\n",
      "https://api.census.gov/data/2000/dec/sf1?get=GEO_ID,P012007&for=tract:*&in=state:06%20county:061&key=9a73d08c296b844e58f1c70bd19c831826da5cbf\n",
      "https://api.census.gov/data/2000/dec/sf1?get=GEO_ID,P012007&for=tract:*&in=state:32%20county:005&key=9a73d08c296b844e58f1c70bd19c831826da5cbf\n",
      "https://api.census.gov/data/2000/dec/sf1?get=GEO_ID,P012007&for=tract:*&in=state:32%20county:031&key=9a73d08c296b844e58f1c70bd19c831826da5cbf\n",
      "https://api.census.gov/data/2000/dec/sf1?get=GEO_ID,P012007&for=tract:*&in=state:32%20county:510&key=9a73d08c296b844e58f1c70bd19c831826da5cbf\n",
      "6\n",
      "https://api.census.gov/data/2000/dec/sf1?get=GEO_ID,P012008&for=tract:*&in=state:06%20county:017&key=9a73d08c296b844e58f1c70bd19c831826da5cbf\n",
      "https://api.census.gov/data/2000/dec/sf1?get=GEO_ID,P012008&for=tract:*&in=state:06%20county:061&key=9a73d08c296b844e58f1c70bd19c831826da5cbf\n",
      "https://api.census.gov/data/2000/dec/sf1?get=GEO_ID,P012008&for=tract:*&in=state:32%20county:005&key=9a73d08c296b844e58f1c70bd19c831826da5cbf\n",
      "https://api.census.gov/data/2000/dec/sf1?get=GEO_ID,P012008&for=tract:*&in=state:32%20county:031&key=9a73d08c296b844e58f1c70bd19c831826da5cbf\n",
      "https://api.census.gov/data/2000/dec/sf1?get=GEO_ID,P012008&for=tract:*&in=state:32%20county:510&key=9a73d08c296b844e58f1c70bd19c831826da5cbf\n",
      "7\n",
      "https://api.census.gov/data/2000/dec/sf1?get=GEO_ID,P012009&for=tract:*&in=state:06%20county:017&key=9a73d08c296b844e58f1c70bd19c831826da5cbf\n",
      "https://api.census.gov/data/2000/dec/sf1?get=GEO_ID,P012009&for=tract:*&in=state:06%20county:061&key=9a73d08c296b844e58f1c70bd19c831826da5cbf\n",
      "https://api.census.gov/data/2000/dec/sf1?get=GEO_ID,P012009&for=tract:*&in=state:32%20county:005&key=9a73d08c296b844e58f1c70bd19c831826da5cbf\n",
      "https://api.census.gov/data/2000/dec/sf1?get=GEO_ID,P012009&for=tract:*&in=state:32%20county:031&key=9a73d08c296b844e58f1c70bd19c831826da5cbf\n",
      "https://api.census.gov/data/2000/dec/sf1?get=GEO_ID,P012009&for=tract:*&in=state:32%20county:510&key=9a73d08c296b844e58f1c70bd19c831826da5cbf\n",
      "8\n",
      "https://api.census.gov/data/2000/dec/sf1?get=GEO_ID,P012010&for=tract:*&in=state:06%20county:017&key=9a73d08c296b844e58f1c70bd19c831826da5cbf\n",
      "https://api.census.gov/data/2000/dec/sf1?get=GEO_ID,P012010&for=tract:*&in=state:06%20county:061&key=9a73d08c296b844e58f1c70bd19c831826da5cbf\n",
      "https://api.census.gov/data/2000/dec/sf1?get=GEO_ID,P012010&for=tract:*&in=state:32%20county:005&key=9a73d08c296b844e58f1c70bd19c831826da5cbf\n",
      "https://api.census.gov/data/2000/dec/sf1?get=GEO_ID,P012010&for=tract:*&in=state:32%20county:031&key=9a73d08c296b844e58f1c70bd19c831826da5cbf\n",
      "https://api.census.gov/data/2000/dec/sf1?get=GEO_ID,P012010&for=tract:*&in=state:32%20county:510&key=9a73d08c296b844e58f1c70bd19c831826da5cbf\n",
      "9\n",
      "https://api.census.gov/data/2000/dec/sf1?get=GEO_ID,P012011&for=tract:*&in=state:06%20county:017&key=9a73d08c296b844e58f1c70bd19c831826da5cbf\n",
      "https://api.census.gov/data/2000/dec/sf1?get=GEO_ID,P012011&for=tract:*&in=state:06%20county:061&key=9a73d08c296b844e58f1c70bd19c831826da5cbf\n",
      "https://api.census.gov/data/2000/dec/sf1?get=GEO_ID,P012011&for=tract:*&in=state:32%20county:005&key=9a73d08c296b844e58f1c70bd19c831826da5cbf\n",
      "https://api.census.gov/data/2000/dec/sf1?get=GEO_ID,P012011&for=tract:*&in=state:32%20county:031&key=9a73d08c296b844e58f1c70bd19c831826da5cbf\n",
      "https://api.census.gov/data/2000/dec/sf1?get=GEO_ID,P012011&for=tract:*&in=state:32%20county:510&key=9a73d08c296b844e58f1c70bd19c831826da5cbf\n",
      "10\n",
      "https://api.census.gov/data/2000/dec/sf1?get=GEO_ID,P012012&for=tract:*&in=state:06%20county:017&key=9a73d08c296b844e58f1c70bd19c831826da5cbf\n",
      "https://api.census.gov/data/2000/dec/sf1?get=GEO_ID,P012012&for=tract:*&in=state:06%20county:061&key=9a73d08c296b844e58f1c70bd19c831826da5cbf\n",
      "https://api.census.gov/data/2000/dec/sf1?get=GEO_ID,P012012&for=tract:*&in=state:32%20county:005&key=9a73d08c296b844e58f1c70bd19c831826da5cbf\n",
      "https://api.census.gov/data/2000/dec/sf1?get=GEO_ID,P012012&for=tract:*&in=state:32%20county:031&key=9a73d08c296b844e58f1c70bd19c831826da5cbf\n",
      "https://api.census.gov/data/2000/dec/sf1?get=GEO_ID,P012012&for=tract:*&in=state:32%20county:510&key=9a73d08c296b844e58f1c70bd19c831826da5cbf\n",
      "11\n",
      "https://api.census.gov/data/2000/dec/sf1?get=GEO_ID,P012013&for=tract:*&in=state:06%20county:017&key=9a73d08c296b844e58f1c70bd19c831826da5cbf\n",
      "https://api.census.gov/data/2000/dec/sf1?get=GEO_ID,P012013&for=tract:*&in=state:06%20county:061&key=9a73d08c296b844e58f1c70bd19c831826da5cbf\n",
      "https://api.census.gov/data/2000/dec/sf1?get=GEO_ID,P012013&for=tract:*&in=state:32%20county:005&key=9a73d08c296b844e58f1c70bd19c831826da5cbf\n",
      "https://api.census.gov/data/2000/dec/sf1?get=GEO_ID,P012013&for=tract:*&in=state:32%20county:031&key=9a73d08c296b844e58f1c70bd19c831826da5cbf\n",
      "https://api.census.gov/data/2000/dec/sf1?get=GEO_ID,P012013&for=tract:*&in=state:32%20county:510&key=9a73d08c296b844e58f1c70bd19c831826da5cbf\n",
      "12\n",
      "https://api.census.gov/data/2000/dec/sf1?get=GEO_ID,P012014&for=tract:*&in=state:06%20county:017&key=9a73d08c296b844e58f1c70bd19c831826da5cbf\n",
      "https://api.census.gov/data/2000/dec/sf1?get=GEO_ID,P012014&for=tract:*&in=state:06%20county:061&key=9a73d08c296b844e58f1c70bd19c831826da5cbf\n",
      "https://api.census.gov/data/2000/dec/sf1?get=GEO_ID,P012014&for=tract:*&in=state:32%20county:005&key=9a73d08c296b844e58f1c70bd19c831826da5cbf\n",
      "https://api.census.gov/data/2000/dec/sf1?get=GEO_ID,P012014&for=tract:*&in=state:32%20county:031&key=9a73d08c296b844e58f1c70bd19c831826da5cbf\n",
      "https://api.census.gov/data/2000/dec/sf1?get=GEO_ID,P012014&for=tract:*&in=state:32%20county:510&key=9a73d08c296b844e58f1c70bd19c831826da5cbf\n",
      "13\n",
      "https://api.census.gov/data/2000/dec/sf1?get=GEO_ID,P012015&for=tract:*&in=state:06%20county:017&key=9a73d08c296b844e58f1c70bd19c831826da5cbf\n",
      "https://api.census.gov/data/2000/dec/sf1?get=GEO_ID,P012015&for=tract:*&in=state:06%20county:061&key=9a73d08c296b844e58f1c70bd19c831826da5cbf\n",
      "https://api.census.gov/data/2000/dec/sf1?get=GEO_ID,P012015&for=tract:*&in=state:32%20county:005&key=9a73d08c296b844e58f1c70bd19c831826da5cbf\n",
      "https://api.census.gov/data/2000/dec/sf1?get=GEO_ID,P012015&for=tract:*&in=state:32%20county:031&key=9a73d08c296b844e58f1c70bd19c831826da5cbf\n",
      "https://api.census.gov/data/2000/dec/sf1?get=GEO_ID,P012015&for=tract:*&in=state:32%20county:510&key=9a73d08c296b844e58f1c70bd19c831826da5cbf\n",
      "14\n",
      "https://api.census.gov/data/2000/dec/sf1?get=GEO_ID,P012016&for=tract:*&in=state:06%20county:017&key=9a73d08c296b844e58f1c70bd19c831826da5cbf\n",
      "https://api.census.gov/data/2000/dec/sf1?get=GEO_ID,P012016&for=tract:*&in=state:06%20county:061&key=9a73d08c296b844e58f1c70bd19c831826da5cbf\n",
      "https://api.census.gov/data/2000/dec/sf1?get=GEO_ID,P012016&for=tract:*&in=state:32%20county:005&key=9a73d08c296b844e58f1c70bd19c831826da5cbf\n",
      "https://api.census.gov/data/2000/dec/sf1?get=GEO_ID,P012016&for=tract:*&in=state:32%20county:031&key=9a73d08c296b844e58f1c70bd19c831826da5cbf\n",
      "https://api.census.gov/data/2000/dec/sf1?get=GEO_ID,P012016&for=tract:*&in=state:32%20county:510&key=9a73d08c296b844e58f1c70bd19c831826da5cbf\n",
      "15\n",
      "https://api.census.gov/data/2000/dec/sf1?get=GEO_ID,P012017&for=tract:*&in=state:06%20county:017&key=9a73d08c296b844e58f1c70bd19c831826da5cbf\n",
      "https://api.census.gov/data/2000/dec/sf1?get=GEO_ID,P012017&for=tract:*&in=state:06%20county:061&key=9a73d08c296b844e58f1c70bd19c831826da5cbf\n",
      "https://api.census.gov/data/2000/dec/sf1?get=GEO_ID,P012017&for=tract:*&in=state:32%20county:005&key=9a73d08c296b844e58f1c70bd19c831826da5cbf\n",
      "https://api.census.gov/data/2000/dec/sf1?get=GEO_ID,P012017&for=tract:*&in=state:32%20county:031&key=9a73d08c296b844e58f1c70bd19c831826da5cbf\n",
      "https://api.census.gov/data/2000/dec/sf1?get=GEO_ID,P012017&for=tract:*&in=state:32%20county:510&key=9a73d08c296b844e58f1c70bd19c831826da5cbf\n",
      "16\n",
      "https://api.census.gov/data/2000/dec/sf1?get=GEO_ID,P012018&for=tract:*&in=state:06%20county:017&key=9a73d08c296b844e58f1c70bd19c831826da5cbf\n",
      "https://api.census.gov/data/2000/dec/sf1?get=GEO_ID,P012018&for=tract:*&in=state:06%20county:061&key=9a73d08c296b844e58f1c70bd19c831826da5cbf\n",
      "https://api.census.gov/data/2000/dec/sf1?get=GEO_ID,P012018&for=tract:*&in=state:32%20county:005&key=9a73d08c296b844e58f1c70bd19c831826da5cbf\n",
      "https://api.census.gov/data/2000/dec/sf1?get=GEO_ID,P012018&for=tract:*&in=state:32%20county:031&key=9a73d08c296b844e58f1c70bd19c831826da5cbf\n",
      "https://api.census.gov/data/2000/dec/sf1?get=GEO_ID,P012018&for=tract:*&in=state:32%20county:510&key=9a73d08c296b844e58f1c70bd19c831826da5cbf\n",
      "17\n",
      "https://api.census.gov/data/2000/dec/sf1?get=GEO_ID,P012019&for=tract:*&in=state:06%20county:017&key=9a73d08c296b844e58f1c70bd19c831826da5cbf\n",
      "https://api.census.gov/data/2000/dec/sf1?get=GEO_ID,P012019&for=tract:*&in=state:06%20county:061&key=9a73d08c296b844e58f1c70bd19c831826da5cbf\n",
      "https://api.census.gov/data/2000/dec/sf1?get=GEO_ID,P012019&for=tract:*&in=state:32%20county:005&key=9a73d08c296b844e58f1c70bd19c831826da5cbf\n",
      "https://api.census.gov/data/2000/dec/sf1?get=GEO_ID,P012019&for=tract:*&in=state:32%20county:031&key=9a73d08c296b844e58f1c70bd19c831826da5cbf\n",
      "https://api.census.gov/data/2000/dec/sf1?get=GEO_ID,P012019&for=tract:*&in=state:32%20county:510&key=9a73d08c296b844e58f1c70bd19c831826da5cbf\n",
      "18\n",
      "https://api.census.gov/data/2000/dec/sf1?get=GEO_ID,P012020&for=tract:*&in=state:06%20county:017&key=9a73d08c296b844e58f1c70bd19c831826da5cbf\n",
      "https://api.census.gov/data/2000/dec/sf1?get=GEO_ID,P012020&for=tract:*&in=state:06%20county:061&key=9a73d08c296b844e58f1c70bd19c831826da5cbf\n",
      "https://api.census.gov/data/2000/dec/sf1?get=GEO_ID,P012020&for=tract:*&in=state:32%20county:005&key=9a73d08c296b844e58f1c70bd19c831826da5cbf\n",
      "https://api.census.gov/data/2000/dec/sf1?get=GEO_ID,P012020&for=tract:*&in=state:32%20county:031&key=9a73d08c296b844e58f1c70bd19c831826da5cbf\n",
      "https://api.census.gov/data/2000/dec/sf1?get=GEO_ID,P012020&for=tract:*&in=state:32%20county:510&key=9a73d08c296b844e58f1c70bd19c831826da5cbf\n",
      "19\n",
      "https://api.census.gov/data/2000/dec/sf1?get=GEO_ID,P012021&for=tract:*&in=state:06%20county:017&key=9a73d08c296b844e58f1c70bd19c831826da5cbf\n",
      "https://api.census.gov/data/2000/dec/sf1?get=GEO_ID,P012021&for=tract:*&in=state:06%20county:061&key=9a73d08c296b844e58f1c70bd19c831826da5cbf\n",
      "https://api.census.gov/data/2000/dec/sf1?get=GEO_ID,P012021&for=tract:*&in=state:32%20county:005&key=9a73d08c296b844e58f1c70bd19c831826da5cbf\n",
      "https://api.census.gov/data/2000/dec/sf1?get=GEO_ID,P012021&for=tract:*&in=state:32%20county:031&key=9a73d08c296b844e58f1c70bd19c831826da5cbf\n",
      "https://api.census.gov/data/2000/dec/sf1?get=GEO_ID,P012021&for=tract:*&in=state:32%20county:510&key=9a73d08c296b844e58f1c70bd19c831826da5cbf\n",
      "20\n",
      "https://api.census.gov/data/2000/dec/sf1?get=GEO_ID,P012022&for=tract:*&in=state:06%20county:017&key=9a73d08c296b844e58f1c70bd19c831826da5cbf\n",
      "https://api.census.gov/data/2000/dec/sf1?get=GEO_ID,P012022&for=tract:*&in=state:06%20county:061&key=9a73d08c296b844e58f1c70bd19c831826da5cbf\n",
      "https://api.census.gov/data/2000/dec/sf1?get=GEO_ID,P012022&for=tract:*&in=state:32%20county:005&key=9a73d08c296b844e58f1c70bd19c831826da5cbf\n",
      "https://api.census.gov/data/2000/dec/sf1?get=GEO_ID,P012022&for=tract:*&in=state:32%20county:031&key=9a73d08c296b844e58f1c70bd19c831826da5cbf\n",
      "https://api.census.gov/data/2000/dec/sf1?get=GEO_ID,P012022&for=tract:*&in=state:32%20county:510&key=9a73d08c296b844e58f1c70bd19c831826da5cbf\n",
      "21\n",
      "https://api.census.gov/data/2000/dec/sf1?get=GEO_ID,P012023&for=tract:*&in=state:06%20county:017&key=9a73d08c296b844e58f1c70bd19c831826da5cbf\n",
      "https://api.census.gov/data/2000/dec/sf1?get=GEO_ID,P012023&for=tract:*&in=state:06%20county:061&key=9a73d08c296b844e58f1c70bd19c831826da5cbf\n",
      "https://api.census.gov/data/2000/dec/sf1?get=GEO_ID,P012023&for=tract:*&in=state:32%20county:005&key=9a73d08c296b844e58f1c70bd19c831826da5cbf\n",
      "https://api.census.gov/data/2000/dec/sf1?get=GEO_ID,P012023&for=tract:*&in=state:32%20county:031&key=9a73d08c296b844e58f1c70bd19c831826da5cbf\n",
      "https://api.census.gov/data/2000/dec/sf1?get=GEO_ID,P012023&for=tract:*&in=state:32%20county:510&key=9a73d08c296b844e58f1c70bd19c831826da5cbf\n",
      "22\n",
      "https://api.census.gov/data/2000/dec/sf1?get=GEO_ID,P012024&for=tract:*&in=state:06%20county:017&key=9a73d08c296b844e58f1c70bd19c831826da5cbf\n",
      "https://api.census.gov/data/2000/dec/sf1?get=GEO_ID,P012024&for=tract:*&in=state:06%20county:061&key=9a73d08c296b844e58f1c70bd19c831826da5cbf\n",
      "https://api.census.gov/data/2000/dec/sf1?get=GEO_ID,P012024&for=tract:*&in=state:32%20county:005&key=9a73d08c296b844e58f1c70bd19c831826da5cbf\n",
      "https://api.census.gov/data/2000/dec/sf1?get=GEO_ID,P012024&for=tract:*&in=state:32%20county:031&key=9a73d08c296b844e58f1c70bd19c831826da5cbf\n",
      "https://api.census.gov/data/2000/dec/sf1?get=GEO_ID,P012024&for=tract:*&in=state:32%20county:510&key=9a73d08c296b844e58f1c70bd19c831826da5cbf\n",
      "23\n",
      "https://api.census.gov/data/2000/dec/sf1?get=GEO_ID,P012025&for=tract:*&in=state:06%20county:017&key=9a73d08c296b844e58f1c70bd19c831826da5cbf\n",
      "https://api.census.gov/data/2000/dec/sf1?get=GEO_ID,P012025&for=tract:*&in=state:06%20county:061&key=9a73d08c296b844e58f1c70bd19c831826da5cbf\n",
      "https://api.census.gov/data/2000/dec/sf1?get=GEO_ID,P012025&for=tract:*&in=state:32%20county:005&key=9a73d08c296b844e58f1c70bd19c831826da5cbf\n",
      "https://api.census.gov/data/2000/dec/sf1?get=GEO_ID,P012025&for=tract:*&in=state:32%20county:031&key=9a73d08c296b844e58f1c70bd19c831826da5cbf\n",
      "https://api.census.gov/data/2000/dec/sf1?get=GEO_ID,P012025&for=tract:*&in=state:32%20county:510&key=9a73d08c296b844e58f1c70bd19c831826da5cbf\n",
      "24\n",
      "https://api.census.gov/data/2000/dec/sf1?get=GEO_ID,P012026&for=tract:*&in=state:06%20county:017&key=9a73d08c296b844e58f1c70bd19c831826da5cbf\n",
      "https://api.census.gov/data/2000/dec/sf1?get=GEO_ID,P012026&for=tract:*&in=state:06%20county:061&key=9a73d08c296b844e58f1c70bd19c831826da5cbf\n",
      "https://api.census.gov/data/2000/dec/sf1?get=GEO_ID,P012026&for=tract:*&in=state:32%20county:005&key=9a73d08c296b844e58f1c70bd19c831826da5cbf\n",
      "https://api.census.gov/data/2000/dec/sf1?get=GEO_ID,P012026&for=tract:*&in=state:32%20county:031&key=9a73d08c296b844e58f1c70bd19c831826da5cbf\n",
      "https://api.census.gov/data/2000/dec/sf1?get=GEO_ID,P012026&for=tract:*&in=state:32%20county:510&key=9a73d08c296b844e58f1c70bd19c831826da5cbf\n",
      "25\n",
      "https://api.census.gov/data/2000/dec/sf1?get=GEO_ID,P012027&for=tract:*&in=state:06%20county:017&key=9a73d08c296b844e58f1c70bd19c831826da5cbf\n",
      "https://api.census.gov/data/2000/dec/sf1?get=GEO_ID,P012027&for=tract:*&in=state:06%20county:061&key=9a73d08c296b844e58f1c70bd19c831826da5cbf\n",
      "https://api.census.gov/data/2000/dec/sf1?get=GEO_ID,P012027&for=tract:*&in=state:32%20county:005&key=9a73d08c296b844e58f1c70bd19c831826da5cbf\n",
      "https://api.census.gov/data/2000/dec/sf1?get=GEO_ID,P012027&for=tract:*&in=state:32%20county:031&key=9a73d08c296b844e58f1c70bd19c831826da5cbf\n",
      "https://api.census.gov/data/2000/dec/sf1?get=GEO_ID,P012027&for=tract:*&in=state:32%20county:510&key=9a73d08c296b844e58f1c70bd19c831826da5cbf\n",
      "26\n",
      "https://api.census.gov/data/2000/dec/sf1?get=GEO_ID,P012028&for=tract:*&in=state:06%20county:017&key=9a73d08c296b844e58f1c70bd19c831826da5cbf\n",
      "https://api.census.gov/data/2000/dec/sf1?get=GEO_ID,P012028&for=tract:*&in=state:06%20county:061&key=9a73d08c296b844e58f1c70bd19c831826da5cbf\n",
      "https://api.census.gov/data/2000/dec/sf1?get=GEO_ID,P012028&for=tract:*&in=state:32%20county:005&key=9a73d08c296b844e58f1c70bd19c831826da5cbf\n",
      "https://api.census.gov/data/2000/dec/sf1?get=GEO_ID,P012028&for=tract:*&in=state:32%20county:031&key=9a73d08c296b844e58f1c70bd19c831826da5cbf\n",
      "https://api.census.gov/data/2000/dec/sf1?get=GEO_ID,P012028&for=tract:*&in=state:32%20county:510&key=9a73d08c296b844e58f1c70bd19c831826da5cbf\n",
      "27\n",
      "https://api.census.gov/data/2000/dec/sf1?get=GEO_ID,P012029&for=tract:*&in=state:06%20county:017&key=9a73d08c296b844e58f1c70bd19c831826da5cbf\n",
      "https://api.census.gov/data/2000/dec/sf1?get=GEO_ID,P012029&for=tract:*&in=state:06%20county:061&key=9a73d08c296b844e58f1c70bd19c831826da5cbf\n",
      "https://api.census.gov/data/2000/dec/sf1?get=GEO_ID,P012029&for=tract:*&in=state:32%20county:005&key=9a73d08c296b844e58f1c70bd19c831826da5cbf\n",
      "https://api.census.gov/data/2000/dec/sf1?get=GEO_ID,P012029&for=tract:*&in=state:32%20county:031&key=9a73d08c296b844e58f1c70bd19c831826da5cbf\n",
      "https://api.census.gov/data/2000/dec/sf1?get=GEO_ID,P012029&for=tract:*&in=state:32%20county:510&key=9a73d08c296b844e58f1c70bd19c831826da5cbf\n",
      "28\n",
      "https://api.census.gov/data/2000/dec/sf1?get=GEO_ID,P012030&for=tract:*&in=state:06%20county:017&key=9a73d08c296b844e58f1c70bd19c831826da5cbf\n",
      "https://api.census.gov/data/2000/dec/sf1?get=GEO_ID,P012030&for=tract:*&in=state:06%20county:061&key=9a73d08c296b844e58f1c70bd19c831826da5cbf\n",
      "https://api.census.gov/data/2000/dec/sf1?get=GEO_ID,P012030&for=tract:*&in=state:32%20county:005&key=9a73d08c296b844e58f1c70bd19c831826da5cbf\n",
      "https://api.census.gov/data/2000/dec/sf1?get=GEO_ID,P012030&for=tract:*&in=state:32%20county:031&key=9a73d08c296b844e58f1c70bd19c831826da5cbf\n",
      "https://api.census.gov/data/2000/dec/sf1?get=GEO_ID,P012030&for=tract:*&in=state:32%20county:510&key=9a73d08c296b844e58f1c70bd19c831826da5cbf\n",
      "29\n",
      "https://api.census.gov/data/2000/dec/sf1?get=GEO_ID,P012031&for=tract:*&in=state:06%20county:017&key=9a73d08c296b844e58f1c70bd19c831826da5cbf\n",
      "https://api.census.gov/data/2000/dec/sf1?get=GEO_ID,P012031&for=tract:*&in=state:06%20county:061&key=9a73d08c296b844e58f1c70bd19c831826da5cbf\n",
      "https://api.census.gov/data/2000/dec/sf1?get=GEO_ID,P012031&for=tract:*&in=state:32%20county:005&key=9a73d08c296b844e58f1c70bd19c831826da5cbf\n",
      "https://api.census.gov/data/2000/dec/sf1?get=GEO_ID,P012031&for=tract:*&in=state:32%20county:031&key=9a73d08c296b844e58f1c70bd19c831826da5cbf\n",
      "https://api.census.gov/data/2000/dec/sf1?get=GEO_ID,P012031&for=tract:*&in=state:32%20county:510&key=9a73d08c296b844e58f1c70bd19c831826da5cbf\n",
      "30\n",
      "https://api.census.gov/data/2000/dec/sf1?get=GEO_ID,P012032&for=tract:*&in=state:06%20county:017&key=9a73d08c296b844e58f1c70bd19c831826da5cbf\n",
      "https://api.census.gov/data/2000/dec/sf1?get=GEO_ID,P012032&for=tract:*&in=state:06%20county:061&key=9a73d08c296b844e58f1c70bd19c831826da5cbf\n",
      "https://api.census.gov/data/2000/dec/sf1?get=GEO_ID,P012032&for=tract:*&in=state:32%20county:005&key=9a73d08c296b844e58f1c70bd19c831826da5cbf\n",
      "https://api.census.gov/data/2000/dec/sf1?get=GEO_ID,P012032&for=tract:*&in=state:32%20county:031&key=9a73d08c296b844e58f1c70bd19c831826da5cbf\n",
      "https://api.census.gov/data/2000/dec/sf1?get=GEO_ID,P012032&for=tract:*&in=state:32%20county:510&key=9a73d08c296b844e58f1c70bd19c831826da5cbf\n",
      "31\n",
      "https://api.census.gov/data/2000/dec/sf1?get=GEO_ID,P012033&for=tract:*&in=state:06%20county:017&key=9a73d08c296b844e58f1c70bd19c831826da5cbf\n",
      "https://api.census.gov/data/2000/dec/sf1?get=GEO_ID,P012033&for=tract:*&in=state:06%20county:061&key=9a73d08c296b844e58f1c70bd19c831826da5cbf\n",
      "https://api.census.gov/data/2000/dec/sf1?get=GEO_ID,P012033&for=tract:*&in=state:32%20county:005&key=9a73d08c296b844e58f1c70bd19c831826da5cbf\n",
      "https://api.census.gov/data/2000/dec/sf1?get=GEO_ID,P012033&for=tract:*&in=state:32%20county:031&key=9a73d08c296b844e58f1c70bd19c831826da5cbf\n",
      "https://api.census.gov/data/2000/dec/sf1?get=GEO_ID,P012033&for=tract:*&in=state:32%20county:510&key=9a73d08c296b844e58f1c70bd19c831826da5cbf\n",
      "32\n",
      "https://api.census.gov/data/2000/dec/sf1?get=GEO_ID,P012034&for=tract:*&in=state:06%20county:017&key=9a73d08c296b844e58f1c70bd19c831826da5cbf\n",
      "https://api.census.gov/data/2000/dec/sf1?get=GEO_ID,P012034&for=tract:*&in=state:06%20county:061&key=9a73d08c296b844e58f1c70bd19c831826da5cbf\n",
      "https://api.census.gov/data/2000/dec/sf1?get=GEO_ID,P012034&for=tract:*&in=state:32%20county:005&key=9a73d08c296b844e58f1c70bd19c831826da5cbf\n",
      "https://api.census.gov/data/2000/dec/sf1?get=GEO_ID,P012034&for=tract:*&in=state:32%20county:031&key=9a73d08c296b844e58f1c70bd19c831826da5cbf\n",
      "https://api.census.gov/data/2000/dec/sf1?get=GEO_ID,P012034&for=tract:*&in=state:32%20county:510&key=9a73d08c296b844e58f1c70bd19c831826da5cbf\n",
      "33\n",
      "https://api.census.gov/data/2000/dec/sf1?get=GEO_ID,P012035&for=tract:*&in=state:06%20county:017&key=9a73d08c296b844e58f1c70bd19c831826da5cbf\n",
      "https://api.census.gov/data/2000/dec/sf1?get=GEO_ID,P012035&for=tract:*&in=state:06%20county:061&key=9a73d08c296b844e58f1c70bd19c831826da5cbf\n",
      "https://api.census.gov/data/2000/dec/sf1?get=GEO_ID,P012035&for=tract:*&in=state:32%20county:005&key=9a73d08c296b844e58f1c70bd19c831826da5cbf\n",
      "https://api.census.gov/data/2000/dec/sf1?get=GEO_ID,P012035&for=tract:*&in=state:32%20county:031&key=9a73d08c296b844e58f1c70bd19c831826da5cbf\n",
      "https://api.census.gov/data/2000/dec/sf1?get=GEO_ID,P012035&for=tract:*&in=state:32%20county:510&key=9a73d08c296b844e58f1c70bd19c831826da5cbf\n",
      "34\n",
      "https://api.census.gov/data/2000/dec/sf1?get=GEO_ID,P012036&for=tract:*&in=state:06%20county:017&key=9a73d08c296b844e58f1c70bd19c831826da5cbf\n",
      "https://api.census.gov/data/2000/dec/sf1?get=GEO_ID,P012036&for=tract:*&in=state:06%20county:061&key=9a73d08c296b844e58f1c70bd19c831826da5cbf\n",
      "https://api.census.gov/data/2000/dec/sf1?get=GEO_ID,P012036&for=tract:*&in=state:32%20county:005&key=9a73d08c296b844e58f1c70bd19c831826da5cbf\n",
      "https://api.census.gov/data/2000/dec/sf1?get=GEO_ID,P012036&for=tract:*&in=state:32%20county:031&key=9a73d08c296b844e58f1c70bd19c831826da5cbf\n",
      "https://api.census.gov/data/2000/dec/sf1?get=GEO_ID,P012036&for=tract:*&in=state:32%20county:510&key=9a73d08c296b844e58f1c70bd19c831826da5cbf\n",
      "35\n",
      "https://api.census.gov/data/2000/dec/sf1?get=GEO_ID,P012037&for=tract:*&in=state:06%20county:017&key=9a73d08c296b844e58f1c70bd19c831826da5cbf\n",
      "https://api.census.gov/data/2000/dec/sf1?get=GEO_ID,P012037&for=tract:*&in=state:06%20county:061&key=9a73d08c296b844e58f1c70bd19c831826da5cbf\n",
      "https://api.census.gov/data/2000/dec/sf1?get=GEO_ID,P012037&for=tract:*&in=state:32%20county:005&key=9a73d08c296b844e58f1c70bd19c831826da5cbf\n",
      "https://api.census.gov/data/2000/dec/sf1?get=GEO_ID,P012037&for=tract:*&in=state:32%20county:031&key=9a73d08c296b844e58f1c70bd19c831826da5cbf\n",
      "https://api.census.gov/data/2000/dec/sf1?get=GEO_ID,P012037&for=tract:*&in=state:32%20county:510&key=9a73d08c296b844e58f1c70bd19c831826da5cbf\n",
      "36\n",
      "https://api.census.gov/data/2000/dec/sf1?get=GEO_ID,P012038&for=tract:*&in=state:06%20county:017&key=9a73d08c296b844e58f1c70bd19c831826da5cbf\n",
      "https://api.census.gov/data/2000/dec/sf1?get=GEO_ID,P012038&for=tract:*&in=state:06%20county:061&key=9a73d08c296b844e58f1c70bd19c831826da5cbf\n",
      "https://api.census.gov/data/2000/dec/sf1?get=GEO_ID,P012038&for=tract:*&in=state:32%20county:005&key=9a73d08c296b844e58f1c70bd19c831826da5cbf\n",
      "https://api.census.gov/data/2000/dec/sf1?get=GEO_ID,P012038&for=tract:*&in=state:32%20county:031&key=9a73d08c296b844e58f1c70bd19c831826da5cbf\n",
      "https://api.census.gov/data/2000/dec/sf1?get=GEO_ID,P012038&for=tract:*&in=state:32%20county:510&key=9a73d08c296b844e58f1c70bd19c831826da5cbf\n",
      "37\n",
      "https://api.census.gov/data/2000/dec/sf1?get=GEO_ID,P012039&for=tract:*&in=state:06%20county:017&key=9a73d08c296b844e58f1c70bd19c831826da5cbf\n",
      "https://api.census.gov/data/2000/dec/sf1?get=GEO_ID,P012039&for=tract:*&in=state:06%20county:061&key=9a73d08c296b844e58f1c70bd19c831826da5cbf\n",
      "https://api.census.gov/data/2000/dec/sf1?get=GEO_ID,P012039&for=tract:*&in=state:32%20county:005&key=9a73d08c296b844e58f1c70bd19c831826da5cbf\n",
      "https://api.census.gov/data/2000/dec/sf1?get=GEO_ID,P012039&for=tract:*&in=state:32%20county:031&key=9a73d08c296b844e58f1c70bd19c831826da5cbf\n",
      "https://api.census.gov/data/2000/dec/sf1?get=GEO_ID,P012039&for=tract:*&in=state:32%20county:510&key=9a73d08c296b844e58f1c70bd19c831826da5cbf\n",
      "38\n",
      "https://api.census.gov/data/2000/dec/sf1?get=GEO_ID,P012040&for=tract:*&in=state:06%20county:017&key=9a73d08c296b844e58f1c70bd19c831826da5cbf\n",
      "https://api.census.gov/data/2000/dec/sf1?get=GEO_ID,P012040&for=tract:*&in=state:06%20county:061&key=9a73d08c296b844e58f1c70bd19c831826da5cbf\n",
      "https://api.census.gov/data/2000/dec/sf1?get=GEO_ID,P012040&for=tract:*&in=state:32%20county:005&key=9a73d08c296b844e58f1c70bd19c831826da5cbf\n",
      "https://api.census.gov/data/2000/dec/sf1?get=GEO_ID,P012040&for=tract:*&in=state:32%20county:031&key=9a73d08c296b844e58f1c70bd19c831826da5cbf\n",
      "https://api.census.gov/data/2000/dec/sf1?get=GEO_ID,P012040&for=tract:*&in=state:32%20county:510&key=9a73d08c296b844e58f1c70bd19c831826da5cbf\n",
      "39\n",
      "https://api.census.gov/data/2000/dec/sf1?get=GEO_ID,P012041&for=tract:*&in=state:06%20county:017&key=9a73d08c296b844e58f1c70bd19c831826da5cbf\n",
      "https://api.census.gov/data/2000/dec/sf1?get=GEO_ID,P012041&for=tract:*&in=state:06%20county:061&key=9a73d08c296b844e58f1c70bd19c831826da5cbf\n",
      "https://api.census.gov/data/2000/dec/sf1?get=GEO_ID,P012041&for=tract:*&in=state:32%20county:005&key=9a73d08c296b844e58f1c70bd19c831826da5cbf\n",
      "https://api.census.gov/data/2000/dec/sf1?get=GEO_ID,P012041&for=tract:*&in=state:32%20county:031&key=9a73d08c296b844e58f1c70bd19c831826da5cbf\n",
      "https://api.census.gov/data/2000/dec/sf1?get=GEO_ID,P012041&for=tract:*&in=state:32%20county:510&key=9a73d08c296b844e58f1c70bd19c831826da5cbf\n",
      "40\n",
      "https://api.census.gov/data/2000/dec/sf1?get=GEO_ID,P012042&for=tract:*&in=state:06%20county:017&key=9a73d08c296b844e58f1c70bd19c831826da5cbf\n",
      "https://api.census.gov/data/2000/dec/sf1?get=GEO_ID,P012042&for=tract:*&in=state:06%20county:061&key=9a73d08c296b844e58f1c70bd19c831826da5cbf\n",
      "https://api.census.gov/data/2000/dec/sf1?get=GEO_ID,P012042&for=tract:*&in=state:32%20county:005&key=9a73d08c296b844e58f1c70bd19c831826da5cbf\n",
      "https://api.census.gov/data/2000/dec/sf1?get=GEO_ID,P012042&for=tract:*&in=state:32%20county:031&key=9a73d08c296b844e58f1c70bd19c831826da5cbf\n",
      "https://api.census.gov/data/2000/dec/sf1?get=GEO_ID,P012042&for=tract:*&in=state:32%20county:510&key=9a73d08c296b844e58f1c70bd19c831826da5cbf\n",
      "41\n",
      "https://api.census.gov/data/2000/dec/sf1?get=GEO_ID,P012043&for=tract:*&in=state:06%20county:017&key=9a73d08c296b844e58f1c70bd19c831826da5cbf\n",
      "https://api.census.gov/data/2000/dec/sf1?get=GEO_ID,P012043&for=tract:*&in=state:06%20county:061&key=9a73d08c296b844e58f1c70bd19c831826da5cbf\n",
      "https://api.census.gov/data/2000/dec/sf1?get=GEO_ID,P012043&for=tract:*&in=state:32%20county:005&key=9a73d08c296b844e58f1c70bd19c831826da5cbf\n",
      "https://api.census.gov/data/2000/dec/sf1?get=GEO_ID,P012043&for=tract:*&in=state:32%20county:031&key=9a73d08c296b844e58f1c70bd19c831826da5cbf\n",
      "https://api.census.gov/data/2000/dec/sf1?get=GEO_ID,P012043&for=tract:*&in=state:32%20county:510&key=9a73d08c296b844e58f1c70bd19c831826da5cbf\n",
      "42\n",
      "https://api.census.gov/data/2000/dec/sf1?get=GEO_ID,P012044&for=tract:*&in=state:06%20county:017&key=9a73d08c296b844e58f1c70bd19c831826da5cbf\n",
      "https://api.census.gov/data/2000/dec/sf1?get=GEO_ID,P012044&for=tract:*&in=state:06%20county:061&key=9a73d08c296b844e58f1c70bd19c831826da5cbf\n",
      "https://api.census.gov/data/2000/dec/sf1?get=GEO_ID,P012044&for=tract:*&in=state:32%20county:005&key=9a73d08c296b844e58f1c70bd19c831826da5cbf\n",
      "https://api.census.gov/data/2000/dec/sf1?get=GEO_ID,P012044&for=tract:*&in=state:32%20county:031&key=9a73d08c296b844e58f1c70bd19c831826da5cbf\n",
      "https://api.census.gov/data/2000/dec/sf1?get=GEO_ID,P012044&for=tract:*&in=state:32%20county:510&key=9a73d08c296b844e58f1c70bd19c831826da5cbf\n",
      "43\n",
      "https://api.census.gov/data/2000/dec/sf1?get=GEO_ID,P012045&for=tract:*&in=state:06%20county:017&key=9a73d08c296b844e58f1c70bd19c831826da5cbf\n",
      "https://api.census.gov/data/2000/dec/sf1?get=GEO_ID,P012045&for=tract:*&in=state:06%20county:061&key=9a73d08c296b844e58f1c70bd19c831826da5cbf\n",
      "https://api.census.gov/data/2000/dec/sf1?get=GEO_ID,P012045&for=tract:*&in=state:32%20county:005&key=9a73d08c296b844e58f1c70bd19c831826da5cbf\n",
      "https://api.census.gov/data/2000/dec/sf1?get=GEO_ID,P012045&for=tract:*&in=state:32%20county:031&key=9a73d08c296b844e58f1c70bd19c831826da5cbf\n",
      "https://api.census.gov/data/2000/dec/sf1?get=GEO_ID,P012045&for=tract:*&in=state:32%20county:510&key=9a73d08c296b844e58f1c70bd19c831826da5cbf\n",
      "44\n",
      "https://api.census.gov/data/2000/dec/sf1?get=GEO_ID,P012046&for=tract:*&in=state:06%20county:017&key=9a73d08c296b844e58f1c70bd19c831826da5cbf\n",
      "https://api.census.gov/data/2000/dec/sf1?get=GEO_ID,P012046&for=tract:*&in=state:06%20county:061&key=9a73d08c296b844e58f1c70bd19c831826da5cbf\n",
      "https://api.census.gov/data/2000/dec/sf1?get=GEO_ID,P012046&for=tract:*&in=state:32%20county:005&key=9a73d08c296b844e58f1c70bd19c831826da5cbf\n",
      "https://api.census.gov/data/2000/dec/sf1?get=GEO_ID,P012046&for=tract:*&in=state:32%20county:031&key=9a73d08c296b844e58f1c70bd19c831826da5cbf\n",
      "https://api.census.gov/data/2000/dec/sf1?get=GEO_ID,P012046&for=tract:*&in=state:32%20county:510&key=9a73d08c296b844e58f1c70bd19c831826da5cbf\n",
      "45\n",
      "https://api.census.gov/data/2000/dec/sf1?get=GEO_ID,P012047&for=tract:*&in=state:06%20county:017&key=9a73d08c296b844e58f1c70bd19c831826da5cbf\n",
      "https://api.census.gov/data/2000/dec/sf1?get=GEO_ID,P012047&for=tract:*&in=state:06%20county:061&key=9a73d08c296b844e58f1c70bd19c831826da5cbf\n",
      "https://api.census.gov/data/2000/dec/sf1?get=GEO_ID,P012047&for=tract:*&in=state:32%20county:005&key=9a73d08c296b844e58f1c70bd19c831826da5cbf\n",
      "https://api.census.gov/data/2000/dec/sf1?get=GEO_ID,P012047&for=tract:*&in=state:32%20county:031&key=9a73d08c296b844e58f1c70bd19c831826da5cbf\n",
      "https://api.census.gov/data/2000/dec/sf1?get=GEO_ID,P012047&for=tract:*&in=state:32%20county:510&key=9a73d08c296b844e58f1c70bd19c831826da5cbf\n",
      "46\n",
      "https://api.census.gov/data/2000/dec/sf1?get=GEO_ID,P012048&for=tract:*&in=state:06%20county:017&key=9a73d08c296b844e58f1c70bd19c831826da5cbf\n",
      "https://api.census.gov/data/2000/dec/sf1?get=GEO_ID,P012048&for=tract:*&in=state:06%20county:061&key=9a73d08c296b844e58f1c70bd19c831826da5cbf\n",
      "https://api.census.gov/data/2000/dec/sf1?get=GEO_ID,P012048&for=tract:*&in=state:32%20county:005&key=9a73d08c296b844e58f1c70bd19c831826da5cbf\n",
      "https://api.census.gov/data/2000/dec/sf1?get=GEO_ID,P012048&for=tract:*&in=state:32%20county:031&key=9a73d08c296b844e58f1c70bd19c831826da5cbf\n",
      "https://api.census.gov/data/2000/dec/sf1?get=GEO_ID,P012048&for=tract:*&in=state:32%20county:510&key=9a73d08c296b844e58f1c70bd19c831826da5cbf\n",
      "47\n",
      "https://api.census.gov/data/2000/dec/sf1?get=GEO_ID,P012049&for=tract:*&in=state:06%20county:017&key=9a73d08c296b844e58f1c70bd19c831826da5cbf\n",
      "https://api.census.gov/data/2000/dec/sf1?get=GEO_ID,P012049&for=tract:*&in=state:06%20county:061&key=9a73d08c296b844e58f1c70bd19c831826da5cbf\n",
      "https://api.census.gov/data/2000/dec/sf1?get=GEO_ID,P012049&for=tract:*&in=state:32%20county:005&key=9a73d08c296b844e58f1c70bd19c831826da5cbf\n",
      "https://api.census.gov/data/2000/dec/sf1?get=GEO_ID,P012049&for=tract:*&in=state:32%20county:031&key=9a73d08c296b844e58f1c70bd19c831826da5cbf\n",
      "https://api.census.gov/data/2000/dec/sf1?get=GEO_ID,P012049&for=tract:*&in=state:32%20county:510&key=9a73d08c296b844e58f1c70bd19c831826da5cbf\n"
     ]
    }
   ],
   "source": [
    "dem_tract_2000_age = census_download_wrapper('Census_Variable_Lists\\census_variables_dec_tract_2000_age.csv')\n",
    "dem_tract_2000_age.to_excel(\"Census_Data_Downloads\\dem_tract_2000_age.xlsx\")"
   ]
  },
  {
   "cell_type": "markdown",
   "metadata": {},
   "source": [
    "## Download 2020 Dec Census Data"
   ]
  },
  {
   "cell_type": "code",
   "execution_count": null,
   "metadata": {},
   "outputs": [],
   "source": [
    "dem_tract_2020 = census_download_wrapper('Census_Variable_Lists\\census_variables_dec_tract_2020.csv')\n",
    "dem_tract_2020.to_excel(\"Census_Data_Downloads\\dem_tract_2020.xlsx\", index=False)"
   ]
  },
  {
   "cell_type": "code",
   "execution_count": null,
   "metadata": {},
   "outputs": [],
   "source": [
    "dem_tract_2020_age = census_download_wrapper('Census_Variable_Lists\\census_variables_dec_tract_2020_age.csv')\n",
    "dem_tract_2020_age.to_excel(\"Census_Data_Downloads\\dem_tract_2020_age.xlsx\", index=False)"
   ]
  },
  {
   "cell_type": "code",
   "execution_count": null,
   "metadata": {},
   "outputs": [],
   "source": [
    "housing_additional = census_download_wrapper('Census_Variable_Lists\\census_variables_housing_add.csv')\n",
    "housing_additional.to_excel(\"Census_Data_Downloads\\housing_additional.xlsx\", index=False)"
   ]
  },
  {
   "cell_type": "code",
   "execution_count": 6,
   "metadata": {},
   "outputs": [
    {
     "name": "stdout",
     "output_type": "stream",
     "text": [
      "0\n",
      "https://api.census.gov/data/2021/acs/acs5?get=GEO_ID,B25004_006E,B25004_006M&for=tract:*&in=state:06%20county:017&key=9a73d08c296b844e58f1c70bd19c831826da5cbf\n",
      "https://api.census.gov/data/2021/acs/acs5?get=GEO_ID,B25004_006E,B25004_006M&for=tract:*&in=state:06%20county:061&key=9a73d08c296b844e58f1c70bd19c831826da5cbf\n",
      "https://api.census.gov/data/2021/acs/acs5?get=GEO_ID,B25004_006E,B25004_006M&for=tract:*&in=state:32%20county:005&key=9a73d08c296b844e58f1c70bd19c831826da5cbf\n",
      "https://api.census.gov/data/2021/acs/acs5?get=GEO_ID,B25004_006E,B25004_006M&for=tract:*&in=state:32%20county:031&key=9a73d08c296b844e58f1c70bd19c831826da5cbf\n",
      "https://api.census.gov/data/2021/acs/acs5?get=GEO_ID,B25004_006E,B25004_006M&for=tract:*&in=state:32%20county:510&key=9a73d08c296b844e58f1c70bd19c831826da5cbf\n",
      "1\n",
      "https://api.census.gov/data/2020/acs/acs5?get=GEO_ID,B25004_006E,B25004_006M&for=tract:*&in=state:06%20county:017&key=9a73d08c296b844e58f1c70bd19c831826da5cbf\n",
      "https://api.census.gov/data/2020/acs/acs5?get=GEO_ID,B25004_006E,B25004_006M&for=tract:*&in=state:06%20county:061&key=9a73d08c296b844e58f1c70bd19c831826da5cbf\n",
      "https://api.census.gov/data/2020/acs/acs5?get=GEO_ID,B25004_006E,B25004_006M&for=tract:*&in=state:32%20county:005&key=9a73d08c296b844e58f1c70bd19c831826da5cbf\n",
      "https://api.census.gov/data/2020/acs/acs5?get=GEO_ID,B25004_006E,B25004_006M&for=tract:*&in=state:32%20county:031&key=9a73d08c296b844e58f1c70bd19c831826da5cbf\n",
      "https://api.census.gov/data/2020/acs/acs5?get=GEO_ID,B25004_006E,B25004_006M&for=tract:*&in=state:32%20county:510&key=9a73d08c296b844e58f1c70bd19c831826da5cbf\n",
      "2\n",
      "https://api.census.gov/data/2020/acs/acs5?get=GEO_ID,B25001_001E,B25001_001M&for=tract:*&in=state:06%20county:017&key=9a73d08c296b844e58f1c70bd19c831826da5cbf\n",
      "https://api.census.gov/data/2020/acs/acs5?get=GEO_ID,B25001_001E,B25001_001M&for=tract:*&in=state:06%20county:061&key=9a73d08c296b844e58f1c70bd19c831826da5cbf\n",
      "https://api.census.gov/data/2020/acs/acs5?get=GEO_ID,B25001_001E,B25001_001M&for=tract:*&in=state:32%20county:005&key=9a73d08c296b844e58f1c70bd19c831826da5cbf\n",
      "https://api.census.gov/data/2020/acs/acs5?get=GEO_ID,B25001_001E,B25001_001M&for=tract:*&in=state:32%20county:031&key=9a73d08c296b844e58f1c70bd19c831826da5cbf\n",
      "https://api.census.gov/data/2020/acs/acs5?get=GEO_ID,B25001_001E,B25001_001M&for=tract:*&in=state:32%20county:510&key=9a73d08c296b844e58f1c70bd19c831826da5cbf\n",
      "3\n",
      "https://api.census.gov/data/2020/acs/acs5?get=GEO_ID,B25002_002E,B25002_002M&for=tract:*&in=state:06%20county:017&key=9a73d08c296b844e58f1c70bd19c831826da5cbf\n",
      "https://api.census.gov/data/2020/acs/acs5?get=GEO_ID,B25002_002E,B25002_002M&for=tract:*&in=state:06%20county:061&key=9a73d08c296b844e58f1c70bd19c831826da5cbf\n",
      "https://api.census.gov/data/2020/acs/acs5?get=GEO_ID,B25002_002E,B25002_002M&for=tract:*&in=state:32%20county:005&key=9a73d08c296b844e58f1c70bd19c831826da5cbf\n",
      "https://api.census.gov/data/2020/acs/acs5?get=GEO_ID,B25002_002E,B25002_002M&for=tract:*&in=state:32%20county:031&key=9a73d08c296b844e58f1c70bd19c831826da5cbf\n",
      "https://api.census.gov/data/2020/acs/acs5?get=GEO_ID,B25002_002E,B25002_002M&for=tract:*&in=state:32%20county:510&key=9a73d08c296b844e58f1c70bd19c831826da5cbf\n",
      "4\n",
      "https://api.census.gov/data/2020/acs/acs5?get=GEO_ID,B25002_003E,B25002_003M&for=tract:*&in=state:06%20county:017&key=9a73d08c296b844e58f1c70bd19c831826da5cbf\n",
      "https://api.census.gov/data/2020/acs/acs5?get=GEO_ID,B25002_003E,B25002_003M&for=tract:*&in=state:06%20county:061&key=9a73d08c296b844e58f1c70bd19c831826da5cbf\n",
      "https://api.census.gov/data/2020/acs/acs5?get=GEO_ID,B25002_003E,B25002_003M&for=tract:*&in=state:32%20county:005&key=9a73d08c296b844e58f1c70bd19c831826da5cbf\n",
      "https://api.census.gov/data/2020/acs/acs5?get=GEO_ID,B25002_003E,B25002_003M&for=tract:*&in=state:32%20county:031&key=9a73d08c296b844e58f1c70bd19c831826da5cbf\n",
      "https://api.census.gov/data/2020/acs/acs5?get=GEO_ID,B25002_003E,B25002_003M&for=tract:*&in=state:32%20county:510&key=9a73d08c296b844e58f1c70bd19c831826da5cbf\n",
      "5\n",
      "https://api.census.gov/data/2020/acs/acs5?get=GEO_ID,B25003_002E,B25003_002M&for=tract:*&in=state:06%20county:017&key=9a73d08c296b844e58f1c70bd19c831826da5cbf\n",
      "https://api.census.gov/data/2020/acs/acs5?get=GEO_ID,B25003_002E,B25003_002M&for=tract:*&in=state:06%20county:061&key=9a73d08c296b844e58f1c70bd19c831826da5cbf\n",
      "https://api.census.gov/data/2020/acs/acs5?get=GEO_ID,B25003_002E,B25003_002M&for=tract:*&in=state:32%20county:005&key=9a73d08c296b844e58f1c70bd19c831826da5cbf\n",
      "https://api.census.gov/data/2020/acs/acs5?get=GEO_ID,B25003_002E,B25003_002M&for=tract:*&in=state:32%20county:031&key=9a73d08c296b844e58f1c70bd19c831826da5cbf\n",
      "https://api.census.gov/data/2020/acs/acs5?get=GEO_ID,B25003_002E,B25003_002M&for=tract:*&in=state:32%20county:510&key=9a73d08c296b844e58f1c70bd19c831826da5cbf\n",
      "6\n",
      "https://api.census.gov/data/2020/acs/acs5?get=GEO_ID,B25003_003E,B25003_003M&for=tract:*&in=state:06%20county:017&key=9a73d08c296b844e58f1c70bd19c831826da5cbf\n",
      "https://api.census.gov/data/2020/acs/acs5?get=GEO_ID,B25003_003E,B25003_003M&for=tract:*&in=state:06%20county:061&key=9a73d08c296b844e58f1c70bd19c831826da5cbf\n",
      "https://api.census.gov/data/2020/acs/acs5?get=GEO_ID,B25003_003E,B25003_003M&for=tract:*&in=state:32%20county:005&key=9a73d08c296b844e58f1c70bd19c831826da5cbf\n",
      "https://api.census.gov/data/2020/acs/acs5?get=GEO_ID,B25003_003E,B25003_003M&for=tract:*&in=state:32%20county:031&key=9a73d08c296b844e58f1c70bd19c831826da5cbf\n",
      "https://api.census.gov/data/2020/acs/acs5?get=GEO_ID,B25003_003E,B25003_003M&for=tract:*&in=state:32%20county:510&key=9a73d08c296b844e58f1c70bd19c831826da5cbf\n"
     ]
    }
   ],
   "source": [
    "housing_additional_acs = census_download_wrapper('Census_Variable_Lists\\census_variables_housing_add_full.csv')\n",
    "housing_additional_acs.to_excel(\"Census_Data_Downloads\\housing_additional_acs.xlsx\", index=False)"
   ]
  },
  {
   "cell_type": "code",
   "execution_count": 3,
   "metadata": {},
   "outputs": [
    {
     "name": "stdout",
     "output_type": "stream",
     "text": [
      "0\n",
      "https://api.census.gov/data/2021/acs/acs5?get=GEO_ID,B19001_001E,B19001_001M&for=block%20group:*&in=state:06%20county:017%20tract:*&key=9a73d08c296b844e58f1c70bd19c831826da5cbf\n",
      "https://api.census.gov/data/2021/acs/acs5?get=GEO_ID,B19001_001E,B19001_001M&for=block%20group:*&in=state:06%20county:061%20tract:*&key=9a73d08c296b844e58f1c70bd19c831826da5cbf\n",
      "https://api.census.gov/data/2021/acs/acs5?get=GEO_ID,B19001_001E,B19001_001M&for=block%20group:*&in=state:32%20county:005%20tract:*&key=9a73d08c296b844e58f1c70bd19c831826da5cbf\n",
      "https://api.census.gov/data/2021/acs/acs5?get=GEO_ID,B19001_001E,B19001_001M&for=block%20group:*&in=state:32%20county:031%20tract:*&key=9a73d08c296b844e58f1c70bd19c831826da5cbf\n",
      "https://api.census.gov/data/2021/acs/acs5?get=GEO_ID,B19001_001E,B19001_001M&for=block%20group:*&in=state:32%20county:510%20tract:*&key=9a73d08c296b844e58f1c70bd19c831826da5cbf\n",
      "1\n",
      "https://api.census.gov/data/2020/acs/acs5?get=GEO_ID,B19001_001E,B19001_001M&for=block%20group:*&in=state:06%20county:017%20tract:*&key=9a73d08c296b844e58f1c70bd19c831826da5cbf\n",
      "https://api.census.gov/data/2020/acs/acs5?get=GEO_ID,B19001_001E,B19001_001M&for=block%20group:*&in=state:06%20county:061%20tract:*&key=9a73d08c296b844e58f1c70bd19c831826da5cbf\n",
      "https://api.census.gov/data/2020/acs/acs5?get=GEO_ID,B19001_001E,B19001_001M&for=block%20group:*&in=state:32%20county:005%20tract:*&key=9a73d08c296b844e58f1c70bd19c831826da5cbf\n",
      "https://api.census.gov/data/2020/acs/acs5?get=GEO_ID,B19001_001E,B19001_001M&for=block%20group:*&in=state:32%20county:031%20tract:*&key=9a73d08c296b844e58f1c70bd19c831826da5cbf\n",
      "https://api.census.gov/data/2020/acs/acs5?get=GEO_ID,B19001_001E,B19001_001M&for=block%20group:*&in=state:32%20county:510%20tract:*&key=9a73d08c296b844e58f1c70bd19c831826da5cbf\n"
     ]
    }
   ],
   "source": [
    "dtypes = {\n",
    "    'Variable' : str,\n",
    "    'Code': str,\n",
    "    'Category': str,\n",
    "    'Datasource': str,\n",
    "    'CodeNumber':str,\n",
    "    'Year':str,\n",
    "    'census_geom_year':str,\n",
    "    'GeometryLevel':str\n",
    "}\n",
    "\n",
    "\n",
    "demographic_variables_2020_bg_extra = pd.read_csv(\"Census_Variable_Lists\\census_variables_acs_blockgroup_2021_extra.csv\",dtype=dtypes)\n",
    "\n",
    "#Loop through this?\n",
    "demographic_values_2020_bg_extra=pd.DataFrame()\n",
    "for index, row in demographic_variables_2020_bg_extra.iterrows():\n",
    "    print(index)\n",
    "    df = get_variable_data(row['Year'], row['Datasource Name'],'block group',row['CodeNumber'],row['Variable'], census_api_key, row['census_geom_year'], tahoe_geometry, row['Category'])\n",
    "    \n",
    "    demographic_values_2020_bg_extra = create_or_append_df(demographic_values_2020_bg_extra, df)"
   ]
  },
  {
   "cell_type": "code",
   "execution_count": 4,
   "metadata": {},
   "outputs": [],
   "source": [
    "demographic_values_2020_bg_extra.to_excel('demographic_values_2021_bg_extra.xlsx')"
   ]
  },
  {
   "cell_type": "code",
   "execution_count": 50,
   "metadata": {},
   "outputs": [
    {
     "name": "stdout",
     "output_type": "stream",
     "text": [
      "0\n",
      "https://api.census.gov/data/2021/acs/acs5?get=GEO_ID,B23024_001E,B23024_001M&for=block%20group:*&in=state:06%20county:017%20tract:*&key=9a73d08c296b844e58f1c70bd19c831826da5cbf\n",
      "https://api.census.gov/data/2021/acs/acs5?get=GEO_ID,B23024_001E,B23024_001M&for=block%20group:*&in=state:06%20county:061%20tract:*&key=9a73d08c296b844e58f1c70bd19c831826da5cbf\n",
      "https://api.census.gov/data/2021/acs/acs5?get=GEO_ID,B23024_001E,B23024_001M&for=block%20group:*&in=state:32%20county:005%20tract:*&key=9a73d08c296b844e58f1c70bd19c831826da5cbf\n",
      "https://api.census.gov/data/2021/acs/acs5?get=GEO_ID,B23024_001E,B23024_001M&for=block%20group:*&in=state:32%20county:031%20tract:*&key=9a73d08c296b844e58f1c70bd19c831826da5cbf\n",
      "https://api.census.gov/data/2021/acs/acs5?get=GEO_ID,B23024_001E,B23024_001M&for=block%20group:*&in=state:32%20county:510%20tract:*&key=9a73d08c296b844e58f1c70bd19c831826da5cbf\n",
      "1\n",
      "https://api.census.gov/data/2021/acs/acs5?get=GEO_ID,B23024_003E,B23024_003M&for=block%20group:*&in=state:06%20county:017%20tract:*&key=9a73d08c296b844e58f1c70bd19c831826da5cbf\n",
      "https://api.census.gov/data/2021/acs/acs5?get=GEO_ID,B23024_003E,B23024_003M&for=block%20group:*&in=state:06%20county:061%20tract:*&key=9a73d08c296b844e58f1c70bd19c831826da5cbf\n",
      "https://api.census.gov/data/2021/acs/acs5?get=GEO_ID,B23024_003E,B23024_003M&for=block%20group:*&in=state:32%20county:005%20tract:*&key=9a73d08c296b844e58f1c70bd19c831826da5cbf\n",
      "https://api.census.gov/data/2021/acs/acs5?get=GEO_ID,B23024_003E,B23024_003M&for=block%20group:*&in=state:32%20county:031%20tract:*&key=9a73d08c296b844e58f1c70bd19c831826da5cbf\n",
      "https://api.census.gov/data/2021/acs/acs5?get=GEO_ID,B23024_003E,B23024_003M&for=block%20group:*&in=state:32%20county:510%20tract:*&key=9a73d08c296b844e58f1c70bd19c831826da5cbf\n",
      "2\n",
      "https://api.census.gov/data/2021/acs/acs5?get=GEO_ID,B23024_018E,B23024_018M&for=block%20group:*&in=state:06%20county:017%20tract:*&key=9a73d08c296b844e58f1c70bd19c831826da5cbf\n",
      "https://api.census.gov/data/2021/acs/acs5?get=GEO_ID,B23024_018E,B23024_018M&for=block%20group:*&in=state:06%20county:061%20tract:*&key=9a73d08c296b844e58f1c70bd19c831826da5cbf\n",
      "https://api.census.gov/data/2021/acs/acs5?get=GEO_ID,B23024_018E,B23024_018M&for=block%20group:*&in=state:32%20county:005%20tract:*&key=9a73d08c296b844e58f1c70bd19c831826da5cbf\n",
      "https://api.census.gov/data/2021/acs/acs5?get=GEO_ID,B23024_018E,B23024_018M&for=block%20group:*&in=state:32%20county:031%20tract:*&key=9a73d08c296b844e58f1c70bd19c831826da5cbf\n",
      "https://api.census.gov/data/2021/acs/acs5?get=GEO_ID,B23024_018E,B23024_018M&for=block%20group:*&in=state:32%20county:510%20tract:*&key=9a73d08c296b844e58f1c70bd19c831826da5cbf\n"
     ]
    }
   ],
   "source": [
    "dtypes = {\n",
    "    'Variable' : str,\n",
    "    'Code': str,\n",
    "    'Category': str,\n",
    "    'Datasource': str,\n",
    "    'CodeNumber':str,\n",
    "    'Year':str,\n",
    "    'census_geom_year':str,\n",
    "    'GeometryLevel':str\n",
    "}\n",
    "\n",
    "\n",
    "demographic_variables_2020_bg_disability = pd.read_csv(\"Census_Variable_Lists\\census_variables_acs_blockgroup_2021_Disability.csv\",dtype=dtypes)\n",
    "\n",
    "#Loop through this?\n",
    "demographic_values_2020_bg_disability=pd.DataFrame()\n",
    "for index, row in demographic_variables_2020_bg_disability.iterrows():\n",
    "    print(index)\n",
    "    df = get_variable_data(row['Year'], row['Datasource Name'],'block group',row['CodeNumber'],row['Variable'], census_api_key, row['census_geom_year'], tahoe_geometry, row['Category'])\n",
    "    \n",
    "    demographic_values_2020_bg_disability = create_or_append_df(demographic_values_2020_bg_disability, df)"
   ]
  },
  {
   "cell_type": "code",
   "execution_count": 51,
   "metadata": {},
   "outputs": [],
   "source": [
    "demographic_values_2020_bg_disability.to_excel(\"demographic_values_2021_bg_disability.xlsx\")"
   ]
  },
  {
   "cell_type": "code",
   "execution_count": null,
   "metadata": {},
   "outputs": [],
   "source": [
    "data_downloads['census_values_acs_blockgroup_2021'].to_excel(\"census_values_acs_blockgroup_2021.xlsx\")\n"
   ]
  },
  {
   "cell_type": "code",
   "execution_count": 65,
   "metadata": {},
   "outputs": [],
   "source": []
  },
  {
   "cell_type": "code",
   "execution_count": 69,
   "metadata": {},
   "outputs": [
    {
     "name": "stdout",
     "output_type": "stream",
     "text": [
      "0\n",
      "https://api.census.gov/data/2020/acs/acs5?get=GEO_ID,B19052_001E,B19052_001M&for=tract:*&in=state:06%20county:017&key=9a73d08c296b844e58f1c70bd19c831826da5cbf\n",
      "https://api.census.gov/data/2020/acs/acs5?get=GEO_ID,B19052_001E,B19052_001M&for=tract:*&in=state:06%20county:061&key=9a73d08c296b844e58f1c70bd19c831826da5cbf\n",
      "https://api.census.gov/data/2020/acs/acs5?get=GEO_ID,B19052_001E,B19052_001M&for=tract:*&in=state:32%20county:005&key=9a73d08c296b844e58f1c70bd19c831826da5cbf\n",
      "https://api.census.gov/data/2020/acs/acs5?get=GEO_ID,B19052_001E,B19052_001M&for=tract:*&in=state:32%20county:031&key=9a73d08c296b844e58f1c70bd19c831826da5cbf\n",
      "https://api.census.gov/data/2020/acs/acs5?get=GEO_ID,B19052_001E,B19052_001M&for=tract:*&in=state:32%20county:510&key=9a73d08c296b844e58f1c70bd19c831826da5cbf\n",
      "1\n",
      "https://api.census.gov/data/2020/acs/acs5?get=GEO_ID,B19052_002E,B19052_002M&for=tract:*&in=state:06%20county:017&key=9a73d08c296b844e58f1c70bd19c831826da5cbf\n",
      "https://api.census.gov/data/2020/acs/acs5?get=GEO_ID,B19052_002E,B19052_002M&for=tract:*&in=state:06%20county:061&key=9a73d08c296b844e58f1c70bd19c831826da5cbf\n",
      "https://api.census.gov/data/2020/acs/acs5?get=GEO_ID,B19052_002E,B19052_002M&for=tract:*&in=state:32%20county:005&key=9a73d08c296b844e58f1c70bd19c831826da5cbf\n",
      "https://api.census.gov/data/2020/acs/acs5?get=GEO_ID,B19052_002E,B19052_002M&for=tract:*&in=state:32%20county:031&key=9a73d08c296b844e58f1c70bd19c831826da5cbf\n",
      "https://api.census.gov/data/2020/acs/acs5?get=GEO_ID,B19052_002E,B19052_002M&for=tract:*&in=state:32%20county:510&key=9a73d08c296b844e58f1c70bd19c831826da5cbf\n",
      "2\n",
      "https://api.census.gov/data/2020/acs/acs5?get=GEO_ID,B19052_003E,B19052_003M&for=tract:*&in=state:06%20county:017&key=9a73d08c296b844e58f1c70bd19c831826da5cbf\n",
      "https://api.census.gov/data/2020/acs/acs5?get=GEO_ID,B19052_003E,B19052_003M&for=tract:*&in=state:06%20county:061&key=9a73d08c296b844e58f1c70bd19c831826da5cbf\n",
      "https://api.census.gov/data/2020/acs/acs5?get=GEO_ID,B19052_003E,B19052_003M&for=tract:*&in=state:32%20county:005&key=9a73d08c296b844e58f1c70bd19c831826da5cbf\n",
      "https://api.census.gov/data/2020/acs/acs5?get=GEO_ID,B19052_003E,B19052_003M&for=tract:*&in=state:32%20county:031&key=9a73d08c296b844e58f1c70bd19c831826da5cbf\n",
      "https://api.census.gov/data/2020/acs/acs5?get=GEO_ID,B19052_003E,B19052_003M&for=tract:*&in=state:32%20county:510&key=9a73d08c296b844e58f1c70bd19c831826da5cbf\n",
      "3\n",
      "https://api.census.gov/data/2020/acs/acs5?get=GEO_ID,B19001_003E,B19001_003M&for=tract:*&in=state:06%20county:017&key=9a73d08c296b844e58f1c70bd19c831826da5cbf\n",
      "https://api.census.gov/data/2020/acs/acs5?get=GEO_ID,B19001_003E,B19001_003M&for=tract:*&in=state:06%20county:061&key=9a73d08c296b844e58f1c70bd19c831826da5cbf\n",
      "https://api.census.gov/data/2020/acs/acs5?get=GEO_ID,B19001_003E,B19001_003M&for=tract:*&in=state:32%20county:005&key=9a73d08c296b844e58f1c70bd19c831826da5cbf\n",
      "https://api.census.gov/data/2020/acs/acs5?get=GEO_ID,B19001_003E,B19001_003M&for=tract:*&in=state:32%20county:031&key=9a73d08c296b844e58f1c70bd19c831826da5cbf\n",
      "https://api.census.gov/data/2020/acs/acs5?get=GEO_ID,B19001_003E,B19001_003M&for=tract:*&in=state:32%20county:510&key=9a73d08c296b844e58f1c70bd19c831826da5cbf\n",
      "4\n",
      "https://api.census.gov/data/2020/acs/acs5?get=GEO_ID,B19001_004E,B19001_004M&for=tract:*&in=state:06%20county:017&key=9a73d08c296b844e58f1c70bd19c831826da5cbf\n",
      "https://api.census.gov/data/2020/acs/acs5?get=GEO_ID,B19001_004E,B19001_004M&for=tract:*&in=state:06%20county:061&key=9a73d08c296b844e58f1c70bd19c831826da5cbf\n",
      "https://api.census.gov/data/2020/acs/acs5?get=GEO_ID,B19001_004E,B19001_004M&for=tract:*&in=state:32%20county:005&key=9a73d08c296b844e58f1c70bd19c831826da5cbf\n",
      "https://api.census.gov/data/2020/acs/acs5?get=GEO_ID,B19001_004E,B19001_004M&for=tract:*&in=state:32%20county:031&key=9a73d08c296b844e58f1c70bd19c831826da5cbf\n",
      "https://api.census.gov/data/2020/acs/acs5?get=GEO_ID,B19001_004E,B19001_004M&for=tract:*&in=state:32%20county:510&key=9a73d08c296b844e58f1c70bd19c831826da5cbf\n",
      "5\n",
      "https://api.census.gov/data/2020/acs/acs5?get=GEO_ID,B19001_005E,B19001_005M&for=tract:*&in=state:06%20county:017&key=9a73d08c296b844e58f1c70bd19c831826da5cbf\n",
      "https://api.census.gov/data/2020/acs/acs5?get=GEO_ID,B19001_005E,B19001_005M&for=tract:*&in=state:06%20county:061&key=9a73d08c296b844e58f1c70bd19c831826da5cbf\n",
      "https://api.census.gov/data/2020/acs/acs5?get=GEO_ID,B19001_005E,B19001_005M&for=tract:*&in=state:32%20county:005&key=9a73d08c296b844e58f1c70bd19c831826da5cbf\n",
      "https://api.census.gov/data/2020/acs/acs5?get=GEO_ID,B19001_005E,B19001_005M&for=tract:*&in=state:32%20county:031&key=9a73d08c296b844e58f1c70bd19c831826da5cbf\n",
      "https://api.census.gov/data/2020/acs/acs5?get=GEO_ID,B19001_005E,B19001_005M&for=tract:*&in=state:32%20county:510&key=9a73d08c296b844e58f1c70bd19c831826da5cbf\n",
      "6\n",
      "https://api.census.gov/data/2020/acs/acs5?get=GEO_ID,B19001_006E,B19001_006M&for=tract:*&in=state:06%20county:017&key=9a73d08c296b844e58f1c70bd19c831826da5cbf\n",
      "https://api.census.gov/data/2020/acs/acs5?get=GEO_ID,B19001_006E,B19001_006M&for=tract:*&in=state:06%20county:061&key=9a73d08c296b844e58f1c70bd19c831826da5cbf\n",
      "https://api.census.gov/data/2020/acs/acs5?get=GEO_ID,B19001_006E,B19001_006M&for=tract:*&in=state:32%20county:005&key=9a73d08c296b844e58f1c70bd19c831826da5cbf\n",
      "https://api.census.gov/data/2020/acs/acs5?get=GEO_ID,B19001_006E,B19001_006M&for=tract:*&in=state:32%20county:031&key=9a73d08c296b844e58f1c70bd19c831826da5cbf\n",
      "https://api.census.gov/data/2020/acs/acs5?get=GEO_ID,B19001_006E,B19001_006M&for=tract:*&in=state:32%20county:510&key=9a73d08c296b844e58f1c70bd19c831826da5cbf\n",
      "7\n",
      "https://api.census.gov/data/2020/acs/acs5?get=GEO_ID,B19001_007E,B19001_007M&for=tract:*&in=state:06%20county:017&key=9a73d08c296b844e58f1c70bd19c831826da5cbf\n",
      "https://api.census.gov/data/2020/acs/acs5?get=GEO_ID,B19001_007E,B19001_007M&for=tract:*&in=state:06%20county:061&key=9a73d08c296b844e58f1c70bd19c831826da5cbf\n",
      "https://api.census.gov/data/2020/acs/acs5?get=GEO_ID,B19001_007E,B19001_007M&for=tract:*&in=state:32%20county:005&key=9a73d08c296b844e58f1c70bd19c831826da5cbf\n",
      "https://api.census.gov/data/2020/acs/acs5?get=GEO_ID,B19001_007E,B19001_007M&for=tract:*&in=state:32%20county:031&key=9a73d08c296b844e58f1c70bd19c831826da5cbf\n",
      "https://api.census.gov/data/2020/acs/acs5?get=GEO_ID,B19001_007E,B19001_007M&for=tract:*&in=state:32%20county:510&key=9a73d08c296b844e58f1c70bd19c831826da5cbf\n",
      "8\n",
      "https://api.census.gov/data/2020/acs/acs5?get=GEO_ID,B19001_008E,B19001_008M&for=tract:*&in=state:06%20county:017&key=9a73d08c296b844e58f1c70bd19c831826da5cbf\n",
      "https://api.census.gov/data/2020/acs/acs5?get=GEO_ID,B19001_008E,B19001_008M&for=tract:*&in=state:06%20county:061&key=9a73d08c296b844e58f1c70bd19c831826da5cbf\n",
      "https://api.census.gov/data/2020/acs/acs5?get=GEO_ID,B19001_008E,B19001_008M&for=tract:*&in=state:32%20county:005&key=9a73d08c296b844e58f1c70bd19c831826da5cbf\n",
      "https://api.census.gov/data/2020/acs/acs5?get=GEO_ID,B19001_008E,B19001_008M&for=tract:*&in=state:32%20county:031&key=9a73d08c296b844e58f1c70bd19c831826da5cbf\n",
      "https://api.census.gov/data/2020/acs/acs5?get=GEO_ID,B19001_008E,B19001_008M&for=tract:*&in=state:32%20county:510&key=9a73d08c296b844e58f1c70bd19c831826da5cbf\n",
      "9\n",
      "https://api.census.gov/data/2020/acs/acs5?get=GEO_ID,B19001_009E,B19001_009M&for=tract:*&in=state:06%20county:017&key=9a73d08c296b844e58f1c70bd19c831826da5cbf\n",
      "https://api.census.gov/data/2020/acs/acs5?get=GEO_ID,B19001_009E,B19001_009M&for=tract:*&in=state:06%20county:061&key=9a73d08c296b844e58f1c70bd19c831826da5cbf\n",
      "https://api.census.gov/data/2020/acs/acs5?get=GEO_ID,B19001_009E,B19001_009M&for=tract:*&in=state:32%20county:005&key=9a73d08c296b844e58f1c70bd19c831826da5cbf\n",
      "https://api.census.gov/data/2020/acs/acs5?get=GEO_ID,B19001_009E,B19001_009M&for=tract:*&in=state:32%20county:031&key=9a73d08c296b844e58f1c70bd19c831826da5cbf\n",
      "https://api.census.gov/data/2020/acs/acs5?get=GEO_ID,B19001_009E,B19001_009M&for=tract:*&in=state:32%20county:510&key=9a73d08c296b844e58f1c70bd19c831826da5cbf\n",
      "10\n",
      "https://api.census.gov/data/2020/acs/acs5?get=GEO_ID,B19001_010E,B19001_010M&for=tract:*&in=state:06%20county:017&key=9a73d08c296b844e58f1c70bd19c831826da5cbf\n",
      "https://api.census.gov/data/2020/acs/acs5?get=GEO_ID,B19001_010E,B19001_010M&for=tract:*&in=state:06%20county:061&key=9a73d08c296b844e58f1c70bd19c831826da5cbf\n",
      "https://api.census.gov/data/2020/acs/acs5?get=GEO_ID,B19001_010E,B19001_010M&for=tract:*&in=state:32%20county:005&key=9a73d08c296b844e58f1c70bd19c831826da5cbf\n",
      "https://api.census.gov/data/2020/acs/acs5?get=GEO_ID,B19001_010E,B19001_010M&for=tract:*&in=state:32%20county:031&key=9a73d08c296b844e58f1c70bd19c831826da5cbf\n",
      "https://api.census.gov/data/2020/acs/acs5?get=GEO_ID,B19001_010E,B19001_010M&for=tract:*&in=state:32%20county:510&key=9a73d08c296b844e58f1c70bd19c831826da5cbf\n",
      "11\n",
      "https://api.census.gov/data/2020/acs/acs5?get=GEO_ID,B19001_011E,B19001_011M&for=tract:*&in=state:06%20county:017&key=9a73d08c296b844e58f1c70bd19c831826da5cbf\n",
      "https://api.census.gov/data/2020/acs/acs5?get=GEO_ID,B19001_011E,B19001_011M&for=tract:*&in=state:06%20county:061&key=9a73d08c296b844e58f1c70bd19c831826da5cbf\n",
      "https://api.census.gov/data/2020/acs/acs5?get=GEO_ID,B19001_011E,B19001_011M&for=tract:*&in=state:32%20county:005&key=9a73d08c296b844e58f1c70bd19c831826da5cbf\n",
      "https://api.census.gov/data/2020/acs/acs5?get=GEO_ID,B19001_011E,B19001_011M&for=tract:*&in=state:32%20county:031&key=9a73d08c296b844e58f1c70bd19c831826da5cbf\n",
      "https://api.census.gov/data/2020/acs/acs5?get=GEO_ID,B19001_011E,B19001_011M&for=tract:*&in=state:32%20county:510&key=9a73d08c296b844e58f1c70bd19c831826da5cbf\n",
      "12\n",
      "https://api.census.gov/data/2020/acs/acs5?get=GEO_ID,B19001_012E,B19001_012M&for=tract:*&in=state:06%20county:017&key=9a73d08c296b844e58f1c70bd19c831826da5cbf\n",
      "https://api.census.gov/data/2020/acs/acs5?get=GEO_ID,B19001_012E,B19001_012M&for=tract:*&in=state:06%20county:061&key=9a73d08c296b844e58f1c70bd19c831826da5cbf\n",
      "https://api.census.gov/data/2020/acs/acs5?get=GEO_ID,B19001_012E,B19001_012M&for=tract:*&in=state:32%20county:005&key=9a73d08c296b844e58f1c70bd19c831826da5cbf\n",
      "https://api.census.gov/data/2020/acs/acs5?get=GEO_ID,B19001_012E,B19001_012M&for=tract:*&in=state:32%20county:031&key=9a73d08c296b844e58f1c70bd19c831826da5cbf\n",
      "https://api.census.gov/data/2020/acs/acs5?get=GEO_ID,B19001_012E,B19001_012M&for=tract:*&in=state:32%20county:510&key=9a73d08c296b844e58f1c70bd19c831826da5cbf\n",
      "13\n",
      "https://api.census.gov/data/2020/acs/acs5?get=GEO_ID,B19001_013E,B19001_013M&for=tract:*&in=state:06%20county:017&key=9a73d08c296b844e58f1c70bd19c831826da5cbf\n",
      "https://api.census.gov/data/2020/acs/acs5?get=GEO_ID,B19001_013E,B19001_013M&for=tract:*&in=state:06%20county:061&key=9a73d08c296b844e58f1c70bd19c831826da5cbf\n",
      "https://api.census.gov/data/2020/acs/acs5?get=GEO_ID,B19001_013E,B19001_013M&for=tract:*&in=state:32%20county:005&key=9a73d08c296b844e58f1c70bd19c831826da5cbf\n",
      "https://api.census.gov/data/2020/acs/acs5?get=GEO_ID,B19001_013E,B19001_013M&for=tract:*&in=state:32%20county:031&key=9a73d08c296b844e58f1c70bd19c831826da5cbf\n",
      "https://api.census.gov/data/2020/acs/acs5?get=GEO_ID,B19001_013E,B19001_013M&for=tract:*&in=state:32%20county:510&key=9a73d08c296b844e58f1c70bd19c831826da5cbf\n",
      "14\n",
      "https://api.census.gov/data/2020/acs/acs5?get=GEO_ID,B19001_014E,B19001_014M&for=tract:*&in=state:06%20county:017&key=9a73d08c296b844e58f1c70bd19c831826da5cbf\n",
      "https://api.census.gov/data/2020/acs/acs5?get=GEO_ID,B19001_014E,B19001_014M&for=tract:*&in=state:06%20county:061&key=9a73d08c296b844e58f1c70bd19c831826da5cbf\n",
      "https://api.census.gov/data/2020/acs/acs5?get=GEO_ID,B19001_014E,B19001_014M&for=tract:*&in=state:32%20county:005&key=9a73d08c296b844e58f1c70bd19c831826da5cbf\n",
      "https://api.census.gov/data/2020/acs/acs5?get=GEO_ID,B19001_014E,B19001_014M&for=tract:*&in=state:32%20county:031&key=9a73d08c296b844e58f1c70bd19c831826da5cbf\n",
      "https://api.census.gov/data/2020/acs/acs5?get=GEO_ID,B19001_014E,B19001_014M&for=tract:*&in=state:32%20county:510&key=9a73d08c296b844e58f1c70bd19c831826da5cbf\n",
      "15\n",
      "https://api.census.gov/data/2020/acs/acs5?get=GEO_ID,B19001_015E,B19001_015M&for=tract:*&in=state:06%20county:017&key=9a73d08c296b844e58f1c70bd19c831826da5cbf\n",
      "https://api.census.gov/data/2020/acs/acs5?get=GEO_ID,B19001_015E,B19001_015M&for=tract:*&in=state:06%20county:061&key=9a73d08c296b844e58f1c70bd19c831826da5cbf\n",
      "https://api.census.gov/data/2020/acs/acs5?get=GEO_ID,B19001_015E,B19001_015M&for=tract:*&in=state:32%20county:005&key=9a73d08c296b844e58f1c70bd19c831826da5cbf\n",
      "https://api.census.gov/data/2020/acs/acs5?get=GEO_ID,B19001_015E,B19001_015M&for=tract:*&in=state:32%20county:031&key=9a73d08c296b844e58f1c70bd19c831826da5cbf\n",
      "https://api.census.gov/data/2020/acs/acs5?get=GEO_ID,B19001_015E,B19001_015M&for=tract:*&in=state:32%20county:510&key=9a73d08c296b844e58f1c70bd19c831826da5cbf\n",
      "16\n",
      "https://api.census.gov/data/2020/acs/acs5?get=GEO_ID,B19001_016E,B19001_016M&for=tract:*&in=state:06%20county:017&key=9a73d08c296b844e58f1c70bd19c831826da5cbf\n",
      "https://api.census.gov/data/2020/acs/acs5?get=GEO_ID,B19001_016E,B19001_016M&for=tract:*&in=state:06%20county:061&key=9a73d08c296b844e58f1c70bd19c831826da5cbf\n",
      "https://api.census.gov/data/2020/acs/acs5?get=GEO_ID,B19001_016E,B19001_016M&for=tract:*&in=state:32%20county:005&key=9a73d08c296b844e58f1c70bd19c831826da5cbf\n",
      "https://api.census.gov/data/2020/acs/acs5?get=GEO_ID,B19001_016E,B19001_016M&for=tract:*&in=state:32%20county:031&key=9a73d08c296b844e58f1c70bd19c831826da5cbf\n",
      "https://api.census.gov/data/2020/acs/acs5?get=GEO_ID,B19001_016E,B19001_016M&for=tract:*&in=state:32%20county:510&key=9a73d08c296b844e58f1c70bd19c831826da5cbf\n",
      "17\n",
      "https://api.census.gov/data/2020/acs/acs5?get=GEO_ID,B19001_017E,B19001_017M&for=tract:*&in=state:06%20county:017&key=9a73d08c296b844e58f1c70bd19c831826da5cbf\n",
      "https://api.census.gov/data/2020/acs/acs5?get=GEO_ID,B19001_017E,B19001_017M&for=tract:*&in=state:06%20county:061&key=9a73d08c296b844e58f1c70bd19c831826da5cbf\n",
      "https://api.census.gov/data/2020/acs/acs5?get=GEO_ID,B19001_017E,B19001_017M&for=tract:*&in=state:32%20county:005&key=9a73d08c296b844e58f1c70bd19c831826da5cbf\n",
      "https://api.census.gov/data/2020/acs/acs5?get=GEO_ID,B19001_017E,B19001_017M&for=tract:*&in=state:32%20county:031&key=9a73d08c296b844e58f1c70bd19c831826da5cbf\n",
      "https://api.census.gov/data/2020/acs/acs5?get=GEO_ID,B19001_017E,B19001_017M&for=tract:*&in=state:32%20county:510&key=9a73d08c296b844e58f1c70bd19c831826da5cbf\n",
      "18\n",
      "https://api.census.gov/data/2020/acs/acs5?get=GEO_ID,B19001_002E,B19001_002M&for=tract:*&in=state:06%20county:017&key=9a73d08c296b844e58f1c70bd19c831826da5cbf\n",
      "https://api.census.gov/data/2020/acs/acs5?get=GEO_ID,B19001_002E,B19001_002M&for=tract:*&in=state:06%20county:061&key=9a73d08c296b844e58f1c70bd19c831826da5cbf\n",
      "https://api.census.gov/data/2020/acs/acs5?get=GEO_ID,B19001_002E,B19001_002M&for=tract:*&in=state:32%20county:005&key=9a73d08c296b844e58f1c70bd19c831826da5cbf\n",
      "https://api.census.gov/data/2020/acs/acs5?get=GEO_ID,B19001_002E,B19001_002M&for=tract:*&in=state:32%20county:031&key=9a73d08c296b844e58f1c70bd19c831826da5cbf\n",
      "https://api.census.gov/data/2020/acs/acs5?get=GEO_ID,B19001_002E,B19001_002M&for=tract:*&in=state:32%20county:510&key=9a73d08c296b844e58f1c70bd19c831826da5cbf\n",
      "19\n",
      "https://api.census.gov/data/2020/acs/acs5?get=GEO_ID,B06011_001E,B06011_001M&for=tract:*&in=state:06%20county:017&key=9a73d08c296b844e58f1c70bd19c831826da5cbf\n",
      "https://api.census.gov/data/2020/acs/acs5?get=GEO_ID,B06011_001E,B06011_001M&for=tract:*&in=state:06%20county:061&key=9a73d08c296b844e58f1c70bd19c831826da5cbf\n",
      "https://api.census.gov/data/2020/acs/acs5?get=GEO_ID,B06011_001E,B06011_001M&for=tract:*&in=state:32%20county:005&key=9a73d08c296b844e58f1c70bd19c831826da5cbf\n",
      "https://api.census.gov/data/2020/acs/acs5?get=GEO_ID,B06011_001E,B06011_001M&for=tract:*&in=state:32%20county:031&key=9a73d08c296b844e58f1c70bd19c831826da5cbf\n",
      "https://api.census.gov/data/2020/acs/acs5?get=GEO_ID,B06011_001E,B06011_001M&for=tract:*&in=state:32%20county:510&key=9a73d08c296b844e58f1c70bd19c831826da5cbf\n",
      "20\n",
      "https://api.census.gov/data/2020/acs/acs5?get=GEO_ID,B19001_001E,B19001_001M&for=tract:*&in=state:06%20county:017&key=9a73d08c296b844e58f1c70bd19c831826da5cbf\n",
      "https://api.census.gov/data/2020/acs/acs5?get=GEO_ID,B19001_001E,B19001_001M&for=tract:*&in=state:06%20county:061&key=9a73d08c296b844e58f1c70bd19c831826da5cbf\n",
      "https://api.census.gov/data/2020/acs/acs5?get=GEO_ID,B19001_001E,B19001_001M&for=tract:*&in=state:32%20county:005&key=9a73d08c296b844e58f1c70bd19c831826da5cbf\n",
      "https://api.census.gov/data/2020/acs/acs5?get=GEO_ID,B19001_001E,B19001_001M&for=tract:*&in=state:32%20county:031&key=9a73d08c296b844e58f1c70bd19c831826da5cbf\n",
      "https://api.census.gov/data/2020/acs/acs5?get=GEO_ID,B19001_001E,B19001_001M&for=tract:*&in=state:32%20county:510&key=9a73d08c296b844e58f1c70bd19c831826da5cbf\n",
      "21\n",
      "https://api.census.gov/data/2020/acs/acs5?get=GEO_ID,B25075_001E,B25075_001M&for=tract:*&in=state:06%20county:017&key=9a73d08c296b844e58f1c70bd19c831826da5cbf\n",
      "https://api.census.gov/data/2020/acs/acs5?get=GEO_ID,B25075_001E,B25075_001M&for=tract:*&in=state:06%20county:061&key=9a73d08c296b844e58f1c70bd19c831826da5cbf\n",
      "https://api.census.gov/data/2020/acs/acs5?get=GEO_ID,B25075_001E,B25075_001M&for=tract:*&in=state:32%20county:005&key=9a73d08c296b844e58f1c70bd19c831826da5cbf\n",
      "https://api.census.gov/data/2020/acs/acs5?get=GEO_ID,B25075_001E,B25075_001M&for=tract:*&in=state:32%20county:031&key=9a73d08c296b844e58f1c70bd19c831826da5cbf\n",
      "https://api.census.gov/data/2020/acs/acs5?get=GEO_ID,B25075_001E,B25075_001M&for=tract:*&in=state:32%20county:510&key=9a73d08c296b844e58f1c70bd19c831826da5cbf\n",
      "22\n",
      "https://api.census.gov/data/2020/acs/acs5?get=GEO_ID,B25063_001E,B25063_001M&for=tract:*&in=state:06%20county:017&key=9a73d08c296b844e58f1c70bd19c831826da5cbf\n",
      "https://api.census.gov/data/2020/acs/acs5?get=GEO_ID,B25063_001E,B25063_001M&for=tract:*&in=state:06%20county:061&key=9a73d08c296b844e58f1c70bd19c831826da5cbf\n",
      "https://api.census.gov/data/2020/acs/acs5?get=GEO_ID,B25063_001E,B25063_001M&for=tract:*&in=state:32%20county:005&key=9a73d08c296b844e58f1c70bd19c831826da5cbf\n",
      "https://api.census.gov/data/2020/acs/acs5?get=GEO_ID,B25063_001E,B25063_001M&for=tract:*&in=state:32%20county:031&key=9a73d08c296b844e58f1c70bd19c831826da5cbf\n",
      "https://api.census.gov/data/2020/acs/acs5?get=GEO_ID,B25063_001E,B25063_001M&for=tract:*&in=state:32%20county:510&key=9a73d08c296b844e58f1c70bd19c831826da5cbf\n",
      "23\n",
      "https://api.census.gov/data/2020/acs/acs5?get=GEO_ID,B25070_002E,B25070_002M&for=tract:*&in=state:06%20county:017&key=9a73d08c296b844e58f1c70bd19c831826da5cbf\n",
      "https://api.census.gov/data/2020/acs/acs5?get=GEO_ID,B25070_002E,B25070_002M&for=tract:*&in=state:06%20county:061&key=9a73d08c296b844e58f1c70bd19c831826da5cbf\n",
      "https://api.census.gov/data/2020/acs/acs5?get=GEO_ID,B25070_002E,B25070_002M&for=tract:*&in=state:32%20county:005&key=9a73d08c296b844e58f1c70bd19c831826da5cbf\n",
      "https://api.census.gov/data/2020/acs/acs5?get=GEO_ID,B25070_002E,B25070_002M&for=tract:*&in=state:32%20county:031&key=9a73d08c296b844e58f1c70bd19c831826da5cbf\n",
      "https://api.census.gov/data/2020/acs/acs5?get=GEO_ID,B25070_002E,B25070_002M&for=tract:*&in=state:32%20county:510&key=9a73d08c296b844e58f1c70bd19c831826da5cbf\n",
      "24\n",
      "https://api.census.gov/data/2020/acs/acs5?get=GEO_ID,B25070_003E,B25070_003M&for=tract:*&in=state:06%20county:017&key=9a73d08c296b844e58f1c70bd19c831826da5cbf\n",
      "https://api.census.gov/data/2020/acs/acs5?get=GEO_ID,B25070_003E,B25070_003M&for=tract:*&in=state:06%20county:061&key=9a73d08c296b844e58f1c70bd19c831826da5cbf\n",
      "https://api.census.gov/data/2020/acs/acs5?get=GEO_ID,B25070_003E,B25070_003M&for=tract:*&in=state:32%20county:005&key=9a73d08c296b844e58f1c70bd19c831826da5cbf\n",
      "https://api.census.gov/data/2020/acs/acs5?get=GEO_ID,B25070_003E,B25070_003M&for=tract:*&in=state:32%20county:031&key=9a73d08c296b844e58f1c70bd19c831826da5cbf\n",
      "https://api.census.gov/data/2020/acs/acs5?get=GEO_ID,B25070_003E,B25070_003M&for=tract:*&in=state:32%20county:510&key=9a73d08c296b844e58f1c70bd19c831826da5cbf\n",
      "25\n",
      "https://api.census.gov/data/2020/acs/acs5?get=GEO_ID,B25070_004E,B25070_004M&for=tract:*&in=state:06%20county:017&key=9a73d08c296b844e58f1c70bd19c831826da5cbf\n",
      "https://api.census.gov/data/2020/acs/acs5?get=GEO_ID,B25070_004E,B25070_004M&for=tract:*&in=state:06%20county:061&key=9a73d08c296b844e58f1c70bd19c831826da5cbf\n",
      "https://api.census.gov/data/2020/acs/acs5?get=GEO_ID,B25070_004E,B25070_004M&for=tract:*&in=state:32%20county:005&key=9a73d08c296b844e58f1c70bd19c831826da5cbf\n",
      "https://api.census.gov/data/2020/acs/acs5?get=GEO_ID,B25070_004E,B25070_004M&for=tract:*&in=state:32%20county:031&key=9a73d08c296b844e58f1c70bd19c831826da5cbf\n",
      "https://api.census.gov/data/2020/acs/acs5?get=GEO_ID,B25070_004E,B25070_004M&for=tract:*&in=state:32%20county:510&key=9a73d08c296b844e58f1c70bd19c831826da5cbf\n",
      "26\n",
      "https://api.census.gov/data/2020/acs/acs5?get=GEO_ID,B25070_005E,B25070_005M&for=tract:*&in=state:06%20county:017&key=9a73d08c296b844e58f1c70bd19c831826da5cbf\n",
      "https://api.census.gov/data/2020/acs/acs5?get=GEO_ID,B25070_005E,B25070_005M&for=tract:*&in=state:06%20county:061&key=9a73d08c296b844e58f1c70bd19c831826da5cbf\n",
      "https://api.census.gov/data/2020/acs/acs5?get=GEO_ID,B25070_005E,B25070_005M&for=tract:*&in=state:32%20county:005&key=9a73d08c296b844e58f1c70bd19c831826da5cbf\n",
      "https://api.census.gov/data/2020/acs/acs5?get=GEO_ID,B25070_005E,B25070_005M&for=tract:*&in=state:32%20county:031&key=9a73d08c296b844e58f1c70bd19c831826da5cbf\n",
      "https://api.census.gov/data/2020/acs/acs5?get=GEO_ID,B25070_005E,B25070_005M&for=tract:*&in=state:32%20county:510&key=9a73d08c296b844e58f1c70bd19c831826da5cbf\n",
      "27\n",
      "https://api.census.gov/data/2020/acs/acs5?get=GEO_ID,B25070_006E,B25070_006M&for=tract:*&in=state:06%20county:017&key=9a73d08c296b844e58f1c70bd19c831826da5cbf\n",
      "https://api.census.gov/data/2020/acs/acs5?get=GEO_ID,B25070_006E,B25070_006M&for=tract:*&in=state:06%20county:061&key=9a73d08c296b844e58f1c70bd19c831826da5cbf\n",
      "https://api.census.gov/data/2020/acs/acs5?get=GEO_ID,B25070_006E,B25070_006M&for=tract:*&in=state:32%20county:005&key=9a73d08c296b844e58f1c70bd19c831826da5cbf\n",
      "https://api.census.gov/data/2020/acs/acs5?get=GEO_ID,B25070_006E,B25070_006M&for=tract:*&in=state:32%20county:031&key=9a73d08c296b844e58f1c70bd19c831826da5cbf\n",
      "https://api.census.gov/data/2020/acs/acs5?get=GEO_ID,B25070_006E,B25070_006M&for=tract:*&in=state:32%20county:510&key=9a73d08c296b844e58f1c70bd19c831826da5cbf\n",
      "28\n",
      "https://api.census.gov/data/2020/acs/acs5?get=GEO_ID,B25070_007E,B25070_007M&for=tract:*&in=state:06%20county:017&key=9a73d08c296b844e58f1c70bd19c831826da5cbf\n",
      "https://api.census.gov/data/2020/acs/acs5?get=GEO_ID,B25070_007E,B25070_007M&for=tract:*&in=state:06%20county:061&key=9a73d08c296b844e58f1c70bd19c831826da5cbf\n",
      "https://api.census.gov/data/2020/acs/acs5?get=GEO_ID,B25070_007E,B25070_007M&for=tract:*&in=state:32%20county:005&key=9a73d08c296b844e58f1c70bd19c831826da5cbf\n",
      "https://api.census.gov/data/2020/acs/acs5?get=GEO_ID,B25070_007E,B25070_007M&for=tract:*&in=state:32%20county:031&key=9a73d08c296b844e58f1c70bd19c831826da5cbf\n",
      "https://api.census.gov/data/2020/acs/acs5?get=GEO_ID,B25070_007E,B25070_007M&for=tract:*&in=state:32%20county:510&key=9a73d08c296b844e58f1c70bd19c831826da5cbf\n",
      "29\n",
      "https://api.census.gov/data/2020/acs/acs5?get=GEO_ID,B25070_008E,B25070_008M&for=tract:*&in=state:06%20county:017&key=9a73d08c296b844e58f1c70bd19c831826da5cbf\n",
      "https://api.census.gov/data/2020/acs/acs5?get=GEO_ID,B25070_008E,B25070_008M&for=tract:*&in=state:06%20county:061&key=9a73d08c296b844e58f1c70bd19c831826da5cbf\n",
      "https://api.census.gov/data/2020/acs/acs5?get=GEO_ID,B25070_008E,B25070_008M&for=tract:*&in=state:32%20county:005&key=9a73d08c296b844e58f1c70bd19c831826da5cbf\n",
      "https://api.census.gov/data/2020/acs/acs5?get=GEO_ID,B25070_008E,B25070_008M&for=tract:*&in=state:32%20county:031&key=9a73d08c296b844e58f1c70bd19c831826da5cbf\n",
      "https://api.census.gov/data/2020/acs/acs5?get=GEO_ID,B25070_008E,B25070_008M&for=tract:*&in=state:32%20county:510&key=9a73d08c296b844e58f1c70bd19c831826da5cbf\n",
      "30\n",
      "https://api.census.gov/data/2020/acs/acs5?get=GEO_ID,B25070_009E,B25070_009M&for=tract:*&in=state:06%20county:017&key=9a73d08c296b844e58f1c70bd19c831826da5cbf\n",
      "https://api.census.gov/data/2020/acs/acs5?get=GEO_ID,B25070_009E,B25070_009M&for=tract:*&in=state:06%20county:061&key=9a73d08c296b844e58f1c70bd19c831826da5cbf\n",
      "https://api.census.gov/data/2020/acs/acs5?get=GEO_ID,B25070_009E,B25070_009M&for=tract:*&in=state:32%20county:005&key=9a73d08c296b844e58f1c70bd19c831826da5cbf\n",
      "https://api.census.gov/data/2020/acs/acs5?get=GEO_ID,B25070_009E,B25070_009M&for=tract:*&in=state:32%20county:031&key=9a73d08c296b844e58f1c70bd19c831826da5cbf\n",
      "https://api.census.gov/data/2020/acs/acs5?get=GEO_ID,B25070_009E,B25070_009M&for=tract:*&in=state:32%20county:510&key=9a73d08c296b844e58f1c70bd19c831826da5cbf\n",
      "31\n",
      "https://api.census.gov/data/2020/acs/acs5?get=GEO_ID,B25070_010E,B25070_010M&for=tract:*&in=state:06%20county:017&key=9a73d08c296b844e58f1c70bd19c831826da5cbf\n",
      "https://api.census.gov/data/2020/acs/acs5?get=GEO_ID,B25070_010E,B25070_010M&for=tract:*&in=state:06%20county:061&key=9a73d08c296b844e58f1c70bd19c831826da5cbf\n",
      "https://api.census.gov/data/2020/acs/acs5?get=GEO_ID,B25070_010E,B25070_010M&for=tract:*&in=state:32%20county:005&key=9a73d08c296b844e58f1c70bd19c831826da5cbf\n",
      "https://api.census.gov/data/2020/acs/acs5?get=GEO_ID,B25070_010E,B25070_010M&for=tract:*&in=state:32%20county:031&key=9a73d08c296b844e58f1c70bd19c831826da5cbf\n",
      "https://api.census.gov/data/2020/acs/acs5?get=GEO_ID,B25070_010E,B25070_010M&for=tract:*&in=state:32%20county:510&key=9a73d08c296b844e58f1c70bd19c831826da5cbf\n",
      "32\n",
      "https://api.census.gov/data/2020/acs/acs5?get=GEO_ID,B25070_011E,B25070_011M&for=tract:*&in=state:06%20county:017&key=9a73d08c296b844e58f1c70bd19c831826da5cbf\n",
      "https://api.census.gov/data/2020/acs/acs5?get=GEO_ID,B25070_011E,B25070_011M&for=tract:*&in=state:06%20county:061&key=9a73d08c296b844e58f1c70bd19c831826da5cbf\n",
      "https://api.census.gov/data/2020/acs/acs5?get=GEO_ID,B25070_011E,B25070_011M&for=tract:*&in=state:32%20county:005&key=9a73d08c296b844e58f1c70bd19c831826da5cbf\n",
      "https://api.census.gov/data/2020/acs/acs5?get=GEO_ID,B25070_011E,B25070_011M&for=tract:*&in=state:32%20county:031&key=9a73d08c296b844e58f1c70bd19c831826da5cbf\n",
      "https://api.census.gov/data/2020/acs/acs5?get=GEO_ID,B25070_011E,B25070_011M&for=tract:*&in=state:32%20county:510&key=9a73d08c296b844e58f1c70bd19c831826da5cbf\n",
      "33\n",
      "https://api.census.gov/data/2020/acs/acs5?get=GEO_ID,B08008_001E,B08008_001M&for=tract:*&in=state:06%20county:017&key=9a73d08c296b844e58f1c70bd19c831826da5cbf\n",
      "https://api.census.gov/data/2020/acs/acs5?get=GEO_ID,B08008_001E,B08008_001M&for=tract:*&in=state:06%20county:061&key=9a73d08c296b844e58f1c70bd19c831826da5cbf\n",
      "https://api.census.gov/data/2020/acs/acs5?get=GEO_ID,B08008_001E,B08008_001M&for=tract:*&in=state:32%20county:005&key=9a73d08c296b844e58f1c70bd19c831826da5cbf\n",
      "https://api.census.gov/data/2020/acs/acs5?get=GEO_ID,B08008_001E,B08008_001M&for=tract:*&in=state:32%20county:031&key=9a73d08c296b844e58f1c70bd19c831826da5cbf\n",
      "https://api.census.gov/data/2020/acs/acs5?get=GEO_ID,B08008_001E,B08008_001M&for=tract:*&in=state:32%20county:510&key=9a73d08c296b844e58f1c70bd19c831826da5cbf\n",
      "34\n",
      "https://api.census.gov/data/2020/acs/acs5?get=GEO_ID,B08008_002E,B08008_002M&for=tract:*&in=state:06%20county:017&key=9a73d08c296b844e58f1c70bd19c831826da5cbf\n",
      "https://api.census.gov/data/2020/acs/acs5?get=GEO_ID,B08008_002E,B08008_002M&for=tract:*&in=state:06%20county:061&key=9a73d08c296b844e58f1c70bd19c831826da5cbf\n",
      "https://api.census.gov/data/2020/acs/acs5?get=GEO_ID,B08008_002E,B08008_002M&for=tract:*&in=state:32%20county:005&key=9a73d08c296b844e58f1c70bd19c831826da5cbf\n",
      "https://api.census.gov/data/2020/acs/acs5?get=GEO_ID,B08008_002E,B08008_002M&for=tract:*&in=state:32%20county:031&key=9a73d08c296b844e58f1c70bd19c831826da5cbf\n",
      "https://api.census.gov/data/2020/acs/acs5?get=GEO_ID,B08008_002E,B08008_002M&for=tract:*&in=state:32%20county:510&key=9a73d08c296b844e58f1c70bd19c831826da5cbf\n",
      "35\n",
      "https://api.census.gov/data/2020/acs/acs5?get=GEO_ID,B08008_003E,B08008_003M&for=tract:*&in=state:06%20county:017&key=9a73d08c296b844e58f1c70bd19c831826da5cbf\n",
      "https://api.census.gov/data/2020/acs/acs5?get=GEO_ID,B08008_003E,B08008_003M&for=tract:*&in=state:06%20county:061&key=9a73d08c296b844e58f1c70bd19c831826da5cbf\n",
      "https://api.census.gov/data/2020/acs/acs5?get=GEO_ID,B08008_003E,B08008_003M&for=tract:*&in=state:32%20county:005&key=9a73d08c296b844e58f1c70bd19c831826da5cbf\n",
      "https://api.census.gov/data/2020/acs/acs5?get=GEO_ID,B08008_003E,B08008_003M&for=tract:*&in=state:32%20county:031&key=9a73d08c296b844e58f1c70bd19c831826da5cbf\n",
      "https://api.census.gov/data/2020/acs/acs5?get=GEO_ID,B08008_003E,B08008_003M&for=tract:*&in=state:32%20county:510&key=9a73d08c296b844e58f1c70bd19c831826da5cbf\n",
      "36\n",
      "https://api.census.gov/data/2020/acs/acs5?get=GEO_ID,B08008_004E,B08008_004M&for=tract:*&in=state:06%20county:017&key=9a73d08c296b844e58f1c70bd19c831826da5cbf\n",
      "https://api.census.gov/data/2020/acs/acs5?get=GEO_ID,B08008_004E,B08008_004M&for=tract:*&in=state:06%20county:061&key=9a73d08c296b844e58f1c70bd19c831826da5cbf\n",
      "https://api.census.gov/data/2020/acs/acs5?get=GEO_ID,B08008_004E,B08008_004M&for=tract:*&in=state:32%20county:005&key=9a73d08c296b844e58f1c70bd19c831826da5cbf\n",
      "https://api.census.gov/data/2020/acs/acs5?get=GEO_ID,B08008_004E,B08008_004M&for=tract:*&in=state:32%20county:031&key=9a73d08c296b844e58f1c70bd19c831826da5cbf\n",
      "https://api.census.gov/data/2020/acs/acs5?get=GEO_ID,B08008_004E,B08008_004M&for=tract:*&in=state:32%20county:510&key=9a73d08c296b844e58f1c70bd19c831826da5cbf\n",
      "37\n",
      "https://api.census.gov/data/2020/acs/acs5?get=GEO_ID,B08008_005E,B08008_005M&for=tract:*&in=state:06%20county:017&key=9a73d08c296b844e58f1c70bd19c831826da5cbf\n",
      "https://api.census.gov/data/2020/acs/acs5?get=GEO_ID,B08008_005E,B08008_005M&for=tract:*&in=state:06%20county:061&key=9a73d08c296b844e58f1c70bd19c831826da5cbf\n",
      "https://api.census.gov/data/2020/acs/acs5?get=GEO_ID,B08008_005E,B08008_005M&for=tract:*&in=state:32%20county:005&key=9a73d08c296b844e58f1c70bd19c831826da5cbf\n",
      "https://api.census.gov/data/2020/acs/acs5?get=GEO_ID,B08008_005E,B08008_005M&for=tract:*&in=state:32%20county:031&key=9a73d08c296b844e58f1c70bd19c831826da5cbf\n",
      "https://api.census.gov/data/2020/acs/acs5?get=GEO_ID,B08008_005E,B08008_005M&for=tract:*&in=state:32%20county:510&key=9a73d08c296b844e58f1c70bd19c831826da5cbf\n",
      "38\n",
      "https://api.census.gov/data/2021/acs/acs5?get=GEO_ID,B08201_001E,B08201_001M&for=tract:*&in=state:06%20county:017&key=9a73d08c296b844e58f1c70bd19c831826da5cbf\n",
      "https://api.census.gov/data/2021/acs/acs5?get=GEO_ID,B08201_001E,B08201_001M&for=tract:*&in=state:06%20county:061&key=9a73d08c296b844e58f1c70bd19c831826da5cbf\n",
      "https://api.census.gov/data/2021/acs/acs5?get=GEO_ID,B08201_001E,B08201_001M&for=tract:*&in=state:32%20county:005&key=9a73d08c296b844e58f1c70bd19c831826da5cbf\n",
      "https://api.census.gov/data/2021/acs/acs5?get=GEO_ID,B08201_001E,B08201_001M&for=tract:*&in=state:32%20county:031&key=9a73d08c296b844e58f1c70bd19c831826da5cbf\n",
      "https://api.census.gov/data/2021/acs/acs5?get=GEO_ID,B08201_001E,B08201_001M&for=tract:*&in=state:32%20county:510&key=9a73d08c296b844e58f1c70bd19c831826da5cbf\n",
      "39\n",
      "https://api.census.gov/data/2021/acs/acs5?get=GEO_ID,B08201_002E,B08201_002M&for=tract:*&in=state:06%20county:017&key=9a73d08c296b844e58f1c70bd19c831826da5cbf\n",
      "https://api.census.gov/data/2021/acs/acs5?get=GEO_ID,B08201_002E,B08201_002M&for=tract:*&in=state:06%20county:061&key=9a73d08c296b844e58f1c70bd19c831826da5cbf\n"
     ]
    },
    {
     "ename": "ConnectionError",
     "evalue": "('Connection aborted.', ConnectionResetError(10054, 'An existing connection was forcibly closed by the remote host', None, 10054, None))",
     "output_type": "error",
     "traceback": [
      "\u001b[1;31m---------------------------------------------------------------------------\u001b[0m",
      "\u001b[1;31mConnectionResetError\u001b[0m                      Traceback (most recent call last)",
      "\u001b[1;32mc:\\Users\\amcclary\\AppData\\Local\\ESRI\\conda\\envs\\arcgispro-py3-dbf\\lib\\site-packages\\urllib3\\connectionpool.py\u001b[0m in \u001b[0;36murlopen\u001b[1;34m(self, method, url, body, headers, retries, redirect, assert_same_host, timeout, pool_timeout, release_conn, chunked, body_pos, **response_kw)\u001b[0m\n\u001b[0;32m    702\u001b[0m             \u001b[1;31m# Make the request on the httplib connection object.\u001b[0m\u001b[1;33m\u001b[0m\u001b[1;33m\u001b[0m\u001b[0m\n\u001b[1;32m--> 703\u001b[1;33m             httplib_response = self._make_request(\n\u001b[0m\u001b[0;32m    704\u001b[0m                 \u001b[0mconn\u001b[0m\u001b[1;33m,\u001b[0m\u001b[1;33m\u001b[0m\u001b[1;33m\u001b[0m\u001b[0m\n",
      "\u001b[1;32mc:\\Users\\amcclary\\AppData\\Local\\ESRI\\conda\\envs\\arcgispro-py3-dbf\\lib\\site-packages\\urllib3\\connectionpool.py\u001b[0m in \u001b[0;36m_make_request\u001b[1;34m(self, conn, method, url, timeout, chunked, **httplib_request_kw)\u001b[0m\n\u001b[0;32m    448\u001b[0m                     \u001b[1;31m# Otherwise it looks like a bug in the code.\u001b[0m\u001b[1;33m\u001b[0m\u001b[1;33m\u001b[0m\u001b[0m\n\u001b[1;32m--> 449\u001b[1;33m                     \u001b[0msix\u001b[0m\u001b[1;33m.\u001b[0m\u001b[0mraise_from\u001b[0m\u001b[1;33m(\u001b[0m\u001b[0me\u001b[0m\u001b[1;33m,\u001b[0m \u001b[1;32mNone\u001b[0m\u001b[1;33m)\u001b[0m\u001b[1;33m\u001b[0m\u001b[1;33m\u001b[0m\u001b[0m\n\u001b[0m\u001b[0;32m    450\u001b[0m         \u001b[1;32mexcept\u001b[0m \u001b[1;33m(\u001b[0m\u001b[0mSocketTimeout\u001b[0m\u001b[1;33m,\u001b[0m \u001b[0mBaseSSLError\u001b[0m\u001b[1;33m,\u001b[0m \u001b[0mSocketError\u001b[0m\u001b[1;33m)\u001b[0m \u001b[1;32mas\u001b[0m \u001b[0me\u001b[0m\u001b[1;33m:\u001b[0m\u001b[1;33m\u001b[0m\u001b[1;33m\u001b[0m\u001b[0m\n",
      "\u001b[1;32mc:\\Users\\amcclary\\AppData\\Local\\ESRI\\conda\\envs\\arcgispro-py3-dbf\\lib\\site-packages\\urllib3\\packages\\six.py\u001b[0m in \u001b[0;36mraise_from\u001b[1;34m(value, from_value)\u001b[0m\n",
      "\u001b[1;32mc:\\Users\\amcclary\\AppData\\Local\\ESRI\\conda\\envs\\arcgispro-py3-dbf\\lib\\site-packages\\urllib3\\connectionpool.py\u001b[0m in \u001b[0;36m_make_request\u001b[1;34m(self, conn, method, url, timeout, chunked, **httplib_request_kw)\u001b[0m\n\u001b[0;32m    443\u001b[0m                 \u001b[1;32mtry\u001b[0m\u001b[1;33m:\u001b[0m\u001b[1;33m\u001b[0m\u001b[1;33m\u001b[0m\u001b[0m\n\u001b[1;32m--> 444\u001b[1;33m                     \u001b[0mhttplib_response\u001b[0m \u001b[1;33m=\u001b[0m \u001b[0mconn\u001b[0m\u001b[1;33m.\u001b[0m\u001b[0mgetresponse\u001b[0m\u001b[1;33m(\u001b[0m\u001b[1;33m)\u001b[0m\u001b[1;33m\u001b[0m\u001b[1;33m\u001b[0m\u001b[0m\n\u001b[0m\u001b[0;32m    445\u001b[0m                 \u001b[1;32mexcept\u001b[0m \u001b[0mBaseException\u001b[0m \u001b[1;32mas\u001b[0m \u001b[0me\u001b[0m\u001b[1;33m:\u001b[0m\u001b[1;33m\u001b[0m\u001b[1;33m\u001b[0m\u001b[0m\n",
      "\u001b[1;32mc:\\Users\\amcclary\\AppData\\Local\\ESRI\\conda\\envs\\arcgispro-py3-dbf\\lib\\http\\client.py\u001b[0m in \u001b[0;36mgetresponse\u001b[1;34m(self)\u001b[0m\n\u001b[0;32m   1376\u001b[0m             \u001b[1;32mtry\u001b[0m\u001b[1;33m:\u001b[0m\u001b[1;33m\u001b[0m\u001b[1;33m\u001b[0m\u001b[0m\n\u001b[1;32m-> 1377\u001b[1;33m                 \u001b[0mresponse\u001b[0m\u001b[1;33m.\u001b[0m\u001b[0mbegin\u001b[0m\u001b[1;33m(\u001b[0m\u001b[1;33m)\u001b[0m\u001b[1;33m\u001b[0m\u001b[1;33m\u001b[0m\u001b[0m\n\u001b[0m\u001b[0;32m   1378\u001b[0m             \u001b[1;32mexcept\u001b[0m \u001b[0mConnectionError\u001b[0m\u001b[1;33m:\u001b[0m\u001b[1;33m\u001b[0m\u001b[1;33m\u001b[0m\u001b[0m\n",
      "\u001b[1;32mc:\\Users\\amcclary\\AppData\\Local\\ESRI\\conda\\envs\\arcgispro-py3-dbf\\lib\\http\\client.py\u001b[0m in \u001b[0;36mbegin\u001b[1;34m(self)\u001b[0m\n\u001b[0;32m    319\u001b[0m         \u001b[1;32mwhile\u001b[0m \u001b[1;32mTrue\u001b[0m\u001b[1;33m:\u001b[0m\u001b[1;33m\u001b[0m\u001b[1;33m\u001b[0m\u001b[0m\n\u001b[1;32m--> 320\u001b[1;33m             \u001b[0mversion\u001b[0m\u001b[1;33m,\u001b[0m \u001b[0mstatus\u001b[0m\u001b[1;33m,\u001b[0m \u001b[0mreason\u001b[0m \u001b[1;33m=\u001b[0m \u001b[0mself\u001b[0m\u001b[1;33m.\u001b[0m\u001b[0m_read_status\u001b[0m\u001b[1;33m(\u001b[0m\u001b[1;33m)\u001b[0m\u001b[1;33m\u001b[0m\u001b[1;33m\u001b[0m\u001b[0m\n\u001b[0m\u001b[0;32m    321\u001b[0m             \u001b[1;32mif\u001b[0m \u001b[0mstatus\u001b[0m \u001b[1;33m!=\u001b[0m \u001b[0mCONTINUE\u001b[0m\u001b[1;33m:\u001b[0m\u001b[1;33m\u001b[0m\u001b[1;33m\u001b[0m\u001b[0m\n",
      "\u001b[1;32mc:\\Users\\amcclary\\AppData\\Local\\ESRI\\conda\\envs\\arcgispro-py3-dbf\\lib\\http\\client.py\u001b[0m in \u001b[0;36m_read_status\u001b[1;34m(self)\u001b[0m\n\u001b[0;32m    280\u001b[0m     \u001b[1;32mdef\u001b[0m \u001b[0m_read_status\u001b[0m\u001b[1;33m(\u001b[0m\u001b[0mself\u001b[0m\u001b[1;33m)\u001b[0m\u001b[1;33m:\u001b[0m\u001b[1;33m\u001b[0m\u001b[1;33m\u001b[0m\u001b[0m\n\u001b[1;32m--> 281\u001b[1;33m         \u001b[0mline\u001b[0m \u001b[1;33m=\u001b[0m \u001b[0mstr\u001b[0m\u001b[1;33m(\u001b[0m\u001b[0mself\u001b[0m\u001b[1;33m.\u001b[0m\u001b[0mfp\u001b[0m\u001b[1;33m.\u001b[0m\u001b[0mreadline\u001b[0m\u001b[1;33m(\u001b[0m\u001b[0m_MAXLINE\u001b[0m \u001b[1;33m+\u001b[0m \u001b[1;36m1\u001b[0m\u001b[1;33m)\u001b[0m\u001b[1;33m,\u001b[0m \u001b[1;34m\"iso-8859-1\"\u001b[0m\u001b[1;33m)\u001b[0m\u001b[1;33m\u001b[0m\u001b[1;33m\u001b[0m\u001b[0m\n\u001b[0m\u001b[0;32m    282\u001b[0m         \u001b[1;32mif\u001b[0m \u001b[0mlen\u001b[0m\u001b[1;33m(\u001b[0m\u001b[0mline\u001b[0m\u001b[1;33m)\u001b[0m \u001b[1;33m>\u001b[0m \u001b[0m_MAXLINE\u001b[0m\u001b[1;33m:\u001b[0m\u001b[1;33m\u001b[0m\u001b[1;33m\u001b[0m\u001b[0m\n",
      "\u001b[1;32mc:\\Users\\amcclary\\AppData\\Local\\ESRI\\conda\\envs\\arcgispro-py3-dbf\\lib\\socket.py\u001b[0m in \u001b[0;36mreadinto\u001b[1;34m(self, b)\u001b[0m\n\u001b[0;32m    703\u001b[0m             \u001b[1;32mtry\u001b[0m\u001b[1;33m:\u001b[0m\u001b[1;33m\u001b[0m\u001b[1;33m\u001b[0m\u001b[0m\n\u001b[1;32m--> 704\u001b[1;33m                 \u001b[1;32mreturn\u001b[0m \u001b[0mself\u001b[0m\u001b[1;33m.\u001b[0m\u001b[0m_sock\u001b[0m\u001b[1;33m.\u001b[0m\u001b[0mrecv_into\u001b[0m\u001b[1;33m(\u001b[0m\u001b[0mb\u001b[0m\u001b[1;33m)\u001b[0m\u001b[1;33m\u001b[0m\u001b[1;33m\u001b[0m\u001b[0m\n\u001b[0m\u001b[0;32m    705\u001b[0m             \u001b[1;32mexcept\u001b[0m \u001b[0mtimeout\u001b[0m\u001b[1;33m:\u001b[0m\u001b[1;33m\u001b[0m\u001b[1;33m\u001b[0m\u001b[0m\n",
      "\u001b[1;32mc:\\Users\\amcclary\\AppData\\Local\\ESRI\\conda\\envs\\arcgispro-py3-dbf\\lib\\ssl.py\u001b[0m in \u001b[0;36mrecv_into\u001b[1;34m(self, buffer, nbytes, flags)\u001b[0m\n\u001b[0;32m   1241\u001b[0m                   self.__class__)\n\u001b[1;32m-> 1242\u001b[1;33m             \u001b[1;32mreturn\u001b[0m \u001b[0mself\u001b[0m\u001b[1;33m.\u001b[0m\u001b[0mread\u001b[0m\u001b[1;33m(\u001b[0m\u001b[0mnbytes\u001b[0m\u001b[1;33m,\u001b[0m \u001b[0mbuffer\u001b[0m\u001b[1;33m)\u001b[0m\u001b[1;33m\u001b[0m\u001b[1;33m\u001b[0m\u001b[0m\n\u001b[0m\u001b[0;32m   1243\u001b[0m         \u001b[1;32melse\u001b[0m\u001b[1;33m:\u001b[0m\u001b[1;33m\u001b[0m\u001b[1;33m\u001b[0m\u001b[0m\n",
      "\u001b[1;32mc:\\Users\\amcclary\\AppData\\Local\\ESRI\\conda\\envs\\arcgispro-py3-dbf\\lib\\ssl.py\u001b[0m in \u001b[0;36mread\u001b[1;34m(self, len, buffer)\u001b[0m\n\u001b[0;32m   1099\u001b[0m             \u001b[1;32mif\u001b[0m \u001b[0mbuffer\u001b[0m \u001b[1;32mis\u001b[0m \u001b[1;32mnot\u001b[0m \u001b[1;32mNone\u001b[0m\u001b[1;33m:\u001b[0m\u001b[1;33m\u001b[0m\u001b[1;33m\u001b[0m\u001b[0m\n\u001b[1;32m-> 1100\u001b[1;33m                 \u001b[1;32mreturn\u001b[0m \u001b[0mself\u001b[0m\u001b[1;33m.\u001b[0m\u001b[0m_sslobj\u001b[0m\u001b[1;33m.\u001b[0m\u001b[0mread\u001b[0m\u001b[1;33m(\u001b[0m\u001b[0mlen\u001b[0m\u001b[1;33m,\u001b[0m \u001b[0mbuffer\u001b[0m\u001b[1;33m)\u001b[0m\u001b[1;33m\u001b[0m\u001b[1;33m\u001b[0m\u001b[0m\n\u001b[0m\u001b[0;32m   1101\u001b[0m             \u001b[1;32melse\u001b[0m\u001b[1;33m:\u001b[0m\u001b[1;33m\u001b[0m\u001b[1;33m\u001b[0m\u001b[0m\n",
      "\u001b[1;31mConnectionResetError\u001b[0m: [WinError 10054] An existing connection was forcibly closed by the remote host",
      "\nDuring handling of the above exception, another exception occurred:\n",
      "\u001b[1;31mProtocolError\u001b[0m                             Traceback (most recent call last)",
      "\u001b[1;32mc:\\Users\\amcclary\\AppData\\Local\\ESRI\\conda\\envs\\arcgispro-py3-dbf\\lib\\site-packages\\requests\\adapters.py\u001b[0m in \u001b[0;36msend\u001b[1;34m(self, request, stream, timeout, verify, cert, proxies)\u001b[0m\n\u001b[0;32m    488\u001b[0m             \u001b[1;32mif\u001b[0m \u001b[1;32mnot\u001b[0m \u001b[0mchunked\u001b[0m\u001b[1;33m:\u001b[0m\u001b[1;33m\u001b[0m\u001b[1;33m\u001b[0m\u001b[0m\n\u001b[1;32m--> 489\u001b[1;33m                 resp = conn.urlopen(\n\u001b[0m\u001b[0;32m    490\u001b[0m                     \u001b[0mmethod\u001b[0m\u001b[1;33m=\u001b[0m\u001b[0mrequest\u001b[0m\u001b[1;33m.\u001b[0m\u001b[0mmethod\u001b[0m\u001b[1;33m,\u001b[0m\u001b[1;33m\u001b[0m\u001b[1;33m\u001b[0m\u001b[0m\n",
      "\u001b[1;32mc:\\Users\\amcclary\\AppData\\Local\\ESRI\\conda\\envs\\arcgispro-py3-dbf\\lib\\site-packages\\urllib3\\connectionpool.py\u001b[0m in \u001b[0;36murlopen\u001b[1;34m(self, method, url, body, headers, retries, redirect, assert_same_host, timeout, pool_timeout, release_conn, chunked, body_pos, **response_kw)\u001b[0m\n\u001b[0;32m    786\u001b[0m \u001b[1;33m\u001b[0m\u001b[0m\n\u001b[1;32m--> 787\u001b[1;33m             retries = retries.increment(\n\u001b[0m\u001b[0;32m    788\u001b[0m                 \u001b[0mmethod\u001b[0m\u001b[1;33m,\u001b[0m \u001b[0murl\u001b[0m\u001b[1;33m,\u001b[0m \u001b[0merror\u001b[0m\u001b[1;33m=\u001b[0m\u001b[0me\u001b[0m\u001b[1;33m,\u001b[0m \u001b[0m_pool\u001b[0m\u001b[1;33m=\u001b[0m\u001b[0mself\u001b[0m\u001b[1;33m,\u001b[0m \u001b[0m_stacktrace\u001b[0m\u001b[1;33m=\u001b[0m\u001b[0msys\u001b[0m\u001b[1;33m.\u001b[0m\u001b[0mexc_info\u001b[0m\u001b[1;33m(\u001b[0m\u001b[1;33m)\u001b[0m\u001b[1;33m[\u001b[0m\u001b[1;36m2\u001b[0m\u001b[1;33m]\u001b[0m\u001b[1;33m\u001b[0m\u001b[1;33m\u001b[0m\u001b[0m\n",
      "\u001b[1;32mc:\\Users\\amcclary\\AppData\\Local\\ESRI\\conda\\envs\\arcgispro-py3-dbf\\lib\\site-packages\\urllib3\\util\\retry.py\u001b[0m in \u001b[0;36mincrement\u001b[1;34m(self, method, url, response, error, _pool, _stacktrace)\u001b[0m\n\u001b[0;32m    549\u001b[0m             \u001b[1;32mif\u001b[0m \u001b[0mread\u001b[0m \u001b[1;32mis\u001b[0m \u001b[1;32mFalse\u001b[0m \u001b[1;32mor\u001b[0m \u001b[1;32mnot\u001b[0m \u001b[0mself\u001b[0m\u001b[1;33m.\u001b[0m\u001b[0m_is_method_retryable\u001b[0m\u001b[1;33m(\u001b[0m\u001b[0mmethod\u001b[0m\u001b[1;33m)\u001b[0m\u001b[1;33m:\u001b[0m\u001b[1;33m\u001b[0m\u001b[1;33m\u001b[0m\u001b[0m\n\u001b[1;32m--> 550\u001b[1;33m                 \u001b[1;32mraise\u001b[0m \u001b[0msix\u001b[0m\u001b[1;33m.\u001b[0m\u001b[0mreraise\u001b[0m\u001b[1;33m(\u001b[0m\u001b[0mtype\u001b[0m\u001b[1;33m(\u001b[0m\u001b[0merror\u001b[0m\u001b[1;33m)\u001b[0m\u001b[1;33m,\u001b[0m \u001b[0merror\u001b[0m\u001b[1;33m,\u001b[0m \u001b[0m_stacktrace\u001b[0m\u001b[1;33m)\u001b[0m\u001b[1;33m\u001b[0m\u001b[1;33m\u001b[0m\u001b[0m\n\u001b[0m\u001b[0;32m    551\u001b[0m             \u001b[1;32melif\u001b[0m \u001b[0mread\u001b[0m \u001b[1;32mis\u001b[0m \u001b[1;32mnot\u001b[0m \u001b[1;32mNone\u001b[0m\u001b[1;33m:\u001b[0m\u001b[1;33m\u001b[0m\u001b[1;33m\u001b[0m\u001b[0m\n",
      "\u001b[1;32mc:\\Users\\amcclary\\AppData\\Local\\ESRI\\conda\\envs\\arcgispro-py3-dbf\\lib\\site-packages\\urllib3\\packages\\six.py\u001b[0m in \u001b[0;36mreraise\u001b[1;34m(tp, value, tb)\u001b[0m\n\u001b[0;32m    768\u001b[0m             \u001b[1;32mif\u001b[0m \u001b[0mvalue\u001b[0m\u001b[1;33m.\u001b[0m\u001b[0m__traceback__\u001b[0m \u001b[1;32mis\u001b[0m \u001b[1;32mnot\u001b[0m \u001b[0mtb\u001b[0m\u001b[1;33m:\u001b[0m\u001b[1;33m\u001b[0m\u001b[1;33m\u001b[0m\u001b[0m\n\u001b[1;32m--> 769\u001b[1;33m                 \u001b[1;32mraise\u001b[0m \u001b[0mvalue\u001b[0m\u001b[1;33m.\u001b[0m\u001b[0mwith_traceback\u001b[0m\u001b[1;33m(\u001b[0m\u001b[0mtb\u001b[0m\u001b[1;33m)\u001b[0m\u001b[1;33m\u001b[0m\u001b[1;33m\u001b[0m\u001b[0m\n\u001b[0m\u001b[0;32m    770\u001b[0m             \u001b[1;32mraise\u001b[0m \u001b[0mvalue\u001b[0m\u001b[1;33m\u001b[0m\u001b[1;33m\u001b[0m\u001b[0m\n",
      "\u001b[1;32mc:\\Users\\amcclary\\AppData\\Local\\ESRI\\conda\\envs\\arcgispro-py3-dbf\\lib\\site-packages\\urllib3\\connectionpool.py\u001b[0m in \u001b[0;36murlopen\u001b[1;34m(self, method, url, body, headers, retries, redirect, assert_same_host, timeout, pool_timeout, release_conn, chunked, body_pos, **response_kw)\u001b[0m\n\u001b[0;32m    702\u001b[0m             \u001b[1;31m# Make the request on the httplib connection object.\u001b[0m\u001b[1;33m\u001b[0m\u001b[1;33m\u001b[0m\u001b[0m\n\u001b[1;32m--> 703\u001b[1;33m             httplib_response = self._make_request(\n\u001b[0m\u001b[0;32m    704\u001b[0m                 \u001b[0mconn\u001b[0m\u001b[1;33m,\u001b[0m\u001b[1;33m\u001b[0m\u001b[1;33m\u001b[0m\u001b[0m\n",
      "\u001b[1;32mc:\\Users\\amcclary\\AppData\\Local\\ESRI\\conda\\envs\\arcgispro-py3-dbf\\lib\\site-packages\\urllib3\\connectionpool.py\u001b[0m in \u001b[0;36m_make_request\u001b[1;34m(self, conn, method, url, timeout, chunked, **httplib_request_kw)\u001b[0m\n\u001b[0;32m    448\u001b[0m                     \u001b[1;31m# Otherwise it looks like a bug in the code.\u001b[0m\u001b[1;33m\u001b[0m\u001b[1;33m\u001b[0m\u001b[0m\n\u001b[1;32m--> 449\u001b[1;33m                     \u001b[0msix\u001b[0m\u001b[1;33m.\u001b[0m\u001b[0mraise_from\u001b[0m\u001b[1;33m(\u001b[0m\u001b[0me\u001b[0m\u001b[1;33m,\u001b[0m \u001b[1;32mNone\u001b[0m\u001b[1;33m)\u001b[0m\u001b[1;33m\u001b[0m\u001b[1;33m\u001b[0m\u001b[0m\n\u001b[0m\u001b[0;32m    450\u001b[0m         \u001b[1;32mexcept\u001b[0m \u001b[1;33m(\u001b[0m\u001b[0mSocketTimeout\u001b[0m\u001b[1;33m,\u001b[0m \u001b[0mBaseSSLError\u001b[0m\u001b[1;33m,\u001b[0m \u001b[0mSocketError\u001b[0m\u001b[1;33m)\u001b[0m \u001b[1;32mas\u001b[0m \u001b[0me\u001b[0m\u001b[1;33m:\u001b[0m\u001b[1;33m\u001b[0m\u001b[1;33m\u001b[0m\u001b[0m\n",
      "\u001b[1;32mc:\\Users\\amcclary\\AppData\\Local\\ESRI\\conda\\envs\\arcgispro-py3-dbf\\lib\\site-packages\\urllib3\\packages\\six.py\u001b[0m in \u001b[0;36mraise_from\u001b[1;34m(value, from_value)\u001b[0m\n",
      "\u001b[1;32mc:\\Users\\amcclary\\AppData\\Local\\ESRI\\conda\\envs\\arcgispro-py3-dbf\\lib\\site-packages\\urllib3\\connectionpool.py\u001b[0m in \u001b[0;36m_make_request\u001b[1;34m(self, conn, method, url, timeout, chunked, **httplib_request_kw)\u001b[0m\n\u001b[0;32m    443\u001b[0m                 \u001b[1;32mtry\u001b[0m\u001b[1;33m:\u001b[0m\u001b[1;33m\u001b[0m\u001b[1;33m\u001b[0m\u001b[0m\n\u001b[1;32m--> 444\u001b[1;33m                     \u001b[0mhttplib_response\u001b[0m \u001b[1;33m=\u001b[0m \u001b[0mconn\u001b[0m\u001b[1;33m.\u001b[0m\u001b[0mgetresponse\u001b[0m\u001b[1;33m(\u001b[0m\u001b[1;33m)\u001b[0m\u001b[1;33m\u001b[0m\u001b[1;33m\u001b[0m\u001b[0m\n\u001b[0m\u001b[0;32m    445\u001b[0m                 \u001b[1;32mexcept\u001b[0m \u001b[0mBaseException\u001b[0m \u001b[1;32mas\u001b[0m \u001b[0me\u001b[0m\u001b[1;33m:\u001b[0m\u001b[1;33m\u001b[0m\u001b[1;33m\u001b[0m\u001b[0m\n",
      "\u001b[1;32mc:\\Users\\amcclary\\AppData\\Local\\ESRI\\conda\\envs\\arcgispro-py3-dbf\\lib\\http\\client.py\u001b[0m in \u001b[0;36mgetresponse\u001b[1;34m(self)\u001b[0m\n\u001b[0;32m   1376\u001b[0m             \u001b[1;32mtry\u001b[0m\u001b[1;33m:\u001b[0m\u001b[1;33m\u001b[0m\u001b[1;33m\u001b[0m\u001b[0m\n\u001b[1;32m-> 1377\u001b[1;33m                 \u001b[0mresponse\u001b[0m\u001b[1;33m.\u001b[0m\u001b[0mbegin\u001b[0m\u001b[1;33m(\u001b[0m\u001b[1;33m)\u001b[0m\u001b[1;33m\u001b[0m\u001b[1;33m\u001b[0m\u001b[0m\n\u001b[0m\u001b[0;32m   1378\u001b[0m             \u001b[1;32mexcept\u001b[0m \u001b[0mConnectionError\u001b[0m\u001b[1;33m:\u001b[0m\u001b[1;33m\u001b[0m\u001b[1;33m\u001b[0m\u001b[0m\n",
      "\u001b[1;32mc:\\Users\\amcclary\\AppData\\Local\\ESRI\\conda\\envs\\arcgispro-py3-dbf\\lib\\http\\client.py\u001b[0m in \u001b[0;36mbegin\u001b[1;34m(self)\u001b[0m\n\u001b[0;32m    319\u001b[0m         \u001b[1;32mwhile\u001b[0m \u001b[1;32mTrue\u001b[0m\u001b[1;33m:\u001b[0m\u001b[1;33m\u001b[0m\u001b[1;33m\u001b[0m\u001b[0m\n\u001b[1;32m--> 320\u001b[1;33m             \u001b[0mversion\u001b[0m\u001b[1;33m,\u001b[0m \u001b[0mstatus\u001b[0m\u001b[1;33m,\u001b[0m \u001b[0mreason\u001b[0m \u001b[1;33m=\u001b[0m \u001b[0mself\u001b[0m\u001b[1;33m.\u001b[0m\u001b[0m_read_status\u001b[0m\u001b[1;33m(\u001b[0m\u001b[1;33m)\u001b[0m\u001b[1;33m\u001b[0m\u001b[1;33m\u001b[0m\u001b[0m\n\u001b[0m\u001b[0;32m    321\u001b[0m             \u001b[1;32mif\u001b[0m \u001b[0mstatus\u001b[0m \u001b[1;33m!=\u001b[0m \u001b[0mCONTINUE\u001b[0m\u001b[1;33m:\u001b[0m\u001b[1;33m\u001b[0m\u001b[1;33m\u001b[0m\u001b[0m\n",
      "\u001b[1;32mc:\\Users\\amcclary\\AppData\\Local\\ESRI\\conda\\envs\\arcgispro-py3-dbf\\lib\\http\\client.py\u001b[0m in \u001b[0;36m_read_status\u001b[1;34m(self)\u001b[0m\n\u001b[0;32m    280\u001b[0m     \u001b[1;32mdef\u001b[0m \u001b[0m_read_status\u001b[0m\u001b[1;33m(\u001b[0m\u001b[0mself\u001b[0m\u001b[1;33m)\u001b[0m\u001b[1;33m:\u001b[0m\u001b[1;33m\u001b[0m\u001b[1;33m\u001b[0m\u001b[0m\n\u001b[1;32m--> 281\u001b[1;33m         \u001b[0mline\u001b[0m \u001b[1;33m=\u001b[0m \u001b[0mstr\u001b[0m\u001b[1;33m(\u001b[0m\u001b[0mself\u001b[0m\u001b[1;33m.\u001b[0m\u001b[0mfp\u001b[0m\u001b[1;33m.\u001b[0m\u001b[0mreadline\u001b[0m\u001b[1;33m(\u001b[0m\u001b[0m_MAXLINE\u001b[0m \u001b[1;33m+\u001b[0m \u001b[1;36m1\u001b[0m\u001b[1;33m)\u001b[0m\u001b[1;33m,\u001b[0m \u001b[1;34m\"iso-8859-1\"\u001b[0m\u001b[1;33m)\u001b[0m\u001b[1;33m\u001b[0m\u001b[1;33m\u001b[0m\u001b[0m\n\u001b[0m\u001b[0;32m    282\u001b[0m         \u001b[1;32mif\u001b[0m \u001b[0mlen\u001b[0m\u001b[1;33m(\u001b[0m\u001b[0mline\u001b[0m\u001b[1;33m)\u001b[0m \u001b[1;33m>\u001b[0m \u001b[0m_MAXLINE\u001b[0m\u001b[1;33m:\u001b[0m\u001b[1;33m\u001b[0m\u001b[1;33m\u001b[0m\u001b[0m\n",
      "\u001b[1;32mc:\\Users\\amcclary\\AppData\\Local\\ESRI\\conda\\envs\\arcgispro-py3-dbf\\lib\\socket.py\u001b[0m in \u001b[0;36mreadinto\u001b[1;34m(self, b)\u001b[0m\n\u001b[0;32m    703\u001b[0m             \u001b[1;32mtry\u001b[0m\u001b[1;33m:\u001b[0m\u001b[1;33m\u001b[0m\u001b[1;33m\u001b[0m\u001b[0m\n\u001b[1;32m--> 704\u001b[1;33m                 \u001b[1;32mreturn\u001b[0m \u001b[0mself\u001b[0m\u001b[1;33m.\u001b[0m\u001b[0m_sock\u001b[0m\u001b[1;33m.\u001b[0m\u001b[0mrecv_into\u001b[0m\u001b[1;33m(\u001b[0m\u001b[0mb\u001b[0m\u001b[1;33m)\u001b[0m\u001b[1;33m\u001b[0m\u001b[1;33m\u001b[0m\u001b[0m\n\u001b[0m\u001b[0;32m    705\u001b[0m             \u001b[1;32mexcept\u001b[0m \u001b[0mtimeout\u001b[0m\u001b[1;33m:\u001b[0m\u001b[1;33m\u001b[0m\u001b[1;33m\u001b[0m\u001b[0m\n",
      "\u001b[1;32mc:\\Users\\amcclary\\AppData\\Local\\ESRI\\conda\\envs\\arcgispro-py3-dbf\\lib\\ssl.py\u001b[0m in \u001b[0;36mrecv_into\u001b[1;34m(self, buffer, nbytes, flags)\u001b[0m\n\u001b[0;32m   1241\u001b[0m                   self.__class__)\n\u001b[1;32m-> 1242\u001b[1;33m             \u001b[1;32mreturn\u001b[0m \u001b[0mself\u001b[0m\u001b[1;33m.\u001b[0m\u001b[0mread\u001b[0m\u001b[1;33m(\u001b[0m\u001b[0mnbytes\u001b[0m\u001b[1;33m,\u001b[0m \u001b[0mbuffer\u001b[0m\u001b[1;33m)\u001b[0m\u001b[1;33m\u001b[0m\u001b[1;33m\u001b[0m\u001b[0m\n\u001b[0m\u001b[0;32m   1243\u001b[0m         \u001b[1;32melse\u001b[0m\u001b[1;33m:\u001b[0m\u001b[1;33m\u001b[0m\u001b[1;33m\u001b[0m\u001b[0m\n",
      "\u001b[1;32mc:\\Users\\amcclary\\AppData\\Local\\ESRI\\conda\\envs\\arcgispro-py3-dbf\\lib\\ssl.py\u001b[0m in \u001b[0;36mread\u001b[1;34m(self, len, buffer)\u001b[0m\n\u001b[0;32m   1099\u001b[0m             \u001b[1;32mif\u001b[0m \u001b[0mbuffer\u001b[0m \u001b[1;32mis\u001b[0m \u001b[1;32mnot\u001b[0m \u001b[1;32mNone\u001b[0m\u001b[1;33m:\u001b[0m\u001b[1;33m\u001b[0m\u001b[1;33m\u001b[0m\u001b[0m\n\u001b[1;32m-> 1100\u001b[1;33m                 \u001b[1;32mreturn\u001b[0m \u001b[0mself\u001b[0m\u001b[1;33m.\u001b[0m\u001b[0m_sslobj\u001b[0m\u001b[1;33m.\u001b[0m\u001b[0mread\u001b[0m\u001b[1;33m(\u001b[0m\u001b[0mlen\u001b[0m\u001b[1;33m,\u001b[0m \u001b[0mbuffer\u001b[0m\u001b[1;33m)\u001b[0m\u001b[1;33m\u001b[0m\u001b[1;33m\u001b[0m\u001b[0m\n\u001b[0m\u001b[0;32m   1101\u001b[0m             \u001b[1;32melse\u001b[0m\u001b[1;33m:\u001b[0m\u001b[1;33m\u001b[0m\u001b[1;33m\u001b[0m\u001b[0m\n",
      "\u001b[1;31mProtocolError\u001b[0m: ('Connection aborted.', ConnectionResetError(10054, 'An existing connection was forcibly closed by the remote host', None, 10054, None))",
      "\nDuring handling of the above exception, another exception occurred:\n",
      "\u001b[1;31mConnectionError\u001b[0m                           Traceback (most recent call last)",
      "\u001b[1;32m~\\AppData\\Local\\Temp\\ipykernel_11272\\2490629581.py\u001b[0m in \u001b[0;36m<cell line: 17>\u001b[1;34m()\u001b[0m\n\u001b[0;32m     17\u001b[0m \u001b[1;32mfor\u001b[0m \u001b[0mindex\u001b[0m\u001b[1;33m,\u001b[0m \u001b[0mrow\u001b[0m \u001b[1;32min\u001b[0m \u001b[0mdemographic_variables_2020_bg\u001b[0m\u001b[1;33m.\u001b[0m\u001b[0miterrows\u001b[0m\u001b[1;33m(\u001b[0m\u001b[1;33m)\u001b[0m\u001b[1;33m:\u001b[0m\u001b[1;33m\u001b[0m\u001b[1;33m\u001b[0m\u001b[0m\n\u001b[0;32m     18\u001b[0m     \u001b[0mprint\u001b[0m\u001b[1;33m(\u001b[0m\u001b[0mindex\u001b[0m\u001b[1;33m)\u001b[0m\u001b[1;33m\u001b[0m\u001b[1;33m\u001b[0m\u001b[0m\n\u001b[1;32m---> 19\u001b[1;33m     \u001b[0mdf\u001b[0m \u001b[1;33m=\u001b[0m \u001b[0mget_variable_data\u001b[0m\u001b[1;33m(\u001b[0m\u001b[0mrow\u001b[0m\u001b[1;33m[\u001b[0m\u001b[1;34m'Year'\u001b[0m\u001b[1;33m]\u001b[0m\u001b[1;33m,\u001b[0m \u001b[0mrow\u001b[0m\u001b[1;33m[\u001b[0m\u001b[1;34m'Datasource Name'\u001b[0m\u001b[1;33m]\u001b[0m\u001b[1;33m,\u001b[0m\u001b[1;34m'tract'\u001b[0m\u001b[1;33m,\u001b[0m\u001b[0mrow\u001b[0m\u001b[1;33m[\u001b[0m\u001b[1;34m'CodeNumber'\u001b[0m\u001b[1;33m]\u001b[0m\u001b[1;33m,\u001b[0m\u001b[0mrow\u001b[0m\u001b[1;33m[\u001b[0m\u001b[1;34m'Variable'\u001b[0m\u001b[1;33m]\u001b[0m\u001b[1;33m,\u001b[0m \u001b[0mcensus_api_key\u001b[0m\u001b[1;33m,\u001b[0m \u001b[0mrow\u001b[0m\u001b[1;33m[\u001b[0m\u001b[1;34m'census_geom_year'\u001b[0m\u001b[1;33m]\u001b[0m\u001b[1;33m,\u001b[0m \u001b[0mtahoe_geometry\u001b[0m\u001b[1;33m,\u001b[0m \u001b[0mrow\u001b[0m\u001b[1;33m[\u001b[0m\u001b[1;34m'Category'\u001b[0m\u001b[1;33m]\u001b[0m\u001b[1;33m)\u001b[0m\u001b[1;33m\u001b[0m\u001b[1;33m\u001b[0m\u001b[0m\n\u001b[0m\u001b[0;32m     20\u001b[0m \u001b[1;33m\u001b[0m\u001b[0m\n\u001b[0;32m     21\u001b[0m     \u001b[0mdemographic_values_2020_tract\u001b[0m \u001b[1;33m=\u001b[0m \u001b[0mcreate_or_append_df\u001b[0m\u001b[1;33m(\u001b[0m\u001b[0mdemographic_values_2020_tract\u001b[0m\u001b[1;33m,\u001b[0m \u001b[0mdf\u001b[0m\u001b[1;33m)\u001b[0m\u001b[1;33m\u001b[0m\u001b[1;33m\u001b[0m\u001b[0m\n",
      "\u001b[1;32m~\\AppData\\Local\\Temp\\ipykernel_11272\\628862100.py\u001b[0m in \u001b[0;36mget_variable_data\u001b[1;34m(year, dataset, geometry_return, variable, variablename, census_api_key, census_geom_year, tahoe_geometry, variable_category)\u001b[0m\n\u001b[0;32m    183\u001b[0m             \u001b[0mprint\u001b[0m\u001b[1;33m(\u001b[0m\u001b[1;34mf'{base_url}/{year}/{dataset}?get=GEO_ID,{variable}&for={geometry_return}:*&in=state:{state}%20county:{county}{geometry_level}&key={census_api_key}'\u001b[0m\u001b[1;33m)\u001b[0m\u001b[1;33m\u001b[0m\u001b[1;33m\u001b[0m\u001b[0m\n\u001b[0;32m    184\u001b[0m             \u001b[0mrequest_url\u001b[0m \u001b[1;33m=\u001b[0m \u001b[1;34mf'{base_url}/{year}/{dataset}?get=GEO_ID,{variable}&for={geometry_return}:*&in=state:{state}%20county:{county}{geometry_level}&key={census_api_key}'\u001b[0m\u001b[1;33m\u001b[0m\u001b[1;33m\u001b[0m\u001b[0m\n\u001b[1;32m--> 185\u001b[1;33m             \u001b[0mresponse\u001b[0m \u001b[1;33m=\u001b[0m \u001b[0mrequests\u001b[0m\u001b[1;33m.\u001b[0m\u001b[0mget\u001b[0m\u001b[1;33m(\u001b[0m\u001b[0mrequest_url\u001b[0m\u001b[1;33m)\u001b[0m\u001b[1;33m\u001b[0m\u001b[1;33m\u001b[0m\u001b[0m\n\u001b[0m\u001b[0;32m    186\u001b[0m \u001b[1;33m\u001b[0m\u001b[0m\n\u001b[0;32m    187\u001b[0m             \u001b[0mdf\u001b[0m \u001b[1;33m=\u001b[0m \u001b[0mpd\u001b[0m\u001b[1;33m.\u001b[0m\u001b[0mDataFrame\u001b[0m\u001b[1;33m(\u001b[0m\u001b[0mresponse\u001b[0m\u001b[1;33m.\u001b[0m\u001b[0mjson\u001b[0m\u001b[1;33m(\u001b[0m\u001b[1;33m)\u001b[0m\u001b[1;33m)\u001b[0m\u001b[1;33m\u001b[0m\u001b[1;33m\u001b[0m\u001b[0m\n",
      "\u001b[1;32mc:\\Users\\amcclary\\AppData\\Local\\ESRI\\conda\\envs\\arcgispro-py3-dbf\\lib\\site-packages\\requests\\api.py\u001b[0m in \u001b[0;36mget\u001b[1;34m(url, params, **kwargs)\u001b[0m\n\u001b[0;32m     71\u001b[0m     \"\"\"\n\u001b[0;32m     72\u001b[0m \u001b[1;33m\u001b[0m\u001b[0m\n\u001b[1;32m---> 73\u001b[1;33m     \u001b[1;32mreturn\u001b[0m \u001b[0mrequest\u001b[0m\u001b[1;33m(\u001b[0m\u001b[1;34m\"get\"\u001b[0m\u001b[1;33m,\u001b[0m \u001b[0murl\u001b[0m\u001b[1;33m,\u001b[0m \u001b[0mparams\u001b[0m\u001b[1;33m=\u001b[0m\u001b[0mparams\u001b[0m\u001b[1;33m,\u001b[0m \u001b[1;33m**\u001b[0m\u001b[0mkwargs\u001b[0m\u001b[1;33m)\u001b[0m\u001b[1;33m\u001b[0m\u001b[1;33m\u001b[0m\u001b[0m\n\u001b[0m\u001b[0;32m     74\u001b[0m \u001b[1;33m\u001b[0m\u001b[0m\n\u001b[0;32m     75\u001b[0m \u001b[1;33m\u001b[0m\u001b[0m\n",
      "\u001b[1;32mc:\\Users\\amcclary\\AppData\\Local\\ESRI\\conda\\envs\\arcgispro-py3-dbf\\lib\\site-packages\\requests\\api.py\u001b[0m in \u001b[0;36mrequest\u001b[1;34m(method, url, **kwargs)\u001b[0m\n\u001b[0;32m     57\u001b[0m     \u001b[1;31m# cases, and look like a memory leak in others.\u001b[0m\u001b[1;33m\u001b[0m\u001b[1;33m\u001b[0m\u001b[0m\n\u001b[0;32m     58\u001b[0m     \u001b[1;32mwith\u001b[0m \u001b[0msessions\u001b[0m\u001b[1;33m.\u001b[0m\u001b[0mSession\u001b[0m\u001b[1;33m(\u001b[0m\u001b[1;33m)\u001b[0m \u001b[1;32mas\u001b[0m \u001b[0msession\u001b[0m\u001b[1;33m:\u001b[0m\u001b[1;33m\u001b[0m\u001b[1;33m\u001b[0m\u001b[0m\n\u001b[1;32m---> 59\u001b[1;33m         \u001b[1;32mreturn\u001b[0m \u001b[0msession\u001b[0m\u001b[1;33m.\u001b[0m\u001b[0mrequest\u001b[0m\u001b[1;33m(\u001b[0m\u001b[0mmethod\u001b[0m\u001b[1;33m=\u001b[0m\u001b[0mmethod\u001b[0m\u001b[1;33m,\u001b[0m \u001b[0murl\u001b[0m\u001b[1;33m=\u001b[0m\u001b[0murl\u001b[0m\u001b[1;33m,\u001b[0m \u001b[1;33m**\u001b[0m\u001b[0mkwargs\u001b[0m\u001b[1;33m)\u001b[0m\u001b[1;33m\u001b[0m\u001b[1;33m\u001b[0m\u001b[0m\n\u001b[0m\u001b[0;32m     60\u001b[0m \u001b[1;33m\u001b[0m\u001b[0m\n\u001b[0;32m     61\u001b[0m \u001b[1;33m\u001b[0m\u001b[0m\n",
      "\u001b[1;32mc:\\Users\\amcclary\\AppData\\Local\\ESRI\\conda\\envs\\arcgispro-py3-dbf\\lib\\site-packages\\requests\\sessions.py\u001b[0m in \u001b[0;36mrequest\u001b[1;34m(self, method, url, params, data, headers, cookies, files, auth, timeout, allow_redirects, proxies, hooks, stream, verify, cert, json)\u001b[0m\n\u001b[0;32m    585\u001b[0m         }\n\u001b[0;32m    586\u001b[0m         \u001b[0msend_kwargs\u001b[0m\u001b[1;33m.\u001b[0m\u001b[0mupdate\u001b[0m\u001b[1;33m(\u001b[0m\u001b[0msettings\u001b[0m\u001b[1;33m)\u001b[0m\u001b[1;33m\u001b[0m\u001b[1;33m\u001b[0m\u001b[0m\n\u001b[1;32m--> 587\u001b[1;33m         \u001b[0mresp\u001b[0m \u001b[1;33m=\u001b[0m \u001b[0mself\u001b[0m\u001b[1;33m.\u001b[0m\u001b[0msend\u001b[0m\u001b[1;33m(\u001b[0m\u001b[0mprep\u001b[0m\u001b[1;33m,\u001b[0m \u001b[1;33m**\u001b[0m\u001b[0msend_kwargs\u001b[0m\u001b[1;33m)\u001b[0m\u001b[1;33m\u001b[0m\u001b[1;33m\u001b[0m\u001b[0m\n\u001b[0m\u001b[0;32m    588\u001b[0m \u001b[1;33m\u001b[0m\u001b[0m\n\u001b[0;32m    589\u001b[0m         \u001b[1;32mreturn\u001b[0m \u001b[0mresp\u001b[0m\u001b[1;33m\u001b[0m\u001b[1;33m\u001b[0m\u001b[0m\n",
      "\u001b[1;32mc:\\Users\\amcclary\\AppData\\Local\\ESRI\\conda\\envs\\arcgispro-py3-dbf\\lib\\site-packages\\requests\\sessions.py\u001b[0m in \u001b[0;36msend\u001b[1;34m(self, request, **kwargs)\u001b[0m\n\u001b[0;32m    699\u001b[0m \u001b[1;33m\u001b[0m\u001b[0m\n\u001b[0;32m    700\u001b[0m         \u001b[1;31m# Send the request\u001b[0m\u001b[1;33m\u001b[0m\u001b[1;33m\u001b[0m\u001b[0m\n\u001b[1;32m--> 701\u001b[1;33m         \u001b[0mr\u001b[0m \u001b[1;33m=\u001b[0m \u001b[0madapter\u001b[0m\u001b[1;33m.\u001b[0m\u001b[0msend\u001b[0m\u001b[1;33m(\u001b[0m\u001b[0mrequest\u001b[0m\u001b[1;33m,\u001b[0m \u001b[1;33m**\u001b[0m\u001b[0mkwargs\u001b[0m\u001b[1;33m)\u001b[0m\u001b[1;33m\u001b[0m\u001b[1;33m\u001b[0m\u001b[0m\n\u001b[0m\u001b[0;32m    702\u001b[0m \u001b[1;33m\u001b[0m\u001b[0m\n\u001b[0;32m    703\u001b[0m         \u001b[1;31m# Total elapsed time of the request (approximately)\u001b[0m\u001b[1;33m\u001b[0m\u001b[1;33m\u001b[0m\u001b[0m\n",
      "\u001b[1;32mc:\\Users\\amcclary\\AppData\\Local\\ESRI\\conda\\envs\\arcgispro-py3-dbf\\lib\\site-packages\\requests\\adapters.py\u001b[0m in \u001b[0;36msend\u001b[1;34m(self, request, stream, timeout, verify, cert, proxies)\u001b[0m\n\u001b[0;32m    545\u001b[0m \u001b[1;33m\u001b[0m\u001b[0m\n\u001b[0;32m    546\u001b[0m         \u001b[1;32mexcept\u001b[0m \u001b[1;33m(\u001b[0m\u001b[0mProtocolError\u001b[0m\u001b[1;33m,\u001b[0m \u001b[0mOSError\u001b[0m\u001b[1;33m)\u001b[0m \u001b[1;32mas\u001b[0m \u001b[0merr\u001b[0m\u001b[1;33m:\u001b[0m\u001b[1;33m\u001b[0m\u001b[1;33m\u001b[0m\u001b[0m\n\u001b[1;32m--> 547\u001b[1;33m             \u001b[1;32mraise\u001b[0m \u001b[0mConnectionError\u001b[0m\u001b[1;33m(\u001b[0m\u001b[0merr\u001b[0m\u001b[1;33m,\u001b[0m \u001b[0mrequest\u001b[0m\u001b[1;33m=\u001b[0m\u001b[0mrequest\u001b[0m\u001b[1;33m)\u001b[0m\u001b[1;33m\u001b[0m\u001b[1;33m\u001b[0m\u001b[0m\n\u001b[0m\u001b[0;32m    548\u001b[0m \u001b[1;33m\u001b[0m\u001b[0m\n\u001b[0;32m    549\u001b[0m         \u001b[1;32mexcept\u001b[0m \u001b[0mMaxRetryError\u001b[0m \u001b[1;32mas\u001b[0m \u001b[0me\u001b[0m\u001b[1;33m:\u001b[0m\u001b[1;33m\u001b[0m\u001b[1;33m\u001b[0m\u001b[0m\n",
      "\u001b[1;31mConnectionError\u001b[0m: ('Connection aborted.', ConnectionResetError(10054, 'An existing connection was forcibly closed by the remote host', None, 10054, None))"
     ]
    }
   ],
   "source": [
    "dtypes = {\n",
    "    'Variable' : str,\n",
    "    'Code': str,\n",
    "    'Category': str,\n",
    "    'Datasource': str,\n",
    "    'CodeNumber':str,\n",
    "    'Year':str,\n",
    "    'census_geom_year':str,\n",
    "    'GeometryLevel':str\n",
    "}\n",
    "\n",
    "\n",
    "demographic_variables_2020_tract = pd.read_csv(\"Census_Variable_Lists\\census_variables_acs_tract_2020.csv\",dtype=dtypes)\n",
    "\n",
    "#Loop through this?\n",
    "demographic_values_2020_tract=pd.DataFrame()\n",
    "for index, row in demographic_variables_2020_bg.iterrows():\n",
    "    print(index)\n",
    "    df = get_variable_data(row['Year'], row['Datasource Name'],'tract',row['CodeNumber'],row['Variable'], census_api_key, row['census_geom_year'], tahoe_geometry, row['Category'])\n",
    "    \n",
    "    demographic_values_2020_tract = create_or_append_df(demographic_values_2020_tract, df)"
   ]
  },
  {
   "cell_type": "code",
   "execution_count": null,
   "metadata": {},
   "outputs": [],
   "source": [
    "acs_income_data = data_downloads['census_values_acs_blockgroup_2021'].loc[data_downloads['census_values_acs_blockgroup_2021']['variable_category']=='Household Income']\n",
    "grouped_acs_income_data = categorize_values(acs_income_data, 'acs_income_categories.csv','Census Category', 'TRPA Census Report Grouped: ')\n",
    "grouped_acs_income_data['sample_level']=grouped_acs_income_data['sample_level'].replace(\"%20\", \" \")\n",
    "grouped_acs_income_data.to_excel('grouped_acs_income_data.xlsx')\n",
    "#acs_age_data = demographic_values_2020.loc[(demographic_values_2020['variable_category']=='Age') & (demographic_values_2020['dataset']=='acs/acs5')]"
   ]
  },
  {
   "cell_type": "code",
   "execution_count": 76,
   "metadata": {},
   "outputs": [
    {
     "name": "stderr",
     "output_type": "stream",
     "text": [
      "C:\\Users\\amcclary\\AppData\\Local\\Temp\\ipykernel_11272\\1436142715.py:3: SettingWithCopyWarning: \n",
      "A value is trying to be set on a copy of a slice from a DataFrame.\n",
      "Try using .loc[row_indexer,col_indexer] = value instead\n",
      "\n",
      "See the caveats in the documentation: https://pandas.pydata.org/pandas-docs/stable/user_guide/indexing.html#returning-a-view-versus-a-copy\n",
      "  census_df['value'] = census_df['value'].astype(float)\n"
     ]
    }
   ],
   "source": [
    "acs_age_data = data_downloads['census_values_acs_blockgroup_2021'].loc[data_downloads['census_values_acs_blockgroup_2021']['variable_category']=='Age']\n",
    "grouped_acs_age_data = categorize_values(acs_age_data, 'acs_age_categories.csv','Broad Category', 'TRPA Broad Age Categories Grouped: ')\n",
    "grouped_acs_age_data['sample_level']=grouped_acs_age_data['sample_level'].replace(\"%20\", \" \")\n",
    "grouped_acs_age_data.to_excel('acs_age_data.xlsx')"
   ]
  },
  {
   "cell_type": "code",
   "execution_count": 73,
   "metadata": {},
   "outputs": [],
   "source": [
    "acs_disability_data = demographic_values_2020_bg_disability.loc[demographic_values_2020_bg_disability['variable_category']=='Disability By Work']\n",
    "grouped_acs_disability_data = categorize_values(acs_disability_data,'acs_disability_categories.csv', 'Broad Category', 'TRPA Disability Categories Grouped: ')\n",
    "grouped_acs_disability_data['sample_level']= grouped_acs_disability_data['sample_level'].replace(\"%20\", \" \")\n",
    "grouped_acs_disability_data.to_excel('grouped_acs_disability_data.xlsx')"
   ]
  },
  {
   "cell_type": "code",
   "execution_count": null,
   "metadata": {},
   "outputs": [],
   "source": [
    "arcpy.env.workspace = 'C:/path/to/your/geodatabase.gdb'\n",
    "\n",
    "# Define the target table\n",
    "# Replace 'TargetTable' with the name of the table you want to append to.\n",
    "target_table = 'TargetTable'\n",
    "\n",
    "# Get the field names from the target table\n",
    "field_names = [field.name for field in arcpy.ListFields(target_table)]\n",
    "\n",
    "# Filter the DataFrame to include only the fields that match the target table's fields\n",
    "df = df[field_names]\n",
    "\n",
    "# Convert the DataFrame to an ArcPy table (numpy recarray)\n",
    "# Specify the field names in the order you want them to be inserted into the table.\n",
    "data_to_insert = df.to_records(index=False)\n",
    "\n",
    "# Use an InsertCursor to append records to the table\n",
    "# Note that the 'data_to_insert' array should have the same field order as the target table.\n",
    "with arcpy.da.InsertCursor(target_table, field_names) as cursor:\n",
    "    for row in data_to_insert:\n",
    "        cursor.insertRow(row)"
   ]
  },
  {
   "cell_type": "code",
   "execution_count": 28,
   "metadata": {},
   "outputs": [
    {
     "name": "stdout",
     "output_type": "stream",
     "text": [
      "10000.0\n",
      "200000.0\n",
      "$75,000 to $99,999\n",
      "865\n",
      "11784.0\n",
      "11934.0\n",
      "23613.0\n",
      "22.5\n",
      "0.25\n",
      "93749.25\n"
     ]
    }
   ],
   "source": [
    "#test_median = calculate_median_value(clean_income_data,'variable_name', 'variable_code', 'value', 'variable_category', 'Income')\n",
    "grouping_variables = ['state', 'county', 'tract', 'block group', 'year_sample', 'sample_level', 'dataset', 'census_geom_year', 'TRPAID', 'variable_category', 'variable_code', 'variable_name']\n",
    "\n",
    "median_income = calculate_median_value(acs_income_data, 'variable_name', 'variable_code', 'value', 'variable_category', 'Household Income', grouping_variables)\n",
    "\n",
    "median_income.to_excel('blockgroup_median.xlsx')"
   ]
  },
  {
   "cell_type": "code",
   "execution_count": 2,
   "metadata": {},
   "outputs": [
    {
     "ename": "NameError",
     "evalue": "name 'acs_income_data' is not defined",
     "output_type": "error",
     "traceback": [
      "\u001b[1;31m---------------------------------------------------------------------------\u001b[0m",
      "\u001b[1;31mNameError\u001b[0m                                 Traceback (most recent call last)",
      "\u001b[1;32m~\\AppData\\Local\\Temp\\ipykernel_21100\\3908836967.py\u001b[0m in \u001b[0;36m<cell line: 19>\u001b[1;34m()\u001b[0m\n\u001b[0;32m     17\u001b[0m \u001b[1;33m\u001b[0m\u001b[0m\n\u001b[0;32m     18\u001b[0m \u001b[1;31m#Create a copy of the dataframe because we don't want to modify the original\u001b[0m\u001b[1;33m\u001b[0m\u001b[1;33m\u001b[0m\u001b[0m\n\u001b[1;32m---> 19\u001b[1;33m \u001b[0msummary_df\u001b[0m \u001b[1;33m=\u001b[0m \u001b[0macs_income_data\u001b[0m\u001b[1;33m.\u001b[0m\u001b[0mcopy\u001b[0m\u001b[1;33m(\u001b[0m\u001b[1;33m)\u001b[0m\u001b[1;33m\u001b[0m\u001b[1;33m\u001b[0m\u001b[0m\n\u001b[0m\u001b[0;32m     20\u001b[0m \u001b[1;31m#Make sure that the value is an integer\u001b[0m\u001b[1;33m\u001b[0m\u001b[1;33m\u001b[0m\u001b[0m\n\u001b[0;32m     21\u001b[0m \u001b[0msummary_df\u001b[0m\u001b[1;33m[\u001b[0m\u001b[0mcount_column\u001b[0m\u001b[1;33m]\u001b[0m\u001b[1;33m=\u001b[0m\u001b[0msummary_df\u001b[0m\u001b[1;33m[\u001b[0m\u001b[0mcount_column\u001b[0m\u001b[1;33m]\u001b[0m\u001b[1;33m.\u001b[0m\u001b[0mastype\u001b[0m\u001b[1;33m(\u001b[0m\u001b[0mint\u001b[0m\u001b[1;33m)\u001b[0m\u001b[1;33m\u001b[0m\u001b[1;33m\u001b[0m\u001b[0m\n",
      "\u001b[1;31mNameError\u001b[0m: name 'acs_income_data' is not defined"
     ]
    }
   ],
   "source": [
    "def calculate_weighted_median(group):\n",
    "    total_count = group['value'].sum()\n",
    "    group['cumulative_count'] = group['value'].cumsum()\n",
    "    median_index = total_count / 2\n",
    "    \n",
    "    # Find the row that contains the median value\n",
    "    median_row = group[group['cumulative_count'] >= median_index].iloc[0]\n",
    "    lower, upper = median_row['Lower'], median_row['Upper']\n",
    "    \n",
    "    # Calculate the median considering the weights of bins\n",
    "    median = lower + (upper - lower) * (median_index - median_row['cumulative_count'] + median_row['value']) / median_row['value']\n",
    "    print(median)\n",
    "    return median\n",
    "count_column = 'value'\n",
    "sort_column = 'variable_code'\n",
    "bin_column = 'variable_name'\n",
    "\n",
    "#Create a copy of the dataframe because we don't want to modify the original\n",
    "summary_df = acs_income_data.copy()\n",
    "#Make sure that the value is an integer\n",
    "summary_df[count_column]=summary_df[count_column].astype(int)\n",
    "#This part needs to be modified for smaller geometries\n",
    "#Not really relevant if we're going for the smallest geometry - should only be 1 row per category and geometry\n",
    "#summary_df = summary_df.groupby(grouping_variables)[count_column].sum()\n",
    "#summary_df = summary_df.reset_index()\n",
    "#Still need this to get rid of 0s\n",
    "summary_df = summary_df.loc[summary_df[count_column]>=0]\n",
    "\n",
    "\n",
    "#summary_df= summary_df.loc[summary_df[category_field]==category]\n",
    "# Sort the DataFrame based on the variable name column - need to add this back into new groupings\n",
    "summary_df.sort_values(by=sort_column, inplace=True)\n",
    "summary_df = summary_df.reset_index()\n",
    "\n",
    "# Extract lower and upper limits from bin categories\n",
    "pattern = r'(\\d+[\\d,]*)'\n",
    "summary_df['temp'] = summary_df[bin_column].str.replace(',', '').str.findall(pattern)\n",
    "summary_df[['Lower', 'Upper']] = summary_df['temp'].apply(lambda x: pd.Series(x[:2]) if len(x) == 2 else pd.Series([None, None]))\n",
    "summary_df['Lower'] = summary_df['Lower'].astype(float)\n",
    "summary_df['Upper'] = summary_df['Upper'].astype(float)\n",
    "# Handle first category\n",
    "\n",
    "lower_category = summary_df['variable_code'].iloc[0]\n",
    "first_upper = float(summary_df['temp'].iloc[0][0])\n",
    "#convert string to float\n",
    "print(first_upper)\n",
    "summary_df.loc[summary_df['variable_code']==lower_category, 'Lower'] = 0  # Set lower value to 0\n",
    "summary_df.loc[summary_df['variable_code']==lower_category, 'Upper'] = first_upper\n",
    "\n",
    "# Handle last category\n",
    "\n",
    "last_lower = float(summary_df['temp'].iloc[-1][0])\n",
    "upper_category = summary_df['variable_code'].iloc[-1]\n",
    "print(upper_category)\n",
    "print(last_lower)\n",
    "summary_df.loc[summary_df['variable_code']==upper_category, 'Lower'] = last_lower\n",
    "summary_df.loc[summary_df['variable_code']==upper_category, 'Upper'] = np.inf  # Set upper value to infinity\n",
    "#This seems extranous\n",
    "summary_df[count_column]= summary_df[count_column].astype(float)   \n",
    "# Calculate cumulative count\n",
    "#This is where we need to group by everything except for the variable code/name\n",
    "grouping_columns = ['GEO_ID', 'state', 'county', 'tract', 'block group', 'variable_category', 'year_sample', 'sample_level', 'dataset', 'census_geom_year', 'TRPAID']\n",
    "\n",
    "result = summary_df.groupby(grouping_columns, as_index = False).apply(calculate_weighted_median).reset_index(name='weighted_median')\n",
    "result\n",
    "\n",
    "result.to_excel('bg_median_income.xlsx')"
   ]
  },
  {
   "cell_type": "code",
   "execution_count": 19,
   "metadata": {},
   "outputs": [
    {
     "ename": "NameError",
     "evalue": "name 'demographic_values_2020' is not defined",
     "output_type": "error",
     "traceback": [
      "\u001b[1;31m---------------------------------------------------------------------------\u001b[0m",
      "\u001b[1;31mNameError\u001b[0m                                 Traceback (most recent call last)",
      "\u001b[1;32m~\\AppData\\Local\\Temp\\ipykernel_11272\\2490212041.py\u001b[0m in \u001b[0;36m<cell line: 29>\u001b[1;34m()\u001b[0m\n\u001b[0;32m     27\u001b[0m \u001b[0macs_age_categories\u001b[0m \u001b[1;33m=\u001b[0m \u001b[0mpd\u001b[0m\u001b[1;33m.\u001b[0m\u001b[0mread_csv\u001b[0m\u001b[1;33m(\u001b[0m\u001b[1;34m'acs_age_categories.csv'\u001b[0m\u001b[1;33m)\u001b[0m\u001b[1;33m\u001b[0m\u001b[1;33m\u001b[0m\u001b[0m\n\u001b[0;32m     28\u001b[0m \u001b[1;33m\u001b[0m\u001b[0m\n\u001b[1;32m---> 29\u001b[1;33m \u001b[0macs_age_data\u001b[0m \u001b[1;33m=\u001b[0m \u001b[0mdemographic_values_2020\u001b[0m\u001b[1;33m.\u001b[0m\u001b[0mloc\u001b[0m\u001b[1;33m[\u001b[0m\u001b[1;33m(\u001b[0m\u001b[0mdemographic_values_2020\u001b[0m\u001b[1;33m[\u001b[0m\u001b[1;34m'variable_category'\u001b[0m\u001b[1;33m]\u001b[0m\u001b[1;33m==\u001b[0m\u001b[1;34m'Age'\u001b[0m\u001b[1;33m)\u001b[0m \u001b[1;33m&\u001b[0m \u001b[1;33m(\u001b[0m\u001b[0mdemographic_values_2020\u001b[0m\u001b[1;33m[\u001b[0m\u001b[1;34m'dataset'\u001b[0m\u001b[1;33m]\u001b[0m\u001b[1;33m==\u001b[0m\u001b[1;34m'acs/acs5'\u001b[0m\u001b[1;33m)\u001b[0m\u001b[1;33m]\u001b[0m\u001b[1;33m\u001b[0m\u001b[1;33m\u001b[0m\u001b[0m\n\u001b[0m\u001b[0;32m     30\u001b[0m \u001b[1;33m\u001b[0m\u001b[0m\n\u001b[0;32m     31\u001b[0m \u001b[1;31m#add to function\u001b[0m\u001b[1;33m\u001b[0m\u001b[1;33m\u001b[0m\u001b[0m\n",
      "\u001b[1;31mNameError\u001b[0m: name 'demographic_values_2020' is not defined"
     ]
    }
   ],
   "source": [
    "#Start writing some code to create classifications for income and age\n",
    "#This will work as a template for all of these groupings. We can then reselct down to only the relevant ones\n",
    "def categorize_values(census_df, category_csv, category_column):\n",
    "    categories = pd.read_csv(category_csv)\n",
    "    census_df['value'] = census_df['value'].astype(float)\n",
    "    joined_data = census_df.merge(categories, on = 'variable_code', how = 'left')\n",
    "    #This will get rid of any extra columns in the category_csv\n",
    "    group_columns = [column for column in census_df if column not in ['value', 'variable_code', 'variable_name', 'MarginOfError']]\n",
    "    group_columns.append(category_column)\n",
    "    \n",
    "    grouped_data = joined_data.groupby(group_columns, as_index=False)['value'].sum()    \n",
    "    #Need to return this formatted for appending to the table - need to get locations of variable_code and variable name, \n",
    "    #add them in as columns in those locations and then populate them with category column nanme\n",
    "    var_code_col_location = census_df.columns.get_loc('variable_code')\n",
    "    var_name_col_location = census_df.columns.get_loc('variable_name')\n",
    "    var_moe_col_location = census_df.columns.get_loc('MarginOfError')\n",
    "    grouped_data.insert(var_moe_col_location, 'MarginOfError', '')\n",
    "    grouped_data.insert(var_code_col_location, 'variable_code','Grouped Value')\n",
    "    grouped_data.insert(var_name_col_location, 'variable_name','')\n",
    "    grouped_data['variable_code'] = 'Grouped Value'\n",
    "    grouped_data['variable_name'] = grouped_data[category_column]\n",
    "    columns_to_keep = census_df.columns\n",
    "    grouped_data= grouped_data[columns_to_keep]\n",
    "    return grouped_data\n",
    "\n",
    "\n",
    "acs_age_categories = pd.read_csv('acs_age_categories.csv')\n",
    "\n",
    "acs_age_data = demographic_values_2020.loc[(demographic_values_2020['variable_category']=='Age') & (demographic_values_2020['dataset']=='acs/acs5')]\n",
    "\n",
    "#add to function\n",
    "acs_age_data['variable_code'] = acs_age_data['variable_code'].str.split(',').str[0]\n",
    "acs_age_data['value'] = acs_age_data['value'].astype(float)\n",
    "\n",
    "acs_age_data_joined= acs_age_data.merge(acs_age_categories, left_on='variable_code', right_on='variable_code', how='left')\n",
    "\n",
    "#add to function\n",
    "acs_age_data_joined['value'] = acs_age_data_joined['value'].astype(float)\n",
    "group_columns = [column for column in df.columns if column != 'ExcludeColumn']\n",
    "\n",
    "\n",
    "broad_age_groups = acs_age_data_joined.groupby(['state','county', 'tract', 'year_sample', 'Broad Category'], as_index=False)['value'].sum()\n",
    "census_age_groups = acs_age_data_joined.groupby(['state','county', 'tract', 'year_sample', 'Census Category'], as_index=False)['value'].sum()\n",
    "\n",
    "test_broad_age_groups = categorize_values(acs_age_data,'acs_age_categories.csv','Broad Category')"
   ]
  },
  {
   "cell_type": "code",
   "execution_count": null,
   "metadata": {},
   "outputs": [],
   "source": [
    "dtypes = {\n",
    "    'Variable' : str,\n",
    "    'Code': str,\n",
    "    'Category': str,\n",
    "    'Datasource': str,\n",
    "    'CodeNumber':str,\n",
    "    'Year':str,\n",
    "    'census_geom_year':str,\n",
    "    'GeometryLevel':str\n",
    "}\n",
    "\n",
    "\n",
    "demographic_variables_2020_bg = pd.read_csv(\"Census_Variable_Lists\\census_variables_acs_tract_2020.csv\",dtype=dtypes)\n",
    "\n",
    "#Loop through this?\n",
    "demographic_values_2020_bg=pd.DataFrame()\n",
    "for index, row in demographic_variables_2020_bg.iterrows():\n",
    "    print(index)\n",
    "    df = get_variable_data(row['Year'], row['Datasource Name'],'block group',row['CodeNumber'],row['Variable'], census_api_key, row['census_geom_year'], tahoe_geometry, row['Category'])\n",
    "    \n",
    "    demographic_values_2020_bg = create_or_append_df(demographic_values_2020_bg, df)"
   ]
  },
  {
   "cell_type": "code",
   "execution_count": null,
   "metadata": {},
   "outputs": [],
   "source": [
    "demographic_variables_vehicles = pd.read_csv(\"demographic_variables_Vehicles.csv\")"
   ]
  },
  {
   "cell_type": "code",
   "execution_count": null,
   "metadata": {},
   "outputs": [],
   "source": [
    "demographic_values_vehicles=pd.DataFrame()\n",
    "for index, row in demographic_variables_vehicles.iterrows():\n",
    "    df = get_variable_data(row['Year'], row['Datasource Name'],'tract',row['CodeNumber'],row['Variable'], census_api_key, row['census_geom_year'], tahoe_geometry, row['Category'])\n",
    "    #df = get_variable_data(row['Year'], row['Datasource Name'],'tract',row['CodeNumber'],row['Variable'], census_api_key, row['census_geom_year'], tahoe_geometry )\n",
    "    demographic_values_vehicles = create_or_append_df(demographic_values_vehicles, df)"
   ]
  },
  {
   "cell_type": "code",
   "execution_count": null,
   "metadata": {},
   "outputs": [],
   "source": [
    "demographic_values_vehicles.to_excel(\"Vehicle_Stats.xlsx\")"
   ]
  },
  {
   "cell_type": "code",
   "execution_count": null,
   "metadata": {},
   "outputs": [],
   "source": [
    "demographic_variables_2000 = pd.read_csv(\"demographic_variables_2000.csv\")"
   ]
  },
  {
   "cell_type": "code",
   "execution_count": null,
   "metadata": {},
   "outputs": [],
   "source": [
    "demographic_values_2000=pd.DataFrame()\n",
    "for index, row in demographic_variables_2000.iterrows():\n",
    "    df = get_variable_data(row['Year'], row['Datasource Name'],'tract',row['CodeNumber'],row['Variable'], census_api_key, row['census_geom_year'], tahoe_geometry, row['Category'])\n",
    "    #df = get_variable_data(row['Year'], row['Datasource Name'],'tract',row['CodeNumber'],row['Variable'], census_api_key, row['census_geom_year'], tahoe_geometry )\n",
    "    demographic_values_2000 = create_or_append_df(demographic_values_2000, df)"
   ]
  },
  {
   "cell_type": "code",
   "execution_count": null,
   "metadata": {},
   "outputs": [],
   "source": [
    "demographic_values_2000.to_excel(\"Comparison.xlsx\")"
   ]
  },
  {
   "cell_type": "code",
   "execution_count": null,
   "metadata": {},
   "outputs": [],
   "source": [
    "demographic_variables_2010 = pd.read_csv(\"demographic_variables_2010.csv\")\n",
    "demographic_values_2010=pd.DataFrame()\n",
    "for index, row in demographic_variables_2010.iterrows():\n",
    "    df = get_variable_data(row['Year'], row['Datasource Name'],'tract',row['CodeNumber'],row['Variable'], census_api_key, row['census_geom_year'], tahoe_geometry, row['Category'])\n",
    "    #df = get_variable_data(row['Year'], row['Datasource Name'],'tract',row['CodeNumber'],row['Variable'], census_api_key, row['census_geom_year'], tahoe_geometry )\n",
    "    demographic_values_2010 = create_or_append_df(demographic_values_2010, df)"
   ]
  },
  {
   "cell_type": "code",
   "execution_count": null,
   "metadata": {},
   "outputs": [],
   "source": [
    "demographic_values_2010.to_excel(\"comparison_2010.xlsx\")"
   ]
  },
  {
   "cell_type": "code",
   "execution_count": null,
   "metadata": {},
   "outputs": [],
   "source": [
    "dtypes = {\n",
    "    'Variable' : str,\n",
    "    'Code': str,\n",
    "    'Category': str,\n",
    "    'Datasource': str,\n",
    "    'CodeNumber':str,\n",
    "    'Year':str,\n",
    "    'census_geom_year':str,\n",
    "    'GeometryLevel':str\n",
    "}\n",
    "\n",
    "\n",
    "demographic_variables_2020 = pd.read_csv(\"demographic_variables_2020.csv\",dtype=dtypes)\n",
    "demographic_values_2020=pd.DataFrame()\n",
    "for index, row in demographic_variables_2020.iterrows():\n",
    "    df = get_variable_data(row['Year'], row['Datasource Name'],'tract',row['CodeNumber'],row['Variable'], census_api_key, row['census_geom_year'], tahoe_geometry, row['Category'])\n",
    "    #df = get_variable_data(row['Year'], row['Datasource Name'],'tract',row['CodeNumber'],row['Variable'], census_api_key, row['census_geom_year'], tahoe_geometry )\n",
    "    demographic_values_2020 = create_or_append_df(demographic_values_2020, df)"
   ]
  },
  {
   "cell_type": "code",
   "execution_count": null,
   "metadata": {},
   "outputs": [],
   "source": [
    "demographic_values_2020.to_excel(\"demographic_variables_2020-2021.xlsx\")"
   ]
  },
  {
   "cell_type": "code",
   "execution_count": null,
   "metadata": {},
   "outputs": [],
   "source": [
    "dtypes = {\n",
    "    'Variable' : str,\n",
    "    'Code': str,\n",
    "    'Category': str,\n",
    "    'Datasource': str,\n",
    "    'CodeNumber':str,\n",
    "    'Year':str,\n",
    "    'census_geom_year':str,\n",
    "    'GeometryLevel':str\n",
    "}\n",
    "\n",
    "\n",
    "demographic_variables_2020_bg = pd.read_csv(\"demographic_variables_acs_bg.csv\",dtype=dtypes)\n",
    "\n",
    "\n",
    "demographic_values_2020_bg=pd.DataFrame()\n",
    "for index, row in demographic_variables_2020_bg.iterrows():\n",
    "    print(index)\n",
    "    df = get_variable_data(row['Year'], row['Datasource Name'],'block group',row['CodeNumber'],row['Variable'], census_api_key, row['census_geom_year'], tahoe_geometry, row['Category'])\n",
    "    #df = get_variable_data(row['Year'], row['Datasource Name'],'tract',row['CodeNumber'],row['Variable'], census_api_key, row['census_geom_year'], tahoe_geometry )\n",
    "    demographic_values_2020_bg = create_or_append_df(demographic_values_2020_bg, df)"
   ]
  },
  {
   "cell_type": "code",
   "execution_count": null,
   "metadata": {},
   "outputs": [],
   "source": [
    "tahoe_geometry.to_excel(\"tg_test.xlsx\")\n",
    "demographic_values_2020_bg.to_excel(\"demo_test.xlsx\")"
   ]
  },
  {
   "cell_type": "code",
   "execution_count": null,
   "metadata": {},
   "outputs": [],
   "source": [
    "print(len(demographic_values_2020_bg))"
   ]
  },
  {
   "cell_type": "code",
   "execution_count": null,
   "metadata": {},
   "outputs": [],
   "source": [
    "#Start writing some code to create classifications for income and age\n",
    "#This will work as a template for all of these groupings. We can then reselct down to only the relevant ones\n",
    "def categorize_values(census_df, category_csv, category_column):\n",
    "    categories = pd.read_csv(category_csv)\n",
    "    joined_data = census_df.merge(categories, on = 'variable_code', how = 'left')\n",
    "    #This will get rid of any extra columns in the category_csv\n",
    "    group_columns = [column for column in census_df if column not in ['value', 'variable_code', 'variable_name', 'MarginOfError']]\n",
    "    group_columns.append(category_column)\n",
    "    grouped_data = joined_data.groupby(group_columns, as_index=False)['value'].sum()    \n",
    "    #Need to return this formatted for appending to the table - need to get locations of variable_code and variable name, \n",
    "    #add them in as columns in those locations and then populate them with category column nanme\n",
    "    var_code_col_location = census_df.columns.get_loc('variable_code')\n",
    "    var_name_col_location = census_df.columns.get_loc('variable_name')\n",
    "    var_moe_col_location = census_df.columns.get_loc('MarginOfError')\n",
    "    grouped_data.insert(var_moe_col_location, 'MarginOfError', '')\n",
    "    grouped_data.insert(var_code_col_location, 'variable_code','Grouped Value')\n",
    "    grouped_data.insert(var_name_col_location, 'variable_name','')\n",
    "    grouped_data['variable_code'] = 'Grouped Value'\n",
    "    grouped_data['variable_name'] = grouped_data[category_column]\n",
    "    columns_to_keep = census_df.columns\n",
    "    grouped_data= grouped_data[columns_to_keep]\n",
    "    return grouped_data\n",
    "\n",
    "\n",
    "acs_age_categories = pd.read_csv('acs_age_categories.csv')\n",
    "\n",
    "acs_age_data = demographic_values_2020.loc[(demographic_values_2020['variable_category']=='Age') & (demographic_values_2020['dataset']=='acs/acs5')]\n",
    "\n",
    "#add to function\n",
    "acs_age_data['variable_code'] = acs_age_data['variable_code'].str.split(',').str[0]\n",
    "acs_age_data['value'] = acs_age_data['value'].astype(float)\n",
    "\n",
    "acs_age_data_joined= acs_age_data.merge(acs_age_categories, left_on='variable_code', right_on='variable_code', how='left')\n",
    "\n",
    "#add to function\n",
    "acs_age_data_joined['value'] = acs_age_data_joined['value'].astype(float)\n",
    "group_columns = [column for column in df.columns if column != 'ExcludeColumn']\n",
    "\n",
    "\n",
    "broad_age_groups = acs_age_data_joined.groupby(['state','county', 'tract', 'year_sample', 'Broad Category'], as_index=False)['value'].sum()\n",
    "census_age_groups = acs_age_data_joined.groupby(['state','county', 'tract', 'year_sample', 'Census Category'], as_index=False)['value'].sum()\n",
    "\n",
    "test_broad_age_groups = categorize_values(acs_age_data,'acs_age_categories.csv','Broad Category')\n"
   ]
  },
  {
   "cell_type": "code",
   "execution_count": null,
   "metadata": {},
   "outputs": [],
   "source": [
    "all_demographic_values = demographic_values_2000.append(demographic_values_2010, ignore_index= True)\n",
    "all_demographic_values = all_demographic_values.append(demographic_values_2020, ignore_index = True)"
   ]
  },
  {
   "cell_type": "code",
   "execution_count": null,
   "metadata": {},
   "outputs": [],
   "source": [
    "all_demographic_values.to_excel('demographic_values_total.xlsx')"
   ]
  },
  {
   "cell_type": "code",
   "execution_count": null,
   "metadata": {},
   "outputs": [],
   "source": [
    "#Get rid of weird -6666 values\n",
    "#Group by the variables \n",
    "#demographic_values_2020.head()\n",
    "clean_income_data = demographic_values_2020.copy()\n",
    "clean_income_data['value']=clean_income_data['value'].astype(int)\n",
    "clean_income_data=clean_income_data.loc[clean_income_data['county']!='510']\n",
    "clean_income_data = clean_income_data.groupby(['variable_code', 'variable_name', 'variable_category'])[\"value\"].sum()\n",
    "clean_income_data = clean_income_data.reset_index()\n",
    "clean_income_data = clean_income_data.loc[clean_income_data['value']>=0]\n",
    "\n",
    "#print(clean_income_data.head())\n",
    "test_median = calculate_median_value(clean_income_data,'variable_name', 'variable_code', 'value', 'variable_category', 'Income')\n",
    "#print(test_median.head())\n",
    "test_median.to_excel(\"median_income.xlsx\")"
   ]
  },
  {
   "cell_type": "code",
   "execution_count": null,
   "metadata": {},
   "outputs": [],
   "source": [
    "group_variables = ['variable_code', 'variable_name', 'variable_category']\n",
    "\n",
    "test_median = calculate_median_value(clean_income_data,'variable_name', 'variable_code', 'value', 'variable_category', 'Income', group_variables)"
   ]
  },
  {
   "cell_type": "code",
   "execution_count": null,
   "metadata": {},
   "outputs": [],
   "source": [
    "test_homevalues = calculate_median_value(demographic_values_2020,'variable_name', 'variable_code', 'value', 'variable_category', 'Home Value', group_variables)\n",
    "test_homevalues.to_excel('homevalue.xlsx')"
   ]
  },
  {
   "cell_type": "code",
   "execution_count": null,
   "metadata": {},
   "outputs": [],
   "source": [
    "demographic_values_2020.to_excel(\"2020_raw_check.xlsx\")"
   ]
  },
  {
   "cell_type": "code",
   "execution_count": null,
   "metadata": {},
   "outputs": [],
   "source": [
    "#Put in code to run the median calculating function\n",
    "        # Create a new DataFrame to avoid modifying the original one\n",
    "summary_df = fd.copy()\n",
    "summary_df= summary_df.loc[summary_df[category_field]==category]\n",
    "# Sort the DataFrame based on the variable name column\n",
    "summary_df.sort_values(by=sort_column, inplace=True)\n",
    "\n",
    "\n",
    "# Extract lower and upper limits from bin categories\n",
    "pattern = r'(\\d+[\\d,]*)'\n",
    "summary_df['temp'] = summary_df[bin_column].str.replace(',', '').str.findall(pattern)\n",
    "summary_df[['Lower', 'Upper']] = summary_df['temp'].apply(lambda x: pd.Series(x[:2]) if len(x) == 2 else pd.Series([None, None]))\n",
    "summary_df['Lower'] = summary_df['Lower'].astype(float)\n",
    "summary_df['Upper'] = summary_df['Upper'].astype(float)\n",
    "# Handle first category\n",
    "\n",
    "first_upper = summary_df['temp'].iloc[0]\n",
    "print(first_upper)\n",
    "summary_df.loc[0, 'Lower'] = 0  # Set lower value to 0\n",
    "summary_df.loc[0, 'Upper'] = first_upper\n",
    "\n",
    "# Handle last category\n",
    "\n",
    "last_lower = summary_df['temp'].iloc[-1]\n",
    "\n",
    "summary_df.loc[summary_df.index[-1], 'Lower'] = last_lower\n",
    "summary_df.loc[summary_df.index[-1], 'Upper'] = np.inf  # Set upper value to infinity\n",
    "summary_df[count_column]= summary_df[count_column].astype(float)   \n",
    "# Calculate cumulative count\n",
    "summary_df['Cumulative_Count'] = summary_df[count_column].cumsum()\n",
    "\n",
    "# Calculate total count\n",
    "total_count = summary_df[count_column].sum()\n",
    "\n",
    "# Find the bin where the cumulative count exceeds or equals half of the total count\n",
    "median_bin = summary_df.loc[summary_df['Cumulative_Count'] >= total_count / 2, bin_column].iloc[0]\n",
    "print('m')\n",
    "# Estimate the median value\n",
    "previous_cumulative_count = summary_df.loc[summary_df[bin_column] < median_bin, 'Cumulative_Count'].max()\n",
    "previous_lower = summary_df.loc[summary_df['Cumulative_Count'] == previous_cumulative_count, 'Lower'].iloc[0]\n",
    "previous_upper = summary_df.loc[summary_df['Cumulative_Count'] == previous_cumulative_count, 'Upper'].iloc[0]\n",
    "\n",
    "next_cumulative_count = summary_df.loc[summary_df[bin_column] > median_bin, 'Cumulative_Count'].min()\n",
    "next_lower = summary_df.loc[summary_df['Cumulative_Count'] == next_cumulative_count, 'Lower'].iloc[0]\n",
    "next_upper = summary_df.loc[summary_df['Cumulative_Count'] == next_cumulative_count, 'Upper'].iloc[0]\n",
    "\n",
    "# Interpolate the median value within the bin range\n",
    "cumulative_diff = total_count / 2 - previous_cumulative_count\n",
    "interpolation_ratio = cumulative_diff / (next_cumulative_count - previous_cumulative_count)\n",
    "\n",
    "median_value = previous_upper + interpolation_ratio * (next_lower - previous_upper)\n",
    "\n",
    "# Add the estimated median value to the new DataFrame\n",
    "summary_df['Estimated_Median'] = median_value\n",
    "\n"
   ]
  },
  {
   "cell_type": "code",
   "execution_count": null,
   "metadata": {},
   "outputs": [],
   "source": [
    "\n",
    "\n",
    "\n",
    "\n",
    "acs_variables_2011=demographic_variables.loc[(demographic_variables['Datasource Name']=='acs/acs5')&(demographic_variables['Year']=='2011-2021' )&(demographic_variables['Added']!='Loaded')].reset_index()\n",
    "acs_variables_2010=demographic_variables.loc[(demographic_variables['Datasource Name']=='acs/acs5')&(demographic_variables['Year']=='2010-2021')&(demographic_variables['Added']!='Loaded')].reset_index()\n",
    "dec_variables=demographic_variables.loc[(demographic_variables['Datasource Name']=='dec/sf1')].reset_index()\n",
    "\n",
    "df_census_data=pd.DataFrame()\n",
    "year_range_2011 = [str(num) for num in range(2011, 2022)]\n",
    "year_range_2010 = [str(num) for num in range(2010, 2022)]\n",
    "\n",
    "for index, row in acs_variables_2011.iterrows():\n",
    "    df = load_variable_multiple_year(year_range_2011, row['Datasource Name'],'tract',row['CodeNumber'],row['Variable'], census_api_key, '', tahoe_geometry, row['Category'])\n",
    "    #df = get_variable_data(row['Year'], row['Datasource Name'],'tract',row['CodeNumber'],row['Variable'], census_api_key, row['census_geom_year'], tahoe_geometry )\n",
    "    df_census_data = create_or_append_df(df_census_data, df)\n",
    "\n",
    "\n",
    "\n",
    "\n",
    "\n"
   ]
  },
  {
   "cell_type": "code",
   "execution_count": null,
   "metadata": {},
   "outputs": [],
   "source": [
    "for index, row in acs_variables_2010.iterrows():\n",
    "    \n",
    "    df = load_variable_multiple_year(year_range_2010, row['Datasource Name'],'tract',row['CodeNumber'],row['Variable'], census_api_key, '', tahoe_geometry, row['Category'])\n",
    "    #df = get_variable_data(row['Year'], row['Datasource Name'],'tract',row['CodeNumber'],row['Variable'], census_api_key, row['census_geom_year'], tahoe_geometry )\n",
    "    df_census_data = create_or_append_df(df_census_data, df)"
   ]
  },
  {
   "cell_type": "code",
   "execution_count": null,
   "metadata": {},
   "outputs": [],
   "source": [
    "df_census_data.to_excel('acs_data_additional.xlsx')\n"
   ]
  },
  {
   "cell_type": "code",
   "execution_count": null,
   "metadata": {},
   "outputs": [],
   "source": [
    "#Test out census blocks"
   ]
  },
  {
   "cell_type": "code",
   "execution_count": null,
   "metadata": {},
   "outputs": [],
   "source": [
    "\n",
    "#Load 2011-2019 Variables - this takes a long time\n",
    "variables=pd.read_csv(\"demographic_variables.csv\")\n",
    "acs_variables=variables.loc[(variables['Datasource Name']=='acs/acs5')]\n",
    "acs_variables=acs_variables.reset_index()\n",
    "df_test_acs=pd.DataFrame()\n",
    "year_range = [str(num) for num in range(2011, 2020)]\n",
    "\n",
    "for index, row in acs_variables.iterrows():\n",
    "    df = load_variable_multiple_year(year_range_acs, row['Datasource Name'],'tract',row['CodeNumber'],row['Variable'], census_api_key, '2010', tahoe_geometry, row['Category'])\n",
    "    #df = get_variable_data(row['Year'], row['Datasource Name'],'tract',row['CodeNumber'],row['Variable'], census_api_key, row['census_geom_year'], tahoe_geometry )\n",
    "    if df_test_acs is None:\n",
    "        df_test_acs=df\n",
    "    else:\n",
    "        df_test_acs=pd.concat([df_test_acs, df])\n",
    "df_test_acs.to_csv('acs_demographic_data_2020.csv')"
   ]
  },
  {
   "cell_type": "code",
   "execution_count": null,
   "metadata": {},
   "outputs": [],
   "source": [
    "#Load 2010 Variables\n",
    "variables=pd.read_csv(\"demographic_variables.csv\")\n",
    "dec_variables=variables.loc[(variables['Datasource Name']=='dec/sf1')&(variables['Year']==2000)]\n",
    "dec_variables=dec_variables.reset_index()\n",
    "df_test_dec=pd.DataFrame()\n",
    "year_range_dec = ['2000']\n",
    "for index, row in dec_variables.iterrows():\n",
    "    df = load_variable_multiple_year(year_range_dec, row['Datasource Name'],'tract',row['CodeNumber'],row['Variable'], census_api_key, '2000', tahoe_geometry, row['Category'])\n",
    "    #df = get_variable_data(row['Year'], row['Datasource Name'],'tract',row['CodeNumber'],row['Variable'], census_api_key, row['census_geom_year'], tahoe_geometry )\n",
    "    if df_test_dec is None:\n",
    "        df_test_dec=df\n",
    "    else:\n",
    "        df_test_dec=pd.concat([df_test_dec, df])\n",
    "df_test_dec.to_csv('dec_demographic_data_2000.csv')"
   ]
  },
  {
   "cell_type": "code",
   "execution_count": null,
   "metadata": {},
   "outputs": [],
   "source": [
    "variable_name = 'Work From Home'\n",
    "variable_code = 'B99084_005E'\n",
    "variable_datasource = 'acs/acs5'\n",
    "variable_year_range=[ '2011','2012', '2013', '2014', '2015', '2016', '2017', '2018', '2019', '2020','2021']\n",
    "census_geom_year = '2010'\n",
    "variable_category = 'Employment'\n",
    "df_work_from_home=pd.DataFrame()\n",
    "for year in variable_year_range:\n",
    "    df=get_non_tahoe_data(year,variable_datasource,variable_code,variable_name,census_api_key,'2010',variable_category)\n",
    "    df_work_from_home = create_or_append_df(df_work_from_home,df)\n",
    "variable_name = 'Did Not Work From Home'\n",
    "variable_code = 'B99084_002E'\n",
    "for year in variable_year_range:\n",
    "    df=get_non_tahoe_data(year,variable_datasource,variable_code,variable_name,census_api_key,'2010',variable_category)\n",
    "    df_work_from_home = create_or_append_df(df_work_from_home,df)\n"
   ]
  },
  {
   "cell_type": "code",
   "execution_count": null,
   "metadata": {},
   "outputs": [],
   "source": [
    "df_work_from_home.to_excel('regional_work_from_home.xlsx')"
   ]
  },
  {
   "cell_type": "code",
   "execution_count": null,
   "metadata": {},
   "outputs": [],
   "source": [
    "#Load 2020 variables - currently using the redistricting data because they haven't released the full group yet\n",
    "variables=pd.read_csv(\"demographic_variables.csv\")\n",
    "dec_variables=variables.loc[(variables['Datasource Name']=='dec/pl')&(variables['Year']==2020)]\n",
    "dec_variables=dec_variables.reset_index()\n",
    "df_test_dec=pd.DataFrame()\n",
    "year_range_dec = ['2020']\n",
    "for index, row in dec_variables.iterrows():\n",
    "    df = load_variable_multiple_year(year_range_dec, row['Datasource Name'],'tract',row['CodeNumber'],row['Variable'], census_api_key, '2020', tahoe_geometry, row['Category'])\n",
    "    #df = get_variable_data(row['Year'], row['Datasource Name'],'tract',row['CodeNumber'],row['Variable'], census_api_key, row['census_geom_year'], tahoe_geometry )\n",
    "    if df_test_dec is None:\n",
    "        df_test_dec=df\n",
    "    else:\n",
    "        df_test_dec=pd.concat([df_test_dec, df])\n",
    "df_test_dec.to_csv('dec_demographic_data_2020.csv')"
   ]
  },
  {
   "cell_type": "code",
   "execution_count": null,
   "metadata": {},
   "outputs": [],
   "source": [
    "#Load 2010 variables\n",
    "variables=pd.read_csv(\"demographic_variables.csv\")\n",
    "dec_variables=variables.loc[(variables['Datasource Name']=='dec/pl')&(variables['Year']==2010)]\n",
    "dec_variables=dec_variables.reset_index()\n",
    "df_test_dec=pd.DataFrame()\n",
    "year_range_dec = ['2010']\n",
    "for index, row in dec_variables.iterrows():\n",
    "    df = load_variable_multiple_year(year_range_dec, row['Datasource Name'],'tract',row['CodeNumber'],row['Variable'], census_api_key, '2010', tahoe_geometry, row['Category'])\n",
    "    #df = get_variable_data(row['Year'], row['Datasource Name'],'tract',row['CodeNumber'],row['Variable'], census_api_key, row['census_geom_year'], tahoe_geometry )\n",
    "    if df_test_dec is None:\n",
    "        df_test_dec=df\n",
    "    else:\n",
    "        df_test_dec=pd.concat([df_test_dec, df])\n",
    "df_test_dec.to_csv('dec_demographic_data_2010.csv')"
   ]
  },
  {
   "cell_type": "code",
   "execution_count": null,
   "metadata": {},
   "outputs": [],
   "source": [
    "#Template for manual download\n",
    "variable_name = 'Population'\n",
    "variable_code = 'B08134_002E'\n",
    "variable_geometry_level = 'tract'\n",
    "variable_datasource = 'acs/acs5'\n",
    "variable_year_range=[ '2011','2012', '2013', '2014', '2015', '2016', '2017', '2018', '2019']\n",
    "census_geom_year = '2010'\n",
    "variable_category = 'Transportation'\n",
    "df_variable=pd.DataFrame()\n",
    "for year in variable_year_range:\n",
    "    df = get_variable_data(year,variable_datasource,variable_geometry_level,variable_code,variable_name, census_api_key, census_geom_year, tahoe_geometry, variable_category )\n",
    "    if df_variable.empty:\n",
    "        df_variable=df\n",
    "    else:\n",
    "        df_variable=pd.concat([df_variable, df])\n",
    "print(df_variable.head())\n",
    "\n",
    "df_variable.to_csv('acs_travel_time.csv')"
   ]
  },
  {
   "cell_type": "code",
   "execution_count": null,
   "metadata": {},
   "outputs": [],
   "source": [
    "variable_name = 'Housing Units'\n",
    "variable_code = 'H001001'\n",
    "variable_geometry_level = 'tract'\n",
    "variable_datasource = 'dec/sf1'\n",
    "variable_year_range=['2010']\n",
    "census_geom_year = '2010'\n",
    "\n",
    "df_variable=pd.DataFrame()\n",
    "for year in variable_year_range:\n",
    "    df = get_variable_data(year,variable_datasource,variable_geometry_level,variable_code,variable_name, census_api_key, census_geom_year, tahoe_geometry )\n",
    "    if df_variable.empty:\n",
    "        df_variable=df\n",
    "    else:\n",
    "        df_variable=pd.concat([df_variable, df])\n",
    "print(df_variable.head())"
   ]
  },
  {
   "cell_type": "code",
   "execution_count": null,
   "metadata": {},
   "outputs": [],
   "source": [
    "variable_name = 'Population'\n",
    "variable_code = 'P008001'\n",
    "variable_geometry_level = 'tract'\n",
    "variable_datasource = 'dec/sf1'\n",
    "variable_year_range=['2010']\n",
    "census_geom_year = '2010'\n",
    "\n",
    "df_variable=pd.DataFrame()\n",
    "for year in variable_year_range:\n",
    "    df = get_variable_data(year,variable_datasource,variable_geometry_level,variable_code,variable_name, census_api_key, census_geom_year )\n",
    "    if df_variable.empty:\n",
    "        df_variable=df\n",
    "    else:\n",
    "        df_variable=pd.concat([df_variable, df])\n",
    "\n",
    "df_variable['GEO_ID']=df_variable['GEO_ID'].str.split('US').str[1]\n",
    "df_variable['Geom_Code']=df_variable['GEO_ID']+df_variable['census_geom_year'].astype(str)\n",
    "\n",
    "tahoe_variable = df_variable[df_variable['Geom_Code'].isin(tahoe_geometry['GeomCode'])]\n",
    "\n",
    "print(tahoe_variable.head())\n",
    "\n",
    "tahoe_variable.to_csv('population_numbers.csv')\n",
    "\n"
   ]
  },
  {
   "cell_type": "code",
   "execution_count": null,
   "metadata": {},
   "outputs": [],
   "source": [
    "variable_name = 'Median Income'\n",
    "variable_code = 'B06011_001E'\n",
    "variable_geometry_level = 'tract'\n",
    "variable_datasource = 'acs/acs5'\n",
    "variable_year_range=['2020','2021']\n",
    "census_geom_year = '2010'\n",
    "year_range = [str(num) for num in range(2011, 2020)]\n",
    "df_variable=pd.DataFrame()\n",
    "for year in year_range:\n",
    "    df = get_variable_data(year,variable_datasource,variable_geometry_level,variable_code,variable_name, census_api_key, census_geom_year, tahoe_geometry,'Income' )\n",
    "    if df_variable.empty:\n",
    "        df_variable=df\n",
    "    else:\n",
    "        df_variable=pd.concat([df_variable, df])\n",
    "\n",
    "df_variable.to_csv('MedianIncome_Tract_2011.csv')\n",
    "print(df_variable.head())"
   ]
  },
  {
   "cell_type": "code",
   "execution_count": null,
   "metadata": {},
   "outputs": [],
   "source": [
    "#Load 2011-2019 Variables - this takes a long time\n",
    "variables=pd.read_csv(\"demographic_variables.csv\")\n",
    "acs_variables=variables.loc[(variables['Datasource Name']=='acs/acs5')&(variables['Category']=='Employment')]\n",
    "acs_variables=acs_variables.reset_index()\n",
    "df_test_acs=pd.DataFrame()\n",
    "year_range = [str(num) for num in range(2011, 2020)]\n",
    "year_range_2020 = ['2020','2021']\n",
    "\n",
    "for index, row in acs_variables.iterrows():\n",
    "    df = load_variable_multiple_year(year_range_2020, row['Datasource Name'],'tract',row['CodeNumber'],row['Variable'], census_api_key, '2020', tahoe_geometry, row['Category'])\n",
    "    #df = get_variable_data(row['Year'], row['Datasource Name'],'tract',row['CodeNumber'],row['Variable'], census_api_key, row['census_geom_year'], tahoe_geometry )\n",
    "    if df_test_acs is None:\n",
    "        df_test_acs=df\n",
    "    else:\n",
    "        df_test_acs=pd.concat([df_test_acs, df])\n",
    "df_test_acs.to_excel('acs_employment_data_2020.xlsx')\n",
    "\n"
   ]
  },
  {
   "cell_type": "code",
   "execution_count": null,
   "metadata": {},
   "outputs": [],
   "source": [
    "df_test_acs.to_excel('acs_employment_data_2011.xlsx')"
   ]
  },
  {
   "cell_type": "markdown",
   "metadata": {},
   "source": [
    "# Group Data to categories"
   ]
  },
  {
   "cell_type": "markdown",
   "metadata": {},
   "source": [
    "## Group Age data"
   ]
  },
  {
   "cell_type": "code",
   "execution_count": 32,
   "metadata": {},
   "outputs": [
    {
     "name": "stderr",
     "output_type": "stream",
     "text": [
      "c:\\Program Files\\ArcGIS\\Pro\\bin\\Python\\envs\\arcgispro-py3\\lib\\site-packages\\pandas\\io\\sql.py:762: UserWarning: pandas only support SQLAlchemy connectable(engine/connection) ordatabase string URI or sqlite3 DBAPI2 connectionother DBAPI2 objects are not tested, please consider using SQLAlchemy\n",
      "  warnings.warn(\n"
     ]
    }
   ],
   "source": [
    "conn = pyodbc.connect(conn_str)\n",
    "\n",
    "query = \"Select * from sde.Census_Demographics where variable_category = 'age' and dataset = 'acs/acs5'\"\n",
    "# Execute the query and fetch the results\n",
    "age_data = pd.read_sql_query(query, conn)\n",
    "\n",
    "# Close the database connection\n",
    "conn.close()\n",
    "\n",
    "\n",
    "\n"
   ]
  },
  {
   "cell_type": "markdown",
   "metadata": {},
   "source": [
    "### Group to Census Categories"
   ]
  },
  {
   "cell_type": "code",
   "execution_count": 33,
   "metadata": {},
   "outputs": [
    {
     "name": "stdout",
     "output_type": "stream",
     "text": [
      "['GEO_ID', 'state', 'county', 'tract', 'block_group', 'variable_category', 'year_sample', 'sample_level', 'dataset', 'census_geom_year', 'TRPAID', 'NEIGHBORHOOD', 'Data_Scale', 'Census Category with Sex']\n"
     ]
    }
   ],
   "source": [
    "age_categories = 'acs_age_categories.csv'\n",
    "grouped_acs_age_data = categorize_values(age_data, age_categories ,'Census Category with Sex', 'TRPA Census Age Sex Categories Grouped: ')"
   ]
  },
  {
   "cell_type": "code",
   "execution_count": 34,
   "metadata": {},
   "outputs": [],
   "source": [
    "grouped_acs_age_data.to_excel('Census_Data_Downloads\\grouped_acs_age__sex_census.xlsx')"
   ]
  },
  {
   "cell_type": "code",
   "execution_count": 39,
   "metadata": {},
   "outputs": [
    {
     "name": "stderr",
     "output_type": "stream",
     "text": [
      "c:\\Program Files\\ArcGIS\\Pro\\bin\\Python\\envs\\arcgispro-py3\\lib\\site-packages\\pandas\\io\\sql.py:762: UserWarning: pandas only support SQLAlchemy connectable(engine/connection) ordatabase string URI or sqlite3 DBAPI2 connectionother DBAPI2 objects are not tested, please consider using SQLAlchemy\n",
      "  warnings.warn(\n"
     ]
    }
   ],
   "source": [
    "conn = pyodbc.connect(conn_str)\n",
    "\n",
    "query = \"Select * from sde.Census_Demographics where variable_category = 'age' and dataset = 'dec/dhc'\"\n",
    "# Execute the query and fetch the results\n",
    "age_data = pd.read_sql_query(query, conn)\n",
    "\n",
    "# Close the database connection\n",
    "conn.close()\n"
   ]
  },
  {
   "cell_type": "code",
   "execution_count": 40,
   "metadata": {},
   "outputs": [
    {
     "name": "stdout",
     "output_type": "stream",
     "text": [
      "['GEO_ID', 'state', 'county', 'tract', 'block_group', 'variable_category', 'year_sample', 'sample_level', 'dataset', 'census_geom_year', 'TRPAID', 'NEIGHBORHOOD', 'Data_Scale', 'Census Category with Sex']\n",
      "['GEO_ID', 'state', 'county', 'tract', 'block_group', 'variable_category', 'year_sample', 'sample_level', 'dataset', 'census_geom_year', 'TRPAID', 'NEIGHBORHOOD', 'Data_Scale', 'Census Category']\n"
     ]
    }
   ],
   "source": [
    "age_categories = 'dec_age_categories_2020.csv'\n",
    "grouped_dec_age_data_sex = categorize_values(age_data, age_categories ,'Census Category with Sex', 'TRPA Census Age Sex Categories Grouped: ')\n",
    "grouped_dec_age_data = categorize_values(age_data, age_categories ,'Census Category', 'TRPA Census Age Categories Grouped: ')"
   ]
  },
  {
   "cell_type": "code",
   "execution_count": 41,
   "metadata": {},
   "outputs": [],
   "source": [
    "grouped_dec_age_data_sex.to_excel('Census_Data_Downloads\\grouped_dec_age_data_sex.xlsx')\n",
    "grouped_dec_age_data.to_excel('Census_Data_Downloads\\grouped_dec_age_data.xlsx')"
   ]
  },
  {
   "cell_type": "markdown",
   "metadata": {},
   "source": [
    "## Group Income Data"
   ]
  },
  {
   "cell_type": "code",
   "execution_count": null,
   "metadata": {},
   "outputs": [],
   "source": [
    "conn = pyodbc.connect(conn_str)\n",
    "\n",
    "query = \"Select * from sde.Census_Demographics where variable_category = 'age'\"\n",
    "# Execute the query and fetch the results\n",
    "age_data = pd.read_sql_query(query, conn)\n",
    "\n",
    "# Close the database connection\n",
    "conn.close()"
   ]
  },
  {
   "cell_type": "markdown",
   "metadata": {},
   "source": [
    "## Group 1990 Data"
   ]
  },
  {
   "cell_type": "code",
   "execution_count": 6,
   "metadata": {},
   "outputs": [
    {
     "name": "stderr",
     "output_type": "stream",
     "text": [
      "c:\\Program Files\\ArcGIS\\Pro\\bin\\Python\\envs\\arcgispro-py3\\lib\\site-packages\\pandas\\io\\sql.py:762: UserWarning: pandas only support SQLAlchemy connectable(engine/connection) ordatabase string URI or sqlite3 DBAPI2 connectionother DBAPI2 objects are not tested, please consider using SQLAlchemy\n",
      "  warnings.warn(\n"
     ]
    }
   ],
   "source": [
    "conn = pyodbc.connect(conn_str)\n",
    "\n",
    "query = \"Select * from sde.Census_Demographics where variable_category = 'age' and year_sample = 1990\"\n",
    "# Execute the query and fetch the results\n",
    "age_data_1990 = pd.read_sql_query(query, conn)\n",
    "\n",
    "# Close the database connection\n",
    "conn.close()"
   ]
  },
  {
   "cell_type": "code",
   "execution_count": 8,
   "metadata": {},
   "outputs": [
    {
     "name": "stdout",
     "output_type": "stream",
     "text": [
      "['GEO_ID', 'state', 'county', 'tract', 'block_group', 'variable_category', 'year_sample', 'sample_level', 'dataset', 'census_geom_year', 'TRPAID', 'NEIGHBORHOOD', 'Data_Scale', 'Census Category']\n"
     ]
    }
   ],
   "source": [
    "age_categories = 'age_categories_1990.csv'\n",
    "grouped_1990_age_data = categorize_values(age_data_1990, age_categories ,'Census Category', 'TRPA Census Age Categories Grouped: ')"
   ]
  },
  {
   "cell_type": "code",
   "execution_count": 9,
   "metadata": {},
   "outputs": [],
   "source": [
    "grouped_1990_age_data.to_excel('grouped_1990_age_data.xlsx')"
   ]
  },
  {
   "cell_type": "markdown",
   "metadata": {},
   "source": [
    "# Generate Basin Estimates"
   ]
  },
  {
   "cell_type": "markdown",
   "metadata": {},
   "source": [
    "## Basinwide Sums"
   ]
  },
  {
   "cell_type": "markdown",
   "metadata": {},
   "source": [
    "### Population"
   ]
  },
  {
   "cell_type": "code",
   "execution_count": 5,
   "metadata": {},
   "outputs": [
    {
     "name": "stderr",
     "output_type": "stream",
     "text": [
      "c:\\Users\\amcclary\\AppData\\Local\\ESRI\\conda\\envs\\arcgispro-py3-dbf\\lib\\site-packages\\pandas\\io\\sql.py:762: UserWarning: pandas only support SQLAlchemy connectable(engine/connection) ordatabase string URI or sqlite3 DBAPI2 connectionother DBAPI2 objects are not tested, please consider using SQLAlchemy\n",
      "  warnings.warn(\n"
     ]
    }
   ],
   "source": [
    "conn = pyodbc.connect(conn_str)\n",
    "\n",
    "query = \"Select * from sde.Census_Demographics where variable_name = 'Population Total' or variable_name = 'Total Population'\"\n",
    "# Execute the query and fetch the results\n",
    "population_data = pd.read_sql_query(query, conn)\n",
    "\n",
    "# Close the database connection\n",
    "conn.close()"
   ]
  },
  {
   "cell_type": "code",
   "execution_count": 12,
   "metadata": {},
   "outputs": [],
   "source": [
    "filtered_population_data = population_data.loc[(population_data['county']!='510')&(population_data['tract']!='990000')]\n",
    "summarized_population_data = filtered_population_data.groupby(['variable_code', 'year_sample'], as_index=False).sum(['value'])\n"
   ]
  },
  {
   "cell_type": "code",
   "execution_count": 11,
   "metadata": {},
   "outputs": [],
   "source": [
    "filtered_population_data.to_excel('filtered_population_data.xlsx')"
   ]
  },
  {
   "cell_type": "markdown",
   "metadata": {},
   "source": [
    "## Basinwide Medians"
   ]
  },
  {
   "cell_type": "markdown",
   "metadata": {},
   "source": [
    "### Income"
   ]
  },
  {
   "cell_type": "code",
   "execution_count": 10,
   "metadata": {},
   "outputs": [
    {
     "name": "stderr",
     "output_type": "stream",
     "text": [
      "c:\\Program Files\\ArcGIS\\Pro\\bin\\Python\\envs\\arcgispro-py3\\lib\\site-packages\\pandas\\io\\sql.py:762: UserWarning: pandas only support SQLAlchemy connectable(engine/connection) ordatabase string URI or sqlite3 DBAPI2 connectionother DBAPI2 objects are not tested, please consider using SQLAlchemy\n",
      "  warnings.warn(\n"
     ]
    }
   ],
   "source": [
    "conn = pyodbc.connect(conn_str)\n",
    "\n",
    "query = \"Select * from sde.Census_Demographics where variable_category = 'Household Income'\"\n",
    "# Execute the query and fetch the results\n",
    "Income_data = pd.read_sql_query(query, conn)\n",
    "\n",
    "# Close the database connection\n",
    "conn.close()"
   ]
  },
  {
   "cell_type": "code",
   "execution_count": 17,
   "metadata": {},
   "outputs": [
    {
     "name": "stdout",
     "output_type": "stream",
     "text": [
      "5000.0\n",
      "150000.0\n",
      "$30,000 to $32,499\n",
      "10\n",
      "10233.0\n",
      "12060.0\n",
      "21475.0\n",
      "504.5\n",
      "0.403277378097522\n",
      "31007.596722621904\n"
     ]
    }
   ],
   "source": [
    "grouping_variables = ['variable_category', 'year_sample', 'dataset', 'variable_code', 'variable_name']\n",
    "\n",
    "clean_income_data_1990 = Income_data.loc[(Income_data['county']!='510') & (Income_data['year_sample']==1990)]\n",
    "bin_column= 'variable_name'\n",
    "sort_column = 'variable_code'\n",
    "count_column = 'value'\n",
    "category_field = 'variable_category'\n",
    "category = 'Household Income'\n",
    "\n",
    "median_income_basin = calculate_median_value(clean_income_data_1990, bin_column, sort_column, count_column, category_field, category,grouping_variables)"
   ]
  }
 ],
 "metadata": {
  "kernelspec": {
   "display_name": "Python 3",
   "language": "python",
   "name": "python3"
  },
  "language_info": {
   "codemirror_mode": {
    "name": "ipython",
    "version": 3
   },
   "file_extension": ".py",
   "mimetype": "text/x-python",
   "name": "python",
   "nbconvert_exporter": "python",
   "pygments_lexer": "ipython3",
   "version": "3.9.16"
  },
  "orig_nbformat": 4
 },
 "nbformat": 4,
 "nbformat_minor": 2
}
