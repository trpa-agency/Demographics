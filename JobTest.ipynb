{
 "cells": [
  {
   "cell_type": "code",
   "execution_count": 1,
   "metadata": {},
   "outputs": [],
   "source": [
    "import pandas as pd\n",
    "import numpy as np\n",
    "import requests\n",
    "import pyodbc\n",
    "import arcpy\n",
    "from arcgis.features import FeatureLayer\n",
    "# This is using Andy's Census API KEy\n",
    "census_api_key = '9a73d08c296b844e58f1c70bd19c831826da5cbf'\n",
    "\n",
    "# Need to define datatypes so that FIPS code doesn't get cast as int and drop leading 0s\n",
    "dtypes = {\n",
    "    'YEAR' : str,\n",
    "    'STATE': str,\n",
    "    'GEOGRAPHY': str,\n",
    "    'GEOID': str,\n",
    "    'TRPAID':str,\n",
    "    'NEIGHBORHOOD': str\n",
    "}\n",
    "\n",
    "#Manually defined list of census tracts that are within the basin\n",
    " \n",
    "service_url = 'https://maps.trpa.org/server/rest/services/Demographics/MapServer/27'\n",
    "\n",
    "feature_layer = FeatureLayer(service_url)\n",
    "tahoe_geometry_fields = ['YEAR', 'STATE', 'GEOGRAPHY', 'GEOID', 'TRPAID', 'NEIGHBORHOOD']\n",
    "query_result = feature_layer.query(out_fields=\",\".join(tahoe_geometry_fields))\n",
    "# Convert the query result to a list of dictionaries\n",
    "feature_list = query_result.features\n",
    "\n",
    "# Create a pandas DataFrame from the list of dictionaries\n",
    "tahoe_geometry = pd.DataFrame([feature.attributes for feature in feature_list])"
   ]
  },
  {
   "cell_type": "code",
   "execution_count": 15,
   "metadata": {},
   "outputs": [],
   "source": [
    "def get_jobs_data(year, census_geom_year, variable, variablename, census_api_key, tahoe_geometry, variable_category):\n",
    "    base_url = 'https://api.census.gov/data'\n",
    "    df_total=pd.DataFrame()\n",
    "    \n",
    "    #Formatting to match html get request\n",
    "    #get the zipcodes for inclusion from tahoe_geometry\n",
    "    zipcodes = tahoe_geometry['GEOID'].loc[(tahoe_geometry['YEAR']==census_geom_year)&(tahoe_geometry['GEOGRAPHY']=='ZIP CODE')]\n",
    "    zipcodes = [int(num) for num in zipcodes]\n",
    "    print(zipcodes)\n",
    "    \n",
    "    for zipcode in zipcodes:\n",
    "        #print(f'{base_url}/{year}/cbp?get={variable}&for={geometry_return}:*&in=state:{state}%20county:{county}{geometry_level}&key={census_api_key}')\n",
    "        request_url = f'{base_url}/{year}/cbp?get={variable}&for=zip%20code:{zipcode}&key={census_api_key}'\n",
    "        print(request_url) \n",
    "        response = requests.get(request_url)\n",
    "        \n",
    "        df = pd.DataFrame(response.json())\n",
    "        #The json returns column names in the first row\n",
    "        df.columns = df.iloc[0]\n",
    "        df = df[1:]\n",
    "        #Might as well add counties and states at this stage\n",
    "        if df_total.empty:\n",
    "            df_total=df\n",
    "        else:\n",
    "            df_total=pd.concat([df_total, df])\n",
    "    return df_total"
   ]
  },
  {
   "cell_type": "code",
   "execution_count": 16,
   "metadata": {},
   "outputs": [
    {
     "name": "stdout",
     "output_type": "stream",
     "text": [
      "[89451, 96140, 96148, 96143, 96150, 96145, 89448, 89449, 89413, 96141, 96142]\n",
      "https://api.census.gov/data/2021/cbp?get=EMP&for=zip%20code:89451&key=9a73d08c296b844e58f1c70bd19c831826da5cbf\n",
      "https://api.census.gov/data/2021/cbp?get=EMP&for=zip%20code:96140&key=9a73d08c296b844e58f1c70bd19c831826da5cbf\n",
      "https://api.census.gov/data/2021/cbp?get=EMP&for=zip%20code:96148&key=9a73d08c296b844e58f1c70bd19c831826da5cbf\n",
      "https://api.census.gov/data/2021/cbp?get=EMP&for=zip%20code:96143&key=9a73d08c296b844e58f1c70bd19c831826da5cbf\n",
      "https://api.census.gov/data/2021/cbp?get=EMP&for=zip%20code:96150&key=9a73d08c296b844e58f1c70bd19c831826da5cbf\n",
      "https://api.census.gov/data/2021/cbp?get=EMP&for=zip%20code:96145&key=9a73d08c296b844e58f1c70bd19c831826da5cbf\n",
      "https://api.census.gov/data/2021/cbp?get=EMP&for=zip%20code:89448&key=9a73d08c296b844e58f1c70bd19c831826da5cbf\n",
      "https://api.census.gov/data/2021/cbp?get=EMP&for=zip%20code:89449&key=9a73d08c296b844e58f1c70bd19c831826da5cbf\n",
      "https://api.census.gov/data/2021/cbp?get=EMP&for=zip%20code:89413&key=9a73d08c296b844e58f1c70bd19c831826da5cbf\n",
      "https://api.census.gov/data/2021/cbp?get=EMP&for=zip%20code:96141&key=9a73d08c296b844e58f1c70bd19c831826da5cbf\n",
      "https://api.census.gov/data/2021/cbp?get=EMP&for=zip%20code:96142&key=9a73d08c296b844e58f1c70bd19c831826da5cbf\n"
     ]
    }
   ],
   "source": [
    "test = get_jobs_data('2021', 2020, 'EMP', 'Employees', census_api_key, tahoe_geometry, 'test')"
   ]
  }
 ],
 "metadata": {
  "kernelspec": {
   "display_name": "Python 3",
   "language": "python",
   "name": "python3"
  },
  "language_info": {
   "codemirror_mode": {
    "name": "ipython",
    "version": 3
   },
   "file_extension": ".py",
   "mimetype": "text/x-python",
   "name": "python",
   "nbconvert_exporter": "python",
   "pygments_lexer": "ipython3",
   "version": "3.9.18"
  }
 },
 "nbformat": 4,
 "nbformat_minor": 2
}
