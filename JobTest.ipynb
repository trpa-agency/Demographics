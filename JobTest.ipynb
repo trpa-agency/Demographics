{
 "cells": [
  {
   "cell_type": "code",
   "execution_count": 2,
   "metadata": {},
   "outputs": [],
   "source": [
    "import pandas as pd\n",
    "import numpy as np\n",
    "import requests\n",
    "import pyodbc\n",
    "import arcpy\n",
    "from arcgis.features import FeatureLayer\n",
    "# This is using Andy's Census API KEy\n",
    "census_api_key = '9a73d08c296b844e58f1c70bd19c831826da5cbf'\n",
    "\n",
    "# Need to define datatypes so that FIPS code doesn't get cast as int and drop leading 0s\n",
    "dtypes = {\n",
    "    'YEAR' : str,\n",
    "    'STATE': str,\n",
    "    'GEOGRAPHY': str,\n",
    "    'GEOID': str,\n",
    "    'TRPAID':str,\n",
    "    'NEIGHBORHOOD': str\n",
    "}\n",
    "\n",
    "#Manually defined list of census tracts that are within the basin\n",
    " \n",
    "service_url = 'https://maps.trpa.org/server/rest/services/Demographics/MapServer/27'\n",
    "\n",
    "feature_layer = FeatureLayer(service_url)\n",
    "tahoe_geometry_fields = ['YEAR', 'STATE', 'GEOGRAPHY', 'GEOID', 'TRPAID', 'NEIGHBORHOOD']\n",
    "query_result = feature_layer.query(out_fields=\",\".join(tahoe_geometry_fields))\n",
    "# Convert the query result to a list of dictionaries\n",
    "feature_list = query_result.features\n",
    "\n",
    "# Create a pandas DataFrame from the list of dictionaries\n",
    "tahoe_geometry = pd.DataFrame([feature.attributes for feature in feature_list])"
   ]
  },
  {
   "cell_type": "code",
   "execution_count": 5,
   "metadata": {},
   "outputs": [
    {
     "ename": "Exception",
     "evalue": "An error occurred.\n(Error Code: 502)",
     "output_type": "error",
     "traceback": [
      "\u001b[1;31m---------------------------------------------------------------------------\u001b[0m",
      "\u001b[1;31mException\u001b[0m                                 Traceback (most recent call last)",
      "\u001b[1;32m~\\AppData\\Local\\Temp\\ipykernel_27044\\860305431.py\u001b[0m in \u001b[0;36m<cell line: 10>\u001b[1;34m()\u001b[0m\n\u001b[0;32m      8\u001b[0m     \u001b[1;32mreturn\u001b[0m \u001b[0msdf\u001b[0m\u001b[1;33m\u001b[0m\u001b[1;33m\u001b[0m\u001b[0m\n\u001b[0;32m      9\u001b[0m \u001b[1;33m\u001b[0m\u001b[0m\n\u001b[1;32m---> 10\u001b[1;33m \u001b[0mzipcodes\u001b[0m \u001b[1;33m=\u001b[0m \u001b[0mdownload_sdf\u001b[0m\u001b[1;33m(\u001b[0m\u001b[1;34m'https://services.arcgis.com/P3ePLMYs2RVChkJx/arcgis/rest/services/USA_ZIP_Code_Areas_anaylsis/FeatureServer/0'\u001b[0m\u001b[1;33m)\u001b[0m\u001b[1;33m\u001b[0m\u001b[1;33m\u001b[0m\u001b[0m\n\u001b[0m",
      "\u001b[1;32m~\\AppData\\Local\\Temp\\ipykernel_27044\\860305431.py\u001b[0m in \u001b[0;36mdownload_sdf\u001b[1;34m(service_url)\u001b[0m\n\u001b[0;32m      3\u001b[0m \u001b[1;32mdef\u001b[0m \u001b[0mdownload_sdf\u001b[0m\u001b[1;33m(\u001b[0m\u001b[0mservice_url\u001b[0m\u001b[1;33m)\u001b[0m\u001b[1;33m:\u001b[0m\u001b[1;33m\u001b[0m\u001b[1;33m\u001b[0m\u001b[0m\n\u001b[0;32m      4\u001b[0m     \u001b[0mfeature_layer\u001b[0m \u001b[1;33m=\u001b[0m \u001b[0mFeatureLayer\u001b[0m\u001b[1;33m(\u001b[0m\u001b[0mservice_url\u001b[0m\u001b[1;33m)\u001b[0m\u001b[1;33m\u001b[0m\u001b[1;33m\u001b[0m\u001b[0m\n\u001b[1;32m----> 5\u001b[1;33m     \u001b[0mquery_result\u001b[0m \u001b[1;33m=\u001b[0m \u001b[0mfeature_layer\u001b[0m\u001b[1;33m.\u001b[0m\u001b[0mquery\u001b[0m\u001b[1;33m(\u001b[0m\u001b[1;33m)\u001b[0m\u001b[1;33m\u001b[0m\u001b[1;33m\u001b[0m\u001b[0m\n\u001b[0m\u001b[0;32m      6\u001b[0m     \u001b[1;31m# Convert the query result to a list of dictionaries\u001b[0m\u001b[1;33m\u001b[0m\u001b[1;33m\u001b[0m\u001b[0m\n\u001b[0;32m      7\u001b[0m     \u001b[0msdf\u001b[0m \u001b[1;33m=\u001b[0m \u001b[0mquery_result\u001b[0m\u001b[1;33m.\u001b[0m\u001b[0msdf\u001b[0m\u001b[1;33m\u001b[0m\u001b[1;33m\u001b[0m\u001b[0m\n",
      "\u001b[1;32mc:\\Users\\amcclary\\AppData\\Local\\ESRI\\conda\\envs\\arcgispro-py3-dbf\\lib\\site-packages\\arcgis\\features\\layer.py\u001b[0m in \u001b[0;36mquery\u001b[1;34m(self, where, out_fields, time_filter, geometry_filter, return_geometry, return_count_only, return_ids_only, return_distinct_values, return_extent_only, group_by_fields_for_statistics, statistic_filter, result_offset, result_record_count, object_ids, distance, units, max_allowable_offset, out_sr, geometry_precision, gdb_version, order_by_fields, out_statistics, return_z, return_m, multipatch_option, quantization_parameters, return_centroid, return_all_records, result_type, historic_moment, sql_format, return_true_curves, return_exceeded_limit_features, as_df, datum_transformation, **kwargs)\u001b[0m\n\u001b[0;32m   2408\u001b[0m                 \u001b[0mparams\u001b[0m\u001b[1;33m[\u001b[0m\u001b[1;34m\"resultOffset\"\u001b[0m\u001b[1;33m]\u001b[0m \u001b[1;33m=\u001b[0m \u001b[0mmax_records\u001b[0m \u001b[1;33m*\u001b[0m \u001b[0mi\u001b[0m\u001b[1;33m\u001b[0m\u001b[1;33m\u001b[0m\u001b[0m\n\u001b[0;32m   2409\u001b[0m                 \u001b[1;32mif\u001b[0m \u001b[1;32mnot\u001b[0m \u001b[0mas_df\u001b[0m\u001b[1;33m:\u001b[0m\u001b[1;33m\u001b[0m\u001b[1;33m\u001b[0m\u001b[0m\n\u001b[1;32m-> 2410\u001b[1;33m                     \u001b[0mrecords\u001b[0m \u001b[1;33m=\u001b[0m \u001b[0mself\u001b[0m\u001b[1;33m.\u001b[0m\u001b[0m_query\u001b[0m\u001b[1;33m(\u001b[0m\u001b[0murl\u001b[0m\u001b[1;33m,\u001b[0m \u001b[0mparams\u001b[0m\u001b[1;33m,\u001b[0m \u001b[0mraw\u001b[0m\u001b[1;33m=\u001b[0m\u001b[0mas_raw\u001b[0m\u001b[1;33m)\u001b[0m\u001b[1;33m\u001b[0m\u001b[1;33m\u001b[0m\u001b[0m\n\u001b[0m\u001b[0;32m   2411\u001b[0m \u001b[1;33m\u001b[0m\u001b[0m\n\u001b[0;32m   2412\u001b[0m                     \u001b[1;32mif\u001b[0m \u001b[0mresult\u001b[0m\u001b[1;33m:\u001b[0m\u001b[1;33m\u001b[0m\u001b[1;33m\u001b[0m\u001b[0m\n",
      "\u001b[1;32mc:\\Users\\amcclary\\AppData\\Local\\ESRI\\conda\\envs\\arcgispro-py3-dbf\\lib\\site-packages\\arcgis\\features\\layer.py\u001b[0m in \u001b[0;36m_query\u001b[1;34m(self, url, params, raw, **kwargs)\u001b[0m\n\u001b[0;32m   3671\u001b[0m \u001b[1;33m\u001b[0m\u001b[0m\n\u001b[0;32m   3672\u001b[0m             \u001b[1;32melse\u001b[0m\u001b[1;33m:\u001b[0m\u001b[1;33m\u001b[0m\u001b[1;33m\u001b[0m\u001b[0m\n\u001b[1;32m-> 3673\u001b[1;33m                 \u001b[1;32mraise\u001b[0m \u001b[0mqueryException\u001b[0m\u001b[1;33m\u001b[0m\u001b[1;33m\u001b[0m\u001b[0m\n\u001b[0m\u001b[0;32m   3674\u001b[0m \u001b[1;33m\u001b[0m\u001b[0m\n\u001b[0;32m   3675\u001b[0m         \u001b[1;32mdef\u001b[0m \u001b[0mis_true\u001b[0m\u001b[1;33m(\u001b[0m\u001b[0mx\u001b[0m\u001b[1;33m)\u001b[0m\u001b[1;33m:\u001b[0m\u001b[1;33m\u001b[0m\u001b[1;33m\u001b[0m\u001b[0m\n",
      "\u001b[1;32mc:\\Users\\amcclary\\AppData\\Local\\ESRI\\conda\\envs\\arcgispro-py3-dbf\\lib\\site-packages\\arcgis\\features\\layer.py\u001b[0m in \u001b[0;36m_query\u001b[1;34m(self, url, params, raw, **kwargs)\u001b[0m\n\u001b[0;32m   3624\u001b[0m         \u001b[1;34m\"\"\"returns results of query\"\"\"\u001b[0m\u001b[1;33m\u001b[0m\u001b[1;33m\u001b[0m\u001b[0m\n\u001b[0;32m   3625\u001b[0m         \u001b[1;32mtry\u001b[0m\u001b[1;33m:\u001b[0m\u001b[1;33m\u001b[0m\u001b[1;33m\u001b[0m\u001b[0m\n\u001b[1;32m-> 3626\u001b[1;33m             result = self._con.post(\n\u001b[0m\u001b[0;32m   3627\u001b[0m                 \u001b[0mpath\u001b[0m\u001b[1;33m=\u001b[0m\u001b[0murl\u001b[0m\u001b[1;33m,\u001b[0m\u001b[1;33m\u001b[0m\u001b[1;33m\u001b[0m\u001b[0m\n\u001b[0;32m   3628\u001b[0m                 \u001b[0mpostdata\u001b[0m\u001b[1;33m=\u001b[0m\u001b[0mparams\u001b[0m\u001b[1;33m,\u001b[0m\u001b[1;33m\u001b[0m\u001b[1;33m\u001b[0m\u001b[0m\n",
      "\u001b[1;32mc:\\Users\\amcclary\\AppData\\Local\\ESRI\\conda\\envs\\arcgispro-py3-dbf\\lib\\site-packages\\arcgis\\gis\\_impl\\_con\\_connection.py\u001b[0m in \u001b[0;36mpost\u001b[1;34m(self, path, params, files, **kwargs)\u001b[0m\n\u001b[0;32m   1522\u001b[0m         \u001b[1;32mif\u001b[0m \u001b[0mreturn_raw_response\u001b[0m\u001b[1;33m:\u001b[0m\u001b[1;33m\u001b[0m\u001b[1;33m\u001b[0m\u001b[0m\n\u001b[0;32m   1523\u001b[0m             \u001b[1;32mreturn\u001b[0m \u001b[0mresp\u001b[0m\u001b[1;33m\u001b[0m\u001b[1;33m\u001b[0m\u001b[0m\n\u001b[1;32m-> 1524\u001b[1;33m         return self._handle_response(\n\u001b[0m\u001b[0;32m   1525\u001b[0m             \u001b[0mresp\u001b[0m\u001b[1;33m=\u001b[0m\u001b[0mresp\u001b[0m\u001b[1;33m,\u001b[0m\u001b[1;33m\u001b[0m\u001b[1;33m\u001b[0m\u001b[0m\n\u001b[0;32m   1526\u001b[0m             \u001b[0mout_path\u001b[0m\u001b[1;33m=\u001b[0m\u001b[0mout_path\u001b[0m\u001b[1;33m,\u001b[0m\u001b[1;33m\u001b[0m\u001b[1;33m\u001b[0m\u001b[0m\n",
      "\u001b[1;32mc:\\Users\\amcclary\\AppData\\Local\\ESRI\\conda\\envs\\arcgispro-py3-dbf\\lib\\site-packages\\arcgis\\gis\\_impl\\_con\\_connection.py\u001b[0m in \u001b[0;36m_handle_response\u001b[1;34m(self, resp, file_name, out_path, try_json, force_bytes, ignore_error_key)\u001b[0m\n\u001b[0;32m    998\u001b[0m                     \u001b[1;32mreturn\u001b[0m \u001b[0mdata\u001b[0m\u001b[1;33m\u001b[0m\u001b[1;33m\u001b[0m\u001b[0m\n\u001b[0;32m    999\u001b[0m                 \u001b[0merrorcode\u001b[0m \u001b[1;33m=\u001b[0m \u001b[0mdata\u001b[0m\u001b[1;33m[\u001b[0m\u001b[1;34m\"error\"\u001b[0m\u001b[1;33m]\u001b[0m\u001b[1;33m[\u001b[0m\u001b[1;34m\"code\"\u001b[0m\u001b[1;33m]\u001b[0m \u001b[1;32mif\u001b[0m \u001b[1;34m\"code\"\u001b[0m \u001b[1;32min\u001b[0m \u001b[0mdata\u001b[0m\u001b[1;33m[\u001b[0m\u001b[1;34m\"error\"\u001b[0m\u001b[1;33m]\u001b[0m \u001b[1;32melse\u001b[0m \u001b[1;36m0\u001b[0m\u001b[1;33m\u001b[0m\u001b[1;33m\u001b[0m\u001b[0m\n\u001b[1;32m-> 1000\u001b[1;33m                 \u001b[0mself\u001b[0m\u001b[1;33m.\u001b[0m\u001b[0m_handle_json_error\u001b[0m\u001b[1;33m(\u001b[0m\u001b[0mdata\u001b[0m\u001b[1;33m[\u001b[0m\u001b[1;34m\"error\"\u001b[0m\u001b[1;33m]\u001b[0m\u001b[1;33m,\u001b[0m \u001b[0merrorcode\u001b[0m\u001b[1;33m)\u001b[0m\u001b[1;33m\u001b[0m\u001b[1;33m\u001b[0m\u001b[0m\n\u001b[0m\u001b[0;32m   1001\u001b[0m             \u001b[1;32mreturn\u001b[0m \u001b[0mdata\u001b[0m\u001b[1;33m\u001b[0m\u001b[1;33m\u001b[0m\u001b[0m\n\u001b[0;32m   1002\u001b[0m         \u001b[1;32melse\u001b[0m\u001b[1;33m:\u001b[0m\u001b[1;33m\u001b[0m\u001b[1;33m\u001b[0m\u001b[0m\n",
      "\u001b[1;32mc:\\Users\\amcclary\\AppData\\Local\\ESRI\\conda\\envs\\arcgispro-py3-dbf\\lib\\site-packages\\arcgis\\gis\\_impl\\_con\\_connection.py\u001b[0m in \u001b[0;36m_handle_json_error\u001b[1;34m(self, error, errorcode)\u001b[0m\n\u001b[0;32m   1021\u001b[0m \u001b[1;33m\u001b[0m\u001b[0m\n\u001b[0;32m   1022\u001b[0m         \u001b[0merrormessage\u001b[0m \u001b[1;33m=\u001b[0m \u001b[0merrormessage\u001b[0m \u001b[1;33m+\u001b[0m \u001b[1;34m\"\\n(Error Code: \"\u001b[0m \u001b[1;33m+\u001b[0m \u001b[0mstr\u001b[0m\u001b[1;33m(\u001b[0m\u001b[0merrorcode\u001b[0m\u001b[1;33m)\u001b[0m \u001b[1;33m+\u001b[0m \u001b[1;34m\")\"\u001b[0m\u001b[1;33m\u001b[0m\u001b[1;33m\u001b[0m\u001b[0m\n\u001b[1;32m-> 1023\u001b[1;33m         \u001b[1;32mraise\u001b[0m \u001b[0mException\u001b[0m\u001b[1;33m(\u001b[0m\u001b[0merrormessage\u001b[0m\u001b[1;33m)\u001b[0m\u001b[1;33m\u001b[0m\u001b[1;33m\u001b[0m\u001b[0m\n\u001b[0m\u001b[0;32m   1024\u001b[0m \u001b[1;33m\u001b[0m\u001b[0m\n\u001b[0;32m   1025\u001b[0m     def post_multipart(\n",
      "\u001b[1;31mException\u001b[0m: An error occurred.\n(Error Code: 502)"
     ]
    }
   ],
   "source": [
    "#Download HIN data\n",
    "# get spatially enabled dataframe\n",
    "def download_sdf(service_url):\n",
    "    feature_layer = FeatureLayer(service_url)\n",
    "    query_result = feature_layer.query()\n",
    "    # Convert the query result to a list of dictionaries\n",
    "    sdf = query_result.sdf\n",
    "    return sdf\n",
    "\n",
    "zipcodes = download_sdf('https://services.arcgis.com/P3ePLMYs2RVChkJx/arcgis/rest/services/USA_ZIP_Code_Areas_anaylsis/FeatureServer/0')\n"
   ]
  },
  {
   "cell_type": "code",
   "execution_count": 19,
   "metadata": {},
   "outputs": [],
   "source": [
    "def get_jobs_data(year, census_geom_year, variable, variablename, census_api_key, zipcodelist, variable_category):\n",
    "    base_url = 'https://api.census.gov/data'\n",
    "    df_total=pd.DataFrame()\n",
    "    \n",
    "    #Formatting to match html get request\n",
    "    #get the zipcodes for inclusion from tahoe_geometry\n",
    "    zipcodes = zipcodelist['ZIP'].loc[(zipcodelist['Basin']=='Y')&(zipcodelist['Year']==census_geom_year)]\n",
    "    zipcodes = [int(num) for num in zipcodes]\n",
    "    print(zipcodes)\n",
    "    \n",
    "    for zipcode in zipcodes:\n",
    "        #print(f'{base_url}/{year}/cbp?get={variable}&for={geometry_return}:*&in=state:{state}%20county:{county}{geometry_level}&key={census_api_key}')\n",
    "        request_url = f'{base_url}/{year}/cbp?get=NAME,{variable}&for=zip%20code:{zipcode}&key={census_api_key}'\n",
    "        print(request_url) \n",
    "        response = requests.get(request_url)\n",
    "        \n",
    "        df = pd.DataFrame(response.json())\n",
    "        #The json returns column names in the first row\n",
    "        df.columns = df.iloc[0]\n",
    "        df = df[1:]\n",
    "        #Might as well add counties and states at this stage\n",
    "        if df_total.empty:\n",
    "            df_total=df\n",
    "        else:\n",
    "            df_total=pd.concat([df_total, df])\n",
    "    return df_total"
   ]
  },
  {
   "cell_type": "code",
   "execution_count": 15,
   "metadata": {},
   "outputs": [],
   "source": [
    "lookup_csv='Census_Category_Lists/ZipCode_List.csv'\n",
    "zip_lookup = pd.read_csv(lookup_csv)"
   ]
  },
  {
   "cell_type": "code",
   "execution_count": 20,
   "metadata": {},
   "outputs": [
    {
     "name": "stdout",
     "output_type": "stream",
     "text": [
      "[89402, 89413, 89448, 89449, 89450, 89451, 89452, 96140, 96141, 96142, 96143, 96145, 96148, 96150, 96151, 96158]\n",
      "https://api.census.gov/data/2021/cbp?get=NAME,EMP_N_F,EMP&for=zip%20code:89402&key=9a73d08c296b844e58f1c70bd19c831826da5cbf\n",
      "https://api.census.gov/data/2021/cbp?get=NAME,EMP_N_F,EMP&for=zip%20code:89413&key=9a73d08c296b844e58f1c70bd19c831826da5cbf\n",
      "https://api.census.gov/data/2021/cbp?get=NAME,EMP_N_F,EMP&for=zip%20code:89448&key=9a73d08c296b844e58f1c70bd19c831826da5cbf\n",
      "https://api.census.gov/data/2021/cbp?get=NAME,EMP_N_F,EMP&for=zip%20code:89449&key=9a73d08c296b844e58f1c70bd19c831826da5cbf\n",
      "https://api.census.gov/data/2021/cbp?get=NAME,EMP_N_F,EMP&for=zip%20code:89450&key=9a73d08c296b844e58f1c70bd19c831826da5cbf\n",
      "https://api.census.gov/data/2021/cbp?get=NAME,EMP_N_F,EMP&for=zip%20code:89451&key=9a73d08c296b844e58f1c70bd19c831826da5cbf\n",
      "https://api.census.gov/data/2021/cbp?get=NAME,EMP_N_F,EMP&for=zip%20code:89452&key=9a73d08c296b844e58f1c70bd19c831826da5cbf\n",
      "https://api.census.gov/data/2021/cbp?get=NAME,EMP_N_F,EMP&for=zip%20code:96140&key=9a73d08c296b844e58f1c70bd19c831826da5cbf\n",
      "https://api.census.gov/data/2021/cbp?get=NAME,EMP_N_F,EMP&for=zip%20code:96141&key=9a73d08c296b844e58f1c70bd19c831826da5cbf\n",
      "https://api.census.gov/data/2021/cbp?get=NAME,EMP_N_F,EMP&for=zip%20code:96142&key=9a73d08c296b844e58f1c70bd19c831826da5cbf\n",
      "https://api.census.gov/data/2021/cbp?get=NAME,EMP_N_F,EMP&for=zip%20code:96143&key=9a73d08c296b844e58f1c70bd19c831826da5cbf\n",
      "https://api.census.gov/data/2021/cbp?get=NAME,EMP_N_F,EMP&for=zip%20code:96145&key=9a73d08c296b844e58f1c70bd19c831826da5cbf\n",
      "https://api.census.gov/data/2021/cbp?get=NAME,EMP_N_F,EMP&for=zip%20code:96148&key=9a73d08c296b844e58f1c70bd19c831826da5cbf\n",
      "https://api.census.gov/data/2021/cbp?get=NAME,EMP_N_F,EMP&for=zip%20code:96150&key=9a73d08c296b844e58f1c70bd19c831826da5cbf\n",
      "https://api.census.gov/data/2021/cbp?get=NAME,EMP_N_F,EMP&for=zip%20code:96151&key=9a73d08c296b844e58f1c70bd19c831826da5cbf\n",
      "https://api.census.gov/data/2021/cbp?get=NAME,EMP_N_F,EMP&for=zip%20code:96158&key=9a73d08c296b844e58f1c70bd19c831826da5cbf\n"
     ]
    }
   ],
   "source": [
    "jobs_2021 = get_jobs_data('2021', 2021, 'EMP_N_F,EMP', 'Employees', census_api_key, zip_lookup, 'test')"
   ]
  },
  {
   "cell_type": "code",
   "execution_count": 21,
   "metadata": {},
   "outputs": [
    {
     "name": "stdout",
     "output_type": "stream",
     "text": [
      "[89402, 89413, 89448, 89449, 89450, 89451, 89452, 96140, 96141, 96142, 96143, 96145, 96148, 96150, 96151, 96158]\n",
      "https://api.census.gov/data/2020/cbp?get=NAME,EMP_N_F,EMP&for=zip%20code:89402&key=9a73d08c296b844e58f1c70bd19c831826da5cbf\n",
      "https://api.census.gov/data/2020/cbp?get=NAME,EMP_N_F,EMP&for=zip%20code:89413&key=9a73d08c296b844e58f1c70bd19c831826da5cbf\n",
      "https://api.census.gov/data/2020/cbp?get=NAME,EMP_N_F,EMP&for=zip%20code:89448&key=9a73d08c296b844e58f1c70bd19c831826da5cbf\n",
      "https://api.census.gov/data/2020/cbp?get=NAME,EMP_N_F,EMP&for=zip%20code:89449&key=9a73d08c296b844e58f1c70bd19c831826da5cbf\n",
      "https://api.census.gov/data/2020/cbp?get=NAME,EMP_N_F,EMP&for=zip%20code:89450&key=9a73d08c296b844e58f1c70bd19c831826da5cbf\n",
      "https://api.census.gov/data/2020/cbp?get=NAME,EMP_N_F,EMP&for=zip%20code:89451&key=9a73d08c296b844e58f1c70bd19c831826da5cbf\n",
      "https://api.census.gov/data/2020/cbp?get=NAME,EMP_N_F,EMP&for=zip%20code:89452&key=9a73d08c296b844e58f1c70bd19c831826da5cbf\n",
      "https://api.census.gov/data/2020/cbp?get=NAME,EMP_N_F,EMP&for=zip%20code:96140&key=9a73d08c296b844e58f1c70bd19c831826da5cbf\n",
      "https://api.census.gov/data/2020/cbp?get=NAME,EMP_N_F,EMP&for=zip%20code:96141&key=9a73d08c296b844e58f1c70bd19c831826da5cbf\n",
      "https://api.census.gov/data/2020/cbp?get=NAME,EMP_N_F,EMP&for=zip%20code:96142&key=9a73d08c296b844e58f1c70bd19c831826da5cbf\n",
      "https://api.census.gov/data/2020/cbp?get=NAME,EMP_N_F,EMP&for=zip%20code:96143&key=9a73d08c296b844e58f1c70bd19c831826da5cbf\n",
      "https://api.census.gov/data/2020/cbp?get=NAME,EMP_N_F,EMP&for=zip%20code:96145&key=9a73d08c296b844e58f1c70bd19c831826da5cbf\n",
      "https://api.census.gov/data/2020/cbp?get=NAME,EMP_N_F,EMP&for=zip%20code:96148&key=9a73d08c296b844e58f1c70bd19c831826da5cbf\n",
      "https://api.census.gov/data/2020/cbp?get=NAME,EMP_N_F,EMP&for=zip%20code:96150&key=9a73d08c296b844e58f1c70bd19c831826da5cbf\n",
      "https://api.census.gov/data/2020/cbp?get=NAME,EMP_N_F,EMP&for=zip%20code:96151&key=9a73d08c296b844e58f1c70bd19c831826da5cbf\n",
      "https://api.census.gov/data/2020/cbp?get=NAME,EMP_N_F,EMP&for=zip%20code:96158&key=9a73d08c296b844e58f1c70bd19c831826da5cbf\n"
     ]
    }
   ],
   "source": [
    "jobs_2020 = get_jobs_data('2020', 2020, 'EMP_N_F,EMP', 'Employees', census_api_key, zip_lookup, 'test')"
   ]
  }
 ],
 "metadata": {
  "kernelspec": {
   "display_name": "Python 3",
   "language": "python",
   "name": "python3"
  },
  "language_info": {
   "codemirror_mode": {
    "name": "ipython",
    "version": 3
   },
   "file_extension": ".py",
   "mimetype": "text/x-python",
   "name": "python",
   "nbconvert_exporter": "python",
   "pygments_lexer": "ipython3",
   "version": "3.9.18"
  }
 },
 "nbformat": 4,
 "nbformat_minor": 2
}
