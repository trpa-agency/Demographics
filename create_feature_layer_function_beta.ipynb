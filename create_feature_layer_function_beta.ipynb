{
 "cells": [
  {
   "cell_type": "code",
   "execution_count": null,
   "metadata": {},
   "outputs": [],
   "source": [
    "import pandas as pd\n",
    "import os"
   ]
  },
  {
   "cell_type": "code",
   "execution_count": null,
   "metadata": {},
   "outputs": [],
   "source": [
    "def make_flat_featureclass(variable_list, sample_level, year, field_order, geometry_fs, data_fs, fc_name, workspace):\n",
    "    variables=pd.read_csv(variable_list)\n",
    "    filtered_data = data_fs.loc[(data_fs['sample_level']==sample_level)& (data_fs['year_sample']==year)]\n",
    "    filtered_data = filtered_data.loc[filtered_data['variable_code'].isin(variable_list['variable_code'])]\n",
    "    grouped_data = categorize_values(filtered_data, variable_list, 'Broad Category', \"\")\n",
    "    if sample_level == 'tract':\n",
    "        index_fields = ['TRPAID', 'county', 'tract']\n",
    "    else:\n",
    "        index_fields = ['TRPAID', 'county', 'tract','block']\n",
    "    flat_data = grouped_data.pivot(index = index_fields, columns='variable_name', values='value')\n",
    "    flat_data = flat_data.reset_index()\n",
    "    flat_data = flat_data[field_order]\n",
    "    merged_df = pd.merge(geometry_fs, flat_data, on=\"TRPAID\", how=\"inner\")\n",
    "    columns_drop = ['GlobalID', 'YEAR', 'created_date', 'created_user', 'last_edited_date', 'last_edited_user', 'Shape.STArea()', 'Shape.STLength()']\n",
    "    merged_df = merged_df.drop(columns=columns_drop)\n",
    "    merged_df.spatial.to_featureclass(os.path.join(workspace, \"Tahoe_BlockGroup_2021_TDC_Values\"), sanitize_columns=False)"
   ]
  }
 ],
 "metadata": {
  "language_info": {
   "name": "python"
  }
 },
 "nbformat": 4,
 "nbformat_minor": 2
}
