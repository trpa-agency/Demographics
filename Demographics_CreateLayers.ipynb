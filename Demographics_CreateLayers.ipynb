{
 "cells": [
  {
   "cell_type": "markdown",
   "metadata": {},
   "source": [
    "# Aggregate Development and Population"
   ]
  },
  {
   "cell_type": "markdown",
   "metadata": {
    "heading_collapsed": true
   },
   "source": [
    "### Setup"
   ]
  },
  {
   "cell_type": "code",
   "execution_count": 2,
   "metadata": {
    "ExecuteTime": {
     "end_time": "2023-08-18T18:41:56.378006Z",
     "start_time": "2023-08-18T18:41:54.689481Z"
    },
    "hidden": true
   },
   "outputs": [],
   "source": [
    "# import packages\n",
    "import arcpy\n",
    "import os\n",
    "import pyodbc\n",
    "import pandas as pd\n",
    "import numpy as np\n",
    "from sqlalchemy.engine import URL, create_engine\n",
    "from arcgis import GIS\n",
    "from arcgis.features import GeoAccessor, GeoSeriesAccessor\n",
    "\n",
    "# set overwrite to true\n",
    "arcpy.env.overwriteOutput = True\n",
    "\n",
    "# enterprise Geodatabase connection\n",
    "sdeBase = \"F:\\GIS\\DB_CONNECT\\Vector.sde\"\n",
    "\n",
    "# setup sql connection\n",
    "connection_string = \"DRIVER={ODBC Driver 17 for SQL Server};SERVER=sql12;DATABASE=sde;UID=sde;PWD=staff\"\n",
    "connection_url    = URL.create(\"mssql+pyodbc\", query={\"odbc_connect\": connection_string})\n",
    "connection        = create_engine(connection_url)\n",
    "\n",
    "# set workspace\n",
    "arcpy.env.workspace = \"F:\\GIS\\PROJECTS\\ResearchAnalysis\\Demographics\\Workspace.gdb\"\n",
    "workspace           = r\"F:\\GIS\\PROJECTS\\ResearchAnalysis\\Demographics\\Workspace.gdb\"\n",
    "workspace_folder    = r\"F:\\GIS\\PROJECTS\\ResearchAnalysis\\Demographics\"\n",
    "\n",
    "# in memory output file path\n",
    "memory_workspace = \"memory\" + \"\\\\\"\n",
    "\n",
    "# Connect to TRPA Enterprise GIS Portal\n",
    "portal_url = \"https://maps.trpa.org/portal\"\n",
    "gis = GIS(portal_url)"
   ]
  },
  {
   "cell_type": "markdown",
   "metadata": {},
   "source": [
    "## Get Data"
   ]
  },
  {
   "cell_type": "markdown",
   "metadata": {
    "heading_collapsed": true
   },
   "source": [
    "### Get Data from Database"
   ]
  },
  {
   "cell_type": "code",
   "execution_count": 2,
   "metadata": {
    "ExecuteTime": {
     "end_time": "2023-08-15T16:46:21.842254Z",
     "start_time": "2023-08-15T16:29:10.131684Z"
    },
    "hidden": true
   },
   "outputs": [],
   "source": [
    "# sde census features\n",
    "censusGeography = os.path.join(sdeBase, \n",
    "                    \"sde.SDE.Census\\sde.SDE.Tahoe_Census_Geography\")\n",
    "\n",
    "# make feature layer of blocks from 2020\n",
    "blockLayer2020 = arcpy.MakeFeatureLayer_management(\n",
    "                        censusGeography, \n",
    "                        \"Tahoe_Blocks_2020\", \n",
    "                        \"YEAR = 2020 And GEOGRAPHY = 'block'\")\n",
    "\n",
    "# make feature layer of blocks from 2010\n",
    "blockLayer2010 = arcpy.MakeFeatureLayer_management(\n",
    "                        censusGeography, \n",
    "                        \"Tahoe_Blocks_2010\", \n",
    "                        \"YEAR = 2010 And GEOGRAPHY = 'block'\")\n",
    "\n",
    "\n",
    "# export copy to workspace\n",
    "arcpy.conversion.FeatureClassToGeodatabase(blockLayer2020,workspace)\n",
    "\n",
    "# export copy to workspace\n",
    "arcpy.conversion.FeatureClassToGeodatabase(blockLayer2010,workspace)\n",
    "\n",
    "# field list for new block feature class\n",
    "field_list_2010 = [\n",
    " # Add fields to block group 2010\n",
    " 'Block_Population_2010',\n",
    " 'Block_HousingUnits_2010',\n",
    " 'Block_Occupied_2010',\n",
    " 'Block_Vacant_2010',\n",
    " 'Block_Seasonal_2010',\n",
    " 'Block_ResidenatialUnits_2010',\n",
    "]\n",
    "\n",
    "field_list_2020=[\n",
    "# Add fields to block group 2020\n",
    " 'Block_Population_2020',\n",
    " 'Block_HousingUnits_2020',\n",
    " 'Block_Occupied_2020',\n",
    " 'Block_Vacant_2020',\n",
    " 'Block_Seasonal_2020',\n",
    " 'Block_ResidenatialUnits_2020',\n",
    " # Add fields for % change\n",
    " 'Block_PercentChange_Population',\n",
    " 'Block_PercentChange_HousingUnits',\n",
    " 'Block_PercentChange_ResidentialUnits',\n",
    "]\n",
    "\n",
    "# get at workspace blocks\n",
    "tahoeBlocks2010 = os.path.join(workspace, 'Tahoe_Blocks_2010')\n",
    "# get at workspace blocks\n",
    "tahoeBlocks2020 = os.path.join(workspace, 'Tahoe_Blocks_2020')\n",
    "\n",
    "# add fields to workspace blocks\n",
    "for field in field_list_2010:\n",
    "    arcpy.AddField_management(tahoeBlocks2010, field, \"DOUBLE\")\n",
    "\n",
    "for field in field_list_2020:\n",
    "    arcpy.AddField_management(tahoeBlocks2020, field, \"DOUBLE\")"
   ]
  },
  {
   "cell_type": "markdown",
   "metadata": {
    "heading_collapsed": true
   },
   "source": [
    "### Get data from feature service"
   ]
  },
  {
   "cell_type": "code",
   "execution_count": 3,
   "metadata": {
    "ExecuteTime": {
     "end_time": "2023-08-16T21:43:05.782344Z",
     "start_time": "2023-08-16T21:42:56.234334Z"
    },
    "hidden": true
   },
   "outputs": [],
   "source": [
    "# Search for the feature service by keyword\n",
    "feature_layer_item = gis.content.search(query=\"Demographics\", item_type=\"Feature Layer\")[0]\n",
    "\n",
    "# feature sub layer name to get\n",
    "sublayer_name = \"Tahoe Census Geography\"\n",
    "\n",
    "# Query the sublayer by name\n",
    "sublayer = None\n",
    "for layer in feature_layer_item.layers:\n",
    "    if layer.properties.name == sublayer_name:\n",
    "        sublayer = layer\n",
    "        break\n",
    "\n",
    "# create a Spatially Enabled DataFrame\n",
    "sdfCensus = pd.DataFrame.spatial.from_layer(sublayer)\n",
    "\n",
    "# create data frames from filter for block and year\n",
    "sdfBlocks2020 = sdfCensus[(sdfCensus['GEOGRAPHY'] == 'block') & (sdfCensus['YEAR'] == 2020)]\n",
    "sdfBlocks2010 = sdfCensus[(sdfCensus['GEOGRAPHY'] == 'block') & (sdfCensus['YEAR'] == 2010)]"
   ]
  },
  {
   "cell_type": "code",
   "execution_count": 9,
   "metadata": {
    "ExecuteTime": {
     "end_time": "2023-08-17T18:18:43.839790Z",
     "start_time": "2023-08-17T18:18:35.375652Z"
    },
    "hidden": true
   },
   "outputs": [],
   "source": [
    "# Search for the feature layer by keyword\n",
    "feature_layer_item = gis.content.search(query=\"Demographics\", item_type=\"Feature Layer\")[0]\n",
    "\n",
    "# # Access the first result (assuming it's the one you want)\n",
    "# feature_layer_item = search_result[0]\n",
    "table_name = \"Census Data\"\n",
    "\n",
    "# Query the sublayer by name\n",
    "subtable = None\n",
    "for table in feature_layer_item.tables:\n",
    "    if table.properties.name == table_name:\n",
    "        subtable = table\n",
    "        break\n",
    "\n",
    "# create a Spatially Enabled DataFrame object\n",
    "dfCensus = pd.DataFrame.spatial.from_layer(subtable)\n",
    "\n",
    "# Define the filter conditions for each field\n",
    "conditionBlock      = dfCensus['sample_level']  == 'block'\n",
    "condition2010       = dfCensus['year_sample']   == 2010\n",
    "condition2020       = dfCensus['year_sample']   == 2020\n",
    "conditionPopulation = dfCensus['variable_name'] == 'Total Population'\n",
    "conditionHousing    = dfCensus['variable_name'] == 'Total Housing Units'\n",
    "conditionOccupied   = dfCensus['variable_name'] == 'Total Housing Units: Occupied'\n",
    "conditionVacant     = dfCensus['variable_name'] == 'Total Housing Units: Vacant'\n",
    "conditionSeasonal   = dfCensus['variable_name'] == 'Vacant Housing Units: Seasonal, recreational, or occasional use'\n",
    "\n",
    "# filter to create new dfs by variable name\n",
    "dfBlockPop2010           =  dfCensus.loc[conditionBlock & condition2010 & conditionPopulation].copy()\n",
    "dfBlockUnits2010         =  dfCensus.loc[conditionBlock & condition2010 & conditionHousing].copy()\n",
    "dfBlockUnitsOccupied2010 =  dfCensus.loc[conditionBlock & condition2010 & conditionOccupied].copy()\n",
    "dfBlockUnitsVacant2010   =  dfCensus.loc[conditionBlock & condition2010 & conditionVacant].copy()\n",
    "dfBlockUnitsSeasonal2010 =  dfCensus.loc[conditionBlock & condition2010 & conditionSeasonal].copy()\n",
    "\n",
    "# create 2020 data frames from sql query\n",
    "dfBlockPop2020           =  dfCensus[conditionBlock & condition2020 & conditionPopulation].copy()\n",
    "dfBlockUnits2020         =  dfCensus[conditionBlock & condition2020 & conditionHousing].copy()\n",
    "dfBlockUnitsOccupied2020 =  dfCensus[conditionBlock & condition2020 & conditionOccupied].copy()\n",
    "dfBlockUnitsVacant2020   =  dfCensus[conditionBlock & condition2020 & conditionVacant].copy()\n",
    "dfBlockUnitsSeasonal2020 =  dfCensus[conditionBlock & condition2020 & conditionSeasonal].copy()"
   ]
  },
  {
   "cell_type": "markdown",
   "metadata": {
    "heading_collapsed": true
   },
   "source": [
    "## Join Data Frames and Blocks"
   ]
  },
  {
   "cell_type": "markdown",
   "metadata": {
    "heading_collapsed": true,
    "hidden": true
   },
   "source": [
    "### Add Data Frame name as a prefix to column names"
   ]
  },
  {
   "cell_type": "code",
   "execution_count": 8,
   "metadata": {
    "ExecuteTime": {
     "end_time": "2023-08-16T21:45:05.916995Z",
     "start_time": "2023-08-16T21:45:05.844254Z"
    },
    "hidden": true
   },
   "outputs": [],
   "source": [
    "df_list = [\n",
    "    dfBlockPop2010,          \n",
    "    dfBlockUnits2010,         \n",
    "    dfBlockUnitsOccupied2010, \n",
    "    dfBlockUnitsVacant2010,  \n",
    "    dfBlockUnitsSeasonal2010,\n",
    "    dfBlockPop2020,           \n",
    "    dfBlockUnits2020,         \n",
    "    dfBlockUnitsOccupied2020, \n",
    "    dfBlockUnitsVacant2020,\n",
    "    dfBlockUnitsSeasonal2020\n",
    "]\n",
    "\n",
    "# specify fields to keep\n",
    "fields_to_keep = ['TRPAID', 'value']\n",
    "\n",
    "# Loop through each DataFrame and drop the specified fields\n",
    "for dataframe in df_list:\n",
    "    # drop columns not in list\n",
    "    dataframe.drop(columns=[col for col in dataframe.columns if col not in fields_to_keep], inplace=True)  \n",
    "    # Exclude the field name you want to skip\n",
    "    field_to_exclude = \"TRPAID\"\n",
    "    # keep neccessary columns\n",
    "    included_columns = [col for col in dataframe.columns if col != field_to_exclude]\n",
    "    # get the dataframe name as a string\n",
    "    df_name = [name for name in globals() if globals()[name] is dataframe][0]\n",
    "    dataframe['TRPAID'].astype(str)\n",
    "    # Add DataFrame name as a prefix to included column names\n",
    "    new_columns = [f\"{df_name}_{col}\" for col in included_columns]\n",
    "    dataframe.columns =  [\"TRPAID\"]+ new_columns\n",
    "    "
   ]
  },
  {
   "cell_type": "markdown",
   "metadata": {
    "heading_collapsed": true,
    "hidden": true
   },
   "source": [
    "### Merge data frames to spatial data frames"
   ]
  },
  {
   "cell_type": "code",
   "execution_count": 9,
   "metadata": {
    "ExecuteTime": {
     "end_time": "2023-08-16T21:45:08.818677Z",
     "start_time": "2023-08-16T21:45:08.636415Z"
    },
    "hidden": true
   },
   "outputs": [],
   "source": [
    "df_list_2010 = [\n",
    "    dfBlockPop2010,          \n",
    "    dfBlockUnits2010,         \n",
    "    dfBlockUnitsOccupied2010, \n",
    "    dfBlockUnitsVacant2010,  \n",
    "    dfBlockUnitsSeasonal2010\n",
    "]\n",
    "\n",
    "df_list_2020=[\n",
    "    dfBlockPop2020,           \n",
    "    dfBlockUnits2020,         \n",
    "    dfBlockUnitsOccupied2020, \n",
    "    dfBlockUnitsVacant2020,\n",
    "    dfBlockUnitsSeasonal2020\n",
    "]\n",
    "# Join DataFrames using merge\n",
    "for df in df_list_2010:\n",
    "    sdfBlocks2010 = sdfBlocks2010.merge(df, on='TRPAID', how=\"left\")\n",
    "# Join DataFrames using merge\n",
    "for df in df_list_2020:\n",
    "    sdfBlocks2020 = sdfBlocks2020.merge(df, on='TRPAID', how=\"left\")\n",
    "    \n",
    "# set new field values\n",
    "sdfBlocks2010['Block_Population_2010']   = sdfBlocks2010['dfBlockPop2010_value']\n",
    "sdfBlocks2010['Block_HousingUnits_2010'] = sdfBlocks2010['dfBlockUnits2010_value']\n",
    "sdfBlocks2010['Block_Occupied_2010']     = sdfBlocks2010['dfBlockUnitsOccupied2010_value']\n",
    "sdfBlocks2010['Block_Vacant_2010']       = sdfBlocks2010['dfBlockUnitsVacant2010_value']\n",
    "sdfBlocks2010['Block_Seasonal_2010']     = sdfBlocks2010['dfBlockUnitsSeasonal2010_value']\n",
    "\n",
    "sdfBlocks2020['Block_Population_2020']   = sdfBlocks2020['dfBlockPop2020_value']\n",
    "sdfBlocks2020['Block_HousingUnits_2020'] = sdfBlocks2020['dfBlockUnits2020_value']\n",
    "sdfBlocks2020['Block_Occupied_2020']     = sdfBlocks2020['dfBlockUnitsOccupied2020_value']\n",
    "sdfBlocks2020['Block_Vacant_2020']       = sdfBlocks2020['dfBlockUnitsVacant2020_value']\n",
    "sdfBlocks2020['Block_Seasonal_2020']     = sdfBlocks2020['dfBlockUnitsSeasonal2020_value']"
   ]
  },
  {
   "cell_type": "markdown",
   "metadata": {
    "heading_collapsed": true,
    "hidden": true
   },
   "source": [
    "### Export to Data Frames to staging Feature Classes"
   ]
  },
  {
   "cell_type": "code",
   "execution_count": 21,
   "metadata": {
    "ExecuteTime": {
     "end_time": "2023-08-16T22:09:05.960603Z",
     "start_time": "2023-08-16T22:08:17.55409Z"
    },
    "hidden": true
   },
   "outputs": [
    {
     "data": {
      "text/plain": [
       "'F:\\\\GIS\\\\PROJECTS\\\\ResearchAnalysis\\\\Demographics\\\\Workspace.gdb\\\\Tahoe_Blocks_2020_Staging'"
      ]
     },
     "execution_count": 21,
     "metadata": {},
     "output_type": "execute_result"
    }
   ],
   "source": [
    "df = sdfBlocks2010\n",
    "\n",
    "numeric_columns = []\n",
    "\n",
    "for column in df.columns:\n",
    "    if pd.api.types.is_numeric_dtype(df[column]):\n",
    "        numeric_columns.append(column)\n",
    "        \n",
    "# Fill specified numeric columns with zeros\n",
    "df[numeric_columns] = df[numeric_columns].fillna(0)\n",
    "\n",
    "## Export spatial dataframes to feature class to use in Spatial join\n",
    "sdfBlocks2010.copy().spatial.to_featureclass(os.path.join(workspace, \"Tahoe_Blocks_2010_Staging\"), sanitize_columns=False)\n",
    "\n",
    "df = sdfBlocks2020\n",
    "\n",
    "numeric_columns = []\n",
    "\n",
    "for column in df.columns:\n",
    "    if pd.api.types.is_numeric_dtype(df[column]):\n",
    "        numeric_columns.append(column)\n",
    "        \n",
    "# Fill specified numeric columns with zeros\n",
    "df[numeric_columns] = df[numeric_columns].fillna(0)\n",
    "\n",
    "## Export spatial dataframes to feature class to use in Spatial join\n",
    "sdfBlocks2020.copy().spatial.to_featureclass(os.path.join(workspace, \"Tahoe_Blocks_2020_Staging\"), sanitize_columns=False)"
   ]
  },
  {
   "cell_type": "markdown",
   "metadata": {
    "heading_collapsed": true,
    "hidden": true
   },
   "source": [
    "### Spatial Joins of 2022 development and 2010 census block data"
   ]
  },
  {
   "cell_type": "code",
   "execution_count": 22,
   "metadata": {
    "ExecuteTime": {
     "end_time": "2023-08-16T22:09:06.175100Z",
     "start_time": "2023-08-16T22:09:05.961168Z"
    },
    "hidden": true,
    "scrolled": true
   },
   "outputs": [
    {
     "name": "stdout",
     "output_type": "stream",
     "text": [
      "['OBJECTID', 'Shape', 'Shape_Length', 'Shape_Area', 'GEOGRAPHY', 'GEOID', 'GlobalID', 'NEIGHBORHOOD', 'STATE', 'Shape__Area', 'Shape__Length', 'TRPAID', 'YEAR', 'created_date', 'created_user', 'last_edited_date', 'last_edited_user', 'dfBlockPop2010_value', 'dfBlockUnits2010_value', 'dfBlockUnitsOccupied2010_value', 'dfBlockUnitsVacant2010_value', 'dfBlockUnitsSeasonal2010_value', 'Block_Population_2010', 'Block_HousingUnits_2010', 'Block_Occupied_2010', 'Block_Vacant_2010', 'Block_Seasonal_2010']\n"
     ]
    }
   ],
   "source": [
    "field_names = [f.name for f in arcpy.ListFields(\"Tahoe_Blocks_2010_Staging\")]\n",
    "print(field_names)"
   ]
  },
  {
   "cell_type": "code",
   "execution_count": 23,
   "metadata": {
    "ExecuteTime": {
     "end_time": "2023-08-16T22:09:06.857400Z",
     "start_time": "2023-08-16T22:09:06.2621Z"
    },
    "hidden": true
   },
   "outputs": [
    {
     "name": "stdout",
     "output_type": "stream",
     "text": [
      "['OBJECTID', 'Shape', 'Shape_Length', 'Shape_Area', 'GEOGRAPHY', 'GEOID', 'GlobalID', 'NEIGHBORHOOD', 'STATE', 'Shape__Area', 'Shape__Length', 'TRPAID', 'YEAR', 'created_date', 'created_user', 'last_edited_date', 'last_edited_user', 'dfBlockPop2020_value', 'dfBlockUnits2020_value', 'dfBlockUnitsOccupied2020_value', 'dfBlockUnitsVacant2020_value', 'dfBlockUnitsSeasonal2020_value', 'Block_Population_2020', 'Block_HousingUnits_2020', 'Block_Occupied_2020', 'Block_Vacant_2020', 'Block_Seasonal_2020']\n"
     ]
    }
   ],
   "source": [
    "field_names = [f.name for f in arcpy.ListFields(\"Tahoe_Blocks_2020_Staging\")]\n",
    "print(field_names)"
   ]
  },
  {
   "cell_type": "code",
   "execution_count": 25,
   "metadata": {
    "ExecuteTime": {
     "end_time": "2023-08-16T22:11:55.310217Z",
     "start_time": "2023-08-16T22:11:41.66954Z"
    },
    "hidden": true
   },
   "outputs": [
    {
     "data": {
      "text/html": [
       "<div class='gpresult'><h2>Messages</h2><div id='messages' data-messages='[\"Start Time: Wednesday, August 16, 2023 3:11:45 PM\",\"Succeeded at Wednesday, August 16, 2023 3:11:55 PM (Elapsed Time: 9.94 seconds)\"]' data-show='true'><div id = 'default' /></div></div>"
      ],
      "text/plain": [
       "<Result 'F:\\\\GIS\\\\PROJECTS\\\\ResearchAnalysis\\\\Demographics\\\\Workspace.gdb\\\\SpatialJoin_Blocks2020_Blocks2010'>"
      ]
     },
     "execution_count": 25,
     "metadata": {},
     "output_type": "execute_result"
    }
   ],
   "source": [
    "target_feature_class = os.path.join(workspace, \"Tahoe_Blocks_2020_Staging\")\n",
    "join_feature_class   = os.path.join(workspace, \"Tahoe_Blocks_2010_Staging\")\n",
    "output_feature_class = \"SpatialJoin_Blocks2020_Blocks2010\"\n",
    "\n",
    "# List of input and join field names\n",
    "input_field_names = [ \n",
    "                'GEOGRAPHY', 'GEOID', 'GlobalID', 'NEIGHBORHOOD', 'STATE', 'TRPAID', 'YEAR', \n",
    "                'Block_Population_2020', 'Block_HousingUnits_2020', \n",
    "                'Block_Occupied_2020', 'Block_Vacant_2020', 'Block_Seasonal_2020'\n",
    "                    ]\n",
    "\n",
    "join_field_names = [ 'YEAR',\n",
    "                    'Block_Population_2010', 'Block_HousingUnits_2010', \n",
    "                    'Block_Occupied_2010', 'Block_Vacant_2010', 'Block_Seasonal_2010'\n",
    "                   ]\n",
    "\n",
    "# List of fields to be joined using SUM\n",
    "fields_to_sum = [\n",
    "                    'Block_Population_2010', 'Block_HousingUnits_2010', \n",
    "                    'Block_Occupied_2010', 'Block_Vacant_2010', 'Block_Seasonal_2010'\n",
    "                ]\n",
    "\n",
    "# Create a field map object\n",
    "field_mappings = arcpy.FieldMappings()\n",
    "\n",
    "# Get the field info for the target feature class\n",
    "target_field_info = arcpy.ListFields(target_feature_class)\n",
    "\n",
    "# Add fields from the target feature class to the field mappings\n",
    "for field in target_field_info:\n",
    "    if field.name in input_field_names:\n",
    "        input_field_map = arcpy.FieldMap()\n",
    "        input_field_map.addInputField(target_feature_class, field.name)\n",
    "        # Set the merge rule to SUM for selected fields\n",
    "        if field.name in fields_to_sum:\n",
    "            input_field_map.mergeRule = \"SUM\"\n",
    "        \n",
    "        field_mappings.addFieldMap(input_field_map)\n",
    "\n",
    "# Get the field info for the join feature class\n",
    "join_field_info = arcpy.ListFields(join_feature_class)\n",
    "\n",
    "# Add fields from the join feature class to the field mappings\n",
    "for field in join_field_info:\n",
    "    if field.name in join_field_names:\n",
    "        join_field_map = arcpy.FieldMap()\n",
    "        join_field_map.addInputField(join_feature_class, field.name)\n",
    "        # Set the merge rule to SUM for selected fields\n",
    "        if field.name in fields_to_sum:\n",
    "            join_field_map.mergeRule = \"SUM\"\n",
    "        # add join fields to field mappings\n",
    "        field_mappings.addFieldMap(join_field_map)\n",
    "\n",
    "# Perform the spatial join using the specified field mappings\n",
    "arcpy.analysis.SpatialJoin(\n",
    "                    target_feature_class, \n",
    "                    join_feature_class, \n",
    "                    output_feature_class,\n",
    "                    join_operation=\"JOIN_ONE_TO_ONE\",\n",
    "                    join_type=\"KEEP_ALL\",\n",
    "                    field_mapping = field_mappings,\n",
    "                    match_option=\"HAVE_THEIR_CENTER_IN\",\n",
    "                    search_radius=None,\n",
    "                    distance_field_name=\"\")\n"
   ]
  },
  {
   "cell_type": "markdown",
   "metadata": {
    "heading_collapsed": true,
    "hidden": true
   },
   "source": [
    "### Spatial Join Development rights to Blocks"
   ]
  },
  {
   "cell_type": "code",
   "execution_count": 33,
   "metadata": {
    "ExecuteTime": {
     "end_time": "2023-08-16T23:07:13.642213Z",
     "start_time": "2023-08-16T23:07:12.315787Z"
    },
    "hidden": true
   },
   "outputs": [
    {
     "name": "stdout",
     "output_type": "stream",
     "text": [
      "['OBJECTID', 'Shape', 'APN', 'PPNO', 'APO_ADDRESS', 'Residential_Units', 'TouristAccommodation_Units', 'CommercialFloorArea_SqFt', 'YEAR', 'OWN_FULL', 'JURISDICTION', 'COUNTY', 'OWNERSHIP_TYPE', 'COUNTY_LANDUSE_CODE', 'COUNTY_LANDUSE_DESCRIPTION', 'EXISTING_LANDUSE', 'REGIONAL_LANDUSE', 'AS_SUM', 'TAX_SUM', 'YEAR_BUILT', 'UNITS', 'BEDROOMS', 'BATHROOMS', 'BUILDING_SQFT', 'ESTIMATED_COVERAGE_ALLOWED', 'IMPERVIOUS_SURFACE_SQFT', 'PLAN_ID', 'PLAN_NAME', 'ZONING_ID', 'ZONING_DESCRIPTION', 'TOWN_CENTER', 'LOCATION_TO_TOWNCENTER', 'TAZ', 'WITHIN_TRPA_BNDY', 'PARCEL_ACRES', 'PARCEL_SQFT', 'WITHIN_BONUSUNIT_BNDY', 'Shape_Length', 'Shape_Area']\n"
     ]
    }
   ],
   "source": [
    "# Set the definition query\n",
    "definition_query = \"YEAR = 2022\"\n",
    "\n",
    "# Create a feature layer\n",
    "parcel_development_2022 = arcpy.management.MakeFeatureLayer(\n",
    "                            in_features=os.path.join(workspace, 'Parcel_Development'),\n",
    "                            out_layer=\"Parcel Development 2022\",\n",
    "                            where_clause=definition_query\n",
    "                            )[0]\n",
    "\n",
    "field_names = [f.name for f in arcpy.ListFields(parcel_development_2022)]\n",
    "print(field_names)"
   ]
  },
  {
   "cell_type": "code",
   "execution_count": 44,
   "metadata": {
    "ExecuteTime": {
     "end_time": "2023-08-17T03:33:40.788585Z",
     "start_time": "2023-08-17T03:33:20.819910Z"
    },
    "hidden": true
   },
   "outputs": [
    {
     "name": "stdout",
     "output_type": "stream",
     "text": [
      "['OBJECTID', 'Shape', 'APN', 'PPNO', 'APO_ADDRESS', 'Residential_Units', 'TouristAccommodation_Units', 'CommercialFloorArea_SqFt', 'YEAR', 'OWN_FULL', 'JURISDICTION', 'COUNTY', 'OWNERSHIP_TYPE', 'COUNTY_LANDUSE_CODE', 'COUNTY_LANDUSE_DESCRIPTION', 'EXISTING_LANDUSE', 'REGIONAL_LANDUSE', 'AS_SUM', 'TAX_SUM', 'YEAR_BUILT', 'UNITS', 'BEDROOMS', 'BATHROOMS', 'BUILDING_SQFT', 'ESTIMATED_COVERAGE_ALLOWED', 'IMPERVIOUS_SURFACE_SQFT', 'PLAN_ID', 'PLAN_NAME', 'ZONING_ID', 'ZONING_DESCRIPTION', 'TOWN_CENTER', 'LOCATION_TO_TOWNCENTER', 'TAZ', 'WITHIN_TRPA_BNDY', 'PARCEL_ACRES', 'PARCEL_SQFT', 'WITHIN_BONUSUNIT_BNDY', 'Shape_Length', 'Shape_Area']\n"
     ]
    }
   ],
   "source": [
    "# Set the definition query\n",
    "definition_query = \"YEAR = 2012\"\n",
    "\n",
    "# Create a feature layer\n",
    "parcel_development_2012 = arcpy.management.MakeFeatureLayer(\n",
    "                            in_features=os.path.join(workspace, 'Parcel_Development'),\n",
    "                            out_layer=\"Parcel Development 2012\",\n",
    "                            where_clause=definition_query\n",
    "                            )[0]\n",
    "\n",
    "# export to points to get a layer that will join\n",
    "outFeatureClass = \"ParcelDev2012_points\"\n",
    "\n",
    "# Use FeatureToPoint function to find a point inside each park\n",
    "arcpy.management.FeatureToPoint(parcel_development_2012, outFeatureClass, \"INSIDE\")\n",
    "\n",
    "# fields\n",
    "field_names = [f.name for f in arcpy.ListFields(parcel_development_2012)]\n",
    "print(field_names)"
   ]
  },
  {
   "cell_type": "code",
   "execution_count": 45,
   "metadata": {
    "ExecuteTime": {
     "end_time": "2023-08-17T03:34:04.457921Z",
     "start_time": "2023-08-17T03:33:40.791123Z"
    },
    "hidden": true
   },
   "outputs": [
    {
     "name": "stdout",
     "output_type": "stream",
     "text": [
      "['OBJECTID', 'Shape', 'APN', 'PPNO', 'APO_ADDRESS', 'Residential_Units', 'TouristAccommodation_Units', 'CommercialFloorArea_SqFt', 'YEAR', 'OWN_FULL', 'JURISDICTION', 'COUNTY', 'OWNERSHIP_TYPE', 'COUNTY_LANDUSE_CODE', 'COUNTY_LANDUSE_DESCRIPTION', 'EXISTING_LANDUSE', 'REGIONAL_LANDUSE', 'AS_SUM', 'TAX_SUM', 'YEAR_BUILT', 'UNITS', 'BEDROOMS', 'BATHROOMS', 'BUILDING_SQFT', 'ESTIMATED_COVERAGE_ALLOWED', 'IMPERVIOUS_SURFACE_SQFT', 'PLAN_ID', 'PLAN_NAME', 'ZONING_ID', 'ZONING_DESCRIPTION', 'TOWN_CENTER', 'LOCATION_TO_TOWNCENTER', 'TAZ', 'WITHIN_TRPA_BNDY', 'PARCEL_ACRES', 'PARCEL_SQFT', 'WITHIN_BONUSUNIT_BNDY', 'Shape_Length', 'Shape_Area']\n"
     ]
    }
   ],
   "source": [
    "# Set the definition query\n",
    "definition_query = \"YEAR = 2022\"\n",
    "\n",
    "# Create a feature layer\n",
    "parcel_development_2012 = arcpy.management.MakeFeatureLayer(\n",
    "                            in_features=os.path.join(workspace, 'Parcel_Development'),\n",
    "                            out_layer=\"Parcel Development 2022\",\n",
    "                            where_clause=definition_query\n",
    "                            )[0]\n",
    "\n",
    "# export to points to get a layer that will join\n",
    "outFeatureClass = \"ParcelDev2022_points\"\n",
    "\n",
    "# Use FeatureToPoint function to find a point inside each park\n",
    "arcpy.management.FeatureToPoint(parcel_development_2012, outFeatureClass, \"INSIDE\")\n",
    "\n",
    "# fields\n",
    "field_names = [f.name for f in arcpy.ListFields(parcel_development_2012)]\n",
    "print(field_names)"
   ]
  },
  {
   "cell_type": "code",
   "execution_count": 52,
   "metadata": {
    "ExecuteTime": {
     "end_time": "2023-08-17T04:12:34.839871Z",
     "start_time": "2023-08-17T04:12:19.74765Z"
    },
    "hidden": true
   },
   "outputs": [
    {
     "data": {
      "text/html": [
       "<div class='gpresult'><h2>Messages</h2><div id='messages' data-messages='[\"Start Time: Wednesday, August 16, 2023 9:12:23 PM\",\"Succeeded at Wednesday, August 16, 2023 9:12:34 PM (Elapsed Time: 11.50 seconds)\"]' data-show='true'><div id = 'default' /></div></div>"
      ],
      "text/plain": [
       "<Result 'F:\\\\GIS\\\\PROJECTS\\\\ResearchAnalysis\\\\Demographics\\\\Workspace.gdb\\\\SpatialJoin_Blocks2020_Blocks2010_ParcelDev2012'>"
      ]
     },
     "execution_count": 52,
     "metadata": {},
     "output_type": "execute_result"
    }
   ],
   "source": [
    "# Spatial join to parcel development\n",
    "target_feature_class = os.path.join(workspace, \"SpatialJoin_Blocks2020_Blocks2010\")\n",
    "join_feature_class   = \"ParcelDev2012_points\"\n",
    "output_feature_class = \"SpatialJoin_Blocks2020_Blocks2010_ParcelDev2012\"\n",
    "\n",
    "# List of input and join field names\n",
    "input_field_names = [ \n",
    "                'GEOGRAPHY', 'GEOID', 'GlobalID', 'NEIGHBORHOOD', 'STATE', 'TRPAID', 'YEAR', \n",
    "                'Block_Population_2020', 'Block_HousingUnits_2020', \n",
    "                'Block_Occupied_2020', 'Block_Vacant_2020', 'Block_Seasonal_2020',\n",
    "                'Block_Population_2010', 'Block_HousingUnits_2010', \n",
    "                'Block_Occupied_2010', 'Block_Vacant_2010', 'Block_Seasonal_2010'\n",
    "                    ]\n",
    "\n",
    "join_field_names = [ 'Residential_Units'\n",
    "                   ]\n",
    "\n",
    "# List of fields to be joined using SUM\n",
    "fields_to_sum = ['Residential_Units'\n",
    "                ]\n",
    "\n",
    "# Create a field map object\n",
    "field_mappings = arcpy.FieldMappings()\n",
    "\n",
    "# Get the field info for the target feature class\n",
    "target_field_info = arcpy.ListFields(target_feature_class)\n",
    "\n",
    "# Add fields from the target feature class to the field mappings\n",
    "for field in target_field_info:\n",
    "    if field.name in input_field_names:\n",
    "        input_field_map = arcpy.FieldMap()\n",
    "        input_field_map.addInputField(target_feature_class, field.name)\n",
    "        # Set the merge rule to SUM for selected fields\n",
    "        if field.name in fields_to_sum:\n",
    "            input_field_map.mergeRule = \"SUM\"\n",
    "        \n",
    "        field_mappings.addFieldMap(input_field_map)\n",
    "\n",
    "# Get the field info for the join feature class\n",
    "join_field_info = arcpy.ListFields(join_feature_class)\n",
    "\n",
    "# Add fields from the join feature class to the field mappings\n",
    "for field in join_field_info:\n",
    "    if field.name in join_field_names:\n",
    "        join_field_map = arcpy.FieldMap()\n",
    "        join_field_map.addInputField(join_feature_class, field.name)\n",
    "        # Set the merge rule to SUM for selected fields\n",
    "        if field.name in fields_to_sum:\n",
    "            join_field_map.mergeRule = \"SUM\"\n",
    "        # add join fields to field mappings\n",
    "        field_mappings.addFieldMap(join_field_map)\n",
    "\n",
    "# Perform the spatial join using the specified field mappings\n",
    "arcpy.analysis.SpatialJoin(\n",
    "                    target_feature_class, \n",
    "                    join_feature_class, \n",
    "                    output_feature_class,\n",
    "                    join_operation=\"JOIN_ONE_TO_ONE\",\n",
    "                    join_type=\"KEEP_ALL\",\n",
    "                    field_mapping = field_mappings,\n",
    "                    match_option=\"CONTAINS\",\n",
    "                    search_radius=None,\n",
    "                    distance_field_name=\"\")\n"
   ]
  },
  {
   "cell_type": "code",
   "execution_count": 53,
   "metadata": {
    "ExecuteTime": {
     "end_time": "2023-08-17T04:12:39.298905Z",
     "start_time": "2023-08-17T04:12:34.840504Z"
    },
    "hidden": true
   },
   "outputs": [
    {
     "data": {
      "text/html": [
       "<div class='gpresult'><h2>Messages</h2><div id='messages' data-messages='[\"Start Time: Wednesday, August 16, 2023 9:12:35 PM\",\"Succeeded at Wednesday, August 16, 2023 9:12:39 PM (Elapsed Time: 3.72 seconds)\"]' data-show='true'><div id = 'default' /></div></div>"
      ],
      "text/plain": [
       "<Result 'F:\\\\GIS\\\\PROJECTS\\\\ResearchAnalysis\\\\Demographics\\\\Workspace.gdb\\\\SpatialJoin_Blocks2020_Blocks2010_ParcelDev2012'>"
      ]
     },
     "execution_count": 53,
     "metadata": {},
     "output_type": "execute_result"
    }
   ],
   "source": [
    "# Set local variables\n",
    "in_table = os.path.join(workspace,\"SpatialJoin_Blocks2020_Blocks2010_ParcelDev2012\") \n",
    "field = \"Residential_Units\"\n",
    "new_field_name = \"Residential_Units_2012\"\n",
    "new_field_alias = \"Residential Units 2012\"\n",
    "field_type = \"LONG\"\n",
    "\n",
    "# Alter the properties of a non nullable, short data type field to become a text field\n",
    "arcpy.management.AlterField(in_table,\n",
    "                            field,\n",
    "                            new_field_name,\n",
    "                            new_field_alias,\n",
    "                            field_type)"
   ]
  },
  {
   "cell_type": "code",
   "execution_count": 64,
   "metadata": {
    "ExecuteTime": {
     "end_time": "2023-08-17T04:50:26.909373Z",
     "start_time": "2023-08-17T04:50:09.66490Z"
    },
    "hidden": true
   },
   "outputs": [
    {
     "data": {
      "text/html": [
       "<div class='gpresult'><h2>Messages</h2><div id='messages' data-messages='[\"Start Time: Wednesday, August 16, 2023 9:50:12 PM\",\"Succeeded at Wednesday, August 16, 2023 9:50:26 PM (Elapsed Time: 13.81 seconds)\"]' data-show='true'><div id = 'default' /></div></div>"
      ],
      "text/plain": [
       "<Result 'F:\\\\GIS\\\\PROJECTS\\\\ResearchAnalysis\\\\Demographics\\\\Workspace.gdb\\\\SpatialJoin_Blocks2020_Blocks2010_ParcelDev2012_ParcelDev2022'>"
      ]
     },
     "execution_count": 64,
     "metadata": {},
     "output_type": "execute_result"
    }
   ],
   "source": [
    "# Spatial join to parcel development\n",
    "target_feature_class = os.path.join(workspace, \"SpatialJoin_Blocks2020_Blocks2010_ParcelDev2012\")\n",
    "join_feature_class   = \"ParcelDev2022_points\"\n",
    "output_feature_class = \"SpatialJoin_Blocks2020_Blocks2010_ParcelDev2012_ParcelDev2022\"\n",
    "\n",
    "# List of input and join field names\n",
    "input_field_names = [ \n",
    "                'GEOGRAPHY', 'GEOID', 'GlobalID', 'NEIGHBORHOOD', 'STATE', 'TRPAID', 'YEAR', \n",
    "                'Block_Population_2020', 'Block_HousingUnits_2020', \n",
    "                'Block_Occupied_2020', 'Block_Vacant_2020', 'Block_Seasonal_2020',\n",
    "                'Block_Population_2010', 'Block_HousingUnits_2010', \n",
    "                'Block_Occupied_2010', 'Block_Vacant_2010', 'Block_Seasonal_2010', 'Residential_Units_2012'\n",
    "                    ]\n",
    "\n",
    "join_field_names = ['Residential_Units']\n",
    "\n",
    "# List of fields to be joined using SUM\n",
    "fields_to_sum = ['Residential_Units']\n",
    "\n",
    "# Create a field map object\n",
    "field_mappings = arcpy.FieldMappings()\n",
    "\n",
    "# Get the field info for the target feature class\n",
    "target_field_info = arcpy.ListFields(target_feature_class)\n",
    "\n",
    "# Add fields from the target feature class to the field mappings\n",
    "for field in target_field_info:\n",
    "    if field.name in input_field_names:\n",
    "        input_field_map = arcpy.FieldMap()\n",
    "        input_field_map.addInputField(target_feature_class, field.name)\n",
    "        # Set the merge rule to SUM for selected fields\n",
    "        if field.name in fields_to_sum:\n",
    "            input_field_map.mergeRule = \"SUM\"\n",
    "        \n",
    "        field_mappings.addFieldMap(input_field_map)\n",
    "\n",
    "# Get the field info for the join feature class\n",
    "join_field_info = arcpy.ListFields(join_feature_class)\n",
    "\n",
    "# Add fields from the join feature class to the field mappings\n",
    "for field in join_field_info:\n",
    "    if field.name in join_field_names:\n",
    "        join_field_map = arcpy.FieldMap()\n",
    "        join_field_map.addInputField(join_feature_class, field.name)\n",
    "        # Set the merge rule to SUM for selected fields\n",
    "        if field.name in fields_to_sum:\n",
    "            join_field_map.mergeRule = \"SUM\"\n",
    "        # add join fields to field mappings\n",
    "        field_mappings.addFieldMap(join_field_map)\n",
    "\n",
    "# Perform the spatial join using the specified field mappings\n",
    "arcpy.analysis.SpatialJoin(\n",
    "                    target_feature_class, \n",
    "                    join_feature_class, \n",
    "                    output_feature_class,\n",
    "                    join_operation=\"JOIN_ONE_TO_ONE\",\n",
    "                    join_type=\"KEEP_ALL\",\n",
    "                    field_mapping = field_mappings,\n",
    "                    match_option=\"CONTAINS\",\n",
    "                    search_radius=None,\n",
    "                    distance_field_name=\"\")\n"
   ]
  },
  {
   "cell_type": "code",
   "execution_count": 65,
   "metadata": {
    "ExecuteTime": {
     "end_time": "2023-08-17T04:50:31.366986Z",
     "start_time": "2023-08-17T04:50:26.910964Z"
    },
    "hidden": true
   },
   "outputs": [
    {
     "data": {
      "text/html": [
       "<div class='gpresult'><h2>Messages</h2><div id='messages' data-messages='[\"Start Time: Wednesday, August 16, 2023 9:50:27 PM\",\"Succeeded at Wednesday, August 16, 2023 9:50:31 PM (Elapsed Time: 3.79 seconds)\"]' data-show='true'><div id = 'default' /></div></div>"
      ],
      "text/plain": [
       "<Result 'F:\\\\GIS\\\\PROJECTS\\\\ResearchAnalysis\\\\Demographics\\\\Workspace.gdb\\\\SpatialJoin_Blocks2020_Blocks2010_ParcelDev2012_ParcelDev2022'>"
      ]
     },
     "execution_count": 65,
     "metadata": {},
     "output_type": "execute_result"
    }
   ],
   "source": [
    "# Set local variables\n",
    "in_table = os.path.join(workspace,\"SpatialJoin_Blocks2020_Blocks2010_ParcelDev2012_ParcelDev2022\") \n",
    "field = \"Residential_Units\"\n",
    "new_field_name = \"Residential_Units_2022\"\n",
    "new_field_alias = \"Residential Units 2022\"\n",
    "field_type = \"LONG\"\n",
    "\n",
    "# Alter the properties of a non nullable, short data type field to become a text field\n",
    "arcpy.management.AlterField(in_table,\n",
    "                            field,\n",
    "                            new_field_name,\n",
    "                            new_field_alias,\n",
    "                            field_type)"
   ]
  },
  {
   "cell_type": "code",
   "execution_count": 66,
   "metadata": {
    "ExecuteTime": {
     "end_time": "2023-08-17T04:50:53.910460Z",
     "start_time": "2023-08-17T04:50:31.367929Z"
    },
    "hidden": true
   },
   "outputs": [
    {
     "data": {
      "text/html": [
       "<div class='gpresult'><h2>Messages</h2><div id='messages' data-messages='[\"Start Time: Wednesday, August 16, 2023 9:50:50 PM\",\"Adding Development_PercentChange to SpatialJoin_Blocks2020_Blocks2010_ParcelDev2012_ParcelDev2022...\",\"Succeeded at Wednesday, August 16, 2023 9:50:53 PM (Elapsed Time: 2.99 seconds)\"]' data-show='true'><div id = 'default' /></div></div>"
      ],
      "text/plain": [
       "<Result 'F:\\\\GIS\\\\PROJECTS\\\\ResearchAnalysis\\\\Demographics\\\\Workspace.gdb\\\\SpatialJoin_Blocks2020_Blocks2010_ParcelDev2012_ParcelDev2022'>"
      ]
     },
     "execution_count": 66,
     "metadata": {},
     "output_type": "execute_result"
    }
   ],
   "source": [
    "spJoin = os.path.join(workspace, \"SpatialJoin_Blocks2020_Blocks2010_ParcelDev2012_ParcelDev2022\")\n",
    "arcpy.AddField_management(spJoin, 'Population_PercentChange', \"DOUBLE\")\n",
    "arcpy.AddField_management(spJoin, 'Housing_PercentChange', \"DOUBLE\")\n",
    "arcpy.AddField_management(spJoin, 'Occupied_PercentChange', \"DOUBLE\")\n",
    "arcpy.AddField_management(spJoin, 'Vacant_PercentChange', \"DOUBLE\")\n",
    "arcpy.AddField_management(spJoin, 'Seasonal_PercentChange', \"DOUBLE\")\n",
    "arcpy.AddField_management(spJoin, 'Development_PercentChange', \"DOUBLE\")"
   ]
  },
  {
   "cell_type": "code",
   "execution_count": 67,
   "metadata": {
    "ExecuteTime": {
     "end_time": "2023-08-17T04:52:22.358756Z",
     "start_time": "2023-08-17T04:52:21.749689Z"
    },
    "hidden": true
   },
   "outputs": [
    {
     "name": "stdout",
     "output_type": "stream",
     "text": [
      "['OBJECTID', 'Shape', 'Join_Count', 'TARGET_FID', 'GEOGRAPHY', 'GEOID', 'GlobalID', 'NEIGHBORHOOD', 'STATE', 'TRPAID', 'YEAR', 'Block_Population_2020', 'Block_HousingUnits_2020', 'Block_Occupied_2020', 'Block_Vacant_2020', 'Block_Seasonal_2020', 'Block_Population_2010', 'Block_HousingUnits_2010', 'Block_Occupied_2010', 'Block_Vacant_2010', 'Block_Seasonal_2010', 'Residential_Units_2012', 'Residential_Units_2022', 'Shape_Length', 'Shape_Area', 'Population_PercentChange', 'Housing_PercentChange', 'Occupied_PercentChange', 'Vacant_PercentChange', 'Seasonal_PercentChange', 'Development_PercentChange']\n"
     ]
    }
   ],
   "source": [
    "# fields\n",
    "field_names = [f.name for f in arcpy.ListFields(spJoin)]\n",
    "print(field_names)"
   ]
  },
  {
   "cell_type": "code",
   "execution_count": 71,
   "metadata": {
    "ExecuteTime": {
     "end_time": "2023-08-17T04:58:56.956700Z",
     "start_time": "2023-08-17T04:58:55.270249Z"
    },
    "hidden": true
   },
   "outputs": [],
   "source": [
    "# Start an edit session\n",
    "edit = arcpy.da.Editor(workspace)\n",
    "edit.startEditing(False, True)\n",
    "\n",
    "# Define the fields\n",
    "field1 = \"Block_Population_2020\"\n",
    "field2 = \"Block_Population_2010\"\n",
    "percent_change_field = \"Population_PercentChange\"\n",
    "\n",
    "# Calculate percent change using an update cursor\n",
    "with arcpy.da.UpdateCursor(spJoin, [field1, field2, percent_change_field]) as cursor:\n",
    "    for row in cursor:\n",
    "        if row[0] is not None and row[1] is not None and row[0] != 0:\n",
    "            percent_change = ((row[1] - row[0]) / row[0]) * 100\n",
    "            row[2] = percent_change\n",
    "            cursor.updateRow(row)\n",
    "\n",
    "\n",
    "# Define the fields\n",
    "field1 = \"Block_HousingUnits_2020\"\n",
    "field2 = \"Block_HousingUnits_2010\"\n",
    "percent_change_field = \"Housing_PercentChange\"\n",
    "\n",
    "# Calculate percent change using an update cursor\n",
    "with arcpy.da.UpdateCursor(spJoin, [field1, field2, percent_change_field]) as cursor:\n",
    "    for row in cursor:\n",
    "        if row[0] is not None and row[1] is not None and row[0] != 0:\n",
    "            percent_change = ((row[1] - row[0]) / row[0]) * 100\n",
    "            row[2] = percent_change\n",
    "            cursor.updateRow(row)\n",
    "\n",
    "# Define the fields\n",
    "field1 = \"Block_Occupied_2020\"\n",
    "field2 = \"Block_Occupied_2010\"\n",
    "percent_change_field = \"Occupied_PercentChange\"\n",
    "\n",
    "# Calculate percent change using an update cursor\n",
    "with arcpy.da.UpdateCursor(spJoin, [field1, field2, percent_change_field]) as cursor:\n",
    "    for row in cursor:\n",
    "        if row[0] is not None and row[1] is not None and row[0] != 0:\n",
    "            percent_change = ((row[1] - row[0]) / row[0]) * 100\n",
    "            row[2] = percent_change\n",
    "            cursor.updateRow(row)\n",
    "\n",
    "# Define the fields\n",
    "field1 = \"Block_Vacant_2020\"\n",
    "field2 = \"Block_Vacant_2010\"\n",
    "percent_change_field = \"Vacant_PercentChange\"\n",
    "\n",
    "# Calculate percent change using an update cursor\n",
    "with arcpy.da.UpdateCursor(spJoin, [field1, field2, percent_change_field]) as cursor:\n",
    "    for row in cursor:\n",
    "        if row[0] is not None and row[1] is not None and row[0] != 0:\n",
    "            percent_change = ((row[1] - row[0]) / row[0]) * 100\n",
    "            row[2] = percent_change\n",
    "            cursor.updateRow(row)\n",
    "\n",
    "# Define the fields\n",
    "field1 = \"Block_Seasonal_2020\"\n",
    "field2 = \"Block_Seasonal_2010\"\n",
    "percent_change_field = \"Seasonal_PercentChange\"\n",
    "\n",
    "\n",
    "# Calculate percent change using an update cursor\n",
    "with arcpy.da.UpdateCursor(spJoin, [field1, field2, percent_change_field]) as cursor:\n",
    "    for row in cursor:\n",
    "        if row[0] is not None and row[1] is not None and row[0] != 0:\n",
    "            percent_change = ((row[1] - row[0]) / row[0]) * 100\n",
    "            row[2] = percent_change\n",
    "            cursor.updateRow(row)\n",
    "\n",
    "# Define the fields\n",
    "field1 = \"Residential_Units_2022\"\n",
    "field2 = \"Residential_Units_2012\"\n",
    "percent_change_field = \"Development_PercentChange\"\n",
    "\n",
    "\n",
    "# Calculate percent change using an update cursor\n",
    "with arcpy.da.UpdateCursor(spJoin, [field1, field2, percent_change_field]) as cursor:\n",
    "    for row in cursor:\n",
    "        if row[0] is not None and row[1] is not None and row[0] != 0:\n",
    "            percent_change = ((row[1] - row[0]) / row[0]) * 100\n",
    "            row[2] = percent_change\n",
    "            cursor.updateRow(row)\n",
    "\n",
    "            \n",
    "# Stop the edit session\n",
    "edit.stopEditing(True)"
   ]
  },
  {
   "cell_type": "code",
   "execution_count": null,
   "metadata": {
    "hidden": true
   },
   "outputs": [],
   "source": []
  },
  {
   "cell_type": "markdown",
   "metadata": {},
   "source": [
    "# Create Feature Layers"
   ]
  },
  {
   "cell_type": "markdown",
   "metadata": {},
   "source": [
    "### List of layers to create\n",
    "#### Blocks\n",
    "* 2020 population, housing\n",
    "* 2010 population, housing\n",
    "* percent change/bivariate\n",
    "\n",
    "#### Block Group/Tracts Maps\n",
    "* population change\n",
    "* housing vacant/occupied/seasonal change\n",
    "* race dot density\n",
    "* choropleth of population, housing units, median income"
   ]
  },
  {
   "cell_type": "code",
   "execution_count": null,
   "metadata": {},
   "outputs": [],
   "source": []
  },
  {
   "cell_type": "code",
   "execution_count": 9,
   "metadata": {
    "ExecuteTime": {
     "end_time": "2023-08-18T18:51:16.794182Z",
     "start_time": "2023-08-18T18:51:02.559637Z"
    }
   },
   "outputs": [],
   "source": [
    "# Search for the feature service by keyword\n",
    "feature_layer_item = gis.content.search(query=\"Demographics\", item_type=\"Feature Layer\")[0]\n",
    "\n",
    "# feature sub layer name to get\n",
    "sublayer_name = \"Tahoe Census Geography\"\n",
    "# get census table from the feature service\n",
    "table_name = \"Census Data\"\n",
    "\n",
    "# Query the sublayer by name\n",
    "sublayer = None\n",
    "for layer in feature_layer_item.layers:\n",
    "    if layer.properties.name == sublayer_name:\n",
    "        sublayer = layer\n",
    "        break\n",
    "\n",
    "# Query the table by name\n",
    "subtable = None\n",
    "for table in feature_layer_item.tables:\n",
    "    if table.properties.name == table_name:\n",
    "        subtable = table\n",
    "        break\n",
    "        \n",
    "# create a DataFrame from the table\n",
    "sdfCensus = pd.DataFrame.spatial.from_layer(sublayer)\n",
    "dfCensus  = pd.DataFrame.spatial.from_layer(subtable)\n",
    "\n",
    "# create data frames from filter for block and year\n",
    "sdfTract2020 = sdfCensus[(sdfCensus['GEOGRAPHY'] == 'Tract') & (sdfCensus['YEAR'] == 2020)]\n",
    "sdfTract2010 = sdfCensus[(sdfCensus['GEOGRAPHY'] == 'Tract') & (sdfCensus['YEAR'] == 2010)]\n",
    "\n",
    "# Define the filter conditions for each field in the table\n",
    "conditionTract      = dfCensus['sample_level']  == 'tract'\n",
    "conditionLevel      = dfCensus['dataset']       == 'dec/dp'\n",
    "condition2010       = dfCensus['year_sample']   == 2010\n",
    "condition2020       = dfCensus['year_sample']   == 2020\n",
    "conditionPopulation = dfCensus['variable_name'] == 'Total Population'\n",
    "conditionHousing    = dfCensus['variable_name'] == 'Total Housing Units'\n",
    "conditionOccupied   = dfCensus['variable_name'] == 'Total Housing Units: Occupied'\n",
    "conditionVacant     = dfCensus['variable_name'] == 'Total Housing Units: Vacant'\n",
    "conditionSeasonal   = dfCensus['variable_name'] == 'Vacant Housing Units: Seasonal, recreational, or occasional use'\n",
    "\n",
    "# filter to create new dfs by variable name in the table\n",
    "dfTractPop2010           =  dfCensus.loc[conditionTract & condition2010 & conditionPopulation].copy()\n",
    "dfTractUnits2010         =  dfCensus.loc[conditionTract & condition2010 & conditionHousing].copy()\n",
    "dfTractUnitsOccupied2010 =  dfCensus.loc[conditionTract & condition2010 & conditionOccupied].copy()\n",
    "dfTractUnitsVacant2010   =  dfCensus.loc[conditionTract & condition2010 & conditionVacant].copy()\n",
    "dfTractUnitsSeasonal2010 =  dfCensus.loc[conditionTract & condition2010 & conditionSeasonal].copy()\n",
    "\n",
    "# create 2020 data frames \n",
    "dfTractPop2020           =  dfCensus.loc[conditionTract & conditionLevel & condition2020 & conditionPopulation].copy()\n",
    "dfTractUnits2020         =  dfCensus.loc[conditionTract & conditionLevel & condition2020 & conditionHousing].copy()\n",
    "dfTractUnitsOccupied2020 =  dfCensus.loc[conditionTract & conditionLevel & condition2020 & conditionOccupied].copy()\n",
    "dfTractUnitsVacant2020   =  dfCensus.loc[conditionTract & conditionLevel & condition2020 & conditionVacant].copy()\n",
    "dfTractUnitsSeasonal2020 =  dfCensus.loc[conditionTract & conditionLevel & condition2020 & conditionSeasonal].copy()\n",
    "\n",
    "# list of dataframes used to name the value fields\n",
    "df_list = [\n",
    "    dfTractPop2010,          \n",
    "    dfTractUnits2010,         \n",
    "    dfTractUnitsOccupied2010, \n",
    "    dfTractUnitsVacant2010,  \n",
    "    dfTractUnitsSeasonal2010,\n",
    "    dfTractPop2020,           \n",
    "    dfTractUnits2020,         \n",
    "    dfTractUnitsOccupied2020, \n",
    "    dfTractUnitsVacant2020,\n",
    "    dfTractUnitsSeasonal2020\n",
    "]\n",
    "\n",
    "# specify fields to keep in each dataframe from the table queries\n",
    "fields_to_keep = ['TRPAID', 'value']\n",
    "\n",
    "# Loop through each DataFrame and drop the specified fields and \n",
    "# rename the value fields with dataframe names as the prefix\n",
    "for dataframe in df_list:\n",
    "    # drop columns not in list\n",
    "    dataframe.drop(columns=[col for col in dataframe.columns if col not in fields_to_keep], inplace=True)  \n",
    "    # Exclude the field name you want to skip\n",
    "    field_to_exclude = \"TRPAID\"\n",
    "    # keep neccessary columns\n",
    "    included_columns = [col for col in dataframe.columns if col != field_to_exclude]\n",
    "    # get the dataframe name as a string\n",
    "    df_name = [name for name in globals() if globals()[name] is dataframe][0]\n",
    "    dataframe['TRPAID'].astype(str)\n",
    "    # Add DataFrame name as a prefix to included column names\n",
    "    new_columns = [f\"{df_name}_{col}\" for col in included_columns]\n",
    "    # add the new name back to the column list\n",
    "    dataframe.columns =  [\"TRPAID\"]+new_columns\n",
    "    \n",
    "# numeric_columns = []\n",
    "\n",
    "# for column in sdfTract2020.columns:\n",
    "#     if pd.api.types.is_numeric_dtype(sdfTract2020[column]):\n",
    "#         numeric_columns.append(column)\n",
    "        \n",
    "# # Fill specified numeric columns with zeros\n",
    "# sdfTract2020[numeric_columns] = sdfTract2020.loc[numeric_columns].fillna(0)\n",
    "\n",
    "# numeric_columns = []\n",
    "\n",
    "# for column in sdfTract2010.columns:\n",
    "#     if pd.api.types.is_numeric_dtype(sdfTract2010[column]):\n",
    "#         numeric_columns.append(column)\n",
    "        \n",
    "# # # Fill specified numeric columns with zeros\n",
    "# sdfTract2010[numeric_columns] = sdfTract2010.loc[numeric_columns].fillna(0)"
   ]
  },
  {
   "cell_type": "code",
   "execution_count": 11,
   "metadata": {
    "ExecuteTime": {
     "end_time": "2023-08-18T18:51:31.984349Z",
     "start_time": "2023-08-18T18:51:31.966891Z"
    }
   },
   "outputs": [
    {
     "name": "stdout",
     "output_type": "stream",
     "text": [
      "<class 'pandas.core.frame.DataFrame'>\n",
      "Int64Index: 32 entries, 23435 to 23466\n",
      "Data columns (total 2 columns):\n",
      " #   Column                  Non-Null Count  Dtype  \n",
      "---  ------                  --------------  -----  \n",
      " 0   TRPAID                  32 non-null     string \n",
      " 1   dfTractUnits2020_value  32 non-null     Float64\n",
      "dtypes: Float64(1), string(1)\n",
      "memory usage: 800.0 bytes\n"
     ]
    }
   ],
   "source": [
    "dfTractUnits2020.info()"
   ]
  },
  {
   "cell_type": "code",
   "execution_count": 6,
   "metadata": {
    "ExecuteTime": {
     "end_time": "2023-08-18T18:46:26.838732Z",
     "start_time": "2023-08-18T18:46:26.812189Z"
    },
    "scrolled": true
   },
   "outputs": [
    {
     "name": "stdout",
     "output_type": "stream",
     "text": [
      "<class 'pandas.core.frame.DataFrame'>\n",
      "Int64Index: 512 entries, 0 to 511\n",
      "Data columns (total 14 columns):\n",
      " #   Column                   Non-Null Count  Dtype   \n",
      "---  ------                   --------------  -----   \n",
      " 0   GEOGRAPHY                512 non-null    string  \n",
      " 1   GEOID                    512 non-null    Float64 \n",
      " 2   GlobalID                 512 non-null    string  \n",
      " 3   NEIGHBORHOOD             496 non-null    string  \n",
      " 4   OBJECTID                 512 non-null    Int64   \n",
      " 5   SHAPE                    512 non-null    geometry\n",
      " 6   STATE                    512 non-null    string  \n",
      " 7   TRPAID                   512 non-null    string  \n",
      " 8   YEAR                     512 non-null    Int32   \n",
      " 9   Tract_Population_2020    512 non-null    Float64 \n",
      " 10  Tract_HousingUnits_2020  512 non-null    Float64 \n",
      " 11  Tract_Occupied_2020      512 non-null    Float64 \n",
      " 12  Tract_Vacant_2020        512 non-null    Float64 \n",
      " 13  Tract_Seasonal_2020      512 non-null    Float64 \n",
      "dtypes: Float64(6), Int32(1), Int64(1), geometry(1), string(5)\n",
      "memory usage: 62.0 KB\n"
     ]
    }
   ],
   "source": [
    "sdfTract2020.info()"
   ]
  },
  {
   "cell_type": "code",
   "execution_count": 12,
   "metadata": {
    "ExecuteTime": {
     "end_time": "2023-08-18T18:52:46.322962Z",
     "start_time": "2023-08-18T18:51:37.550961Z"
    }
   },
   "outputs": [
    {
     "data": {
      "text/plain": [
       "'F:\\\\GIS\\\\PROJECTS\\\\ResearchAnalysis\\\\Demographics\\\\Workspace.gdb\\\\Tahoe_Tract_2020_Values'"
      ]
     },
     "execution_count": 12,
     "metadata": {},
     "output_type": "execute_result"
    }
   ],
   "source": [
    "# get list of dataframes to merge with 2010 spatial dataframe\n",
    "df_list_2010 = [\n",
    "    dfTractPop2010,          \n",
    "    dfTractUnits2010,         \n",
    "    dfTractUnitsOccupied2010, \n",
    "    dfTractUnitsVacant2010,  \n",
    "    dfTractUnitsSeasonal2010\n",
    "]\n",
    "# get list of dataframes to merge with 2020 spatial dataframe\n",
    "df_list_2020= [\n",
    "    dfTractPop2020,           \n",
    "    dfTractUnits2020,         \n",
    "    dfTractUnitsOccupied2020, \n",
    "    dfTractUnitsVacant2020,\n",
    "    dfTractUnitsSeasonal2020\n",
    "]\n",
    "# merge dataframes to spatial dataframe\n",
    "for df in df_list_2010:\n",
    "    sdfTract2010 = sdfTract2010.merge(df, on='TRPAID', how=\"left\")\n",
    "# so it for 2020\n",
    "for df in df_list_2020:\n",
    "    sdfTract2020 = sdfTract2020.merge(df, on='TRPAID', how=\"left\")\n",
    "    \n",
    "# set new field values\n",
    "sdfTract2010['Tract_Population_2010']   = sdfTract2010['dfTractPop2010_value']\n",
    "sdfTract2010['Tract_HousingUnits_2010'] = sdfTract2010['dfTractUnits2010_value']\n",
    "sdfTract2010['Tract_Occupied_2010']     = sdfTract2010['dfTractUnitsOccupied2010_value']\n",
    "sdfTract2010['Tract_Vacant_2010']       = sdfTract2010['dfTractUnitsVacant2010_value']\n",
    "sdfTract2010['Tract_Seasonal_2010']     = sdfTract2010['dfTractUnitsSeasonal2010_value']\n",
    "\n",
    "sdfTract2020['Tract_Population_2020']   = sdfTract2020['dfTractPop2020_value']\n",
    "sdfTract2020['Tract_HousingUnits_2020'] = sdfTract2020['dfTractUnits2020_value']\n",
    "sdfTract2020['Tract_Occupied_2020']     = sdfTract2020['dfTractUnitsOccupied2020_value']\n",
    "sdfTract2020['Tract_Vacant_2020']       = sdfTract2020['dfTractUnitsVacant2020_value']\n",
    "sdfTract2020['Tract_Seasonal_2020']     = sdfTract2020['dfTractUnitsSeasonal2020_value']\n",
    "\n",
    "\n",
    "# Drop columns not in the list\n",
    "columns_to_drop_2010 = ['Shape__Area', 'Shape__Length', 'created_date', 'created_user', \n",
    "                        'last_edited_date', 'last_edited_user', \n",
    "                        'dfTractPop2010_value', 'dfTractUnits2010_value', \n",
    "                        'dfTractUnitsOccupied2010_value', 'dfTractUnitsVacant2010_value', \n",
    "                        'dfTractUnitsSeasonal2010_value']\n",
    "\n",
    "# Drop columns not in the list\n",
    "columns_to_drop_2020 = ['Shape__Area', 'Shape__Length', 'created_date', 'created_user', \n",
    "                        'last_edited_date', 'last_edited_user', \n",
    "                        'dfTractPop2020_value', 'dfTractUnits2020_value', \n",
    "                        'dfTractUnitsOccupied2020_value', 'dfTractUnitsVacant2020_value', \n",
    "                        'dfTractUnitsSeasonal2020_value']\n",
    "\n",
    "# drop\n",
    "sdfTract2010.drop(columns=columns_to_drop_2010, inplace=True)\n",
    "\n",
    "# drop in place\n",
    "sdfTract2020.drop(columns=columns_to_drop_2020, inplace=True)\n",
    "\n",
    "## Export spatial dataframes to feature class to use in Spatial join\n",
    "sdfTract2010.spatial.to_featureclass(os.path.join(workspace, \"Tahoe_Tract_2010_Values\"), sanitize_columns=False)\n",
    "\n",
    "# Export spatial dataframes to feature class to use in Spatial join\n",
    "sdfTract2020.spatial.to_featureclass(os.path.join(workspace, \"Tahoe_Tract_2020_Values\"), sanitize_columns=False)"
   ]
  },
  {
   "cell_type": "code",
   "execution_count": null,
   "metadata": {},
   "outputs": [],
   "source": []
  }
 ],
 "metadata": {
  "kernelspec": {
   "display_name": "ArcGISPro",
   "language": "Python",
   "name": "python3"
  },
  "language_info": {
   "file_extension": ".py",
   "name": "python",
   "version": "3"
  },
  "toc": {
   "base_numbering": 1,
   "nav_menu": {},
   "number_sections": true,
   "sideBar": true,
   "skip_h1_title": false,
   "title_cell": "Table of Contents",
   "title_sidebar": "Contents",
   "toc_cell": false,
   "toc_position": {},
   "toc_section_display": true,
   "toc_window_display": false
  }
 },
 "nbformat": 4,
 "nbformat_minor": 2
}
