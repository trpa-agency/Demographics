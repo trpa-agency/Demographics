{
 "cells": [
  {
   "cell_type": "markdown",
   "id": "2aede6c8",
   "metadata": {},
   "source": [
    "# Demographic Data Visulizations"
   ]
  },
  {
   "cell_type": "markdown",
   "id": "765faef0",
   "metadata": {},
   "source": [
    "#### Setup"
   ]
  },
  {
   "cell_type": "code",
   "execution_count": null,
   "id": "7fe8d64b",
   "metadata": {},
   "outputs": [],
   "source": [
    "import os\n",
    "import arcpy\n",
    "from arcgis.gis import GIS\n",
    "from arcgis.mapping import WebMap\n",
    "from arcgis.features import FeatureSet, GeoAccessor, GeoSeriesAccessor, FeatureLayer, FeatureLayerCollection\n",
    "# import datetime as dt\n",
    "import pandas as pd\n",
    "from pandas.api.types import CategoricalDtype\n",
    "import numpy as np\n",
    "import plotly.offline as py\n",
    "import plotly.graph_objs as go\n",
    "import plotly.tools as tls\n",
    "import plotly.express as px\n",
    "import plotly.figure_factory as ff\n",
    "from plotly.offline import iplot, init_notebook_mode\n",
    "from plotly.subplots import make_subplots\n",
    "py.init_notebook_mode()\n",
    "workspace = os.path.abspath('')"
   ]
  },
  {
   "cell_type": "code",
   "execution_count": null,
   "id": "4b566848",
   "metadata": {},
   "outputs": [],
   "source": [
    "# Connect to TRPA Enterprise GIS Portal\n",
    "portal_url = \"https://maps.trpa.org/portal\"\n",
    "gis = GIS(portal_url)\n",
    "\n",
    "# plotly settings\n",
    "init_notebook_mode(connected=False)\n",
    "\n",
    "# pandas settings\n",
    "pd.options.plotting.backend = \"plotly\"\n",
    "# set data frame display options\n",
    "pd.set_option('display.width', 1000)\n",
    "pd.set_option('display.max_rows', 1000)\n",
    "pd.set_option('display.max_columns', 1000)\n",
    "pd.options.display.float_format = '{:,.2f}'.format\n",
    "\n",
    "# set overwrite to true\n",
    "arcpy.env.overwriteOutput = True\n",
    "\n",
    "# in memory output file path\n",
    "wk_memory = \"memory/\"\n",
    "\n",
    "# set style variables\n",
    "template = 'plotly_white'\n",
    "font     = 'Calibri'\n",
    "# qualitative diverging color scheme\n",
    "colors = [\"#a6cee3\",\n",
    "            \"#1f78b4\",\n",
    "            \"#b2df_non_tahoe8a\",\n",
    "            '#33a02c',\n",
    "            '#fb9a99',\n",
    "            '#e31a1c',\n",
    "            '#fdbf6f',\n",
    "            '#ff7f00',\n",
    "            '#cab2d6',\n",
    "            '#6a3d9a']\n",
    "# colors for tables\n",
    "headerColor = '#6680a8'\n",
    "rowColor = 'white'\n",
    "lastrowColor = '#eeeeee'"
   ]
  },
  {
   "cell_type": "code",
   "execution_count": null,
   "id": "666e438f",
   "metadata": {},
   "outputs": [],
   "source": [
    "# Get data\n",
    "# Search for the feature layer by keyword and get the first result with [0]\n",
    "feature_layer_item = gis.content.search(query=\"Demographics\", item_type=\"Feature Layer\")[0]\n",
    "\n",
    "# name the sub layer/table to search for\n",
    "table_name = \"Demographic Summaries\"\n",
    "\n",
    "# Query the sublayer by name\n",
    "subtable = None\n",
    "for table in feature_layer_item.tables:\n",
    "    if table.properties.name == table_name:\n",
    "        subtable = table\n",
    "        break\n",
    "\n",
    "# create a data frame\n",
    "dfDemo = pd.DataFrame.spatial.from_layer(subtable)\n",
    "\n",
    "conditionCategory = dfDemo['Category'] == 'Total Population'\n",
    "conditionYears    = dfDemo[~dfDemo['Year'].isin([2011,2012])]\n",
    "\n",
    "# # Define the filter conditions for each field\n",
    "# conditionCounty     = dfCensus['county']!='510'\n",
    "# conditionBlock      = dfCensus['sample_level']  == 'block'\n",
    "# condition2010       = dfCensus['year_sample']   == 2010\n",
    "# condition2020       = dfCensus['year_sample']   == 2020\n",
    "# conditionPopulation = dfCensus['variable_name'] == 'Total Population'\n",
    "# conditionHousing    = dfCensus['variable_name'] == 'Total Housing Units'\n",
    "# conditionOccupied   = dfCensus['variable_name'] == 'Total Housing Units: Occupied'\n",
    "# conditionVacant     = dfCensus['variable_name'] == 'Total Housing Units: Vacant'\n",
    "# conditionSeasonal   = dfCensus['variable_name'] == 'Vacant Housing Units: Seasonal, recreational, or occasional use'\n",
    "\n",
    "# # filter to create new dfs by variable name\n",
    "# dfBlockPop2010           =  dfCensus.loc[conditionBlock & condition2010 & conditionPopulation].copy()\n",
    "# dfBlockUnits2010         =  dfCensus.loc[conditionBlock & condition2010 & conditionHousing].copy()\n",
    "# dfBlockUnitsOccupied2010 =  dfCensus.loc[conditionBlock & condition2010 & conditionOccupied].copy()\n",
    "# dfBlockUnitsVacant2010   =  dfCensus.loc[conditionBlock & condition2010 & conditionVacant].copy()\n",
    "# dfBlockUnitsSeasonal2010 =  dfCensus.loc[conditionBlock & condition2010 & conditionSeasonal].copy()\n",
    "\n",
    "# # create 2020 data frames from sql query\n",
    "# dfBlockPop2020           =  dfCensus[conditionBlock & condition2020 & conditionPopulation].copy()\n",
    "# dfBlockUnits2020         =  dfCensus[conditionBlock & condition2020 & conditionHousing].copy()\n",
    "# dfBlockUnitsOccupied2020 =  dfCensus[conditionBlock & condition2020 & conditionOccupied].copy()\n",
    "# dfBlockUnitsVacant2020   =  dfCensus[conditionBlock & condition2020 & conditionVacant].copy()\n",
    "# dfBlockUnitsSeasonal2020 =  dfCensus[conditionBlock & condition2020 & conditionSeasonal].copy()"
   ]
  },
  {
   "cell_type": "markdown",
   "id": "cbad2cb7",
   "metadata": {},
   "source": [
    "## Census Charts"
   ]
  },
  {
   "cell_type": "markdown",
   "id": "10d4458b",
   "metadata": {},
   "source": [
    "### Population - Decennial 1990-2020"
   ]
  },
  {
   "cell_type": "code",
   "execution_count": null,
   "id": "087cea48",
   "metadata": {},
   "outputs": [],
   "source": [
    "service_url = 'https://maps.trpa.org/server/rest/services/Demographics/FeatureServer/18'\n",
    "\n",
    "feature_layer = FeatureLayer(service_url)\n",
    "query_result = feature_layer.query()\n",
    "# Convert the query result to a list of dictionaries\n",
    "feature_list = query_result.features\n",
    "\n",
    "# Create a pandas DataFrame from the list of dictionaries\n",
    "all_data = pd.DataFrame([feature.attributes for feature in feature_list])\n",
    "\n",
    "dfDemo = all_data.loc[(all_data['Year'].isin([1990, 2000, 2010, 2020]))&(all_data['Geography']=='Basin')&(all_data['Category']=='Total Population')]\n",
    "\n",
    "dfDemo = dfDemo.sort_values(by=['Year'], ignore_index=True)\n",
    "fig_px = px.line(dfDemo, x=\"Year\", y=\"Value\",\n",
    "                labels=dict(Year='Year', Value='Population'),\n",
    "                title=\"Tahoe Decennial population 1990-2020\")\n",
    "\n",
    "fig_px.update_traces(mode='markers+lines', \n",
    "                     patch={\"line\": {\n",
    "                           \"shape\": \"spline\"}},\n",
    "                     hovertemplate='Census Year: %{x} <br> Population: %{y:,.0f}'\n",
    "                    )\n",
    "fig_px.update_layout(font_family=font,\n",
    "                     \n",
    "                 template=template,\n",
    "                    hoverlabel=dict(\n",
    "                    bgcolor='white',\n",
    "                       font=dict(color='#6680A8') \n",
    "                    ),\n",
    "                    title=dict(\n",
    "                    x=0.5,\n",
    "                xanchor='center'),\n",
    "                    xaxis=dict(tick0=1990, dtick=10),\n",
    "                    yaxis=dict(  range=[0,65000]))\n",
    "\n",
    "fig_px.show()\n",
    "fig_px.write_html(os.path.join(workspace, \"Demographics_Tahoe_Population_Line.html\"))"
   ]
  },
  {
   "cell_type": "code",
   "execution_count": null,
   "id": "cf870aa6",
   "metadata": {},
   "outputs": [],
   "source": [
    "fig_bar = px.bar(dfDemo, x=\"Year\", y=\"Value\",\n",
    "                labels=dict(Year='Year', Value='Population'),\n",
    "                title=\"Tahoe Decennial Population 1990-2020\",\n",
    ")\n",
    "fig_bar.update_layout(font_family=font,\n",
    "                 template=template,\n",
    "                    hoverlabel=dict(\n",
    "                    bgcolor='white',\n",
    "                       font=dict(color='#6680A8') \n",
    "                    ),\n",
    "                    title=dict(\n",
    "                    x=0.5,\n",
    "                xanchor='center'),\n",
    "                    xaxis=dict(tick0=1990, dtick=10),\n",
    "                    yaxis=dict( ))\n",
    "fig_bar.update_traces(marker_color='#2F3F56',\n",
    "                     hovertemplate='Census Year: %{x} <br> Population: %{y:,.0f} ')\n",
    "fig_bar.show()\n",
    "\n",
    "\n",
    "\n",
    "fig_bar.write_html(os.path.join(workspace, \"Demographics_Tahoe_Population.html\"))"
   ]
  },
  {
   "cell_type": "markdown",
   "id": "42a48100",
   "metadata": {},
   "source": [
    "### Bring in Census data for age "
   ]
  },
  {
   "cell_type": "code",
   "execution_count": null,
   "id": "cd0a666c",
   "metadata": {},
   "outputs": [],
   "source": [
    "service_url = 'https://maps.trpa.org/server/rest/services/Demographics/FeatureServer/28'\n",
    "\n",
    "feature_layer = FeatureLayer(service_url)\n",
    "query_result = feature_layer.query()\n",
    "# Convert the query result to a list of dictionaries\n",
    "feature_list = query_result.features\n",
    "\n",
    "# Create a pandas DataFrame from the list of dictionaries\n",
    "census_data = pd.DataFrame([feature.attributes for feature in feature_list])"
   ]
  },
  {
   "cell_type": "code",
   "execution_count": null,
   "id": "0769ae0e",
   "metadata": {},
   "outputs": [],
   "source": [
    "dfPopulation = census_data.loc[(census_data['variable_name'].isin(['Population Total','Total Population']))&(census_data['sample_level']=='tract')&(census_data['dataset']!='acs/acs5')]\n",
    "dfPopulation['Zone'] = None\n",
    "dfPopulation.loc[dfPopulation['county'].isin(['061','031']), 'Zone'] = \"North Lake\"\n",
    "dfPopulation.loc[dfPopulation['county'].isin(['005','017']), 'Zone'] = \"South Lake\"\n",
    "\n",
    "df = dfPopulation.groupby(['variable_code', 'year_sample', 'Zone'], as_index=False).sum(['value'])\n",
    "fig = px.bar(df, x=\"year_sample\", y=\"value\", color=\"Zone\", title=\"Total Population\")\n",
    "fig.show()"
   ]
  },
  {
   "cell_type": "markdown",
   "id": "9df5c126",
   "metadata": {},
   "source": [
    "### Age Distribution"
   ]
  },
  {
   "cell_type": "code",
   "execution_count": null,
   "id": "3027a822",
   "metadata": {},
   "outputs": [],
   "source": [
    "#dfCensus = pd.read_sql(\"SELECT * FROM sde.SDE.Census_Demographics\", conn)\n",
    "dfAge = census_data.loc[dfCensus['variable_name'].isin(['Population Total','Total Population'])]\n",
    "\n",
    "# group by variable name/code/year and sum values\n",
    "df = dfAge.groupby(['variable_name','variable_code','year_sample'], as_index= False).sum(['value'])\n",
    "\n",
    "# ordered list to sort age category by\n",
    "sort_list = [ 'Under 5', '5 to 9','10 to 14', '15 to 19', '20 to 24', \n",
    "            '25 to 29', '30 to 34', '35 to 39', '40 to 44', '45 to 49', \n",
    "            '50 to 54', '55 to 59', '60 to 64', '65 to 69', '70 to 74', \n",
    "            '75 to 79', '80 to 84', 'Over 85']\n",
    "\n",
    "# setup new fields\n",
    "# gender is tagged on the end of variable name. split it out after the colon\n",
    "df['Gender'] = df['variable_name'].str.split(':').str[-1]\n",
    "# age is the first part of the variable name string\n",
    "df['Age']    = df['variable_name'].str.split(':').str[0]\n",
    "# drop the rows that represent the Totals\n",
    "df = df[df.Age != 'Total']\n",
    "# setup a new Year column and format it\n",
    "df['Year'] = pd.to_datetime(df['year_sample'], format='%Y') \n",
    "df['Year']   = df['Year'].dt.strftime('%Y')\n",
    "# setup a new Count field based on the summed values\n",
    "df['Count'] = df['value']\n",
    "\n",
    "# cast count as integer type\n",
    "df = df.astype({'Count':int})\n",
    "\n",
    "# keep the new columsn\n",
    "df = df[['Age','Year','Gender','Count']]\n",
    "\n",
    "# set Age to be a categorical field with the same order as the list\n",
    "df['Age'] = pd.Categorical(df['Age'], categories = sort_list)\n",
    "# sort the age category\n",
    "df = df.sort_values(by='Age')\n",
    "\n",
    "pivotTable = pd.pivot_table(df, values='Count', index=['Age','Year'],\n",
    "                       columns=['Gender'], aggfunc=np.sum)\n",
    "flat = pd.DataFrame(pivotTable.to_records())\n",
    "df = flat\n",
    "# remove space in column names 'Male' and \"Female\"\n",
    "df.columns = df.columns.str.replace(' ', '')\n",
    "\n",
    "# set x and y variables for plot\n",
    "y_age    = df['Age']\n",
    "x_male   = df['Male']\n",
    "x_female = df['Female'] * -1\n",
    "\n",
    "# Creating instance of the figure\n",
    "fig = go.Figure()\n",
    "\n",
    "# Adding Male data to the figure\n",
    "fig.add_trace(go.Bar(y= y_age, x = x_male,\n",
    "\t\t\t\t\tname = 'Male',\n",
    "\t\t\t\t\torientation = 'h'))\n",
    "\n",
    "# Adding Female data to the figure\n",
    "fig.add_trace(go.Bar(y = y_age, \n",
    "\t\t\t\t\tx = x_female,\n",
    "\t\t\t\t\tname = 'Female', \n",
    "\t\t\t\t\torientation = 'h', \n",
    "\t\t\t\t\tmarker_color=\"green\"))\n",
    "\n",
    "# Updating the layout\n",
    "fig.update_layout(title = 'Tahoe Population',\n",
    "\t\t\t\ttitle_font_size = 22, barmode = 'relative',\n",
    "\t\t\t\tbargap = 0.0, bargroupgap = 0,\n",
    "\t\t\t\txaxis = dict(tickvals = [-6000, -4000, -2000,\n",
    "\t\t\t\t\t\t\t\t\t\t0, 2000, 4000, 6000],\n",
    "\t\t\t\t\t\t\t\t\n",
    "\t\t\t\t\t\t\tticktext = ['6k', '4k', '2k', '0',\n",
    "\t\t\t\t\t\t\t\t\t\t'2k', '4k', '6k'],\n",
    "\t\t\t\t\t\t\t\t\n",
    "\t\t\t\t\t\t\ttitle = 'Population',\n",
    "\t\t\t\t\t\t\ttitle_font_size = 14),\n",
    "\t\t\t\tyaxis = dict(\t\t\t\t\t\n",
    "\t\t\t\t\t\t\ttitle = 'Age',\n",
    "\t\t\t\t\t\t\ttitle_font_size = 14)\t\t\t\n",
    "\t\t\t\t)\n",
    "\n",
    "fig.show()\n"
   ]
  },
  {
   "cell_type": "code",
   "execution_count": null,
   "id": "5b873eb5",
   "metadata": {},
   "outputs": [],
   "source": [
    "# get data\n",
    "dfCensus = pd.read_sql(\"SELECT * FROM sde.SDE.Census_Demographics\", conn)\n",
    "dfAgeSex = dfCensus.loc[dfCensus['variable_category'].isin(['TRPA Census Age Sex Categories Grouped: Age'])]\n",
    "dfAgeSex_Tahoe = dfAgeSex.loc[dfAgeSex['sample_level']=='tract']\n",
    "# group by variable name/code/year and sum values\n",
    "df = dfAgeSex_Tahoe.groupby(['variable_name','variable_code','year_sample'], as_index= False).sum(['value'])\n",
    "\n",
    "# ordered list to sort age category by\n",
    "sort_list = [ 'Under 5', '5 to 9','10 to 14', '15 to 19', '20 to 24', \n",
    "            '25 to 29', '30 to 34', '35 to 39', '40 to 44', '45 to 49', \n",
    "            '50 to 54', '55 to 59', '60 to 64', '65 to 69', '70 to 74', \n",
    "            '75 to 79', '80 to 84', 'Over 85']\n",
    "\n",
    "# setup new fields\n",
    "# gender is tagged on the end of variable name. split it out after the colon\n",
    "df['Gender'] = df['variable_name'].str.split(':').str[-1]\n",
    "# age is the first part of the variable name string\n",
    "df['Age']    = df['variable_name'].str.split(':').str[0]\n",
    "# drop the rows that represent the Totals\n",
    "df = df[df.Age != 'Total']\n",
    "# setup a new Year column and format it\n",
    "df['Year'] = pd.to_datetime(df['year_sample'], format='%Y') \n",
    "df['Year']   = df['Year'].dt.strftime('%Y')\n",
    "# setup a new Count field based on the summed values\n",
    "df['Count'] = df['value']\n",
    "\n",
    "# cast count as integer type\n",
    "df = df.astype({'Count':int})\n",
    "\n",
    "# keep the new columsn\n",
    "df = df[['Age','Year','Gender','Count']]\n",
    "\n",
    "# set Age to be a categorical field with the same order as the list\n",
    "df['Age'] = pd.Categorical(df['Age'], categories = sort_list)\n",
    "# sort the age category\n",
    "df = df.sort_values(by='Age')\n",
    "\n",
    "pivotTable = pd.pivot_table(df, values='Count', index=['Age','Year'],\n",
    "                       columns=['Gender'], aggfunc=np.sum)\n",
    "flat = pd.DataFrame(pivotTable.to_records())\n",
    "df = flat\n",
    "# remove space in column names 'Male' and \"Female\"\n",
    "df.columns = df.columns.str.replace(' ', '')\n",
    "\n",
    "\n",
    "# Creating instance of the figure\n",
    "fig = make_subplots(rows=1, cols=4, shared_yaxes=True)\n",
    "\n",
    " # Filter by single year\n",
    "df1990 = df[df['Year']== '1990']\n",
    "df2000 = df[df['Year']== '2000']\n",
    "df2010 = df[df['Year']== '2010']\n",
    "df2020 = df[df['Year']== '2020']\n",
    "\n",
    "# set x and y variables for plot\n",
    "y_age90    = df1990['Age']\n",
    "x_male90   = df1990['Male']\n",
    "x_female90 = df1990['Female'] * -1\n",
    "\n",
    "# set x and y variables for plot\n",
    "y_age00    = df2000['Age']\n",
    "x_male00   = df2000['Male']\n",
    "x_female00 = df2000['Female'] * -1\n",
    "\n",
    "# set x and y variables for plot\n",
    "y_age10    = df2010['Age']\n",
    "x_male10   = df2010['Male']\n",
    "x_female10 = df2010['Female'] * -1\n",
    "\n",
    "# set x and y variables for plot\n",
    "y_age20    = df2020['Age']\n",
    "x_male20   = df2020['Male']\n",
    "x_female20 = df2020['Female'] * -1\n",
    "\n",
    "mcolor = '#405d74'\n",
    "fcolor = '#679ab8'\n",
    "# Adding Male data to the figure\n",
    "fig.add_trace(go.Bar(y= y_age90, \n",
    "\t\t\t\t\tx = x_male90,\n",
    "\t\t\t\t\tname = 'Male',\n",
    "\t\t\t\t\torientation = 'h',\n",
    "\t\t\t\t\tmarker_color=mcolor,\n",
    "\t\t\t\t\tlegendgroup = 'Male',\n",
    "\t\t\t\t\tcustomdata = np.stack((df1990['Male'], df1990['Age']), axis=-1),\n",
    "\t\t\t\t\thovertemplate='%{customdata[0]:,.0f} males<extra></extra>'\n",
    "\t\t\t\t\t),\n",
    "\t\t\t\t\trow=1, col=1)\n",
    "\n",
    "# Adding Female data to the figure\n",
    "fig.add_trace(go.Bar(y = y_age90, \n",
    "\t\t\t\t\tx = x_female90,\n",
    "\t\t\t\t\tname = 'Female', \n",
    "\t\t\t\t\torientation = 'h', \n",
    "\t\t\t\t\tmarker_color=fcolor,\n",
    "\t\t\t\t\tlegendgroup ='Female',\n",
    "\t\t\t\t\tcustomdata = np.stack((df1990['Female'], df1990['Age']), axis=-1),\n",
    "\t\t\t\t\thovertemplate='%{customdata[0]:,.0f} females<extra></extra>'\n",
    "\t\t\t\t\t),\n",
    "\t\t\t\t\trow=1, col=1)\n",
    "\n",
    "\n",
    "# Adding Male data to the figure\n",
    "fig.add_trace(go.Bar(y= y_age00, \n",
    "\t\t\t\t\tx = x_male00,\n",
    "\t\t\t\t\tname = 'Male',\n",
    "\t\t\t\t\torientation = 'h',\n",
    "\t\t\t\t\tmarker_color=mcolor,\n",
    "\t\t\t\t\tlegendgroup = 'Male',\n",
    "                    showlegend  = False,\n",
    "\t\t\t\t\tcustomdata = np.stack((df2000['Male'], df2000['Age']), axis=-1),\n",
    "\t\t\t\t\thovertemplate='%{customdata[0]:,.0f} males<extra></extra>'\n",
    "\t\t\t\t\t),\n",
    "\t\t\t\t\trow=1, col=2)\n",
    "\n",
    "# Adding Female data to the figure\n",
    "fig.add_trace(go.Bar(y = y_age00, \n",
    "\t\t\t\t\tx = x_female00,\n",
    "\t\t\t\t\tname = 'Female', \n",
    "\t\t\t\t\torientation = 'h', \n",
    "\t\t\t\t\tmarker_color=fcolor,\n",
    "\t\t\t\t\tlegendgroup ='Female',\n",
    "                    showlegend  = False,\n",
    "\t\t\t\t\tcustomdata = np.stack((df2000['Female'], df2000['Age']), axis=-1),\n",
    "\t\t\t\t\thovertemplate='%{customdata[0]:,.0f} females<extra></extra>'\n",
    "\t\t\t\t\t),\n",
    "\t\t\t\t\trow=1, col=2)\n",
    "\n",
    "# Adding Male data to the figure\n",
    "fig.add_trace(go.Bar(y= y_age10, \n",
    "\t\t\t\t\tx = x_male10,\n",
    "\t\t\t\t\tname = 'Male',\n",
    "\t\t\t\t\torientation = 'h',\n",
    "\t\t\t\t\tmarker_color=mcolor,\n",
    "\t\t\t\t\tlegendgroup = 'Male',\n",
    "\t\t\t\t\tshowlegend  = False,\n",
    "\t\t\t\t\tcustomdata = np.stack((df2010['Male'], df2010['Age']), axis=-1),\n",
    "\t\t\t\t\thovertemplate='%{customdata[0]:,.0f} males<extra></extra>'\n",
    "\t\t\t\t\t),\n",
    "\t\t\t\t\trow=1, col=3)\n",
    "\n",
    "# Adding Female data to the figure\n",
    "fig.add_trace(go.Bar(y = y_age10, \n",
    "\t\t\t\t\tx = x_female10,\n",
    "\t\t\t\t\tname = 'Female', \n",
    "\t\t\t\t\torientation = 'h', \n",
    "\t\t\t\t\tmarker_color=fcolor,\n",
    "\t\t\t\t\tlegendgroup = 'Female',\n",
    "\t\t\t\t\tshowlegend  = False,\n",
    "\t\t\t\t\tcustomdata = np.stack((df2010['Female'], df2010['Age']), axis=-1),\n",
    "\t\t\t\t\thovertemplate='%{customdata[0]:,.0f} females<extra></extra>'\n",
    "\t\t\t\t\t),\n",
    "\t\t\t\t\trow=1, col=3)\n",
    "\n",
    "# Adding Male data to the figure\n",
    "fig.add_trace(go.Bar(y= y_age20, \n",
    "\t\t\t\t\tx = x_male20,\n",
    "\t\t\t\t\tname = 'Male',\n",
    "\t\t\t\t\torientation = 'h',\n",
    "\t\t\t\t\tmarker_color=mcolor,\n",
    "\t\t\t\t\tlegendgroup = 'Male',\n",
    "\t\t\t\t\tshowlegend  = False,\n",
    "\t\t\t\t\tcustomdata = np.stack((df2020['Male'], df2020['Age']), axis=-1),\n",
    "\t\t\t\t\thovertemplate='%{customdata[0]:,.0f} males<extra></extra>'\n",
    "\t\t\t\t\t),\n",
    "\t\t\t\t\trow=1, col=4)\n",
    "\n",
    "# Adding Female data to the figure\n",
    "fig.add_trace(go.Bar(y = y_age20, \n",
    "\t\t\t\t\tx = x_female20,\n",
    "\t\t\t\t\tname = 'Female', \n",
    "\t\t\t\t\torientation = 'h', \n",
    "\t\t\t\t\tmarker_color=fcolor,\n",
    "\t\t\t\t\tlegendgroup =\"Female\",\n",
    "\t\t\t\t\tshowlegend  = False,\n",
    "\t\t\t\t\tcustomdata = np.stack((df2020['Female'], df2020['Age']), axis=-1),\n",
    "\t\t\t\t\thovertemplate='%{customdata[0]:,.0f} females<extra></extra>'\n",
    "\t\t\t\t\t),\n",
    "\t\t\t\t\trow=1, col=4)\n",
    "\n",
    "\n",
    "# Updating the layout\n",
    "fig.update_layout(title = 'Age Profile: 5 Year Increments',\n",
    "\t\t\t\ttitle_x=0.5,\n",
    "\t\t\t\ttitle_font_size = 22, barmode = 'relative',\n",
    "\t\t\t\tbargap = 0.0, bargroupgap = 0,\n",
    "\t\t\t\thovermode=\"y unified\",\n",
    "\t\t\t\txaxis = dict(tickvals = [-6000, -4000, -2000,\n",
    "\t\t\t\t\t\t\t\t\t\t0, 2000, 4000, 6000],\n",
    "\t\t\t\t\t\t\t\t\n",
    "\t\t\t\t\t\t\tticktext = ['6k', '4k', '2k', '0',\n",
    "\t\t\t\t\t\t\t\t\t\t'2k', '4k', '6k'],\n",
    "\t\t\t\t\t\t\ttitle_font_size = 14),\n",
    "\t\t\t\txaxis2 = dict(tickvals = [-6000, -4000, -2000,\n",
    "\t\t\t\t\t\t\t\t\t\t0, 2000, 4000, 6000],\n",
    "\t\t\t\t\t\t\tticktext = ['6k', '4k', '2k', '0',\n",
    "\t\t\t\t\t\t\t\t\t\t'2k', '4k', '6k'],\n",
    "\t\t\t\t\t\t\ttitle_font_size = 14),\n",
    "\t\t\t\txaxis3 = dict(tickvals = [-6000, -4000, -2000,\n",
    "\t\t\t\t\t\t\t\t\t\t0, 2000, 4000, 6000],\n",
    "\t\t\t\t\t\t\tticktext = ['6k', '4k', '2k', '0',\n",
    "\t\t\t\t\t\t\t\t\t\t'2k', '4k', '6k'],\n",
    "\t\t\t\t\t\t\ttitle_font_size = 14),\n",
    "                xaxis4 = dict(tickvals = [-6000, -4000, -2000,\n",
    "\t\t\t\t\t\t\t\t\t\t0, 2000, 4000, 6000],\n",
    "\t\t\t\t\t\t\tticktext = ['6k', '4k', '2k', '0',\n",
    "\t\t\t\t\t\t\t\t\t\t'2k', '4k', '6k'],\n",
    "\t\t\t\t\t\t\ttitle_font_size = 14),\n",
    "\t\t\t\tyaxis = dict(\t\t\t\t\t\n",
    "\t\t\t\t\t\t\ttitle = 'Age',\n",
    "\t\t\t\t\t\t\ttitle_font_size = 14)\t\t\t\n",
    "\t\t\t\t)\n",
    "\n",
    "\n",
    "# edit axis labels\n",
    "fig['layout']['xaxis']['title'] ='1990 Decennial Census'\n",
    "fig['layout']['xaxis2']['title']='2000 Decennial Census'\n",
    "fig['layout']['xaxis3']['title']='2010 Decennial Census'\n",
    "fig['layout']['xaxis4']['title']='2020 Decennial Census'\n",
    "\n",
    "fig.show()\n",
    "fig.write_html(os.path.join(workspace, \"Demographics_Tahoe_AgeProfile_DecadeSubplots.html\"))"
   ]
  },
  {
   "cell_type": "markdown",
   "id": "d57588eb",
   "metadata": {},
   "source": [
    "### Non Tahoe Age comparison"
   ]
  },
  {
   "cell_type": "code",
   "execution_count": 15,
   "id": "e9f5c188",
   "metadata": {},
   "outputs": [
    {
     "data": {
      "application/vnd.plotly.v1+json": {
       "config": {
        "plotlyServerURL": "https://plot.ly"
       },
       "data": [
        {
         "customdata": [
          [
           0.07532486467768686,
           "Under 5",
           7.53
          ],
          [
           0.07029470192640654,
           "5 to 9",
           7.03
          ],
          [
           0.0554229164008821,
           "10 to 14",
           5.54
          ],
          [
           0.04933569046273852,
           "15 to 19",
           4.93
          ],
          [
           0.06313218757403999,
           "20 to 24",
           6.31
          ],
          [
           0.08686143359638411,
           "25 to 29",
           8.69
          ],
          [
           0.11339736463212378,
           "30 to 34",
           11.34
          ],
          [
           0.12079680694016658,
           "35 to 39",
           12.08
          ],
          [
           0.096338551823434,
           "40 to 44",
           9.63
          ],
          [
           0.05569629481127777,
           "45 to 49",
           5.57
          ],
          [
           0.04348539248027119,
           "50 to 54",
           4.35
          ],
          [
           0.04361296907178917,
           "55 to 59",
           4.36
          ],
          [
           0.0422096265650914,
           "60 to 64",
           4.22
          ],
          [
           0.032823634474840074,
           "65 to 69",
           3.28
          ],
          [
           0.02471340829976854,
           "70 to 74",
           2.47
          ],
          [
           0.016184001895423645,
           "75 to 79",
           1.62
          ],
          [
           0.006123676392863001,
           "80 to 84",
           0.61
          ],
          [
           0.004246477974812736,
           "Over 85",
           0.42
          ]
         ],
         "hovertemplate": "Basin: %{customdata[2]:,.1f}% <extra></extra>",
         "legendgroup": "Basin",
         "marker": {
          "color": "#405d74"
         },
         "name": "Basin",
         "orientation": "h",
         "type": "bar",
         "x": [
          0.07532486467768686,
          0.07029470192640654,
          0.0554229164008821,
          0.04933569046273852,
          0.06313218757403999,
          0.08686143359638411,
          0.11339736463212378,
          0.12079680694016658,
          0.096338551823434,
          0.05569629481127777,
          0.04348539248027119,
          0.04361296907178917,
          0.0422096265650914,
          0.032823634474840074,
          0.02471340829976854,
          0.016184001895423645,
          0.006123676392863001,
          0.004246477974812736
         ],
         "xaxis": "x",
         "y": [
          "Under 5",
          "5 to 9",
          "10 to 14",
          "15 to 19",
          "20 to 24",
          "25 to 29",
          "30 to 34",
          "35 to 39",
          "40 to 44",
          "45 to 49",
          "50 to 54",
          "55 to 59",
          "60 to 64",
          "65 to 69",
          "70 to 74",
          "75 to 79",
          "80 to 84",
          "Over 85"
         ],
         "yaxis": "y"
        },
        {
         "customdata": [
          [
           0.0712695304667435,
           "Under 5",
           7.13
          ],
          [
           0.07267661330678417,
           "5 to 9",
           7.27
          ],
          [
           0.06336231772872071,
           "10 to 14",
           6.34
          ],
          [
           0.05957173768628155,
           "15 to 19",
           5.96
          ],
          [
           0.05818383441407292,
           "20 to 24",
           5.82
          ],
          [
           0.07490144317529951,
           "25 to 29",
           7.49
          ],
          [
           0.09412460093421932,
           "30 to 34",
           9.41
          ],
          [
           0.09457619257680981,
           "35 to 39",
           9.46
          ],
          [
           0.08610405438627998,
           "40 to 44",
           8.61
          ],
          [
           0.0651198635809648,
           "45 to 49",
           6.51
          ],
          [
           0.05123734366472721,
           "50 to 54",
           5.12
          ],
          [
           0.04529690842802518,
           "55 to 59",
           4.53
          ],
          [
           0.04412521119319579,
           "60 to 64",
           4.41
          ],
          [
           0.04315228402498923,
           "65 to 69",
           4.32
          ],
          [
           0.032035109070715065,
           "70 to 74",
           3.2
          ],
          [
           0.02267024917745808,
           "75 to 79",
           2.27
          ],
          [
           0.012287128592027926,
           "80 to 84",
           1.23
          ],
          [
           0.009305577592685261,
           "Over 85",
           0.93
          ]
         ],
         "hovertemplate": "5-Counties: %{customdata[2]:,.1f}% <extra></extra>",
         "legendgroup": "Five County",
         "marker": {
          "color": "#e28743"
         },
         "name": "Five County",
         "orientation": "h",
         "type": "bar",
         "x": [
          -0.0712695304667435,
          -0.07267661330678417,
          -0.06336231772872071,
          -0.05957173768628155,
          -0.05818383441407292,
          -0.07490144317529951,
          -0.09412460093421932,
          -0.09457619257680981,
          -0.08610405438627998,
          -0.0651198635809648,
          -0.05123734366472721,
          -0.04529690842802518,
          -0.04412521119319579,
          -0.04315228402498923,
          -0.032035109070715065,
          -0.02267024917745808,
          -0.012287128592027926,
          -0.009305577592685261
         ],
         "xaxis": "x",
         "y": [
          "Under 5",
          "5 to 9",
          "10 to 14",
          "15 to 19",
          "20 to 24",
          "25 to 29",
          "30 to 34",
          "35 to 39",
          "40 to 44",
          "45 to 49",
          "50 to 54",
          "55 to 59",
          "60 to 64",
          "65 to 69",
          "70 to 74",
          "75 to 79",
          "80 to 84",
          "Over 85"
         ],
         "yaxis": "y"
        },
        {
         "customdata": [
          [
           0.05432607681776467,
           "Under 5",
           5.43
          ],
          [
           0.06446614211136019,
           "5 to 9",
           6.45
          ],
          [
           0.06935563947103161,
           "10 to 14",
           6.94
          ],
          [
           0.06087048097609412,
           "15 to 19",
           6.09
          ],
          [
           0.06412011614436805,
           "20 to 24",
           6.41
          ],
          [
           0.07086010019708436,
           "25 to 29",
           7.09
          ],
          [
           0.07256014081752396,
           "30 to 34",
           7.26
          ],
          [
           0.08297100904180896,
           "35 to 39",
           8.3
          ],
          [
           0.09305089590636237,
           "40 to 44",
           9.31
          ],
          [
           0.0925243346522439,
           "45 to 49",
           9.25
          ],
          [
           0.08021784591313244,
           "50 to 54",
           8.02
          ],
          [
           0.05483759346462261,
           "55 to 59",
           5.48
          ],
          [
           0.04244083708194798,
           "60 to 64",
           4.24
          ],
          [
           0.034271615339481566,
           "65 to 69",
           3.43
          ],
          [
           0.02674931170921783,
           "70 to 74",
           2.67
          ],
          [
           0.019904015405677836,
           "75 to 79",
           1.99
          ],
          [
           0.009718816290300742,
           "80 to 84",
           0.97
          ],
          [
           0.006755028659976832,
           "Over 85",
           0.68
          ]
         ],
         "hovertemplate": "Basin: %{customdata[2]:,.1f}% <extra></extra>",
         "legendgroup": "Basin",
         "marker": {
          "color": "#405d74"
         },
         "name": "Basin",
         "orientation": "h",
         "showlegend": false,
         "type": "bar",
         "x": [
          0.05432607681776467,
          0.06446614211136019,
          0.06935563947103161,
          0.06087048097609412,
          0.06412011614436805,
          0.07086010019708436,
          0.07256014081752396,
          0.08297100904180896,
          0.09305089590636237,
          0.0925243346522439,
          0.08021784591313244,
          0.05483759346462261,
          0.04244083708194798,
          0.034271615339481566,
          0.02674931170921783,
          0.019904015405677836,
          0.009718816290300742,
          0.006755028659976832
         ],
         "xaxis": "x2",
         "y": [
          "Under 5",
          "5 to 9",
          "10 to 14",
          "15 to 19",
          "20 to 24",
          "25 to 29",
          "30 to 34",
          "35 to 39",
          "40 to 44",
          "45 to 49",
          "50 to 54",
          "55 to 59",
          "60 to 64",
          "65 to 69",
          "70 to 74",
          "75 to 79",
          "80 to 84",
          "Over 85"
         ],
         "yaxis": "y2"
        },
        {
         "customdata": [
          [
           0.0643310657596372,
           "Under 5",
           6.43
          ],
          [
           0.07230099057166726,
           "5 to 9",
           7.23
          ],
          [
           0.07512113617376776,
           "10 to 14",
           7.51
          ],
          [
           0.06834586466165414,
           "15 to 19",
           6.83
          ],
          [
           0.0548561880892708,
           "20 to 24",
           5.49
          ],
          [
           0.05751999045232128,
           "25 to 29",
           5.75
          ],
          [
           0.06744360902255639,
           "30 to 34",
           6.74
          ],
          [
           0.08227831483470581,
           "35 to 39",
           8.23
          ],
          [
           0.0872514619883041,
           "40 to 44",
           8.73
          ],
          [
           0.08170426065162907,
           "45 to 49",
           8.17
          ],
          [
           0.07217687074829932,
           "50 to 54",
           7.22
          ],
          [
           0.05355173648406731,
           "55 to 59",
           5.36
          ],
          [
           0.0416422007399451,
           "60 to 64",
           4.16
          ],
          [
           0.035843179377013965,
           "65 to 69",
           3.58
          ],
          [
           0.031482277121374865,
           "70 to 74",
           3.15
          ],
          [
           0.02609141902374985,
           "75 to 79",
           2.61
          ],
          [
           0.015912400047738393,
           "80 to 84",
           1.59
          ],
          [
           0.01214703425229741,
           "Over 85",
           1.21
          ]
         ],
         "hovertemplate": "5-Counties: %{customdata[2]:,.1f}% <extra></extra>",
         "legendgroup": "Five County",
         "marker": {
          "color": "#e28743"
         },
         "name": "Five County",
         "orientation": "h",
         "showlegend": false,
         "type": "bar",
         "x": [
          -0.0643310657596372,
          -0.07230099057166726,
          -0.07512113617376776,
          -0.06834586466165414,
          -0.0548561880892708,
          -0.05751999045232128,
          -0.06744360902255639,
          -0.08227831483470581,
          -0.0872514619883041,
          -0.08170426065162907,
          -0.07217687074829932,
          -0.05355173648406731,
          -0.0416422007399451,
          -0.035843179377013965,
          -0.031482277121374865,
          -0.02609141902374985,
          -0.015912400047738393,
          -0.01214703425229741
         ],
         "xaxis": "x2",
         "y": [
          "Under 5",
          "5 to 9",
          "10 to 14",
          "15 to 19",
          "20 to 24",
          "25 to 29",
          "30 to 34",
          "35 to 39",
          "40 to 44",
          "45 to 49",
          "50 to 54",
          "55 to 59",
          "60 to 64",
          "65 to 69",
          "70 to 74",
          "75 to 79",
          "80 to 84",
          "Over 85"
         ],
         "yaxis": "y2"
        },
        {
         "customdata": [
          [
           0.050982108292797874,
           "Under 5",
           5.1
          ],
          [
           0.048575227643781665,
           "5 to 9",
           4.86
          ],
          [
           0.050695975628229514,
           "10 to 14",
           5.07
          ],
          [
           0.05783246090922862,
           "15 to 19",
           5.78
          ],
          [
           0.06788076683554105,
           "20 to 24",
           6.79
          ],
          [
           0.07420934812246478,
           "25 to 29",
           7.42
          ],
          [
           0.06582734418393281,
           "30 to 34",
           6.58
          ],
          [
           0.06183831821318567,
           "35 to 39",
           6.18
          ],
          [
           0.06513725952232677,
           "40 to 44",
           6.51
          ],
          [
           0.07584198744382542,
           "45 to 49",
           7.58
          ],
          [
           0.08718630602730042,
           "50 to 54",
           8.72
          ],
          [
           0.0875734266911282,
           "55 to 59",
           8.76
          ],
          [
           0.07564001144530658,
           "60 to 64",
           7.56
          ],
          [
           0.05147021695588508,
           "65 to 69",
           5.15
          ],
          [
           0.032955750424991166,
           "70 to 74",
           3.3
          ],
          [
           0.021594600508306264,
           "75 to 79",
           2.16
          ],
          [
           0.013953175231010048,
           "80 to 84",
           1.4
          ],
          [
           0.010805715920758083,
           "Over 85",
           1.08
          ]
         ],
         "hovertemplate": "Basin: %{customdata[2]:,.1f}% <extra></extra>",
         "legendgroup": "Basin",
         "marker": {
          "color": "#405d74"
         },
         "name": "Basin",
         "orientation": "h",
         "showlegend": false,
         "type": "bar",
         "x": [
          0.050982108292797874,
          0.048575227643781665,
          0.050695975628229514,
          0.05783246090922862,
          0.06788076683554105,
          0.07420934812246478,
          0.06582734418393281,
          0.06183831821318567,
          0.06513725952232677,
          0.07584198744382542,
          0.08718630602730042,
          0.0875734266911282,
          0.07564001144530658,
          0.05147021695588508,
          0.032955750424991166,
          0.021594600508306264,
          0.013953175231010048,
          0.010805715920758083
         ],
         "xaxis": "x3",
         "y": [
          "Under 5",
          "5 to 9",
          "10 to 14",
          "15 to 19",
          "20 to 24",
          "25 to 29",
          "30 to 34",
          "35 to 39",
          "40 to 44",
          "45 to 49",
          "50 to 54",
          "55 to 59",
          "60 to 64",
          "65 to 69",
          "70 to 74",
          "75 to 79",
          "80 to 84",
          "Over 85"
         ],
         "yaxis": "y3"
        },
        {
         "customdata": [
          [
           0.0606645853273172,
           "Under 5",
           6.07
          ],
          [
           0.06416450176989806,
           "5 to 9",
           6.42
          ],
          [
           0.06757421418045365,
           "10 to 14",
           6.76
          ],
          [
           0.06880383756437719,
           "15 to 19",
           6.88
          ],
          [
           0.06098647129422846,
           "20 to 24",
           6.1
          ],
          [
           0.06019172629627942,
           "25 to 29",
           6.02
          ],
          [
           0.05731564194886286,
           "30 to 34",
           5.73
          ],
          [
           0.06087063032678547,
           "35 to 39",
           6.09
          ],
          [
           0.06845821369430138,
           "40 to 44",
           6.85
          ],
          [
           0.07726402625222187,
           "45 to 49",
           7.73
          ],
          [
           0.07764952979961412,
           "50 to 54",
           7.76
          ],
          [
           0.07043035868921198,
           "55 to 59",
           7.04
          ],
          [
           0.06360048919070842,
           "60 to 64",
           6.36
          ],
          [
           0.04731059052306944,
           "65 to 69",
           4.73
          ],
          [
           0.03372206523555596,
           "70 to 74",
           3.37
          ],
          [
           0.025401455418318824,
           "75 to 79",
           2.54
          ],
          [
           0.018347500113941935,
           "80 to 84",
           1.83
          ],
          [
           0.017244162374853773,
           "Over 85",
           1.72
          ]
         ],
         "hovertemplate": "5-Counties: %{customdata[2]:,.1f}% <extra></extra>",
         "legendgroup": "Five County",
         "marker": {
          "color": "#e28743"
         },
         "name": "Five County",
         "orientation": "h",
         "showlegend": false,
         "type": "bar",
         "x": [
          -0.0606645853273172,
          -0.06416450176989806,
          -0.06757421418045365,
          -0.06880383756437719,
          -0.06098647129422846,
          -0.06019172629627942,
          -0.05731564194886286,
          -0.06087063032678547,
          -0.06845821369430138,
          -0.07726402625222187,
          -0.07764952979961412,
          -0.07043035868921198,
          -0.06360048919070842,
          -0.04731059052306944,
          -0.03372206523555596,
          -0.025401455418318824,
          -0.018347500113941935,
          -0.017244162374853773
         ],
         "xaxis": "x3",
         "y": [
          "Under 5",
          "5 to 9",
          "10 to 14",
          "15 to 19",
          "20 to 24",
          "25 to 29",
          "30 to 34",
          "35 to 39",
          "40 to 44",
          "45 to 49",
          "50 to 54",
          "55 to 59",
          "60 to 64",
          "65 to 69",
          "70 to 74",
          "75 to 79",
          "80 to 84",
          "Over 85"
         ],
         "yaxis": "y3"
        },
        {
         "customdata": [
          [
           0.04200398920567875,
           "Under 5",
           4.2
          ],
          [
           0.04324433046713934,
           "5 to 9",
           4.32
          ],
          [
           0.05281507182246359,
           "10 to 14",
           5.28
          ],
          [
           0.05018353698395937,
           "15 to 19",
           5.02
          ],
          [
           0.04636194498918892,
           "20 to 24",
           4.64
          ],
          [
           0.06386081359682204,
           "25 to 29",
           6.39
          ],
          [
           0.07289519116340658,
           "30 to 34",
           7.29
          ],
          [
           0.06972729253616265,
           "35 to 39",
           6.97
          ],
          [
           0.06032416486481956,
           "40 to 44",
           6.03
          ],
          [
           0.05962018739209869,
           "45 to 49",
           5.96
          ],
          [
           0.06515143896347698,
           "50 to 54",
           6.52
          ],
          [
           0.07908013610231139,
           "55 to 59",
           7.91
          ],
          [
           0.0863042858818994,
           "60 to 64",
           8.63
          ],
          [
           0.08025343189017951,
           "65 to 69",
           8.03
          ],
          [
           0.06221819949380667,
           "70 to 74",
           6.22
          ],
          [
           0.03479660079448886,
           "75 to 79",
           3.48
          ],
          [
           0.01770000502841052,
           "80 to 84",
           1.77
          ],
          [
           0.013459378823687166,
           "Over 85",
           1.35
          ]
         ],
         "hovertemplate": "Basin: %{customdata[2]:,.1f}% <extra></extra>",
         "legendgroup": "Basin",
         "marker": {
          "color": "#405d74"
         },
         "name": "Basin",
         "orientation": "h",
         "showlegend": false,
         "type": "bar",
         "x": [
          0.04200398920567875,
          0.04324433046713934,
          0.05281507182246359,
          0.05018353698395937,
          0.04636194498918892,
          0.06386081359682204,
          0.07289519116340658,
          0.06972729253616265,
          0.06032416486481956,
          0.05962018739209869,
          0.06515143896347698,
          0.07908013610231139,
          0.0863042858818994,
          0.08025343189017951,
          0.06221819949380667,
          0.03479660079448886,
          0.01770000502841052,
          0.013459378823687166
         ],
         "xaxis": "x4",
         "y": [
          "Under 5",
          "5 to 9",
          "10 to 14",
          "15 to 19",
          "20 to 24",
          "25 to 29",
          "30 to 34",
          "35 to 39",
          "40 to 44",
          "45 to 49",
          "50 to 54",
          "55 to 59",
          "60 to 64",
          "65 to 69",
          "70 to 74",
          "75 to 79",
          "80 to 84",
          "Over 85"
         ],
         "yaxis": "y4"
        },
        {
         "customdata": [
          [
           0.05068611549519841,
           "Under 5",
           5.07
          ],
          [
           0.05881937905644735,
           "5 to 9",
           5.88
          ],
          [
           0.06437986700186385,
           "10 to 14",
           6.44
          ],
          [
           0.06341476116360349,
           "15 to 19",
           6.34
          ],
          [
           0.05810877893532615,
           "20 to 24",
           5.81
          ],
          [
           0.05718483078729622,
           "25 to 29",
           5.72
          ],
          [
           0.060906661918133154,
           "30 to 34",
           6.09
          ],
          [
           0.06391705297498704,
           "35 to 39",
           6.39
          ],
          [
           0.05991215772970821,
           "40 to 44",
           5.99
          ],
          [
           0.05926959379039648,
           "45 to 49",
           5.93
          ],
          [
           0.06319049374949078,
           "50 to 54",
           6.32
          ],
          [
           0.07015622283277463,
           "55 to 59",
           7.02
          ],
          [
           0.07037209071826889,
           "60 to 64",
           7.04
          ],
          [
           0.06417407855071174,
           "65 to 69",
           6.42
          ],
          [
           0.05517062382459097,
           "70 to 74",
           5.52
          ],
          [
           0.03698060464846713,
           "75 to 79",
           3.7
          ],
          [
           0.022480498394430105,
           "80 to 84",
           2.25
          ],
          [
           0.020876188428305402,
           "Over 85",
           2.09
          ]
         ],
         "hovertemplate": "5-Counties: %{customdata[2]:,.1f}% <extra></extra>",
         "legendgroup": "Five County",
         "marker": {
          "color": "#e28743"
         },
         "name": "Five County",
         "orientation": "h",
         "showlegend": false,
         "type": "bar",
         "x": [
          -0.05068611549519841,
          -0.05881937905644735,
          -0.06437986700186385,
          -0.06341476116360349,
          -0.05810877893532615,
          -0.05718483078729622,
          -0.060906661918133154,
          -0.06391705297498704,
          -0.05991215772970821,
          -0.05926959379039648,
          -0.06319049374949078,
          -0.07015622283277463,
          -0.07037209071826889,
          -0.06417407855071174,
          -0.05517062382459097,
          -0.03698060464846713,
          -0.022480498394430105,
          -0.020876188428305402
         ],
         "xaxis": "x4",
         "y": [
          "Under 5",
          "5 to 9",
          "10 to 14",
          "15 to 19",
          "20 to 24",
          "25 to 29",
          "30 to 34",
          "35 to 39",
          "40 to 44",
          "45 to 49",
          "50 to 54",
          "55 to 59",
          "60 to 64",
          "65 to 69",
          "70 to 74",
          "75 to 79",
          "80 to 84",
          "Over 85"
         ],
         "yaxis": "y4"
        }
       ],
       "layout": {
        "bargap": 0,
        "bargroupgap": 0,
        "barmode": "relative",
        "hovermode": "y unified",
        "template": {
         "data": {
          "bar": [
           {
            "error_x": {
             "color": "#2a3f5f"
            },
            "error_y": {
             "color": "#2a3f5f"
            },
            "marker": {
             "line": {
              "color": "#E5ECF6",
              "width": 0.5
             },
             "pattern": {
              "fillmode": "overlay",
              "size": 10,
              "solidity": 0.2
             }
            },
            "type": "bar"
           }
          ],
          "barpolar": [
           {
            "marker": {
             "line": {
              "color": "#E5ECF6",
              "width": 0.5
             },
             "pattern": {
              "fillmode": "overlay",
              "size": 10,
              "solidity": 0.2
             }
            },
            "type": "barpolar"
           }
          ],
          "carpet": [
           {
            "aaxis": {
             "endlinecolor": "#2a3f5f",
             "gridcolor": "white",
             "linecolor": "white",
             "minorgridcolor": "white",
             "startlinecolor": "#2a3f5f"
            },
            "baxis": {
             "endlinecolor": "#2a3f5f",
             "gridcolor": "white",
             "linecolor": "white",
             "minorgridcolor": "white",
             "startlinecolor": "#2a3f5f"
            },
            "type": "carpet"
           }
          ],
          "choropleth": [
           {
            "colorbar": {
             "outlinewidth": 0,
             "ticks": ""
            },
            "type": "choropleth"
           }
          ],
          "contour": [
           {
            "colorbar": {
             "outlinewidth": 0,
             "ticks": ""
            },
            "colorscale": [
             [
              0,
              "#0d0887"
             ],
             [
              0.1111111111111111,
              "#46039f"
             ],
             [
              0.2222222222222222,
              "#7201a8"
             ],
             [
              0.3333333333333333,
              "#9c179e"
             ],
             [
              0.4444444444444444,
              "#bd3786"
             ],
             [
              0.5555555555555556,
              "#d8576b"
             ],
             [
              0.6666666666666666,
              "#ed7953"
             ],
             [
              0.7777777777777778,
              "#fb9f3a"
             ],
             [
              0.8888888888888888,
              "#fdca26"
             ],
             [
              1,
              "#f0f921"
             ]
            ],
            "type": "contour"
           }
          ],
          "contourcarpet": [
           {
            "colorbar": {
             "outlinewidth": 0,
             "ticks": ""
            },
            "type": "contourcarpet"
           }
          ],
          "heatmap": [
           {
            "colorbar": {
             "outlinewidth": 0,
             "ticks": ""
            },
            "colorscale": [
             [
              0,
              "#0d0887"
             ],
             [
              0.1111111111111111,
              "#46039f"
             ],
             [
              0.2222222222222222,
              "#7201a8"
             ],
             [
              0.3333333333333333,
              "#9c179e"
             ],
             [
              0.4444444444444444,
              "#bd3786"
             ],
             [
              0.5555555555555556,
              "#d8576b"
             ],
             [
              0.6666666666666666,
              "#ed7953"
             ],
             [
              0.7777777777777778,
              "#fb9f3a"
             ],
             [
              0.8888888888888888,
              "#fdca26"
             ],
             [
              1,
              "#f0f921"
             ]
            ],
            "type": "heatmap"
           }
          ],
          "heatmapgl": [
           {
            "colorbar": {
             "outlinewidth": 0,
             "ticks": ""
            },
            "colorscale": [
             [
              0,
              "#0d0887"
             ],
             [
              0.1111111111111111,
              "#46039f"
             ],
             [
              0.2222222222222222,
              "#7201a8"
             ],
             [
              0.3333333333333333,
              "#9c179e"
             ],
             [
              0.4444444444444444,
              "#bd3786"
             ],
             [
              0.5555555555555556,
              "#d8576b"
             ],
             [
              0.6666666666666666,
              "#ed7953"
             ],
             [
              0.7777777777777778,
              "#fb9f3a"
             ],
             [
              0.8888888888888888,
              "#fdca26"
             ],
             [
              1,
              "#f0f921"
             ]
            ],
            "type": "heatmapgl"
           }
          ],
          "histogram": [
           {
            "marker": {
             "pattern": {
              "fillmode": "overlay",
              "size": 10,
              "solidity": 0.2
             }
            },
            "type": "histogram"
           }
          ],
          "histogram2d": [
           {
            "colorbar": {
             "outlinewidth": 0,
             "ticks": ""
            },
            "colorscale": [
             [
              0,
              "#0d0887"
             ],
             [
              0.1111111111111111,
              "#46039f"
             ],
             [
              0.2222222222222222,
              "#7201a8"
             ],
             [
              0.3333333333333333,
              "#9c179e"
             ],
             [
              0.4444444444444444,
              "#bd3786"
             ],
             [
              0.5555555555555556,
              "#d8576b"
             ],
             [
              0.6666666666666666,
              "#ed7953"
             ],
             [
              0.7777777777777778,
              "#fb9f3a"
             ],
             [
              0.8888888888888888,
              "#fdca26"
             ],
             [
              1,
              "#f0f921"
             ]
            ],
            "type": "histogram2d"
           }
          ],
          "histogram2dcontour": [
           {
            "colorbar": {
             "outlinewidth": 0,
             "ticks": ""
            },
            "colorscale": [
             [
              0,
              "#0d0887"
             ],
             [
              0.1111111111111111,
              "#46039f"
             ],
             [
              0.2222222222222222,
              "#7201a8"
             ],
             [
              0.3333333333333333,
              "#9c179e"
             ],
             [
              0.4444444444444444,
              "#bd3786"
             ],
             [
              0.5555555555555556,
              "#d8576b"
             ],
             [
              0.6666666666666666,
              "#ed7953"
             ],
             [
              0.7777777777777778,
              "#fb9f3a"
             ],
             [
              0.8888888888888888,
              "#fdca26"
             ],
             [
              1,
              "#f0f921"
             ]
            ],
            "type": "histogram2dcontour"
           }
          ],
          "mesh3d": [
           {
            "colorbar": {
             "outlinewidth": 0,
             "ticks": ""
            },
            "type": "mesh3d"
           }
          ],
          "parcoords": [
           {
            "line": {
             "colorbar": {
              "outlinewidth": 0,
              "ticks": ""
             }
            },
            "type": "parcoords"
           }
          ],
          "pie": [
           {
            "automargin": true,
            "type": "pie"
           }
          ],
          "scatter": [
           {
            "marker": {
             "colorbar": {
              "outlinewidth": 0,
              "ticks": ""
             }
            },
            "type": "scatter"
           }
          ],
          "scatter3d": [
           {
            "line": {
             "colorbar": {
              "outlinewidth": 0,
              "ticks": ""
             }
            },
            "marker": {
             "colorbar": {
              "outlinewidth": 0,
              "ticks": ""
             }
            },
            "type": "scatter3d"
           }
          ],
          "scattercarpet": [
           {
            "marker": {
             "colorbar": {
              "outlinewidth": 0,
              "ticks": ""
             }
            },
            "type": "scattercarpet"
           }
          ],
          "scattergeo": [
           {
            "marker": {
             "colorbar": {
              "outlinewidth": 0,
              "ticks": ""
             }
            },
            "type": "scattergeo"
           }
          ],
          "scattergl": [
           {
            "marker": {
             "colorbar": {
              "outlinewidth": 0,
              "ticks": ""
             }
            },
            "type": "scattergl"
           }
          ],
          "scattermapbox": [
           {
            "marker": {
             "colorbar": {
              "outlinewidth": 0,
              "ticks": ""
             }
            },
            "type": "scattermapbox"
           }
          ],
          "scatterpolar": [
           {
            "marker": {
             "colorbar": {
              "outlinewidth": 0,
              "ticks": ""
             }
            },
            "type": "scatterpolar"
           }
          ],
          "scatterpolargl": [
           {
            "marker": {
             "colorbar": {
              "outlinewidth": 0,
              "ticks": ""
             }
            },
            "type": "scatterpolargl"
           }
          ],
          "scatterternary": [
           {
            "marker": {
             "colorbar": {
              "outlinewidth": 0,
              "ticks": ""
             }
            },
            "type": "scatterternary"
           }
          ],
          "surface": [
           {
            "colorbar": {
             "outlinewidth": 0,
             "ticks": ""
            },
            "colorscale": [
             [
              0,
              "#0d0887"
             ],
             [
              0.1111111111111111,
              "#46039f"
             ],
             [
              0.2222222222222222,
              "#7201a8"
             ],
             [
              0.3333333333333333,
              "#9c179e"
             ],
             [
              0.4444444444444444,
              "#bd3786"
             ],
             [
              0.5555555555555556,
              "#d8576b"
             ],
             [
              0.6666666666666666,
              "#ed7953"
             ],
             [
              0.7777777777777778,
              "#fb9f3a"
             ],
             [
              0.8888888888888888,
              "#fdca26"
             ],
             [
              1,
              "#f0f921"
             ]
            ],
            "type": "surface"
           }
          ],
          "table": [
           {
            "cells": {
             "fill": {
              "color": "#EBF0F8"
             },
             "line": {
              "color": "white"
             }
            },
            "header": {
             "fill": {
              "color": "#C8D4E3"
             },
             "line": {
              "color": "white"
             }
            },
            "type": "table"
           }
          ]
         },
         "layout": {
          "annotationdefaults": {
           "arrowcolor": "#2a3f5f",
           "arrowhead": 0,
           "arrowwidth": 1
          },
          "autotypenumbers": "strict",
          "coloraxis": {
           "colorbar": {
            "outlinewidth": 0,
            "ticks": ""
           }
          },
          "colorscale": {
           "diverging": [
            [
             0,
             "#8e0152"
            ],
            [
             0.1,
             "#c51b7d"
            ],
            [
             0.2,
             "#de77ae"
            ],
            [
             0.3,
             "#f1b6da"
            ],
            [
             0.4,
             "#fde0ef"
            ],
            [
             0.5,
             "#f7f7f7"
            ],
            [
             0.6,
             "#e6f5d0"
            ],
            [
             0.7,
             "#b8e186"
            ],
            [
             0.8,
             "#7fbc41"
            ],
            [
             0.9,
             "#4d9221"
            ],
            [
             1,
             "#276419"
            ]
           ],
           "sequential": [
            [
             0,
             "#0d0887"
            ],
            [
             0.1111111111111111,
             "#46039f"
            ],
            [
             0.2222222222222222,
             "#7201a8"
            ],
            [
             0.3333333333333333,
             "#9c179e"
            ],
            [
             0.4444444444444444,
             "#bd3786"
            ],
            [
             0.5555555555555556,
             "#d8576b"
            ],
            [
             0.6666666666666666,
             "#ed7953"
            ],
            [
             0.7777777777777778,
             "#fb9f3a"
            ],
            [
             0.8888888888888888,
             "#fdca26"
            ],
            [
             1,
             "#f0f921"
            ]
           ],
           "sequentialminus": [
            [
             0,
             "#0d0887"
            ],
            [
             0.1111111111111111,
             "#46039f"
            ],
            [
             0.2222222222222222,
             "#7201a8"
            ],
            [
             0.3333333333333333,
             "#9c179e"
            ],
            [
             0.4444444444444444,
             "#bd3786"
            ],
            [
             0.5555555555555556,
             "#d8576b"
            ],
            [
             0.6666666666666666,
             "#ed7953"
            ],
            [
             0.7777777777777778,
             "#fb9f3a"
            ],
            [
             0.8888888888888888,
             "#fdca26"
            ],
            [
             1,
             "#f0f921"
            ]
           ]
          },
          "colorway": [
           "#636efa",
           "#EF553B",
           "#00cc96",
           "#ab63fa",
           "#FFA15A",
           "#19d3f3",
           "#FF6692",
           "#B6E880",
           "#FF97FF",
           "#FECB52"
          ],
          "font": {
           "color": "#2a3f5f"
          },
          "geo": {
           "bgcolor": "white",
           "lakecolor": "white",
           "landcolor": "#E5ECF6",
           "showlakes": true,
           "showland": true,
           "subunitcolor": "white"
          },
          "hoverlabel": {
           "align": "left"
          },
          "hovermode": "closest",
          "mapbox": {
           "style": "light"
          },
          "paper_bgcolor": "white",
          "plot_bgcolor": "#E5ECF6",
          "polar": {
           "angularaxis": {
            "gridcolor": "white",
            "linecolor": "white",
            "ticks": ""
           },
           "bgcolor": "#E5ECF6",
           "radialaxis": {
            "gridcolor": "white",
            "linecolor": "white",
            "ticks": ""
           }
          },
          "scene": {
           "xaxis": {
            "backgroundcolor": "#E5ECF6",
            "gridcolor": "white",
            "gridwidth": 2,
            "linecolor": "white",
            "showbackground": true,
            "ticks": "",
            "zerolinecolor": "white"
           },
           "yaxis": {
            "backgroundcolor": "#E5ECF6",
            "gridcolor": "white",
            "gridwidth": 2,
            "linecolor": "white",
            "showbackground": true,
            "ticks": "",
            "zerolinecolor": "white"
           },
           "zaxis": {
            "backgroundcolor": "#E5ECF6",
            "gridcolor": "white",
            "gridwidth": 2,
            "linecolor": "white",
            "showbackground": true,
            "ticks": "",
            "zerolinecolor": "white"
           }
          },
          "shapedefaults": {
           "line": {
            "color": "#2a3f5f"
           }
          },
          "ternary": {
           "aaxis": {
            "gridcolor": "white",
            "linecolor": "white",
            "ticks": ""
           },
           "baxis": {
            "gridcolor": "white",
            "linecolor": "white",
            "ticks": ""
           },
           "bgcolor": "#E5ECF6",
           "caxis": {
            "gridcolor": "white",
            "linecolor": "white",
            "ticks": ""
           }
          },
          "title": {
           "x": 0.05
          },
          "xaxis": {
           "automargin": true,
           "gridcolor": "white",
           "linecolor": "white",
           "ticks": "",
           "title": {
            "standoff": 15
           },
           "zerolinecolor": "white",
           "zerolinewidth": 2
          },
          "yaxis": {
           "automargin": true,
           "gridcolor": "white",
           "linecolor": "white",
           "ticks": "",
           "title": {
            "standoff": 15
           },
           "zerolinecolor": "white",
           "zerolinewidth": 2
          }
         }
        },
        "title": {
         "font": {
          "size": 22
         },
         "text": "Basin vs Five Counties Age Profile: 5 Year Increments",
         "x": 0.5
        },
        "xaxis": {
         "anchor": "y",
         "domain": [
          0,
          0.2125
         ],
         "ticktext": [
          "-.5",
          "-.25",
          "0",
          ".25",
          ".5"
         ],
         "tickvals": [
          -0.5,
          -0.25,
          0,
          0.25,
          0.5
         ],
         "title": {
          "text": "1990 Decennial Census"
         }
        },
        "xaxis2": {
         "anchor": "y2",
         "domain": [
          0.2625,
          0.475
         ],
         "ticktext": [
          "-.5",
          "-.25",
          "0",
          ".25",
          ".5"
         ],
         "tickvals": [
          -0.5,
          -0.25,
          0,
          0.25,
          0.5
         ],
         "title": {
          "text": "2000 Decennial Census"
         }
        },
        "xaxis3": {
         "anchor": "y3",
         "domain": [
          0.525,
          0.7375
         ],
         "ticktext": [
          "-.5",
          "-.25",
          "0",
          ".25",
          ".5"
         ],
         "tickvals": [
          -0.5,
          -0.25,
          0,
          0.25,
          0.5
         ],
         "title": {
          "text": "2010 Decennial Census"
         }
        },
        "xaxis4": {
         "anchor": "y4",
         "domain": [
          0.7875,
          1
         ],
         "ticktext": [
          "-.5",
          "-.25",
          "0",
          ".25",
          ".5"
         ],
         "tickvals": [
          -0.5,
          -0.25,
          0,
          0.25,
          0.5
         ],
         "title": {
          "text": "2020 Decennial Census"
         }
        },
        "yaxis": {
         "anchor": "x",
         "domain": [
          0,
          1
         ],
         "title": {
          "font": {
           "size": 14
          },
          "text": "Age"
         }
        },
        "yaxis2": {
         "anchor": "x2",
         "domain": [
          0,
          1
         ],
         "matches": "y",
         "showticklabels": false
        },
        "yaxis3": {
         "anchor": "x3",
         "domain": [
          0,
          1
         ],
         "matches": "y",
         "showticklabels": false
        },
        "yaxis4": {
         "anchor": "x4",
         "domain": [
          0,
          1
         ],
         "matches": "y",
         "showticklabels": false
        }
       }
      },
      "text/html": [
       "<div>                            <div id=\"fe2fac0b-f50d-4ef6-a7d9-69a157beeaf8\" class=\"plotly-graph-div\" style=\"height:525px; width:100%;\"></div>            <script type=\"text/javascript\">                require([\"plotly\"], function(Plotly) {                    window.PLOTLYENV=window.PLOTLYENV || {};                                    if (document.getElementById(\"fe2fac0b-f50d-4ef6-a7d9-69a157beeaf8\")) {                    Plotly.newPlot(                        \"fe2fac0b-f50d-4ef6-a7d9-69a157beeaf8\",                        [{\"customdata\":[[0.07532486467768686,\"Under 5\",7.53],[0.07029470192640654,\"5 to 9\",7.03],[0.0554229164008821,\"10 to 14\",5.54],[0.04933569046273852,\"15 to 19\",4.93],[0.06313218757403999,\"20 to 24\",6.31],[0.08686143359638411,\"25 to 29\",8.69],[0.11339736463212378,\"30 to 34\",11.34],[0.12079680694016658,\"35 to 39\",12.08],[0.096338551823434,\"40 to 44\",9.63],[0.05569629481127777,\"45 to 49\",5.57],[0.04348539248027119,\"50 to 54\",4.35],[0.04361296907178917,\"55 to 59\",4.36],[0.0422096265650914,\"60 to 64\",4.22],[0.032823634474840074,\"65 to 69\",3.28],[0.02471340829976854,\"70 to 74\",2.47],[0.016184001895423645,\"75 to 79\",1.62],[0.006123676392863001,\"80 to 84\",0.61],[0.004246477974812736,\"Over 85\",0.42]],\"hovertemplate\":\"Basin: %{customdata[2]:,.1f}% <extra></extra>\",\"legendgroup\":\"Basin\",\"marker\":{\"color\":\"#405d74\"},\"name\":\"Basin\",\"orientation\":\"h\",\"x\":[0.07532486467768686,0.07029470192640654,0.0554229164008821,0.04933569046273852,0.06313218757403999,0.08686143359638411,0.11339736463212378,0.12079680694016658,0.096338551823434,0.05569629481127777,0.04348539248027119,0.04361296907178917,0.0422096265650914,0.032823634474840074,0.02471340829976854,0.016184001895423645,0.006123676392863001,0.004246477974812736],\"y\":[\"Under 5\",\"5 to 9\",\"10 to 14\",\"15 to 19\",\"20 to 24\",\"25 to 29\",\"30 to 34\",\"35 to 39\",\"40 to 44\",\"45 to 49\",\"50 to 54\",\"55 to 59\",\"60 to 64\",\"65 to 69\",\"70 to 74\",\"75 to 79\",\"80 to 84\",\"Over 85\"],\"type\":\"bar\",\"xaxis\":\"x\",\"yaxis\":\"y\"},{\"customdata\":[[0.0712695304667435,\"Under 5\",7.13],[0.07267661330678417,\"5 to 9\",7.27],[0.06336231772872071,\"10 to 14\",6.34],[0.05957173768628155,\"15 to 19\",5.96],[0.05818383441407292,\"20 to 24\",5.82],[0.07490144317529951,\"25 to 29\",7.49],[0.09412460093421932,\"30 to 34\",9.41],[0.09457619257680981,\"35 to 39\",9.46],[0.08610405438627998,\"40 to 44\",8.61],[0.0651198635809648,\"45 to 49\",6.51],[0.05123734366472721,\"50 to 54\",5.12],[0.04529690842802518,\"55 to 59\",4.53],[0.04412521119319579,\"60 to 64\",4.41],[0.04315228402498923,\"65 to 69\",4.32],[0.032035109070715065,\"70 to 74\",3.2],[0.02267024917745808,\"75 to 79\",2.27],[0.012287128592027926,\"80 to 84\",1.23],[0.009305577592685261,\"Over 85\",0.93]],\"hovertemplate\":\"5-Counties: %{customdata[2]:,.1f}% <extra></extra>\",\"legendgroup\":\"Five County\",\"marker\":{\"color\":\"#e28743\"},\"name\":\"Five County\",\"orientation\":\"h\",\"x\":[-0.0712695304667435,-0.07267661330678417,-0.06336231772872071,-0.05957173768628155,-0.05818383441407292,-0.07490144317529951,-0.09412460093421932,-0.09457619257680981,-0.08610405438627998,-0.0651198635809648,-0.05123734366472721,-0.04529690842802518,-0.04412521119319579,-0.04315228402498923,-0.032035109070715065,-0.02267024917745808,-0.012287128592027926,-0.009305577592685261],\"y\":[\"Under 5\",\"5 to 9\",\"10 to 14\",\"15 to 19\",\"20 to 24\",\"25 to 29\",\"30 to 34\",\"35 to 39\",\"40 to 44\",\"45 to 49\",\"50 to 54\",\"55 to 59\",\"60 to 64\",\"65 to 69\",\"70 to 74\",\"75 to 79\",\"80 to 84\",\"Over 85\"],\"type\":\"bar\",\"xaxis\":\"x\",\"yaxis\":\"y\"},{\"customdata\":[[0.05432607681776467,\"Under 5\",5.43],[0.06446614211136019,\"5 to 9\",6.45],[0.06935563947103161,\"10 to 14\",6.94],[0.06087048097609412,\"15 to 19\",6.09],[0.06412011614436805,\"20 to 24\",6.41],[0.07086010019708436,\"25 to 29\",7.09],[0.07256014081752396,\"30 to 34\",7.26],[0.08297100904180896,\"35 to 39\",8.3],[0.09305089590636237,\"40 to 44\",9.31],[0.0925243346522439,\"45 to 49\",9.25],[0.08021784591313244,\"50 to 54\",8.02],[0.05483759346462261,\"55 to 59\",5.48],[0.04244083708194798,\"60 to 64\",4.24],[0.034271615339481566,\"65 to 69\",3.43],[0.02674931170921783,\"70 to 74\",2.67],[0.019904015405677836,\"75 to 79\",1.99],[0.009718816290300742,\"80 to 84\",0.97],[0.006755028659976832,\"Over 85\",0.68]],\"hovertemplate\":\"Basin: %{customdata[2]:,.1f}% <extra></extra>\",\"legendgroup\":\"Basin\",\"marker\":{\"color\":\"#405d74\"},\"name\":\"Basin\",\"orientation\":\"h\",\"showlegend\":false,\"x\":[0.05432607681776467,0.06446614211136019,0.06935563947103161,0.06087048097609412,0.06412011614436805,0.07086010019708436,0.07256014081752396,0.08297100904180896,0.09305089590636237,0.0925243346522439,0.08021784591313244,0.05483759346462261,0.04244083708194798,0.034271615339481566,0.02674931170921783,0.019904015405677836,0.009718816290300742,0.006755028659976832],\"y\":[\"Under 5\",\"5 to 9\",\"10 to 14\",\"15 to 19\",\"20 to 24\",\"25 to 29\",\"30 to 34\",\"35 to 39\",\"40 to 44\",\"45 to 49\",\"50 to 54\",\"55 to 59\",\"60 to 64\",\"65 to 69\",\"70 to 74\",\"75 to 79\",\"80 to 84\",\"Over 85\"],\"type\":\"bar\",\"xaxis\":\"x2\",\"yaxis\":\"y2\"},{\"customdata\":[[0.0643310657596372,\"Under 5\",6.43],[0.07230099057166726,\"5 to 9\",7.23],[0.07512113617376776,\"10 to 14\",7.51],[0.06834586466165414,\"15 to 19\",6.83],[0.0548561880892708,\"20 to 24\",5.49],[0.05751999045232128,\"25 to 29\",5.75],[0.06744360902255639,\"30 to 34\",6.74],[0.08227831483470581,\"35 to 39\",8.23],[0.0872514619883041,\"40 to 44\",8.73],[0.08170426065162907,\"45 to 49\",8.17],[0.07217687074829932,\"50 to 54\",7.22],[0.05355173648406731,\"55 to 59\",5.36],[0.0416422007399451,\"60 to 64\",4.16],[0.035843179377013965,\"65 to 69\",3.58],[0.031482277121374865,\"70 to 74\",3.15],[0.02609141902374985,\"75 to 79\",2.61],[0.015912400047738393,\"80 to 84\",1.59],[0.01214703425229741,\"Over 85\",1.21]],\"hovertemplate\":\"5-Counties: %{customdata[2]:,.1f}% <extra></extra>\",\"legendgroup\":\"Five County\",\"marker\":{\"color\":\"#e28743\"},\"name\":\"Five County\",\"orientation\":\"h\",\"showlegend\":false,\"x\":[-0.0643310657596372,-0.07230099057166726,-0.07512113617376776,-0.06834586466165414,-0.0548561880892708,-0.05751999045232128,-0.06744360902255639,-0.08227831483470581,-0.0872514619883041,-0.08170426065162907,-0.07217687074829932,-0.05355173648406731,-0.0416422007399451,-0.035843179377013965,-0.031482277121374865,-0.02609141902374985,-0.015912400047738393,-0.01214703425229741],\"y\":[\"Under 5\",\"5 to 9\",\"10 to 14\",\"15 to 19\",\"20 to 24\",\"25 to 29\",\"30 to 34\",\"35 to 39\",\"40 to 44\",\"45 to 49\",\"50 to 54\",\"55 to 59\",\"60 to 64\",\"65 to 69\",\"70 to 74\",\"75 to 79\",\"80 to 84\",\"Over 85\"],\"type\":\"bar\",\"xaxis\":\"x2\",\"yaxis\":\"y2\"},{\"customdata\":[[0.050982108292797874,\"Under 5\",5.1],[0.048575227643781665,\"5 to 9\",4.86],[0.050695975628229514,\"10 to 14\",5.07],[0.05783246090922862,\"15 to 19\",5.78],[0.06788076683554105,\"20 to 24\",6.79],[0.07420934812246478,\"25 to 29\",7.42],[0.06582734418393281,\"30 to 34\",6.58],[0.06183831821318567,\"35 to 39\",6.18],[0.06513725952232677,\"40 to 44\",6.51],[0.07584198744382542,\"45 to 49\",7.58],[0.08718630602730042,\"50 to 54\",8.72],[0.0875734266911282,\"55 to 59\",8.76],[0.07564001144530658,\"60 to 64\",7.56],[0.05147021695588508,\"65 to 69\",5.15],[0.032955750424991166,\"70 to 74\",3.3],[0.021594600508306264,\"75 to 79\",2.16],[0.013953175231010048,\"80 to 84\",1.4],[0.010805715920758083,\"Over 85\",1.08]],\"hovertemplate\":\"Basin: %{customdata[2]:,.1f}% <extra></extra>\",\"legendgroup\":\"Basin\",\"marker\":{\"color\":\"#405d74\"},\"name\":\"Basin\",\"orientation\":\"h\",\"showlegend\":false,\"x\":[0.050982108292797874,0.048575227643781665,0.050695975628229514,0.05783246090922862,0.06788076683554105,0.07420934812246478,0.06582734418393281,0.06183831821318567,0.06513725952232677,0.07584198744382542,0.08718630602730042,0.0875734266911282,0.07564001144530658,0.05147021695588508,0.032955750424991166,0.021594600508306264,0.013953175231010048,0.010805715920758083],\"y\":[\"Under 5\",\"5 to 9\",\"10 to 14\",\"15 to 19\",\"20 to 24\",\"25 to 29\",\"30 to 34\",\"35 to 39\",\"40 to 44\",\"45 to 49\",\"50 to 54\",\"55 to 59\",\"60 to 64\",\"65 to 69\",\"70 to 74\",\"75 to 79\",\"80 to 84\",\"Over 85\"],\"type\":\"bar\",\"xaxis\":\"x3\",\"yaxis\":\"y3\"},{\"customdata\":[[0.0606645853273172,\"Under 5\",6.07],[0.06416450176989806,\"5 to 9\",6.42],[0.06757421418045365,\"10 to 14\",6.76],[0.06880383756437719,\"15 to 19\",6.88],[0.06098647129422846,\"20 to 24\",6.1],[0.06019172629627942,\"25 to 29\",6.02],[0.05731564194886286,\"30 to 34\",5.73],[0.06087063032678547,\"35 to 39\",6.09],[0.06845821369430138,\"40 to 44\",6.85],[0.07726402625222187,\"45 to 49\",7.73],[0.07764952979961412,\"50 to 54\",7.76],[0.07043035868921198,\"55 to 59\",7.04],[0.06360048919070842,\"60 to 64\",6.36],[0.04731059052306944,\"65 to 69\",4.73],[0.03372206523555596,\"70 to 74\",3.37],[0.025401455418318824,\"75 to 79\",2.54],[0.018347500113941935,\"80 to 84\",1.83],[0.017244162374853773,\"Over 85\",1.72]],\"hovertemplate\":\"5-Counties: %{customdata[2]:,.1f}% <extra></extra>\",\"legendgroup\":\"Five County\",\"marker\":{\"color\":\"#e28743\"},\"name\":\"Five County\",\"orientation\":\"h\",\"showlegend\":false,\"x\":[-0.0606645853273172,-0.06416450176989806,-0.06757421418045365,-0.06880383756437719,-0.06098647129422846,-0.06019172629627942,-0.05731564194886286,-0.06087063032678547,-0.06845821369430138,-0.07726402625222187,-0.07764952979961412,-0.07043035868921198,-0.06360048919070842,-0.04731059052306944,-0.03372206523555596,-0.025401455418318824,-0.018347500113941935,-0.017244162374853773],\"y\":[\"Under 5\",\"5 to 9\",\"10 to 14\",\"15 to 19\",\"20 to 24\",\"25 to 29\",\"30 to 34\",\"35 to 39\",\"40 to 44\",\"45 to 49\",\"50 to 54\",\"55 to 59\",\"60 to 64\",\"65 to 69\",\"70 to 74\",\"75 to 79\",\"80 to 84\",\"Over 85\"],\"type\":\"bar\",\"xaxis\":\"x3\",\"yaxis\":\"y3\"},{\"customdata\":[[0.04200398920567875,\"Under 5\",4.2],[0.04324433046713934,\"5 to 9\",4.32],[0.05281507182246359,\"10 to 14\",5.28],[0.05018353698395937,\"15 to 19\",5.02],[0.04636194498918892,\"20 to 24\",4.64],[0.06386081359682204,\"25 to 29\",6.39],[0.07289519116340658,\"30 to 34\",7.29],[0.06972729253616265,\"35 to 39\",6.97],[0.06032416486481956,\"40 to 44\",6.03],[0.05962018739209869,\"45 to 49\",5.96],[0.06515143896347698,\"50 to 54\",6.52],[0.07908013610231139,\"55 to 59\",7.91],[0.0863042858818994,\"60 to 64\",8.63],[0.08025343189017951,\"65 to 69\",8.03],[0.06221819949380667,\"70 to 74\",6.22],[0.03479660079448886,\"75 to 79\",3.48],[0.01770000502841052,\"80 to 84\",1.77],[0.013459378823687166,\"Over 85\",1.35]],\"hovertemplate\":\"Basin: %{customdata[2]:,.1f}% <extra></extra>\",\"legendgroup\":\"Basin\",\"marker\":{\"color\":\"#405d74\"},\"name\":\"Basin\",\"orientation\":\"h\",\"showlegend\":false,\"x\":[0.04200398920567875,0.04324433046713934,0.05281507182246359,0.05018353698395937,0.04636194498918892,0.06386081359682204,0.07289519116340658,0.06972729253616265,0.06032416486481956,0.05962018739209869,0.06515143896347698,0.07908013610231139,0.0863042858818994,0.08025343189017951,0.06221819949380667,0.03479660079448886,0.01770000502841052,0.013459378823687166],\"y\":[\"Under 5\",\"5 to 9\",\"10 to 14\",\"15 to 19\",\"20 to 24\",\"25 to 29\",\"30 to 34\",\"35 to 39\",\"40 to 44\",\"45 to 49\",\"50 to 54\",\"55 to 59\",\"60 to 64\",\"65 to 69\",\"70 to 74\",\"75 to 79\",\"80 to 84\",\"Over 85\"],\"type\":\"bar\",\"xaxis\":\"x4\",\"yaxis\":\"y4\"},{\"customdata\":[[0.05068611549519841,\"Under 5\",5.07],[0.05881937905644735,\"5 to 9\",5.88],[0.06437986700186385,\"10 to 14\",6.44],[0.06341476116360349,\"15 to 19\",6.34],[0.05810877893532615,\"20 to 24\",5.81],[0.05718483078729622,\"25 to 29\",5.72],[0.060906661918133154,\"30 to 34\",6.09],[0.06391705297498704,\"35 to 39\",6.39],[0.05991215772970821,\"40 to 44\",5.99],[0.05926959379039648,\"45 to 49\",5.93],[0.06319049374949078,\"50 to 54\",6.32],[0.07015622283277463,\"55 to 59\",7.02],[0.07037209071826889,\"60 to 64\",7.04],[0.06417407855071174,\"65 to 69\",6.42],[0.05517062382459097,\"70 to 74\",5.52],[0.03698060464846713,\"75 to 79\",3.7],[0.022480498394430105,\"80 to 84\",2.25],[0.020876188428305402,\"Over 85\",2.09]],\"hovertemplate\":\"5-Counties: %{customdata[2]:,.1f}% <extra></extra>\",\"legendgroup\":\"Five County\",\"marker\":{\"color\":\"#e28743\"},\"name\":\"Five County\",\"orientation\":\"h\",\"showlegend\":false,\"x\":[-0.05068611549519841,-0.05881937905644735,-0.06437986700186385,-0.06341476116360349,-0.05810877893532615,-0.05718483078729622,-0.060906661918133154,-0.06391705297498704,-0.05991215772970821,-0.05926959379039648,-0.06319049374949078,-0.07015622283277463,-0.07037209071826889,-0.06417407855071174,-0.05517062382459097,-0.03698060464846713,-0.022480498394430105,-0.020876188428305402],\"y\":[\"Under 5\",\"5 to 9\",\"10 to 14\",\"15 to 19\",\"20 to 24\",\"25 to 29\",\"30 to 34\",\"35 to 39\",\"40 to 44\",\"45 to 49\",\"50 to 54\",\"55 to 59\",\"60 to 64\",\"65 to 69\",\"70 to 74\",\"75 to 79\",\"80 to 84\",\"Over 85\"],\"type\":\"bar\",\"xaxis\":\"x4\",\"yaxis\":\"y4\"}],                        {\"template\":{\"data\":{\"bar\":[{\"error_x\":{\"color\":\"#2a3f5f\"},\"error_y\":{\"color\":\"#2a3f5f\"},\"marker\":{\"line\":{\"color\":\"#E5ECF6\",\"width\":0.5},\"pattern\":{\"fillmode\":\"overlay\",\"size\":10,\"solidity\":0.2}},\"type\":\"bar\"}],\"barpolar\":[{\"marker\":{\"line\":{\"color\":\"#E5ECF6\",\"width\":0.5},\"pattern\":{\"fillmode\":\"overlay\",\"size\":10,\"solidity\":0.2}},\"type\":\"barpolar\"}],\"carpet\":[{\"aaxis\":{\"endlinecolor\":\"#2a3f5f\",\"gridcolor\":\"white\",\"linecolor\":\"white\",\"minorgridcolor\":\"white\",\"startlinecolor\":\"#2a3f5f\"},\"baxis\":{\"endlinecolor\":\"#2a3f5f\",\"gridcolor\":\"white\",\"linecolor\":\"white\",\"minorgridcolor\":\"white\",\"startlinecolor\":\"#2a3f5f\"},\"type\":\"carpet\"}],\"choropleth\":[{\"colorbar\":{\"outlinewidth\":0,\"ticks\":\"\"},\"type\":\"choropleth\"}],\"contour\":[{\"colorbar\":{\"outlinewidth\":0,\"ticks\":\"\"},\"colorscale\":[[0.0,\"#0d0887\"],[0.1111111111111111,\"#46039f\"],[0.2222222222222222,\"#7201a8\"],[0.3333333333333333,\"#9c179e\"],[0.4444444444444444,\"#bd3786\"],[0.5555555555555556,\"#d8576b\"],[0.6666666666666666,\"#ed7953\"],[0.7777777777777778,\"#fb9f3a\"],[0.8888888888888888,\"#fdca26\"],[1.0,\"#f0f921\"]],\"type\":\"contour\"}],\"contourcarpet\":[{\"colorbar\":{\"outlinewidth\":0,\"ticks\":\"\"},\"type\":\"contourcarpet\"}],\"heatmap\":[{\"colorbar\":{\"outlinewidth\":0,\"ticks\":\"\"},\"colorscale\":[[0.0,\"#0d0887\"],[0.1111111111111111,\"#46039f\"],[0.2222222222222222,\"#7201a8\"],[0.3333333333333333,\"#9c179e\"],[0.4444444444444444,\"#bd3786\"],[0.5555555555555556,\"#d8576b\"],[0.6666666666666666,\"#ed7953\"],[0.7777777777777778,\"#fb9f3a\"],[0.8888888888888888,\"#fdca26\"],[1.0,\"#f0f921\"]],\"type\":\"heatmap\"}],\"heatmapgl\":[{\"colorbar\":{\"outlinewidth\":0,\"ticks\":\"\"},\"colorscale\":[[0.0,\"#0d0887\"],[0.1111111111111111,\"#46039f\"],[0.2222222222222222,\"#7201a8\"],[0.3333333333333333,\"#9c179e\"],[0.4444444444444444,\"#bd3786\"],[0.5555555555555556,\"#d8576b\"],[0.6666666666666666,\"#ed7953\"],[0.7777777777777778,\"#fb9f3a\"],[0.8888888888888888,\"#fdca26\"],[1.0,\"#f0f921\"]],\"type\":\"heatmapgl\"}],\"histogram\":[{\"marker\":{\"pattern\":{\"fillmode\":\"overlay\",\"size\":10,\"solidity\":0.2}},\"type\":\"histogram\"}],\"histogram2d\":[{\"colorbar\":{\"outlinewidth\":0,\"ticks\":\"\"},\"colorscale\":[[0.0,\"#0d0887\"],[0.1111111111111111,\"#46039f\"],[0.2222222222222222,\"#7201a8\"],[0.3333333333333333,\"#9c179e\"],[0.4444444444444444,\"#bd3786\"],[0.5555555555555556,\"#d8576b\"],[0.6666666666666666,\"#ed7953\"],[0.7777777777777778,\"#fb9f3a\"],[0.8888888888888888,\"#fdca26\"],[1.0,\"#f0f921\"]],\"type\":\"histogram2d\"}],\"histogram2dcontour\":[{\"colorbar\":{\"outlinewidth\":0,\"ticks\":\"\"},\"colorscale\":[[0.0,\"#0d0887\"],[0.1111111111111111,\"#46039f\"],[0.2222222222222222,\"#7201a8\"],[0.3333333333333333,\"#9c179e\"],[0.4444444444444444,\"#bd3786\"],[0.5555555555555556,\"#d8576b\"],[0.6666666666666666,\"#ed7953\"],[0.7777777777777778,\"#fb9f3a\"],[0.8888888888888888,\"#fdca26\"],[1.0,\"#f0f921\"]],\"type\":\"histogram2dcontour\"}],\"mesh3d\":[{\"colorbar\":{\"outlinewidth\":0,\"ticks\":\"\"},\"type\":\"mesh3d\"}],\"parcoords\":[{\"line\":{\"colorbar\":{\"outlinewidth\":0,\"ticks\":\"\"}},\"type\":\"parcoords\"}],\"pie\":[{\"automargin\":true,\"type\":\"pie\"}],\"scatter\":[{\"marker\":{\"colorbar\":{\"outlinewidth\":0,\"ticks\":\"\"}},\"type\":\"scatter\"}],\"scatter3d\":[{\"line\":{\"colorbar\":{\"outlinewidth\":0,\"ticks\":\"\"}},\"marker\":{\"colorbar\":{\"outlinewidth\":0,\"ticks\":\"\"}},\"type\":\"scatter3d\"}],\"scattercarpet\":[{\"marker\":{\"colorbar\":{\"outlinewidth\":0,\"ticks\":\"\"}},\"type\":\"scattercarpet\"}],\"scattergeo\":[{\"marker\":{\"colorbar\":{\"outlinewidth\":0,\"ticks\":\"\"}},\"type\":\"scattergeo\"}],\"scattergl\":[{\"marker\":{\"colorbar\":{\"outlinewidth\":0,\"ticks\":\"\"}},\"type\":\"scattergl\"}],\"scattermapbox\":[{\"marker\":{\"colorbar\":{\"outlinewidth\":0,\"ticks\":\"\"}},\"type\":\"scattermapbox\"}],\"scatterpolar\":[{\"marker\":{\"colorbar\":{\"outlinewidth\":0,\"ticks\":\"\"}},\"type\":\"scatterpolar\"}],\"scatterpolargl\":[{\"marker\":{\"colorbar\":{\"outlinewidth\":0,\"ticks\":\"\"}},\"type\":\"scatterpolargl\"}],\"scatterternary\":[{\"marker\":{\"colorbar\":{\"outlinewidth\":0,\"ticks\":\"\"}},\"type\":\"scatterternary\"}],\"surface\":[{\"colorbar\":{\"outlinewidth\":0,\"ticks\":\"\"},\"colorscale\":[[0.0,\"#0d0887\"],[0.1111111111111111,\"#46039f\"],[0.2222222222222222,\"#7201a8\"],[0.3333333333333333,\"#9c179e\"],[0.4444444444444444,\"#bd3786\"],[0.5555555555555556,\"#d8576b\"],[0.6666666666666666,\"#ed7953\"],[0.7777777777777778,\"#fb9f3a\"],[0.8888888888888888,\"#fdca26\"],[1.0,\"#f0f921\"]],\"type\":\"surface\"}],\"table\":[{\"cells\":{\"fill\":{\"color\":\"#EBF0F8\"},\"line\":{\"color\":\"white\"}},\"header\":{\"fill\":{\"color\":\"#C8D4E3\"},\"line\":{\"color\":\"white\"}},\"type\":\"table\"}]},\"layout\":{\"annotationdefaults\":{\"arrowcolor\":\"#2a3f5f\",\"arrowhead\":0,\"arrowwidth\":1},\"autotypenumbers\":\"strict\",\"coloraxis\":{\"colorbar\":{\"outlinewidth\":0,\"ticks\":\"\"}},\"colorscale\":{\"diverging\":[[0,\"#8e0152\"],[0.1,\"#c51b7d\"],[0.2,\"#de77ae\"],[0.3,\"#f1b6da\"],[0.4,\"#fde0ef\"],[0.5,\"#f7f7f7\"],[0.6,\"#e6f5d0\"],[0.7,\"#b8e186\"],[0.8,\"#7fbc41\"],[0.9,\"#4d9221\"],[1,\"#276419\"]],\"sequential\":[[0.0,\"#0d0887\"],[0.1111111111111111,\"#46039f\"],[0.2222222222222222,\"#7201a8\"],[0.3333333333333333,\"#9c179e\"],[0.4444444444444444,\"#bd3786\"],[0.5555555555555556,\"#d8576b\"],[0.6666666666666666,\"#ed7953\"],[0.7777777777777778,\"#fb9f3a\"],[0.8888888888888888,\"#fdca26\"],[1.0,\"#f0f921\"]],\"sequentialminus\":[[0.0,\"#0d0887\"],[0.1111111111111111,\"#46039f\"],[0.2222222222222222,\"#7201a8\"],[0.3333333333333333,\"#9c179e\"],[0.4444444444444444,\"#bd3786\"],[0.5555555555555556,\"#d8576b\"],[0.6666666666666666,\"#ed7953\"],[0.7777777777777778,\"#fb9f3a\"],[0.8888888888888888,\"#fdca26\"],[1.0,\"#f0f921\"]]},\"colorway\":[\"#636efa\",\"#EF553B\",\"#00cc96\",\"#ab63fa\",\"#FFA15A\",\"#19d3f3\",\"#FF6692\",\"#B6E880\",\"#FF97FF\",\"#FECB52\"],\"font\":{\"color\":\"#2a3f5f\"},\"geo\":{\"bgcolor\":\"white\",\"lakecolor\":\"white\",\"landcolor\":\"#E5ECF6\",\"showlakes\":true,\"showland\":true,\"subunitcolor\":\"white\"},\"hoverlabel\":{\"align\":\"left\"},\"hovermode\":\"closest\",\"mapbox\":{\"style\":\"light\"},\"paper_bgcolor\":\"white\",\"plot_bgcolor\":\"#E5ECF6\",\"polar\":{\"angularaxis\":{\"gridcolor\":\"white\",\"linecolor\":\"white\",\"ticks\":\"\"},\"bgcolor\":\"#E5ECF6\",\"radialaxis\":{\"gridcolor\":\"white\",\"linecolor\":\"white\",\"ticks\":\"\"}},\"scene\":{\"xaxis\":{\"backgroundcolor\":\"#E5ECF6\",\"gridcolor\":\"white\",\"gridwidth\":2,\"linecolor\":\"white\",\"showbackground\":true,\"ticks\":\"\",\"zerolinecolor\":\"white\"},\"yaxis\":{\"backgroundcolor\":\"#E5ECF6\",\"gridcolor\":\"white\",\"gridwidth\":2,\"linecolor\":\"white\",\"showbackground\":true,\"ticks\":\"\",\"zerolinecolor\":\"white\"},\"zaxis\":{\"backgroundcolor\":\"#E5ECF6\",\"gridcolor\":\"white\",\"gridwidth\":2,\"linecolor\":\"white\",\"showbackground\":true,\"ticks\":\"\",\"zerolinecolor\":\"white\"}},\"shapedefaults\":{\"line\":{\"color\":\"#2a3f5f\"}},\"ternary\":{\"aaxis\":{\"gridcolor\":\"white\",\"linecolor\":\"white\",\"ticks\":\"\"},\"baxis\":{\"gridcolor\":\"white\",\"linecolor\":\"white\",\"ticks\":\"\"},\"bgcolor\":\"#E5ECF6\",\"caxis\":{\"gridcolor\":\"white\",\"linecolor\":\"white\",\"ticks\":\"\"}},\"title\":{\"x\":0.05},\"xaxis\":{\"automargin\":true,\"gridcolor\":\"white\",\"linecolor\":\"white\",\"ticks\":\"\",\"title\":{\"standoff\":15},\"zerolinecolor\":\"white\",\"zerolinewidth\":2},\"yaxis\":{\"automargin\":true,\"gridcolor\":\"white\",\"linecolor\":\"white\",\"ticks\":\"\",\"title\":{\"standoff\":15},\"zerolinecolor\":\"white\",\"zerolinewidth\":2}}},\"xaxis\":{\"anchor\":\"y\",\"domain\":[0.0,0.2125],\"title\":{\"text\":\"1990 Decennial Census\"},\"tickvals\":[-0.5,-0.25,0,0.25,0.5],\"ticktext\":[\"-.5\",\"-.25\",\"0\",\".25\",\".5\"]},\"yaxis\":{\"anchor\":\"x\",\"domain\":[0.0,1.0],\"title\":{\"text\":\"Age\",\"font\":{\"size\":14}}},\"xaxis2\":{\"anchor\":\"y2\",\"domain\":[0.2625,0.475],\"title\":{\"text\":\"2000 Decennial Census\"},\"tickvals\":[-0.5,-0.25,0,0.25,0.5],\"ticktext\":[\"-.5\",\"-.25\",\"0\",\".25\",\".5\"]},\"yaxis2\":{\"anchor\":\"x2\",\"domain\":[0.0,1.0],\"matches\":\"y\",\"showticklabels\":false},\"xaxis3\":{\"anchor\":\"y3\",\"domain\":[0.525,0.7375],\"title\":{\"text\":\"2010 Decennial Census\"},\"tickvals\":[-0.5,-0.25,0,0.25,0.5],\"ticktext\":[\"-.5\",\"-.25\",\"0\",\".25\",\".5\"]},\"yaxis3\":{\"anchor\":\"x3\",\"domain\":[0.0,1.0],\"matches\":\"y\",\"showticklabels\":false},\"xaxis4\":{\"anchor\":\"y4\",\"domain\":[0.7875,1.0],\"title\":{\"text\":\"2020 Decennial Census\"},\"tickvals\":[-0.5,-0.25,0,0.25,0.5],\"ticktext\":[\"-.5\",\"-.25\",\"0\",\".25\",\".5\"]},\"yaxis4\":{\"anchor\":\"x4\",\"domain\":[0.0,1.0],\"matches\":\"y\",\"showticklabels\":false},\"title\":{\"text\":\"Basin vs Five Counties Age Profile: 5 Year Increments\",\"x\":0.5,\"font\":{\"size\":22}},\"barmode\":\"relative\",\"bargap\":0.0,\"bargroupgap\":0,\"hovermode\":\"y unified\"},                        {\"responsive\": true}                    ).then(function(){\n",
       "                            \n",
       "var gd = document.getElementById('fe2fac0b-f50d-4ef6-a7d9-69a157beeaf8');\n",
       "var x = new MutationObserver(function (mutations, observer) {{\n",
       "        var display = window.getComputedStyle(gd).display;\n",
       "        if (!display || display === 'none') {{\n",
       "            console.log([gd, 'removed!']);\n",
       "            Plotly.purge(gd);\n",
       "            observer.disconnect();\n",
       "        }}\n",
       "}});\n",
       "\n",
       "// Listen for the removal of the full notebook cells\n",
       "var notebookContainer = gd.closest('#notebook-container');\n",
       "if (notebookContainer) {{\n",
       "    x.observe(notebookContainer, {childList: true});\n",
       "}}\n",
       "\n",
       "// Listen for the clearing of the current output cell\n",
       "var outputEl = gd.closest('.output');\n",
       "if (outputEl) {{\n",
       "    x.observe(outputEl, {childList: true});\n",
       "}}\n",
       "\n",
       "                        })                };                });            </script>        </div>"
      ]
     },
     "metadata": {},
     "output_type": "display_data"
    }
   ],
   "source": [
    "dfAge = census_data.loc[census_data['variable_category'].isin(['TRPA Census Age Categories Grouped: Age'])&(census_data['sample_level'].isin(['tract', 'County']))]\n",
    "#dfAge_Tahoe = dfAge.loc[dfAgeSex['sample_level']=='tract']\n",
    "# group by variable name/code/year and sum values\n",
    "df = dfAge.groupby(['variable_name','variable_code','year_sample', 'sample_level'], as_index= False).sum(['value'])\n",
    "\n",
    "# ordered list to sort age category by\n",
    "sort_list = [ 'Under 5', '5 to 9','10 to 14', '15 to 19', '20 to 24', \n",
    "            '25 to 29', '30 to 34', '35 to 39', '40 to 44', '45 to 49', \n",
    "            '50 to 54', '55 to 59', '60 to 64', '65 to 69', '70 to 74', \n",
    "            '75 to 79', '80 to 84', 'Over 85']\n",
    "\n",
    "\n",
    "# setup a new Year column and format it\n",
    "df['Year'] = pd.to_datetime(df['year_sample'], format='%Y') \n",
    "df['Year']   = df['Year'].dt.strftime('%Y')\n",
    "# setup a new Count field based on the summed values\n",
    "df['Count'] = df['value']\n",
    "df['Age'] = df['variable_name']\n",
    "# cast count as integer type\n",
    "df = df.astype({'Count':int})\n",
    "\n",
    "# keep the new columsn\n",
    "df = df[['Age','Year','sample_level','Count']]\n",
    "\n",
    "# set Age to be a categorical field with the same order as the list\n",
    "df['Age'] = pd.Categorical(df['Age'], categories = sort_list)\n",
    "# sort the age category\n",
    "df = df.sort_values(by='Age')\n",
    "\n",
    "pivotTable = pd.pivot_table(df, values='Count', index=['Age','Year'],\n",
    "                       columns=['sample_level'], aggfunc=np.sum)\n",
    "flat = pd.DataFrame(pivotTable.to_records())\n",
    "df = flat\n",
    "\n",
    "\n",
    "\n",
    "# Creating instance of the figure\n",
    "\n",
    "# Creating instance of the figure\n",
    "fig = make_subplots(rows=1, cols=4, shared_yaxes=True)\n",
    "\n",
    "df['Basin']=df['tract'] \n",
    "df['Five_County']=df['County']\n",
    "\n",
    "\n",
    "df['TotalCounty'] = df.groupby(['Year'], as_index=False)['Five_County'].transform('sum')\n",
    "df['TotalBasin'] = df.groupby(['Year'], as_index=False)['Basin'].transform('sum')\n",
    "\n",
    "df['Basin_Proprotion'] = df['Basin']/df['TotalBasin']\n",
    "df['County_Proprotion'] = df['County']/df['TotalCounty']\n",
    "\n",
    "df['Basin_Percentage'] =  round((df['Basin_Proprotion']*100),2)\n",
    "df['County_Percentage'] = round((df['County_Proprotion']*100),2)\n",
    "\n",
    " # Filter by single year\n",
    "df1990 = df[df['Year']== '1990']\n",
    "df2000 = df[df['Year']== '2000']\n",
    "df2010 = df[df['Year']== '2010']\n",
    "df2020 = df[df['Year']== '2020']\n",
    "\n",
    "# set x and y variables for plot\n",
    "y_age90    = df1990['Age']\n",
    "x_basin90   = df1990['Basin_Proprotion']\n",
    "x_five_county90 = df1990['County_Proprotion'] * -1\n",
    "\n",
    "# set x and y variables for plot\n",
    "y_age00    = df2000['Age']\n",
    "x_basin00   = df2000['Basin_Proprotion']\n",
    "x_five_county00 = df2000['County_Proprotion'] * -1\n",
    "\n",
    "# set x and y variables for plot\n",
    "y_age10    = df2010['Age']\n",
    "x_basin10   = df2010['Basin_Proprotion']\n",
    "x_five_county10 = df2010['County_Proprotion'] * -1\n",
    "\n",
    "# set x and y variables for plot\n",
    "y_age20    = df2020['Age']\n",
    "x_basin20   = df2020['Basin_Proprotion']\n",
    "x_five_county20 = df2020['County_Proprotion'] * -1\n",
    "\n",
    "mcolor = '#405d74'\n",
    "fcolor = '#e28743'\n",
    "hovertemplate_percent = '%{customdata[1]}: %{customdata[2]:,.1f}% <extra></extra>'\n",
    "hovertemplate_basin = 'Basin: %{customdata[2]:,.1f}% <extra></extra>'\n",
    "hovertemplate_counties = '5-Counties: %{customdata[2]:,.1f}% <extra></extra>'\n",
    "# Adding Male data to the figure\n",
    "\n",
    "# Creating instance of the figure\n",
    "fig = make_subplots(rows=1, cols=4, shared_yaxes=True)\n",
    "fig.add_trace(go.Bar(y= y_age90, \n",
    "\t\t\t\t\tx = x_basin90,\n",
    "\t\t\t\t\tname = 'Basin',\n",
    "\t\t\t\t\torientation = 'h',\n",
    "\t\t\t\t\tmarker_color=mcolor,\n",
    "\t\t\t\t\tlegendgroup = 'Basin',\n",
    "\t\t\t\t\tcustomdata = np.stack((df1990['Basin_Proprotion'], df1990['Age'], df1990['Basin_Percentage']), axis=-1),\n",
    "\t\t\t\t\thovertemplate= hovertemplate_basin\n",
    "\t\t\t\t\t),\n",
    "\t\t\t\t\trow=1, col=1)\n",
    "\n",
    "# Adding Female data to the figure\n",
    "fig.add_trace(go.Bar(y = y_age90, \n",
    "\t\t\t\t\tx = x_five_county90,\n",
    "\t\t\t\t\tname = 'Five County', \n",
    "\t\t\t\t\torientation = 'h', \n",
    "\t\t\t\t\tmarker_color=fcolor,\n",
    "\t\t\t\t\tlegendgroup ='Five County',\n",
    "\t\t\t\t\tcustomdata = np.stack((df1990['County_Proprotion'], df1990['Age'], df1990['County_Percentage']), axis=-1),\n",
    "\t\t\t\t\thovertemplate= hovertemplate_counties\n",
    "\t\t\t\t\t),\n",
    "\t\t\t\t\trow=1, col=1)\n",
    "\n",
    "\n",
    "# Adding Male data to the figure\n",
    "fig.add_trace(go.Bar(y= y_age00, \n",
    "\t\t\t\t\tx = x_basin00,\n",
    "\t\t\t\t\tname = 'Basin',\n",
    "\t\t\t\t\torientation = 'h',\n",
    "\t\t\t\t\tmarker_color=mcolor,\n",
    "\t\t\t\t\tlegendgroup = 'Basin',\n",
    "                    showlegend  = False,\n",
    "\t\t\t\t\tcustomdata = np.stack((df2000['Basin_Proprotion'], df2000['Age'], df2000['Basin_Percentage']), axis=-1),\n",
    "\t\t\t\t\thovertemplate=hovertemplate_basin\n",
    "\t\t\t\t\t),\n",
    "\t\t\t\t\trow=1, col=2)\n",
    "\n",
    "# Adding Female data to the figure\n",
    "fig.add_trace(go.Bar(y = y_age00, \n",
    "\t\t\t\t\tx = x_five_county00,\n",
    "\t\t\t\t\tname = 'Five County', \n",
    "\t\t\t\t\torientation = 'h', \n",
    "\t\t\t\t\tmarker_color=fcolor,\n",
    "\t\t\t\t\tlegendgroup ='Five County',\n",
    "                    showlegend  = False,\n",
    "\t\t\t\t\tcustomdata = np.stack((df2000['County_Proprotion'], df2000['Age'], df2000['County_Percentage']), axis=-1),\n",
    "\t\t\t\t\thovertemplate=hovertemplate_counties\n",
    "\t\t\t\t\t),\n",
    "\t\t\t\t\trow=1, col=2)\n",
    "\n",
    "# Adding Male data to the figure\n",
    "fig.add_trace(go.Bar(y= y_age10, \n",
    "\t\t\t\t\tx = x_basin10,\n",
    "\t\t\t\t\tname = 'Basin',\n",
    "\t\t\t\t\torientation = 'h',\n",
    "\t\t\t\t\tmarker_color=mcolor,\n",
    "\t\t\t\t\tlegendgroup = 'Basin',\n",
    "\t\t\t\t\tshowlegend  = False,\n",
    "\t\t\t\t\tcustomdata = np.stack((df2010['Basin_Proprotion'], df2010['Age'], df2010['Basin_Percentage']), axis=-1),\n",
    "\t\t\t\t\thovertemplate=hovertemplate_basin\n",
    "\t\t\t\t\t),\n",
    "\t\t\t\t\trow=1, col=3)\n",
    "\n",
    "# Adding Female data to the figure\n",
    "fig.add_trace(go.Bar(y = y_age10, \n",
    "\t\t\t\t\tx = x_five_county10,\n",
    "\t\t\t\t\tname = 'Five County', \n",
    "\t\t\t\t\torientation = 'h', \n",
    "\t\t\t\t\tmarker_color=fcolor,\n",
    "\t\t\t\t\tlegendgroup = 'Five County',\n",
    "\t\t\t\t\tshowlegend  = False,\n",
    "\t\t\t\t\tcustomdata = np.stack((df2010['County_Proprotion'], df2010['Age'], df2010['County_Percentage']), axis=-1),\n",
    "\t\t\t\t\thovertemplate=hovertemplate_counties\n",
    "\t\t\t\t\t),\n",
    "\t\t\t\t\trow=1, col=3)\n",
    "\n",
    "# Adding Male data to the figure\n",
    "fig.add_trace(go.Bar(y= y_age20, \n",
    "\t\t\t\t\tx = x_basin20,\n",
    "\t\t\t\t\tname = 'Basin',\n",
    "\t\t\t\t\torientation = 'h',\n",
    "\t\t\t\t\tmarker_color=mcolor,\n",
    "\t\t\t\t\tlegendgroup = 'Basin',\n",
    "\t\t\t\t\tshowlegend  = False,\n",
    "\t\t\t\t\tcustomdata = np.stack((df2020['Basin_Proprotion'], df2020['Age'], df2020['Basin_Percentage']), axis=-1),\n",
    "\t\t\t\t\thovertemplate=hovertemplate_basin\n",
    "\t\t\t\t\t),\n",
    "\t\t\t\t\trow=1, col=4)\n",
    "\n",
    "# Adding Female data to the figure\n",
    "fig.add_trace(go.Bar(y = y_age20, \n",
    "\t\t\t\t\tx = x_five_county20,\n",
    "\t\t\t\t\tname = 'Five County', \n",
    "\t\t\t\t\torientation = 'h', \n",
    "\t\t\t\t\tmarker_color=fcolor,\n",
    "\t\t\t\t\tlegendgroup =\"Five County\",\n",
    "\t\t\t\t\tshowlegend  = False,\n",
    "\t\t\t\t\tcustomdata = np.stack((df2020['County_Proprotion'], df2020['Age'], df2020['County_Percentage']), axis=-1),\n",
    "\t\t\t\t\thovertemplate=hovertemplate_counties\n",
    "\t\t\t\t\t),\n",
    "\t\t\t\t\trow=1, col=4)\n",
    "\n",
    "# Updating the layout\n",
    "proportion_tick_values = [-.5, -.25, 0, .25, .5]\n",
    "proportion_tick_text = ['-.5', '-.25', '0', '.25', '.5']\n",
    "# Updating the layout\n",
    "fig.update_layout(title = 'Basin vs Five Counties Age Profile: 5 Year Increments',\n",
    "\t\t\t\ttitle_x=0.5,\n",
    "\t\t\t\ttitle_font_size = 22, barmode = 'relative',\n",
    "\t\t\t\tbargap = 0.0, bargroupgap = 0,\n",
    "\t\t\t\thovermode=\"y unified\",\n",
    "\t\t\t\txaxis = dict(tickvals = proportion_tick_values,\n",
    "\t\t\t\t\t\t\t\t\n",
    "\t\t\t\t\t\t\tticktext = proportion_tick_text,\n",
    "\t\t\t\t\t\t\ttitle_font_size = 14),\n",
    "\t\t\t\txaxis2 = dict(tickvals = proportion_tick_values,\n",
    "\t\t\t\t\t\t\t\t\n",
    "\t\t\t\t\t\t\tticktext = proportion_tick_text,\n",
    "\t\t\t\t\t\t\ttitle_font_size = 14),\n",
    "\t\t\t\txaxis3 = dict(tickvals = proportion_tick_values,\n",
    "\t\t\t\t\t\t\t\t\n",
    "\t\t\t\t\t\t\tticktext = proportion_tick_text,\n",
    "\t\t\t\t\t\t\ttitle_font_size = 14),\n",
    "                xaxis4 = dict(tickvals = proportion_tick_values,\n",
    "\t\t\t\t\t\t\t\t\n",
    "\t\t\t\t\t\t\tticktext = proportion_tick_text,\n",
    "\t\t\t\t\t\t\ttitle_font_size = 14),\n",
    "\t\t\t\tyaxis = dict(\t\t\t\t\t\n",
    "\t\t\t\t\t\t\ttitle = 'Age',\n",
    "\t\t\t\t\t\t\ttitle_font_size = 14)\t\t\t\n",
    "\t\t\t\t)\n",
    "\n",
    "# edit axis labels\n",
    "fig['layout']['xaxis']['title'] ='1990 Decennial Census'\n",
    "fig['layout']['xaxis2']['title']='2000 Decennial Census'\n",
    "fig['layout']['xaxis3']['title']='2010 Decennial Census'\n",
    "fig['layout']['xaxis4']['title']='2020 Decennial Census'\n",
    "\n",
    "fig.show()\n",
    "fig.write_html(os.path.join(workspace, \"Demographics_Tahoe_AgeProfile_5Counties.html\")) "
   ]
  },
  {
   "cell_type": "code",
   "execution_count": 13,
   "id": "7a77990e",
   "metadata": {},
   "outputs": [
    {
     "ename": "IndexError",
     "evalue": "list index out of range",
     "output_type": "error",
     "traceback": [
      "\u001b[1;31m---------------------------------------------------------------------------\u001b[0m",
      "\u001b[1;31mIndexError\u001b[0m                                Traceback (most recent call last)",
      "\u001b[1;32m~\\AppData\\Local\\Temp\\ipykernel_26132\\3740631107.py\u001b[0m in \u001b[0;36m<cell line: 41>\u001b[1;34m()\u001b[0m\n\u001b[0;32m     39\u001b[0m pivotTable = pd.pivot_table(df, values='Count', index=['Age','Year'],\n\u001b[0;32m     40\u001b[0m                        columns=['Gender'], aggfunc=np.sum)\n\u001b[1;32m---> 41\u001b[1;33m \u001b[0mflat\u001b[0m \u001b[1;33m=\u001b[0m \u001b[0mpd\u001b[0m\u001b[1;33m.\u001b[0m\u001b[0mDataFrame\u001b[0m\u001b[1;33m(\u001b[0m\u001b[0mpivotTable\u001b[0m\u001b[1;33m.\u001b[0m\u001b[0mto_records\u001b[0m\u001b[1;33m(\u001b[0m\u001b[1;33m)\u001b[0m\u001b[1;33m)\u001b[0m\u001b[1;33m\u001b[0m\u001b[1;33m\u001b[0m\u001b[0m\n\u001b[0m\u001b[0;32m     42\u001b[0m \u001b[0mdf\u001b[0m \u001b[1;33m=\u001b[0m \u001b[0mflat\u001b[0m\u001b[1;33m\u001b[0m\u001b[1;33m\u001b[0m\u001b[0m\n\u001b[0;32m     43\u001b[0m \u001b[1;31m# remove space in column names 'Male' and \"Female\"\u001b[0m\u001b[1;33m\u001b[0m\u001b[1;33m\u001b[0m\u001b[0m\n",
      "\u001b[1;32mc:\\Users\\amcclary\\AppData\\Local\\ESRI\\conda\\envs\\arcgispro-py3-dbf\\lib\\site-packages\\pandas\\core\\frame.py\u001b[0m in \u001b[0;36mto_records\u001b[1;34m(self, index, column_dtypes, index_dtypes)\u001b[0m\n\u001b[0;32m   2436\u001b[0m                 \u001b[1;32mraise\u001b[0m \u001b[0mValueError\u001b[0m\u001b[1;33m(\u001b[0m\u001b[0mmsg\u001b[0m\u001b[1;33m)\u001b[0m\u001b[1;33m\u001b[0m\u001b[1;33m\u001b[0m\u001b[0m\n\u001b[0;32m   2437\u001b[0m \u001b[1;33m\u001b[0m\u001b[0m\n\u001b[1;32m-> 2438\u001b[1;33m         \u001b[1;32mreturn\u001b[0m \u001b[0mnp\u001b[0m\u001b[1;33m.\u001b[0m\u001b[0mrec\u001b[0m\u001b[1;33m.\u001b[0m\u001b[0mfromarrays\u001b[0m\u001b[1;33m(\u001b[0m\u001b[0marrays\u001b[0m\u001b[1;33m,\u001b[0m \u001b[0mdtype\u001b[0m\u001b[1;33m=\u001b[0m\u001b[1;33m{\u001b[0m\u001b[1;34m\"names\"\u001b[0m\u001b[1;33m:\u001b[0m \u001b[0mnames\u001b[0m\u001b[1;33m,\u001b[0m \u001b[1;34m\"formats\"\u001b[0m\u001b[1;33m:\u001b[0m \u001b[0mformats\u001b[0m\u001b[1;33m}\u001b[0m\u001b[1;33m)\u001b[0m\u001b[1;33m\u001b[0m\u001b[1;33m\u001b[0m\u001b[0m\n\u001b[0m\u001b[0;32m   2439\u001b[0m \u001b[1;33m\u001b[0m\u001b[0m\n\u001b[0;32m   2440\u001b[0m     \u001b[1;33m@\u001b[0m\u001b[0mclassmethod\u001b[0m\u001b[1;33m\u001b[0m\u001b[1;33m\u001b[0m\u001b[0m\n",
      "\u001b[1;32mc:\\Users\\amcclary\\AppData\\Local\\ESRI\\conda\\envs\\arcgispro-py3-dbf\\lib\\site-packages\\numpy\\core\\records.py\u001b[0m in \u001b[0;36mfromarrays\u001b[1;34m(arrayList, dtype, shape, formats, names, titles, aligned, byteorder)\u001b[0m\n\u001b[0;32m    650\u001b[0m \u001b[1;33m\u001b[0m\u001b[0m\n\u001b[0;32m    651\u001b[0m     \u001b[1;32mif\u001b[0m \u001b[0mshape\u001b[0m \u001b[1;32mis\u001b[0m \u001b[1;32mNone\u001b[0m\u001b[1;33m:\u001b[0m\u001b[1;33m\u001b[0m\u001b[1;33m\u001b[0m\u001b[0m\n\u001b[1;32m--> 652\u001b[1;33m         \u001b[0mshape\u001b[0m \u001b[1;33m=\u001b[0m \u001b[0marrayList\u001b[0m\u001b[1;33m[\u001b[0m\u001b[1;36m0\u001b[0m\u001b[1;33m]\u001b[0m\u001b[1;33m.\u001b[0m\u001b[0mshape\u001b[0m\u001b[1;33m\u001b[0m\u001b[1;33m\u001b[0m\u001b[0m\n\u001b[0m\u001b[0;32m    653\u001b[0m     \u001b[1;32melif\u001b[0m \u001b[0misinstance\u001b[0m\u001b[1;33m(\u001b[0m\u001b[0mshape\u001b[0m\u001b[1;33m,\u001b[0m \u001b[0mint\u001b[0m\u001b[1;33m)\u001b[0m\u001b[1;33m:\u001b[0m\u001b[1;33m\u001b[0m\u001b[1;33m\u001b[0m\u001b[0m\n\u001b[0;32m    654\u001b[0m         \u001b[0mshape\u001b[0m \u001b[1;33m=\u001b[0m \u001b[1;33m(\u001b[0m\u001b[0mshape\u001b[0m\u001b[1;33m,\u001b[0m\u001b[1;33m)\u001b[0m\u001b[1;33m\u001b[0m\u001b[1;33m\u001b[0m\u001b[0m\n",
      "\u001b[1;31mIndexError\u001b[0m: list index out of range"
     ]
    }
   ],
   "source": [
    "# get data\n",
    "#dfCensus = pd.read_sql(\"SELECT * FROM sde.SDE.Census_Demographics\", conn)\n",
    "dfAgeSex = census_data.loc[census_data['variable_category'].isin(['TRPA Census Age Sex Categories Grouped: Age'])]\n",
    "dfAgeSex_Tahoe = dfAgeSex.loc[dfAgeSex['sample_level']=='tract']\n",
    "dfAgeSex_5_County = dfAgeSex.loc[dfAgeSex['sample_level']=='county']\n",
    "# group by variable name/code/year and sum values\n",
    "df = dfAgeSex_Tahoe.groupby(['variable_name','variable_code','year_sample'], as_index= False).sum(['value'])\n",
    "df= dfAgeSex_5_County.groupby(['variable_name','variable_code','year_sample'], as_index= False).sum(['value'])\n",
    "# ordered list to sort age category by\n",
    "sort_list = [ 'Under 5', '5 to 9','10 to 14', '15 to 19', '20 to 24', \n",
    "            '25 to 29', '30 to 34', '35 to 39', '40 to 44', '45 to 49', \n",
    "            '50 to 54', '55 to 59', '60 to 64', '65 to 69', '70 to 74', \n",
    "            '75 to 79', '80 to 84', 'Over 85']\n",
    "\n",
    "# setup new fields\n",
    "# gender is tagged on the end of variable name. split it out after the colon\n",
    "df['Gender'] = df['variable_name'].str.split(':').str[-1]\n",
    "# age is the first part of the variable name string\n",
    "df['Age']    = df['variable_name'].str.split(':').str[0]\n",
    "# drop the rows that represent the Totals\n",
    "df = df[df.Age != 'Total']\n",
    "# setup a new Year column and format it\n",
    "df['Year'] = pd.to_datetime(df['year_sample'], format='%Y') \n",
    "df['Year']   = df['Year'].dt.strftime('%Y')\n",
    "# setup a new Count field based on the summed values\n",
    "df['Count'] = df['value']\n",
    "\n",
    "# cast count as integer type\n",
    "df = df.astype({'Count':int})\n",
    "\n",
    "# keep the new columsn\n",
    "df = df[['Age','Year','Gender','Count']]\n",
    "\n",
    "# set Age to be a categorical field with the same order as the list\n",
    "df['Age'] = pd.Categorical(df['Age'], categories = sort_list)\n",
    "# sort the age category\n",
    "df = df.sort_values(by='Age')\n",
    "\n",
    "pivotTable = pd.pivot_table(df, values='Count', index=['Age','Year'],\n",
    "                       columns=['Gender'], aggfunc=np.sum)\n",
    "flat = pd.DataFrame(pivotTable.to_records())\n",
    "df = flat\n",
    "# remove space in column names 'Male' and \"Female\"\n",
    "df.columns = df.columns.str.replace(' ', '')\n",
    "\n",
    "df['Total_Population'] = df['Female']+df['Male']\n",
    "df['TotalSum'] = df.groupby(['Year'], as_index=False)['Total_Population'].transform('sum')\n",
    "df['Female_Proprotion'] = df['Female']/df['TotalSum']\n",
    "df['Male_Proprotion'] = df['Male']/df['TotalSum']\n",
    "\n",
    "# Creating instance of the figure\n",
    "fig = make_subplots(rows=1, cols=4, shared_yaxes=True)\n",
    "\n",
    " # Filter by single year\n",
    "df1990 = df[df['Year']== '1990']\n",
    "df2000 = df[df['Year']== '2000']\n",
    "df2010 = df[df['Year']== '2010']\n",
    "df2020 = df[df['Year']== '2020']\n",
    "\n",
    "# set x and y variables for plot\n",
    "y_age90    = df1990['Age']\n",
    "x_male90   = df1990['Male_Proprotion']\n",
    "x_female90 = df1990['Female_Proprotion'] * -1\n",
    "\n",
    "# set x and y variables for plot\n",
    "y_age00    = df2000['Age']\n",
    "x_male00   = df2000['Male_Proprotion']\n",
    "x_female00 = df2000['Female_Proprotion'] * -1\n",
    "\n",
    "# set x and y variables for plot\n",
    "y_age10    = df2010['Age']\n",
    "x_male10   = df2010['Male_Proprotion']\n",
    "x_female10 = df2010['Female_Proprotion'] * -1\n",
    "\n",
    "# set x and y variables for plot\n",
    "y_age20    = df2020['Age']\n",
    "x_male20   = df2020['Male_Proprotion']\n",
    "x_female20 = df2020['Female_Proprotion'] * -1\n",
    "\n",
    "mcolor = '#405d74'\n",
    "fcolor = '#679ab8'\n",
    "# Adding Male data to the figure\n",
    "fig.add_trace(go.Bar(y= y_age90, \n",
    "\t\t\t\t\tx = x_male90,\n",
    "\t\t\t\t\tname = 'Male',\n",
    "\t\t\t\t\torientation = 'h',\n",
    "\t\t\t\t\tmarker_color=mcolor,\n",
    "\t\t\t\t\tlegendgroup = 'Male',\n",
    "\t\t\t\t\tcustomdata = np.stack((df1990['Male_Proprotion'], df1990['Age']), axis=-1),\n",
    "\t\t\t\t\thovertemplate='%{customdata[0]:,.0f} males<extra></extra>'\n",
    "\t\t\t\t\t),\n",
    "\t\t\t\t\trow=1, col=1)\n",
    "\n",
    "# Adding Female data to the figure\n",
    "fig.add_trace(go.Bar(y = y_age90, \n",
    "\t\t\t\t\tx = x_female90,\n",
    "\t\t\t\t\tname = 'Female', \n",
    "\t\t\t\t\torientation = 'h', \n",
    "\t\t\t\t\tmarker_color=fcolor,\n",
    "\t\t\t\t\tlegendgroup ='Female',\n",
    "\t\t\t\t\tcustomdata = np.stack((df1990['Female_Proprotion'], df1990['Age']), axis=-1),\n",
    "\t\t\t\t\thovertemplate='%{customdata[0]:,.0f} females<extra></extra>'\n",
    "\t\t\t\t\t),\n",
    "\t\t\t\t\trow=1, col=1)\n",
    "\n",
    "\n",
    "# Adding Male data to the figure\n",
    "fig.add_trace(go.Bar(y= y_age00, \n",
    "\t\t\t\t\tx = x_male00,\n",
    "\t\t\t\t\tname = 'Male',\n",
    "\t\t\t\t\torientation = 'h',\n",
    "\t\t\t\t\tmarker_color=mcolor,\n",
    "\t\t\t\t\tlegendgroup = 'Male',\n",
    "                    showlegend  = False,\n",
    "\t\t\t\t\tcustomdata = np.stack((df2000['Male_Proprotion'], df2000['Age']), axis=-1),\n",
    "\t\t\t\t\thovertemplate='%{customdata[0]:,.0f} males<extra></extra>'\n",
    "\t\t\t\t\t),\n",
    "\t\t\t\t\trow=1, col=2)\n",
    "\n",
    "# Adding Female data to the figure\n",
    "fig.add_trace(go.Bar(y = y_age00, \n",
    "\t\t\t\t\tx = x_female00,\n",
    "\t\t\t\t\tname = 'Female', \n",
    "\t\t\t\t\torientation = 'h', \n",
    "\t\t\t\t\tmarker_color=fcolor,\n",
    "\t\t\t\t\tlegendgroup ='Female',\n",
    "                    showlegend  = False,\n",
    "\t\t\t\t\tcustomdata = np.stack((df2000['Female_Proprotion'], df2000['Age']), axis=-1),\n",
    "\t\t\t\t\thovertemplate='%{customdata[0]:,.0f} females<extra></extra>'\n",
    "\t\t\t\t\t),\n",
    "\t\t\t\t\trow=1, col=2)\n",
    "\n",
    "# Adding Male data to the figure\n",
    "fig.add_trace(go.Bar(y= y_age10, \n",
    "\t\t\t\t\tx = x_male10,\n",
    "\t\t\t\t\tname = 'Male',\n",
    "\t\t\t\t\torientation = 'h',\n",
    "\t\t\t\t\tmarker_color=mcolor,\n",
    "\t\t\t\t\tlegendgroup = 'Male',\n",
    "\t\t\t\t\tshowlegend  = False,\n",
    "\t\t\t\t\tcustomdata = np.stack((df2010['Male_Proprotion'], df2010['Age']), axis=-1),\n",
    "\t\t\t\t\thovertemplate='%{customdata[0]:,.0f} males<extra></extra>'\n",
    "\t\t\t\t\t),\n",
    "\t\t\t\t\trow=1, col=3)\n",
    "\n",
    "# Adding Female data to the figure\n",
    "fig.add_trace(go.Bar(y = y_age10, \n",
    "\t\t\t\t\tx = x_female10,\n",
    "\t\t\t\t\tname = 'Female', \n",
    "\t\t\t\t\torientation = 'h', \n",
    "\t\t\t\t\tmarker_color=fcolor,\n",
    "\t\t\t\t\tlegendgroup = 'Female',\n",
    "\t\t\t\t\tshowlegend  = False,\n",
    "\t\t\t\t\tcustomdata = np.stack((df2010['Female_Proprotion'], df2010['Age']), axis=-1),\n",
    "\t\t\t\t\thovertemplate='%{customdata[0]:,.0f} females<extra></extra>'\n",
    "\t\t\t\t\t),\n",
    "\t\t\t\t\trow=1, col=3)\n",
    "\n",
    "# Adding Male data to the figure\n",
    "fig.add_trace(go.Bar(y= y_age20, \n",
    "\t\t\t\t\tx = x_male20,\n",
    "\t\t\t\t\tname = 'Male',\n",
    "\t\t\t\t\torientation = 'h',\n",
    "\t\t\t\t\tmarker_color=mcolor,\n",
    "\t\t\t\t\tlegendgroup = 'Male',\n",
    "\t\t\t\t\tshowlegend  = False,\n",
    "\t\t\t\t\tcustomdata = np.stack((df2020['Male_Proprotion'], df2020['Age']), axis=-1),\n",
    "\t\t\t\t\thovertemplate='%{customdata[0]:,.0f} males<extra></extra>'\n",
    "\t\t\t\t\t),\n",
    "\t\t\t\t\trow=1, col=4)\n",
    "\n",
    "# Adding Female data to the figure\n",
    "fig.add_trace(go.Bar(y = y_age20, \n",
    "\t\t\t\t\tx = x_female20,\n",
    "\t\t\t\t\tname = 'Female', \n",
    "\t\t\t\t\torientation = 'h', \n",
    "\t\t\t\t\tmarker_color=fcolor,\n",
    "\t\t\t\t\tlegendgroup =\"Female\",\n",
    "\t\t\t\t\tshowlegend  = False,\n",
    "\t\t\t\t\tcustomdata = np.stack((df2020['Female_Proprotion'], df2020['Age']), axis=-1),\n",
    "\t\t\t\t\thovertemplate='%{customdata[0]:,.0f} females<extra></extra>'\n",
    "\t\t\t\t\t),\n",
    "\t\t\t\t\trow=1, col=4)\n",
    "\n",
    "proportion_tick_values = [-.5, -.25, 0, .25, .5]\n",
    "proportion_tick_text = ['-.5', '-.25', '0', '.25', '.5']\n",
    "# Updating the layout\n",
    "fig.update_layout(title = 'Five County Age Profile: 5 Year Increments',\n",
    "\t\t\t\ttitle_x=0.5,\n",
    "\t\t\t\ttitle_font_size = 22, barmode = 'relative',\n",
    "\t\t\t\tbargap = 0.0, bargroupgap = 0,\n",
    "\t\t\t\thovermode=\"y unified\",\n",
    "\t\t\t\txaxis = dict(tickvals = proportion_tick_values,\n",
    "\t\t\t\t\t\t\t\t\n",
    "\t\t\t\t\t\t\tticktext = proportion_tick_text,\n",
    "\t\t\t\t\t\t\ttitle_font_size = 14),\n",
    "\t\t\t\txaxis2 = dict(tickvals = proportion_tick_values,\n",
    "\t\t\t\t\t\t\t\t\n",
    "\t\t\t\t\t\t\tticktext = proportion_tick_text,\n",
    "\t\t\t\t\t\t\ttitle_font_size = 14),\n",
    "\t\t\t\txaxis3 = dict(tickvals = proportion_tick_values,\n",
    "\t\t\t\t\t\t\t\t\n",
    "\t\t\t\t\t\t\tticktext = proportion_tick_text,\n",
    "\t\t\t\t\t\t\ttitle_font_size = 14),\n",
    "                xaxis4 = dict(tickvals = proportion_tick_values,\n",
    "\t\t\t\t\t\t\t\t\n",
    "\t\t\t\t\t\t\tticktext = proportion_tick_text,\n",
    "\t\t\t\t\t\t\ttitle_font_size = 14),\n",
    "\t\t\t\tyaxis = dict(\t\t\t\t\t\n",
    "\t\t\t\t\t\t\ttitle = 'Age',\n",
    "\t\t\t\t\t\t\ttitle_font_size = 14)\t\t\t\n",
    "\t\t\t\t)\n",
    "\n",
    "\n",
    "# edit axis labels\n",
    "fig['layout']['xaxis']['title'] ='1990 Decennial Census'\n",
    "fig['layout']['xaxis2']['title']='2000 Decennial Census'\n",
    "fig['layout']['xaxis3']['title']='2010 Decennial Census'\n",
    "fig['layout']['xaxis4']['title']='2020 Decennial Census'\n",
    "\n",
    "fig.show()\n",
    "fig.write_html(os.path.join(workspace, \"Demographics_Non_Tahoe_AgeProfile_DecadeSubplots_proportion.html\"))"
   ]
  },
  {
   "cell_type": "code",
   "execution_count": null,
   "id": "9d3b61ad",
   "metadata": {},
   "outputs": [],
   "source": [
    "# get data\n",
    "dfCensus = pd.read_sql(\"SELECT * FROM sde.SDE.Census_Demographics\", conn)\n",
    "dfAgeSex = dfCensus.loc[dfCensus['variable_category'].isin(['TRPA Census Age Sex Categories Grouped: Age'])]\n",
    "dfAgeSex_Tahoe = dfAgeSex.loc[dfAgeSex['sample_level']=='tract']\n",
    "dfAgeSex_5_County = dfAgeSex.loc[dfAgeSex['sample_level']=='county']\n",
    "# group by variable name/code/year and sum values\n",
    "df = dfAgeSex_Tahoe.groupby(['variable_name','variable_code','year_sample'], as_index= False).sum(['value'])\n",
    "#df= dfAgeSex_5_County.groupby(['variable_name','variable_code','year_sample'], as_index= False).sum(['value'])\n",
    "# ordered list to sort age category by\n",
    "sort_list = [ 'Under 5', '5 to 9','10 to 14', '15 to 19', '20 to 24', \n",
    "            '25 to 29', '30 to 34', '35 to 39', '40 to 44', '45 to 49', \n",
    "            '50 to 54', '55 to 59', '60 to 64', '65 to 69', '70 to 74', \n",
    "            '75 to 79', '80 to 84', 'Over 85']\n",
    "\n",
    "# setup new fields\n",
    "# gender is tagged on the end of variable name. split it out after the colon\n",
    "df['Gender'] = df['variable_name'].str.split(':').str[-1]\n",
    "# age is the first part of the variable name string\n",
    "df['Age']    = df['variable_name'].str.split(':').str[0]\n",
    "# drop the rows that represent the Totals\n",
    "df = df[df.Age != 'Total']\n",
    "# setup a new Year column and format it\n",
    "df['Year'] = pd.to_datetime(df['year_sample'], format='%Y') \n",
    "df['Year']   = df['Year'].dt.strftime('%Y')\n",
    "# setup a new Count field based on the summed values\n",
    "df['Count'] = df['value']\n",
    "\n",
    "# cast count as integer type\n",
    "df = df.astype({'Count':int})\n",
    "\n",
    "# keep the new columsn\n",
    "df = df[['Age','Year','Gender','Count']]\n",
    "\n",
    "# set Age to be a categorical field with the same order as the list\n",
    "df['Age'] = pd.Categorical(df['Age'], categories = sort_list)\n",
    "# sort the age category\n",
    "df = df.sort_values(by='Age')\n",
    "\n",
    "pivotTable = pd.pivot_table(df, values='Count', index=['Age','Year'],\n",
    "                       columns=['Gender'], aggfunc=np.sum)\n",
    "flat = pd.DataFrame(pivotTable.to_records())\n",
    "df = flat\n",
    "# remove space in column names 'Male' and \"Female\"\n",
    "df.columns = df.columns.str.replace(' ', '')\n",
    "\n",
    "df['Total_Population'] = df['Female']+df['Male']\n",
    "df['TotalSum'] = df.groupby(['Year'], as_index=False)['Total_Population'].transform('sum')\n",
    "df['Female_Proprotion'] = df['Female']/df['TotalSum']\n",
    "df['Male_Proprotion'] = df['Male']/df['TotalSum']\n",
    "\n",
    "# Creating instance of the figure\n",
    "fig = make_subplots(rows=1, cols=4, shared_yaxes=True)\n",
    "\n",
    " # Filter by single year\n",
    "df1990 = df[df['Year']== '1990']\n",
    "df2000 = df[df['Year']== '2000']\n",
    "df2010 = df[df['Year']== '2010']\n",
    "df2020 = df[df['Year']== '2020']\n",
    "\n",
    "# set x and y variables for plot\n",
    "y_age90    = df1990['Age']\n",
    "x_male90   = df1990['Male_Proprotion']\n",
    "x_female90 = df1990['Female_Proprotion'] * -1\n",
    "\n",
    "# set x and y variables for plot\n",
    "y_age00    = df2000['Age']\n",
    "x_male00   = df2000['Male_Proprotion']\n",
    "x_female00 = df2000['Female_Proprotion'] * -1\n",
    "\n",
    "# set x and y variables for plot\n",
    "y_age10    = df2010['Age']\n",
    "x_male10   = df2010['Male_Proprotion']\n",
    "x_female10 = df2010['Female_Proprotion'] * -1\n",
    "\n",
    "# set x and y variables for plot\n",
    "y_age20    = df2020['Age']\n",
    "x_male20   = df2020['Male_Proprotion']\n",
    "x_female20 = df2020['Female_Proprotion'] * -1\n",
    "\n",
    "mcolor = '#405d74'\n",
    "fcolor = '#679ab8'\n",
    "# Adding Male data to the figure\n",
    "fig.add_trace(go.Bar(y= y_age90, \n",
    "\t\t\t\t\tx = x_male90,\n",
    "\t\t\t\t\tname = 'Male',\n",
    "\t\t\t\t\torientation = 'h',\n",
    "\t\t\t\t\tmarker_color=mcolor,\n",
    "\t\t\t\t\tlegendgroup = 'Male',\n",
    "\t\t\t\t\tcustomdata = np.stack((df1990['Male_Proprotion'], df1990['Age']), axis=-1),\n",
    "\t\t\t\t\thovertemplate='%{customdata[0]:,.0f} males<extra></extra>'\n",
    "\t\t\t\t\t),\n",
    "\t\t\t\t\trow=1, col=1)\n",
    "\n",
    "# Adding Female data to the figure\n",
    "fig.add_trace(go.Bar(y = y_age90, \n",
    "\t\t\t\t\tx = x_female90,\n",
    "\t\t\t\t\tname = 'Female', \n",
    "\t\t\t\t\torientation = 'h', \n",
    "\t\t\t\t\tmarker_color=fcolor,\n",
    "\t\t\t\t\tlegendgroup ='Female',\n",
    "\t\t\t\t\tcustomdata = np.stack((df1990['Female_Proprotion'], df1990['Age']), axis=-1),\n",
    "\t\t\t\t\thovertemplate='%{customdata[0]:,.0f} females<extra></extra>'\n",
    "\t\t\t\t\t),\n",
    "\t\t\t\t\trow=1, col=1)\n",
    "\n",
    "\n",
    "# Adding Male data to the figure\n",
    "fig.add_trace(go.Bar(y= y_age00, \n",
    "\t\t\t\t\tx = x_male00,\n",
    "\t\t\t\t\tname = 'Male',\n",
    "\t\t\t\t\torientation = 'h',\n",
    "\t\t\t\t\tmarker_color=mcolor,\n",
    "\t\t\t\t\tlegendgroup = 'Male',\n",
    "                    showlegend  = False,\n",
    "\t\t\t\t\tcustomdata = np.stack((df2000['Male_Proprotion'], df2000['Age']), axis=-1),\n",
    "\t\t\t\t\thovertemplate='%{customdata[0]:,.0f} males<extra></extra>'\n",
    "\t\t\t\t\t),\n",
    "\t\t\t\t\trow=1, col=2)\n",
    "\n",
    "# Adding Female data to the figure\n",
    "fig.add_trace(go.Bar(y = y_age00, \n",
    "\t\t\t\t\tx = x_female00,\n",
    "\t\t\t\t\tname = 'Female', \n",
    "\t\t\t\t\torientation = 'h', \n",
    "\t\t\t\t\tmarker_color=fcolor,\n",
    "\t\t\t\t\tlegendgroup ='Female',\n",
    "                    showlegend  = False,\n",
    "\t\t\t\t\tcustomdata = np.stack((df2000['Female_Proprotion'], df2000['Age']), axis=-1),\n",
    "\t\t\t\t\thovertemplate='%{customdata[0]:,.0f} females<extra></extra>'\n",
    "\t\t\t\t\t),\n",
    "\t\t\t\t\trow=1, col=2)\n",
    "\n",
    "# Adding Male data to the figure\n",
    "fig.add_trace(go.Bar(y= y_age10, \n",
    "\t\t\t\t\tx = x_male10,\n",
    "\t\t\t\t\tname = 'Male',\n",
    "\t\t\t\t\torientation = 'h',\n",
    "\t\t\t\t\tmarker_color=mcolor,\n",
    "\t\t\t\t\tlegendgroup = 'Male',\n",
    "\t\t\t\t\tshowlegend  = False,\n",
    "\t\t\t\t\tcustomdata = np.stack((df2010['Male_Proprotion'], df2010['Age']), axis=-1),\n",
    "\t\t\t\t\thovertemplate='%{customdata[0]:,.0f} males<extra></extra>'\n",
    "\t\t\t\t\t),\n",
    "\t\t\t\t\trow=1, col=3)\n",
    "\n",
    "# Adding Female data to the figure\n",
    "fig.add_trace(go.Bar(y = y_age10, \n",
    "\t\t\t\t\tx = x_female10,\n",
    "\t\t\t\t\tname = 'Female', \n",
    "\t\t\t\t\torientation = 'h', \n",
    "\t\t\t\t\tmarker_color=fcolor,\n",
    "\t\t\t\t\tlegendgroup = 'Female',\n",
    "\t\t\t\t\tshowlegend  = False,\n",
    "\t\t\t\t\tcustomdata = np.stack((df2010['Female_Proprotion'], df2010['Age']), axis=-1),\n",
    "\t\t\t\t\thovertemplate='%{customdata[0]:,.0f} females<extra></extra>'\n",
    "\t\t\t\t\t),\n",
    "\t\t\t\t\trow=1, col=3)\n",
    "\n",
    "# Adding Male data to the figure\n",
    "fig.add_trace(go.Bar(y= y_age20, \n",
    "\t\t\t\t\tx = x_male20,\n",
    "\t\t\t\t\tname = 'Male',\n",
    "\t\t\t\t\torientation = 'h',\n",
    "\t\t\t\t\tmarker_color=mcolor,\n",
    "\t\t\t\t\tlegendgroup = 'Male',\n",
    "\t\t\t\t\tshowlegend  = False,\n",
    "\t\t\t\t\tcustomdata = np.stack((df2020['Male_Proprotion'], df2020['Age']), axis=-1),\n",
    "\t\t\t\t\thovertemplate='%{customdata[0]:,.0f} males<extra></extra>'\n",
    "\t\t\t\t\t),\n",
    "\t\t\t\t\trow=1, col=4)\n",
    "\n",
    "# Adding Female data to the figure\n",
    "fig.add_trace(go.Bar(y = y_age20, \n",
    "\t\t\t\t\tx = x_female20,\n",
    "\t\t\t\t\tname = 'Female', \n",
    "\t\t\t\t\torientation = 'h', \n",
    "\t\t\t\t\tmarker_color=fcolor,\n",
    "\t\t\t\t\tlegendgroup =\"Female\",\n",
    "\t\t\t\t\tshowlegend  = False,\n",
    "\t\t\t\t\tcustomdata = np.stack((df2020['Female_Proprotion'], df2020['Age']), axis=-1),\n",
    "\t\t\t\t\thovertemplate='%{customdata[0]:,.0f} females<extra></extra>'\n",
    "\t\t\t\t\t),\n",
    "\t\t\t\t\trow=1, col=4)\n",
    "\n",
    "proportion_tick_values = [-.5, -.25, 0, .25, .5]\n",
    "proportion_tick_text = ['-.5', '-.25', '0', '.25', '.5']\n",
    "# Updating the layout\n",
    "fig.update_layout(title = 'Tahoe Basin Age Profile: 5 Year Increments',\n",
    "\t\t\t\ttitle_x=0.5,\n",
    "\t\t\t\ttitle_font_size = 22, barmode = 'relative',\n",
    "\t\t\t\tbargap = 0.0, bargroupgap = 0,\n",
    "\t\t\t\thovermode=\"y unified\",\n",
    "\t\t\t\txaxis = dict(tickvals = proportion_tick_values,\n",
    "\t\t\t\t\t\t\t\t\n",
    "\t\t\t\t\t\t\tticktext = proportion_tick_text,\n",
    "\t\t\t\t\t\t\ttitle_font_size = 14),\n",
    "\t\t\t\txaxis2 = dict(tickvals = proportion_tick_values,\n",
    "\t\t\t\t\t\t\t\t\n",
    "\t\t\t\t\t\t\tticktext = proportion_tick_text,\n",
    "\t\t\t\t\t\t\ttitle_font_size = 14),\n",
    "\t\t\t\txaxis3 = dict(tickvals = proportion_tick_values,\n",
    "\t\t\t\t\t\t\t\t\n",
    "\t\t\t\t\t\t\tticktext = proportion_tick_text,\n",
    "\t\t\t\t\t\t\ttitle_font_size = 14),\n",
    "                xaxis4 = dict(tickvals = proportion_tick_values,\n",
    "\t\t\t\t\t\t\t\t\n",
    "\t\t\t\t\t\t\tticktext = proportion_tick_text,\n",
    "\t\t\t\t\t\t\ttitle_font_size = 14),\n",
    "\t\t\t\tyaxis = dict(\t\t\t\t\t\n",
    "\t\t\t\t\t\t\ttitle = 'Age',\n",
    "\t\t\t\t\t\t\ttitle_font_size = 14)\t\t\t\n",
    "\t\t\t\t)\n",
    "\n",
    "\n",
    "# edit axis labels\n",
    "fig['layout']['xaxis']['title'] ='1990 Decennial Census'\n",
    "fig['layout']['xaxis2']['title']='2000 Decennial Census'\n",
    "fig['layout']['xaxis3']['title']='2010 Decennial Census'\n",
    "fig['layout']['xaxis4']['title']='2020 Decennial Census'\n",
    "\n",
    "fig.show()\n",
    "fig.write_html(os.path.join(workspace, \"Demographics_Tahoe_AgeProfile_DecadeSubplots_proportion.html\"))"
   ]
  },
  {
   "cell_type": "markdown",
   "id": "225bdbe2",
   "metadata": {},
   "source": [
    "### Race"
   ]
  },
  {
   "cell_type": "code",
   "execution_count": null,
   "id": "0884c4cf",
   "metadata": {},
   "outputs": [],
   "source": [
    "## get race data\n",
    "dfCensus = pd.read_sql(\"SELECT * FROM sde.SDE.Census_Demographics\", conn)\n",
    "dfRace = dfCensus.loc[dfCensus.variable_category.isin(['Race'])]\n",
    "dfRace = dfRace.loc[dfRace['year_sample']!=1990]\n",
    "dfRace = dfRace[dfRace.dataset != 'acs/acs5']\n",
    "# group by variable name/code/year and sum values\n",
    "df = dfRace.groupby(['variable_name','variable_code','year_sample'], as_index= False).sum(['value'])\n",
    "\n",
    "# setup new fields\n",
    "# fix text of race names and filter out non-hispanic so we get a true total of all races\n",
    "df['Race'] = df['variable_name'].str.split(':').str[-1]\n",
    "# strips off the prefix\n",
    "df.loc[df['Race'].str.split(';').str[0] == '  Not Hispanic or Latino', 'Race'] =  df['Race'].str.split(';').str[-1]\n",
    "# get rid of spaces\n",
    "df.Race = df.Race.str.strip()\n",
    "# drop the not hispanic total rows\n",
    "df = df[df.Race != 'Not Hispanic or Latino']\n",
    "# setup a new Year column and format it\n",
    "df['Year'] = pd.to_datetime(df['year_sample'], format='%Y') \n",
    "df['Year']   = df['Year'].dt.strftime('%Y')\n",
    "# setup a new Count field based on the summed values\n",
    "df['Count'] = df['value']\n",
    "# cast count as integer type\n",
    "df = df.astype({'Count':int})\n",
    "df['Percent'] = 0.0\n",
    "# keep the new columns\n",
    "df = df[['Race','Year','Percent','Count']]\n",
    "\n",
    "df00 = df[df['Year']== '2000']\n",
    "df10 = df[df['Year']== '2010']\n",
    "df20 = df[df['Year']== '2020']\n",
    "# df21 = df[df['Year']== '2021']\n",
    "\n",
    "# calculate percents of total for each year\n",
    "df.loc[df['Year'] == '2000', 'Percent'] =  (df00['Count'] / df00['Count'].sum()) * 100\n",
    "df.loc[df['Year'] == '2010', 'Percent'] =  (df10['Count'] / df10['Count'].sum()) * 100\n",
    "df.loc[df['Year'] == '2020', 'Percent'] =  (df20['Count'] / df20['Count'].sum()) * 100\n",
    "# df.loc[df['Year'] == '2021', 'Percent'] =  (df21['Count'] / df21['Count'].sum()) * 100\n",
    "\n",
    "raceList = ['American Indian and Alaska Native alone',\n",
    " 'Asian alone',\n",
    " 'Black or African American alone',\n",
    " 'Hispanic or Latino',\n",
    " 'Native Hawaiian and Other Pacific Islander alone',\n",
    " 'Some other race alone',\n",
    " 'Two or more races',\n",
    " 'White alone']\n",
    "\n",
    "pivotRace = pd.pivot_table(df,index=['Year'],\n",
    "                              columns='Race',\n",
    "                              values='Percent')\n",
    "\n",
    "flat = pd.DataFrame(pivotRace.to_records())\n",
    "df = flat\n",
    "\n",
    "raceList = df.columns.to_list()\n",
    "raceList.remove('Year')\n",
    "fig = px.bar(df, x=\"Year\", \n",
    "             y=raceList, \n",
    "             color_discrete_sequence=colors\n",
    "             )\n",
    "\n",
    "fig.update_traces(hovertemplate='<br> %{y:.2f}%')\n",
    "\n",
    "# set layout\n",
    "fig.update_layout(title='Race', \n",
    "                    font_family=font,\n",
    "                    template=template,\n",
    "                    showlegend=True,\n",
    "                    legend_title='',\n",
    "                    hovermode=\"x unified\",\n",
    "                    xaxis = dict(\n",
    "                        type='category',\n",
    "                        tickmode = 'linear'\n",
    "                    ),\n",
    "                    yaxis = dict(\n",
    "                        tickmode = 'linear',\n",
    "                        tick0 = 0,\n",
    "                        dtick = 10,\n",
    "                        range=[0, 100],\n",
    "                        title_text='Percent'\n",
    "                    )\n",
    "                 )\n",
    "\n",
    "fig.show()\n",
    "fig.write_html(os.path.join(workspace, \"Demographics_Tahoe_RaceDistribution.html\"))"
   ]
  },
  {
   "cell_type": "markdown",
   "id": "2efb9aaa",
   "metadata": {},
   "source": [
    "### Population change by neighborhood"
   ]
  },
  {
   "cell_type": "code",
   "execution_count": null,
   "id": "c164251d",
   "metadata": {},
   "outputs": [],
   "source": [
    "service_url = 'https://maps.trpa.org/server/rest/services/Demographics/FeatureServer/31'\n",
    "\n",
    "feature_layer = FeatureLayer(service_url)\n",
    "query_result = feature_layer.query()\n",
    "# Convert the query result to a list of dictionaries\n",
    "feature_list = query_result.features\n",
    "\n",
    "# Create a pandas DataFrame from the list of dictionaries\n",
    "neighborhood_data = pd.DataFrame([feature.attributes for feature in feature_list])\n"
   ]
  },
  {
   "cell_type": "code",
   "execution_count": null,
   "id": "eb548e4a",
   "metadata": {},
   "outputs": [],
   "source": []
  },
  {
   "cell_type": "markdown",
   "id": "cde378d6",
   "metadata": {},
   "source": [
    "### Housing"
   ]
  },
  {
   "cell_type": "code",
   "execution_count": null,
   "id": "c7c170ff",
   "metadata": {},
   "outputs": [],
   "source": [
    "## get housing unit data\n",
    "dfCensus = pd.read_sql(\"SELECT * FROM sde.SDE.Census_Demographics\", conn)\n",
    "dfHousing = dfCensus.loc[dfCensus.variable_category.isin(['Housing Units'])]\n",
    "dfHousing = dfHousing[dfHousing.dataset != 'acs/acs5']\n",
    "\n",
    "# group the data\n",
    "df = dfHousing.groupby(['variable_name','variable_code', 'year_sample'], as_index = False).sum(['value'])\n",
    "\n",
    "# Define the new row to be added\n",
    "new_row = {'variable_name': 'Vacant Housing Units: Other', 'year_sample': 2020, 'value': 0}\n",
    "# Use the loc method to add the new row to the DataFrame\n",
    "df.loc[len(df)] = new_row\n",
    "# Define the new row to be added\n",
    "new_row = {'variable_name': 'Vacant Housing Units: Other', 'year_sample': 2010, 'value': 0}\n",
    "# Use the loc method to add the new row to the DataFrame\n",
    "df.loc[len(df)] = new_row\n",
    "# Define the new row to be added\n",
    "new_row = {'variable_name': 'Vacant Housing Units: Other', 'year_sample': 2000, 'value': 0}\n",
    "# Use the loc method to add the new row to the DataFrame\n",
    "df.loc[len(df)] = new_row\n",
    "\n",
    "# Define conditions for rows\n",
    "year2000 = df['year_sample'] == 2000\n",
    "year2010 = df['year_sample'] == 2010\n",
    "year2020 = df['year_sample'] == 2020\n",
    "\n",
    "condition1 = df['variable_name'] == 'Total Housing Units: Vacant'\n",
    "condition2 = df['variable_name'] == 'Vacant Housing Units: Seasonal, recreational, or occasional use'\n",
    "target_row = df['variable_name'] == 'Vacant Housing Units: Other'\n",
    "\n",
    "# Calculate the difference between rows based on conditions\n",
    "diff_values00 = df.loc[year2000&condition1, 'value'].reset_index(drop=True) - df.loc[year2000&condition2, 'value'].reset_index(drop=True)\n",
    "diff_values10 = df.loc[year2010&condition1, 'value'].reset_index(drop=True) - df.loc[year2010&condition2, 'value'].reset_index(drop=True)\n",
    "diff_values20 = df.loc[year2020&condition1, 'value'].reset_index(drop=True) - df.loc[year2020&condition2, 'value'].reset_index(drop=True)\n",
    "\n",
    "# Update the 'value' column for rows with the difference values for each year\n",
    "df.loc[target_row&year2000, 'value'] = diff_values00[0]\n",
    "df.loc[target_row&year2010, 'value'] = diff_values10[0]\n",
    "df.loc[target_row&year2020, 'value'] = diff_values20[0]\n",
    "\n",
    "# filter dataframe\n",
    "df = df[~df.variable_name.isin(['Total Housing Units', 'Total Housing Units: Occupied', 'Total Housing Units: Vacant' ])]\n",
    "\n",
    "# setup new fields\n",
    "df['Housing Units'] = df['variable_name']\n",
    "# setup a new Year column and format it\n",
    "df['Year'] = pd.to_datetime(df['year_sample'], format='%Y') \n",
    "df['Year']   = df['Year'].dt.strftime('%Y')\n",
    "# setup a new Count field based on the summed values\n",
    "df['Count'] = df['value']\n",
    "# cast count as integer type\n",
    "df = df.astype({'Count':int})\n",
    "df['Percent'] = 0.0\n",
    "# keep the new columns\n",
    "df = df[['Housing Units','Year','Percent','Count']]\n",
    "\n",
    "df00 = df[df['Year']== '2000']\n",
    "df10 = df[df['Year']== '2010']\n",
    "df20 = df[df['Year']== '2020']\n",
    "\n",
    "# calculate percents of total for each year\n",
    "df.loc[df['Year'] == '2000', 'Percent'] =  (df00['Count'] / df00['Count'].sum()) * 100\n",
    "df.loc[df['Year'] == '2010', 'Percent'] =  (df10['Count'] / df10['Count'].sum()) * 100\n",
    "df.loc[df['Year'] == '2020', 'Percent'] =  (df20['Count'] / df20['Count'].sum()) * 100\n",
    "\n",
    "pivotRace = pd.pivot_table(df,index=['Year'],\n",
    "                              columns='Housing Units',\n",
    "                              values='Percent')\n",
    "\n",
    "flat = pd.DataFrame(pivotRace.to_records())\n",
    "df = flat\n",
    "\n",
    "# dcitionary to map old column names to new column names\n",
    "new_column_names = {\n",
    "    'Occupied Housing Units: Owner Occupied': 'Owner Occupied',\n",
    "    'Occupied Housing Units: Renter Occupied': 'Renter Occupied',\n",
    "    'Vacant Housing Units: Other': 'Vacant: other',\n",
    "    'Vacant Housing Units: Seasonal, recreational, or occasional use': 'Vacant: seasonal or occasional use'\n",
    "}\n",
    "\n",
    "# Rename the columns\n",
    "df = df.rename(columns=new_column_names)\n",
    "\n",
    "# get list of columns to stack in bar chart\n",
    "houseList = df.columns.to_list()\n",
    "houseList.remove('Year')\n",
    "\n",
    "# setup the figure\n",
    "fig = px.bar(df, x=\"Year\", \n",
    "             y=houseList, \n",
    "             color_discrete_sequence=colors\n",
    "             )\n",
    "\n",
    "fig.update_traces(hovertemplate='<br>%{y:.2f}%')\n",
    "\n",
    "# set layout\n",
    "fig.update_layout(title='Housing Units', \n",
    "                    font_family=font,\n",
    "                    template=template,\n",
    "                    showlegend=True,\n",
    "                    legend_title='',\n",
    "                    hovermode=\"x unified\",\n",
    "                    xaxis = dict(\n",
    "                        type='category',\n",
    "                        tickmode = 'linear'\n",
    "                    ),\n",
    "                    yaxis = dict(\n",
    "                        tickmode = 'linear',\n",
    "                        tick0 = 0,\n",
    "                        dtick = 10,\n",
    "                        range=[0, 100],\n",
    "                        title_text='Percent'\n",
    "                    )\n",
    "                 )\n",
    "\n",
    "fig.show()\n",
    "fig.write_html(os.path.join(workspace, \"Demographics_Tahoe_HousingUnits.html\"))\n"
   ]
  },
  {
   "cell_type": "markdown",
   "id": "545beb94",
   "metadata": {},
   "source": [
    "#### Tenancy"
   ]
  },
  {
   "cell_type": "code",
   "execution_count": null,
   "id": "b3098267",
   "metadata": {},
   "outputs": [],
   "source": [
    "### Housing Tenancy Chart"
   ]
  },
  {
   "cell_type": "markdown",
   "id": "c07faa1c",
   "metadata": {},
   "source": [
    "#### Values"
   ]
  },
  {
   "cell_type": "code",
   "execution_count": null,
   "id": "54c02782",
   "metadata": {},
   "outputs": [],
   "source": []
  },
  {
   "cell_type": "markdown",
   "id": "57a86ba1",
   "metadata": {},
   "source": [
    "#### Rents"
   ]
  },
  {
   "cell_type": "code",
   "execution_count": null,
   "id": "2392d798",
   "metadata": {},
   "outputs": [],
   "source": []
  },
  {
   "cell_type": "markdown",
   "id": "8b441e29",
   "metadata": {},
   "source": [
    "### Income"
   ]
  },
  {
   "cell_type": "markdown",
   "id": "4c409415",
   "metadata": {},
   "source": []
  },
  {
   "cell_type": "markdown",
   "id": "0bc376fc",
   "metadata": {},
   "source": [
    "#### Income Distribution"
   ]
  },
  {
   "cell_type": "code",
   "execution_count": null,
   "id": "0a2dd4ac",
   "metadata": {},
   "outputs": [],
   "source": []
  },
  {
   "cell_type": "markdown",
   "id": "797237d4",
   "metadata": {},
   "source": [
    "#### Source of Income"
   ]
  },
  {
   "cell_type": "code",
   "execution_count": null,
   "id": "5ccbf0c8",
   "metadata": {},
   "outputs": [],
   "source": []
  },
  {
   "cell_type": "markdown",
   "id": "2bc220f9",
   "metadata": {},
   "source": [
    "#### Housing Affordability"
   ]
  },
  {
   "cell_type": "code",
   "execution_count": null,
   "id": "6b0c63a8",
   "metadata": {},
   "outputs": [],
   "source": []
  },
  {
   "cell_type": "markdown",
   "id": "267903bc",
   "metadata": {},
   "source": [
    "### Workforce"
   ]
  },
  {
   "cell_type": "markdown",
   "id": "e4efd253",
   "metadata": {},
   "source": [
    "#### Place of Work"
   ]
  },
  {
   "cell_type": "code",
   "execution_count": null,
   "id": "4a7ef776",
   "metadata": {},
   "outputs": [],
   "source": []
  },
  {
   "cell_type": "markdown",
   "id": "0c8f8234",
   "metadata": {},
   "source": [
    "#### Travel Time to Work"
   ]
  },
  {
   "cell_type": "code",
   "execution_count": null,
   "id": "960b7e89",
   "metadata": {},
   "outputs": [],
   "source": []
  },
  {
   "cell_type": "markdown",
   "id": "2ba68d15",
   "metadata": {},
   "source": [
    "### Jobs"
   ]
  },
  {
   "cell_type": "markdown",
   "id": "9158381d",
   "metadata": {},
   "source": [
    "#### Unemployment"
   ]
  },
  {
   "cell_type": "markdown",
   "id": "08ad9d8d",
   "metadata": {},
   "source": []
  },
  {
   "cell_type": "markdown",
   "id": "aecefb1c",
   "metadata": {},
   "source": [
    "#### Employment"
   ]
  },
  {
   "cell_type": "code",
   "execution_count": null,
   "id": "6bf6041e",
   "metadata": {},
   "outputs": [],
   "source": [
    "#Employment numbers\n",
    "dfEmployment = pd.read_sql(\"SELECT * FROM sde_tabular.SDE.Demographics where category = 'Employment'\", conn)\n",
    "dfEmployment = dfEmployment.sort_values(by=['Year'], ignore_index=True)\n",
    "\n",
    "fig_Employment = px.line(dfEmployment, x=\"Year\", y=\"Value\",\n",
    "                labels=dict(Year='Year', Value='Employment'),\n",
    "                title=\"Tahoe Basin Demographics\")\n",
    "\n",
    "fig_Employment.update_traces(mode='markers+lines', \n",
    "                     patch={\"line\": {\n",
    "                           \"shape\": \"spline\"}},\n",
    "                     hovertemplate='Census Year: %{x} <br> Population: %{y:,.0f} '\n",
    "                    )\n",
    "fig_Employment.update_layout(font_family=font,\n",
    "                 template=template,\n",
    "                    hoverlabel=dict(\n",
    "                    bgcolor='white',\n",
    "                       font=dict(color='blue') \n",
    "                    ),\n",
    "                    title=dict(\n",
    "                    x=0.5,\n",
    "                xanchor='center'),\n",
    "                    xaxis=dict(tick0=2000, dtick=10)\n",
    "                            )\n",
    "\n",
    "fig_Employment.show()"
   ]
  },
  {
   "cell_type": "markdown",
   "id": "f4020f78",
   "metadata": {},
   "source": [
    "### Industries"
   ]
  },
  {
   "cell_type": "markdown",
   "id": "774886a3",
   "metadata": {},
   "source": [
    "#### Establishements"
   ]
  },
  {
   "cell_type": "code",
   "execution_count": null,
   "id": "80d71fe0",
   "metadata": {},
   "outputs": [],
   "source": []
  },
  {
   "cell_type": "markdown",
   "id": "c2a896cf",
   "metadata": {},
   "source": []
  }
 ],
 "metadata": {
  "kernelspec": {
   "display_name": "Python 3",
   "language": "python",
   "name": "python3"
  },
  "language_info": {
   "codemirror_mode": {
    "name": "ipython",
    "version": 3
   },
   "file_extension": ".py",
   "mimetype": "text/x-python",
   "name": "python",
   "nbconvert_exporter": "python",
   "pygments_lexer": "ipython3",
   "version": "3.9.16"
  }
 },
 "nbformat": 4,
 "nbformat_minor": 5
}
