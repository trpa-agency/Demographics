{
 "cells": [
  {
   "cell_type": "markdown",
   "id": "2aede6c8",
   "metadata": {},
   "source": [
    "# Demographic Data Visulizations"
   ]
  },
  {
   "cell_type": "markdown",
   "id": "765faef0",
   "metadata": {},
   "source": [
    "#### Setup"
   ]
  },
  {
   "cell_type": "code",
   "execution_count": null,
   "id": "7fe8d64b",
   "metadata": {},
   "outputs": [],
   "source": [
    "import os\n",
    "import arcpy\n",
    "from arcgis.gis import GIS\n",
    "from arcgis.mapping import WebMap\n",
    "from arcgis.features import FeatureSet, GeoAccessor, GeoSeriesAccessor, FeatureLayer, FeatureLayerCollection\n",
    "# import datetime as dt\n",
    "import pandas as pd\n",
    "from pandas.api.types import CategoricalDtype\n",
    "import numpy as np\n",
    "import plotly.offline as py\n",
    "import plotly.graph_objs as go\n",
    "import plotly.tools as tls\n",
    "import plotly.express as px\n",
    "import plotly.figure_factory as ff\n",
    "from plotly.offline import iplot, init_notebook_mode\n",
    "from plotly.subplots import make_subplots\n",
    "#This needs to be manually installed to your environment using: conda install -c conda-forge python-kaleido=0.1.0\n",
    "import kaleido\n",
    "import plotly.io as pio\n",
    "py.init_notebook_mode()\n",
    "workspace = os.path.abspath('')"
   ]
  },
  {
   "cell_type": "code",
   "execution_count": null,
   "id": "4b566848",
   "metadata": {},
   "outputs": [],
   "source": [
    "# Connect to TRPA Enterprise GIS Portal\n",
    "portal_url = \"https://maps.trpa.org/portal\"\n",
    "gis = GIS(portal_url)\n",
    "\n",
    "# plotly settings\n",
    "init_notebook_mode(connected=False)\n",
    "\n",
    "# pandas settings\n",
    "pd.options.plotting.backend = \"plotly\"\n",
    "# set data frame display options\n",
    "pd.set_option('display.width', 1000)\n",
    "pd.set_option('display.max_rows', 1000)\n",
    "pd.set_option('display.max_columns', 1000)\n",
    "pd.options.display.float_format = '{:,.2f}'.format\n",
    "\n",
    "# set overwrite to true\n",
    "arcpy.env.overwriteOutput = True\n",
    "\n",
    "# in memory output file path\n",
    "wk_memory = \"memory/\"\n",
    "\n",
    "# set style variables\n",
    "template = 'plotly_white'\n",
    "font     = 'Calibri'\n",
    "# qualitative diverging color scheme\n",
    "colors = [\"#a6cee3\",\n",
    "            \"#1f78b4\",\n",
    "            \"#b2df_non_tahoe8a\",\n",
    "            '#33a02c',\n",
    "            '#fb9a99',\n",
    "            '#e31a1c',\n",
    "            '#fdbf6f',\n",
    "            '#ff7f00',\n",
    "            '#cab2d6',\n",
    "            '#6a3d9a']\n",
    "# colors for tables\n",
    "headerColor = '#6680a8'\n",
    "rowColor = 'white'\n",
    "lastrowColor = '#eeeeee'"
   ]
  },
  {
   "cell_type": "code",
   "execution_count": null,
   "id": "666e438f",
   "metadata": {},
   "outputs": [],
   "source": [
    "# Get data\n",
    "# Search for the feature layer by keyword and get the first result with [0]\n",
    "feature_layer_item = gis.content.search(query=\"Demographics\", item_type=\"Feature Layer\")[0]\n",
    "\n",
    "# name the sub layer/table to search for\n",
    "table_name = \"Demographic Summaries\"\n",
    "\n",
    "# Query the sublayer by name\n",
    "subtable = None\n",
    "for table in feature_layer_item.tables:\n",
    "    if table.properties.name == table_name:\n",
    "        subtable = table\n",
    "        break\n",
    "\n",
    "# create a data frame\n",
    "dfDemo = pd.DataFrame.spatial.from_layer(subtable)\n",
    "\n",
    "conditionCategory = dfDemo['Category'] == 'Total Population'\n",
    "conditionYears    = dfDemo[~dfDemo['Year'].isin([2011,2012])]\n",
    "\n",
    "# # Define the filter conditions for each field\n",
    "# conditionCounty     = dfCensus['county']!='510'\n",
    "# conditionBlock      = dfCensus['sample_level']  == 'block'\n",
    "# condition2010       = dfCensus['year_sample']   == 2010\n",
    "# condition2020       = dfCensus['year_sample']   == 2020\n",
    "# conditionPopulation = dfCensus['variable_name'] == 'Total Population'\n",
    "# conditionHousing    = dfCensus['variable_name'] == 'Total Housing Units'\n",
    "# conditionOccupied   = dfCensus['variable_name'] == 'Total Housing Units: Occupied'\n",
    "# conditionVacant     = dfCensus['variable_name'] == 'Total Housing Units: Vacant'\n",
    "# conditionSeasonal   = dfCensus['variable_name'] == 'Vacant Housing Units: Seasonal, recreational, or occasional use'\n",
    "\n",
    "# # filter to create new dfs by variable name\n",
    "# dfBlockPop2010           =  dfCensus.loc[conditionBlock & condition2010 & conditionPopulation].copy()\n",
    "# dfBlockUnits2010         =  dfCensus.loc[conditionBlock & condition2010 & conditionHousing].copy()\n",
    "# dfBlockUnitsOccupied2010 =  dfCensus.loc[conditionBlock & condition2010 & conditionOccupied].copy()\n",
    "# dfBlockUnitsVacant2010   =  dfCensus.loc[conditionBlock & condition2010 & conditionVacant].copy()\n",
    "# dfBlockUnitsSeasonal2010 =  dfCensus.loc[conditionBlock & condition2010 & conditionSeasonal].copy()\n",
    "\n",
    "# # create 2020 data frames from sql query\n",
    "# dfBlockPop2020           =  dfCensus[conditionBlock & condition2020 & conditionPopulation].copy()\n",
    "# dfBlockUnits2020         =  dfCensus[conditionBlock & condition2020 & conditionHousing].copy()\n",
    "# dfBlockUnitsOccupied2020 =  dfCensus[conditionBlock & condition2020 & conditionOccupied].copy()\n",
    "# dfBlockUnitsVacant2020   =  dfCensus[conditionBlock & condition2020 & conditionVacant].copy()\n",
    "# dfBlockUnitsSeasonal2020 =  dfCensus[conditionBlock & condition2020 & conditionSeasonal].copy()"
   ]
  },
  {
   "cell_type": "markdown",
   "id": "cbad2cb7",
   "metadata": {},
   "source": [
    "## Census Charts"
   ]
  },
  {
   "cell_type": "markdown",
   "id": "10d4458b",
   "metadata": {},
   "source": [
    "### Population - Decennial 1990-2020"
   ]
  },
  {
   "cell_type": "code",
   "execution_count": null,
   "id": "087cea48",
   "metadata": {},
   "outputs": [],
   "source": [
    "service_url = 'https://maps.trpa.org/server/rest/services/Demographics/FeatureServer/18'\n",
    "\n",
    "feature_layer = FeatureLayer(service_url)\n",
    "query_result = feature_layer.query()\n",
    "# Convert the query result to a list of dictionaries\n",
    "feature_list = query_result.features\n",
    "\n",
    "# Create a pandas DataFrame from the list of dictionaries\n",
    "all_data = pd.DataFrame([feature.attributes for feature in feature_list])\n",
    "\n",
    "dfDemo = all_data.loc[(all_data['Year'].isin([1990, 2000, 2010, 2020]))&(all_data['Geography']=='Basin')&(all_data['Category']=='Total Population')]\n",
    "\n",
    "dfDemo = dfDemo.sort_values(by=['Year'], ignore_index=True)\n",
    "fig_px = px.line(dfDemo, x=\"Year\", y=\"Value\",\n",
    "                labels=dict(Year='Year', Value='Population'),\n",
    "                title=\"Tahoe Decennial population 1990-2020\")\n",
    "\n",
    "fig_px.update_traces(mode='markers+lines', \n",
    "                     patch={\"line\": {\n",
    "                           \"shape\": \"spline\"}},\n",
    "                     hovertemplate='Census Year: %{x} <br> Population: %{y:,.0f}'\n",
    "                    )\n",
    "fig_px.update_layout(font_family=font,\n",
    "                     \n",
    "                 template=template,\n",
    "                    hoverlabel=dict(\n",
    "                    bgcolor='white',\n",
    "                       font=dict(color='#6680A8') \n",
    "                    ),\n",
    "                    title=dict(\n",
    "                    x=0.5,\n",
    "                xanchor='center'),\n",
    "                    xaxis=dict(tick0=1990, dtick=10),\n",
    "                    yaxis=dict(  range=[0,65000]))\n",
    "\n",
    "fig_px.show()\n",
    "fig_px.write_html(os.path.join(workspace, \"Demographics_Tahoe_Population_Line.html\"))"
   ]
  },
  {
   "cell_type": "code",
   "execution_count": null,
   "id": "cf870aa6",
   "metadata": {},
   "outputs": [],
   "source": [
    "fig_bar = px.bar(dfDemo, x=\"Year\", y=\"Value\",\n",
    "                labels=dict(Year='Year', Value='Population'),\n",
    "                title=\"Tahoe Decennial Population 1990-2020\",\n",
    ")\n",
    "fig_bar.update_layout(font_family=font,\n",
    "                 template=template,\n",
    "                    hoverlabel=dict(\n",
    "                    bgcolor='white',\n",
    "                       font=dict(color='#6680A8') \n",
    "                    ),\n",
    "                    title=dict(\n",
    "                    x=0.5,\n",
    "                xanchor='center'),\n",
    "                    xaxis=dict(tick0=1990, dtick=10),\n",
    "                    yaxis=dict( ))\n",
    "fig_bar.update_traces(marker_color='#2F3F56',\n",
    "                     hovertemplate='Census Year: %{x} <br> Population: %{y:,.0f} ')\n",
    "fig_bar.show()\n",
    "\n",
    "\n",
    "\n",
    "fig_bar.write_html(os.path.join(workspace, \"Demographics_Tahoe_Population.html\"))"
   ]
  },
  {
   "cell_type": "markdown",
   "id": "42a48100",
   "metadata": {},
   "source": [
    "### Bring in Census data for age "
   ]
  },
  {
   "cell_type": "code",
   "execution_count": null,
   "id": "cd0a666c",
   "metadata": {},
   "outputs": [],
   "source": [
    "service_url = 'https://maps.trpa.org/server/rest/services/Demographics/FeatureServer/28'\n",
    "\n",
    "feature_layer = FeatureLayer(service_url)\n",
    "query_result = feature_layer.query()\n",
    "# Convert the query result to a list of dictionaries\n",
    "feature_list = query_result.features\n",
    "\n",
    "# Create a pandas DataFrame from the list of dictionaries\n",
    "census_data = pd.DataFrame([feature.attributes for feature in feature_list])"
   ]
  },
  {
   "cell_type": "code",
   "execution_count": null,
   "id": "0769ae0e",
   "metadata": {},
   "outputs": [],
   "source": [
    "dfPopulation = census_data.loc[(census_data['variable_name'].isin(['Population Total','Total Population']))&(census_data['sample_level']=='tract')&(census_data['dataset']!='acs/acs5')]\n",
    "dfPopulation['Zone'] = None\n",
    "dfPopulation.loc[dfPopulation['county'].isin(['061','031']), 'Zone'] = \"North Lake\"\n",
    "dfPopulation.loc[dfPopulation['county'].isin(['005','017']), 'Zone'] = \"South Lake\"\n",
    "\n",
    "df = dfPopulation.groupby(['variable_code', 'year_sample', 'Zone'], as_index=False).sum(['value'])\n",
    "fig = px.bar(df, x=\"year_sample\", y=\"value\", color=\"Zone\", title=\"Total Population\")\n",
    "fig.show()"
   ]
  },
  {
   "cell_type": "markdown",
   "id": "9df5c126",
   "metadata": {},
   "source": [
    "### Age Distribution"
   ]
  },
  {
   "cell_type": "code",
   "execution_count": null,
   "id": "3027a822",
   "metadata": {},
   "outputs": [],
   "source": [
    "#dfCensus = pd.read_sql(\"SELECT * FROM sde.SDE.Census_Demographics\", conn)\n",
    "dfAge = census_data.loc[dfCensus['variable_name'].isin(['Population Total','Total Population'])]\n",
    "\n",
    "# group by variable name/code/year and sum values\n",
    "df = dfAge.groupby(['variable_name','variable_code','year_sample'], as_index= False).sum(['value'])\n",
    "\n",
    "# ordered list to sort age category by\n",
    "sort_list = [ 'Under 5', '5 to 9','10 to 14', '15 to 19', '20 to 24', \n",
    "            '25 to 29', '30 to 34', '35 to 39', '40 to 44', '45 to 49', \n",
    "            '50 to 54', '55 to 59', '60 to 64', '65 to 69', '70 to 74', \n",
    "            '75 to 79', '80 to 84', 'Over 85']\n",
    "\n",
    "# setup new fields\n",
    "# gender is tagged on the end of variable name. split it out after the colon\n",
    "df['Gender'] = df['variable_name'].str.split(':').str[-1]\n",
    "# age is the first part of the variable name string\n",
    "df['Age']    = df['variable_name'].str.split(':').str[0]\n",
    "# drop the rows that represent the Totals\n",
    "df = df[df.Age != 'Total']\n",
    "# setup a new Year column and format it\n",
    "df['Year'] = pd.to_datetime(df['year_sample'], format='%Y') \n",
    "df['Year']   = df['Year'].dt.strftime('%Y')\n",
    "# setup a new Count field based on the summed values\n",
    "df['Count'] = df['value']\n",
    "\n",
    "# cast count as integer type\n",
    "df = df.astype({'Count':int})\n",
    "\n",
    "# keep the new columsn\n",
    "df = df[['Age','Year','Gender','Count']]\n",
    "\n",
    "# set Age to be a categorical field with the same order as the list\n",
    "df['Age'] = pd.Categorical(df['Age'], categories = sort_list)\n",
    "# sort the age category\n",
    "df = df.sort_values(by='Age')\n",
    "\n",
    "pivotTable = pd.pivot_table(df, values='Count', index=['Age','Year'],\n",
    "                       columns=['Gender'], aggfunc=np.sum)\n",
    "flat = pd.DataFrame(pivotTable.to_records())\n",
    "df = flat\n",
    "# remove space in column names 'Male' and \"Female\"\n",
    "df.columns = df.columns.str.replace(' ', '')\n",
    "\n",
    "# set x and y variables for plot\n",
    "y_age    = df['Age']\n",
    "x_male   = df['Male']\n",
    "x_female = df['Female'] * -1\n",
    "\n",
    "# Creating instance of the figure\n",
    "fig = go.Figure()\n",
    "\n",
    "# Adding Male data to the figure\n",
    "fig.add_trace(go.Bar(y= y_age, x = x_male,\n",
    "\t\t\t\t\tname = 'Male',\n",
    "\t\t\t\t\torientation = 'h'))\n",
    "\n",
    "# Adding Female data to the figure\n",
    "fig.add_trace(go.Bar(y = y_age, \n",
    "\t\t\t\t\tx = x_female,\n",
    "\t\t\t\t\tname = 'Female', \n",
    "\t\t\t\t\torientation = 'h', \n",
    "\t\t\t\t\tmarker_color=\"green\"))\n",
    "\n",
    "# Updating the layout\n",
    "fig.update_layout(title = 'Tahoe Population',\n",
    "\t\t\t\ttitle_font_size = 22, barmode = 'relative',\n",
    "\t\t\t\tbargap = 0.0, bargroupgap = 0,\n",
    "\t\t\t\txaxis = dict(tickvals = [-6000, -4000, -2000,\n",
    "\t\t\t\t\t\t\t\t\t\t0, 2000, 4000, 6000],\n",
    "\t\t\t\t\t\t\t\t\n",
    "\t\t\t\t\t\t\tticktext = ['6k', '4k', '2k', '0',\n",
    "\t\t\t\t\t\t\t\t\t\t'2k', '4k', '6k'],\n",
    "\t\t\t\t\t\t\t\t\n",
    "\t\t\t\t\t\t\ttitle = 'Population',\n",
    "\t\t\t\t\t\t\ttitle_font_size = 14),\n",
    "\t\t\t\tyaxis = dict(\t\t\t\t\t\n",
    "\t\t\t\t\t\t\ttitle = 'Age',\n",
    "\t\t\t\t\t\t\ttitle_font_size = 14)\t\t\t\n",
    "\t\t\t\t)\n",
    "\n",
    "fig.show()\n"
   ]
  },
  {
   "cell_type": "code",
   "execution_count": null,
   "id": "5b873eb5",
   "metadata": {},
   "outputs": [],
   "source": [
    "# get data\n",
    "dfCensus = pd.read_sql(\"SELECT * FROM sde.SDE.Census_Demographics\", conn)\n",
    "dfAgeSex = dfCensus.loc[dfCensus['variable_category'].isin(['TRPA Census Age Sex Categories Grouped: Age'])]\n",
    "dfAgeSex_Tahoe = dfAgeSex.loc[dfAgeSex['sample_level']=='tract']\n",
    "# group by variable name/code/year and sum values\n",
    "df = dfAgeSex_Tahoe.groupby(['variable_name','variable_code','year_sample'], as_index= False).sum(['value'])\n",
    "\n",
    "# ordered list to sort age category by\n",
    "sort_list = [ 'Under 5', '5 to 9','10 to 14', '15 to 19', '20 to 24', \n",
    "            '25 to 29', '30 to 34', '35 to 39', '40 to 44', '45 to 49', \n",
    "            '50 to 54', '55 to 59', '60 to 64', '65 to 69', '70 to 74', \n",
    "            '75 to 79', '80 to 84', 'Over 85']\n",
    "\n",
    "# setup new fields\n",
    "# gender is tagged on the end of variable name. split it out after the colon\n",
    "df['Gender'] = df['variable_name'].str.split(':').str[-1]\n",
    "# age is the first part of the variable name string\n",
    "df['Age']    = df['variable_name'].str.split(':').str[0]\n",
    "# drop the rows that represent the Totals\n",
    "df = df[df.Age != 'Total']\n",
    "# setup a new Year column and format it\n",
    "df['Year'] = pd.to_datetime(df['year_sample'], format='%Y') \n",
    "df['Year']   = df['Year'].dt.strftime('%Y')\n",
    "# setup a new Count field based on the summed values\n",
    "df['Count'] = df['value']\n",
    "\n",
    "# cast count as integer type\n",
    "df = df.astype({'Count':int})\n",
    "\n",
    "# keep the new columsn\n",
    "df = df[['Age','Year','Gender','Count']]\n",
    "\n",
    "# set Age to be a categorical field with the same order as the list\n",
    "df['Age'] = pd.Categorical(df['Age'], categories = sort_list)\n",
    "# sort the age category\n",
    "df = df.sort_values(by='Age')\n",
    "\n",
    "pivotTable = pd.pivot_table(df, values='Count', index=['Age','Year'],\n",
    "                       columns=['Gender'], aggfunc=np.sum)\n",
    "flat = pd.DataFrame(pivotTable.to_records())\n",
    "df = flat\n",
    "# remove space in column names 'Male' and \"Female\"\n",
    "df.columns = df.columns.str.replace(' ', '')\n",
    "\n",
    "\n",
    "# Creating instance of the figure\n",
    "fig = make_subplots(rows=1, cols=4, shared_yaxes=True)\n",
    "\n",
    " # Filter by single year\n",
    "df1990 = df[df['Year']== '1990']\n",
    "df2000 = df[df['Year']== '2000']\n",
    "df2010 = df[df['Year']== '2010']\n",
    "df2020 = df[df['Year']== '2020']\n",
    "\n",
    "# set x and y variables for plot\n",
    "y_age90    = df1990['Age']\n",
    "x_male90   = df1990['Male']\n",
    "x_female90 = df1990['Female'] * -1\n",
    "\n",
    "# set x and y variables for plot\n",
    "y_age00    = df2000['Age']\n",
    "x_male00   = df2000['Male']\n",
    "x_female00 = df2000['Female'] * -1\n",
    "\n",
    "# set x and y variables for plot\n",
    "y_age10    = df2010['Age']\n",
    "x_male10   = df2010['Male']\n",
    "x_female10 = df2010['Female'] * -1\n",
    "\n",
    "# set x and y variables for plot\n",
    "y_age20    = df2020['Age']\n",
    "x_male20   = df2020['Male']\n",
    "x_female20 = df2020['Female'] * -1\n",
    "\n",
    "mcolor = '#405d74'\n",
    "fcolor = '#679ab8'\n",
    "# Adding Male data to the figure\n",
    "fig.add_trace(go.Bar(y= y_age90, \n",
    "\t\t\t\t\tx = x_male90,\n",
    "\t\t\t\t\tname = 'Male',\n",
    "\t\t\t\t\torientation = 'h',\n",
    "\t\t\t\t\tmarker_color=mcolor,\n",
    "\t\t\t\t\tlegendgroup = 'Male',\n",
    "\t\t\t\t\tcustomdata = np.stack((df1990['Male'], df1990['Age']), axis=-1),\n",
    "\t\t\t\t\thovertemplate='%{customdata[0]:,.0f} males<extra></extra>'\n",
    "\t\t\t\t\t),\n",
    "\t\t\t\t\trow=1, col=1)\n",
    "\n",
    "# Adding Female data to the figure\n",
    "fig.add_trace(go.Bar(y = y_age90, \n",
    "\t\t\t\t\tx = x_female90,\n",
    "\t\t\t\t\tname = 'Female', \n",
    "\t\t\t\t\torientation = 'h', \n",
    "\t\t\t\t\tmarker_color=fcolor,\n",
    "\t\t\t\t\tlegendgroup ='Female',\n",
    "\t\t\t\t\tcustomdata = np.stack((df1990['Female'], df1990['Age']), axis=-1),\n",
    "\t\t\t\t\thovertemplate='%{customdata[0]:,.0f} females<extra></extra>'\n",
    "\t\t\t\t\t),\n",
    "\t\t\t\t\trow=1, col=1)\n",
    "\n",
    "\n",
    "# Adding Male data to the figure\n",
    "fig.add_trace(go.Bar(y= y_age00, \n",
    "\t\t\t\t\tx = x_male00,\n",
    "\t\t\t\t\tname = 'Male',\n",
    "\t\t\t\t\torientation = 'h',\n",
    "\t\t\t\t\tmarker_color=mcolor,\n",
    "\t\t\t\t\tlegendgroup = 'Male',\n",
    "                    showlegend  = False,\n",
    "\t\t\t\t\tcustomdata = np.stack((df2000['Male'], df2000['Age']), axis=-1),\n",
    "\t\t\t\t\thovertemplate='%{customdata[0]:,.0f} males<extra></extra>'\n",
    "\t\t\t\t\t),\n",
    "\t\t\t\t\trow=1, col=2)\n",
    "\n",
    "# Adding Female data to the figure\n",
    "fig.add_trace(go.Bar(y = y_age00, \n",
    "\t\t\t\t\tx = x_female00,\n",
    "\t\t\t\t\tname = 'Female', \n",
    "\t\t\t\t\torientation = 'h', \n",
    "\t\t\t\t\tmarker_color=fcolor,\n",
    "\t\t\t\t\tlegendgroup ='Female',\n",
    "                    showlegend  = False,\n",
    "\t\t\t\t\tcustomdata = np.stack((df2000['Female'], df2000['Age']), axis=-1),\n",
    "\t\t\t\t\thovertemplate='%{customdata[0]:,.0f} females<extra></extra>'\n",
    "\t\t\t\t\t),\n",
    "\t\t\t\t\trow=1, col=2)\n",
    "\n",
    "# Adding Male data to the figure\n",
    "fig.add_trace(go.Bar(y= y_age10, \n",
    "\t\t\t\t\tx = x_male10,\n",
    "\t\t\t\t\tname = 'Male',\n",
    "\t\t\t\t\torientation = 'h',\n",
    "\t\t\t\t\tmarker_color=mcolor,\n",
    "\t\t\t\t\tlegendgroup = 'Male',\n",
    "\t\t\t\t\tshowlegend  = False,\n",
    "\t\t\t\t\tcustomdata = np.stack((df2010['Male'], df2010['Age']), axis=-1),\n",
    "\t\t\t\t\thovertemplate='%{customdata[0]:,.0f} males<extra></extra>'\n",
    "\t\t\t\t\t),\n",
    "\t\t\t\t\trow=1, col=3)\n",
    "\n",
    "# Adding Female data to the figure\n",
    "fig.add_trace(go.Bar(y = y_age10, \n",
    "\t\t\t\t\tx = x_female10,\n",
    "\t\t\t\t\tname = 'Female', \n",
    "\t\t\t\t\torientation = 'h', \n",
    "\t\t\t\t\tmarker_color=fcolor,\n",
    "\t\t\t\t\tlegendgroup = 'Female',\n",
    "\t\t\t\t\tshowlegend  = False,\n",
    "\t\t\t\t\tcustomdata = np.stack((df2010['Female'], df2010['Age']), axis=-1),\n",
    "\t\t\t\t\thovertemplate='%{customdata[0]:,.0f} females<extra></extra>'\n",
    "\t\t\t\t\t),\n",
    "\t\t\t\t\trow=1, col=3)\n",
    "\n",
    "# Adding Male data to the figure\n",
    "fig.add_trace(go.Bar(y= y_age20, \n",
    "\t\t\t\t\tx = x_male20,\n",
    "\t\t\t\t\tname = 'Male',\n",
    "\t\t\t\t\torientation = 'h',\n",
    "\t\t\t\t\tmarker_color=mcolor,\n",
    "\t\t\t\t\tlegendgroup = 'Male',\n",
    "\t\t\t\t\tshowlegend  = False,\n",
    "\t\t\t\t\tcustomdata = np.stack((df2020['Male'], df2020['Age']), axis=-1),\n",
    "\t\t\t\t\thovertemplate='%{customdata[0]:,.0f} males<extra></extra>'\n",
    "\t\t\t\t\t),\n",
    "\t\t\t\t\trow=1, col=4)\n",
    "\n",
    "# Adding Female data to the figure\n",
    "fig.add_trace(go.Bar(y = y_age20, \n",
    "\t\t\t\t\tx = x_female20,\n",
    "\t\t\t\t\tname = 'Female', \n",
    "\t\t\t\t\torientation = 'h', \n",
    "\t\t\t\t\tmarker_color=fcolor,\n",
    "\t\t\t\t\tlegendgroup =\"Female\",\n",
    "\t\t\t\t\tshowlegend  = False,\n",
    "\t\t\t\t\tcustomdata = np.stack((df2020['Female'], df2020['Age']), axis=-1),\n",
    "\t\t\t\t\thovertemplate='%{customdata[0]:,.0f} females<extra></extra>'\n",
    "\t\t\t\t\t),\n",
    "\t\t\t\t\trow=1, col=4)\n",
    "\n",
    "\n",
    "# Updating the layout\n",
    "fig.update_layout(title = 'Age Profile: 5 Year Increments',\n",
    "\t\t\t\ttitle_x=0.5,\n",
    "\t\t\t\ttitle_font_size = 22, barmode = 'relative',\n",
    "\t\t\t\tbargap = 0.0, bargroupgap = 0,\n",
    "\t\t\t\thovermode=\"y unified\",\n",
    "\t\t\t\txaxis = dict(tickvals = [-6000, -4000, -2000,\n",
    "\t\t\t\t\t\t\t\t\t\t0, 2000, 4000, 6000],\n",
    "\t\t\t\t\t\t\t\t\n",
    "\t\t\t\t\t\t\tticktext = ['6k', '4k', '2k', '0',\n",
    "\t\t\t\t\t\t\t\t\t\t'2k', '4k', '6k'],\n",
    "\t\t\t\t\t\t\ttitle_font_size = 14),\n",
    "\t\t\t\txaxis2 = dict(tickvals = [-6000, -4000, -2000,\n",
    "\t\t\t\t\t\t\t\t\t\t0, 2000, 4000, 6000],\n",
    "\t\t\t\t\t\t\tticktext = ['6k', '4k', '2k', '0',\n",
    "\t\t\t\t\t\t\t\t\t\t'2k', '4k', '6k'],\n",
    "\t\t\t\t\t\t\ttitle_font_size = 14),\n",
    "\t\t\t\txaxis3 = dict(tickvals = [-6000, -4000, -2000,\n",
    "\t\t\t\t\t\t\t\t\t\t0, 2000, 4000, 6000],\n",
    "\t\t\t\t\t\t\tticktext = ['6k', '4k', '2k', '0',\n",
    "\t\t\t\t\t\t\t\t\t\t'2k', '4k', '6k'],\n",
    "\t\t\t\t\t\t\ttitle_font_size = 14),\n",
    "                xaxis4 = dict(tickvals = [-6000, -4000, -2000,\n",
    "\t\t\t\t\t\t\t\t\t\t0, 2000, 4000, 6000],\n",
    "\t\t\t\t\t\t\tticktext = ['6k', '4k', '2k', '0',\n",
    "\t\t\t\t\t\t\t\t\t\t'2k', '4k', '6k'],\n",
    "\t\t\t\t\t\t\ttitle_font_size = 14),\n",
    "\t\t\t\tyaxis = dict(\t\t\t\t\t\n",
    "\t\t\t\t\t\t\ttitle = 'Age',\n",
    "\t\t\t\t\t\t\ttitle_font_size = 14)\t\t\t\n",
    "\t\t\t\t)\n",
    "\n",
    "\n",
    "# edit axis labels\n",
    "fig['layout']['xaxis']['title'] ='1990 Decennial Census'\n",
    "fig['layout']['xaxis2']['title']='2000 Decennial Census'\n",
    "fig['layout']['xaxis3']['title']='2010 Decennial Census'\n",
    "fig['layout']['xaxis4']['title']='2020 Decennial Census'\n",
    "\n",
    "fig.show()\n",
    "fig.write_html(os.path.join(workspace, \"Demographics_Tahoe_AgeProfile_DecadeSubplots.html\"))"
   ]
  },
  {
   "cell_type": "markdown",
   "id": "d57588eb",
   "metadata": {},
   "source": [
    "### Non Tahoe Age comparison"
   ]
  },
  {
   "cell_type": "code",
   "execution_count": null,
   "id": "e9f5c188",
   "metadata": {},
   "outputs": [],
   "source": [
    "dfAge = census_data.loc[census_data['variable_category'].isin(['TRPA Census Age Categories Grouped: Age'])&(census_data['sample_level'].isin(['tract', 'County']))]\n",
    "#dfAge_Tahoe = dfAge.loc[dfAgeSex['sample_level']=='tract']\n",
    "# group by variable name/code/year and sum values\n",
    "df = dfAge.groupby(['variable_name','variable_code','year_sample', 'sample_level'], as_index= False).sum(['value'])\n",
    "\n",
    "# ordered list to sort age category by\n",
    "sort_list = [ 'Under 5', '5 to 9','10 to 14', '15 to 19', '20 to 24', \n",
    "            '25 to 29', '30 to 34', '35 to 39', '40 to 44', '45 to 49', \n",
    "            '50 to 54', '55 to 59', '60 to 64', '65 to 69', '70 to 74', \n",
    "            '75 to 79', '80 to 84', 'Over 85']\n",
    "\n",
    "\n",
    "# setup a new Year column and format it\n",
    "df['Year'] = pd.to_datetime(df['year_sample'], format='%Y') \n",
    "df['Year']   = df['Year'].dt.strftime('%Y')\n",
    "# setup a new Count field based on the summed values\n",
    "df['Count'] = df['value']\n",
    "df['Age'] = df['variable_name']\n",
    "# cast count as integer type\n",
    "df = df.astype({'Count':int})\n",
    "\n",
    "# keep the new columsn\n",
    "df = df[['Age','Year','sample_level','Count']]\n",
    "\n",
    "# set Age to be a categorical field with the same order as the list\n",
    "df['Age'] = pd.Categorical(df['Age'], categories = sort_list)\n",
    "# sort the age category\n",
    "df = df.sort_values(by='Age')\n",
    "\n",
    "pivotTable = pd.pivot_table(df, values='Count', index=['Age','Year'],\n",
    "                       columns=['sample_level'], aggfunc=np.sum)\n",
    "flat = pd.DataFrame(pivotTable.to_records())\n",
    "df = flat\n",
    "\n",
    "\n",
    "\n",
    "# Creating instance of the figure\n",
    "\n",
    "# Creating instance of the figure\n",
    "fig = make_subplots(rows=1, cols=4, shared_yaxes=True)\n",
    "\n",
    "df['Basin']=df['tract'] \n",
    "df['Five_County']=df['County']\n",
    "\n",
    "\n",
    "df['TotalCounty'] = df.groupby(['Year'], as_index=False)['Five_County'].transform('sum')\n",
    "df['TotalBasin'] = df.groupby(['Year'], as_index=False)['Basin'].transform('sum')\n",
    "\n",
    "df['Basin_Proprotion'] = df['Basin']/df['TotalBasin']\n",
    "df['County_Proprotion'] = df['County']/df['TotalCounty']\n",
    "\n",
    "df['Basin_Percentage'] =  round((df['Basin_Proprotion']*100),2)\n",
    "df['County_Percentage'] = round((df['County_Proprotion']*100),2)\n",
    "\n",
    " # Filter by single year\n",
    "df1990 = df[df['Year']== '1990']\n",
    "df2000 = df[df['Year']== '2000']\n",
    "df2010 = df[df['Year']== '2010']\n",
    "df2020 = df[df['Year']== '2020']\n",
    "\n",
    "# set x and y variables for plot\n",
    "y_age90    = df1990['Age']\n",
    "x_basin90   = df1990['Basin_Proprotion']\n",
    "x_five_county90 = df1990['County_Proprotion'] * -1\n",
    "\n",
    "# set x and y variables for plot\n",
    "y_age00    = df2000['Age']\n",
    "x_basin00   = df2000['Basin_Proprotion']\n",
    "x_five_county00 = df2000['County_Proprotion'] * -1\n",
    "\n",
    "# set x and y variables for plot\n",
    "y_age10    = df2010['Age']\n",
    "x_basin10   = df2010['Basin_Proprotion']\n",
    "x_five_county10 = df2010['County_Proprotion'] * -1\n",
    "\n",
    "# set x and y variables for plot\n",
    "y_age20    = df2020['Age']\n",
    "x_basin20   = df2020['Basin_Proprotion']\n",
    "x_five_county20 = df2020['County_Proprotion'] * -1\n",
    "\n",
    "mcolor = '#405d74'\n",
    "fcolor = '#e28743'\n",
    "hovertemplate_percent = '%{customdata[1]}: %{customdata[2]:,.1f}% <extra></extra>'\n",
    "hovertemplate_basin = 'Basin: %{customdata[2]:,.1f}% <extra></extra>'\n",
    "hovertemplate_counties = '5-Counties: %{customdata[2]:,.1f}% <extra></extra>'\n",
    "# Adding Male data to the figure\n",
    "\n",
    "# Creating instance of the figure\n",
    "fig = make_subplots(rows=1, cols=4, shared_yaxes=True)\n",
    "fig.add_trace(go.Bar(y= y_age90, \n",
    "\t\t\t\t\tx = x_basin90,\n",
    "\t\t\t\t\tname = 'Basin',\n",
    "\t\t\t\t\torientation = 'h',\n",
    "\t\t\t\t\tmarker_color=mcolor,\n",
    "\t\t\t\t\tlegendgroup = 'Basin',\n",
    "\t\t\t\t\tcustomdata = np.stack((df1990['Basin_Proprotion'], df1990['Age'], df1990['Basin_Percentage']), axis=-1),\n",
    "\t\t\t\t\thovertemplate= hovertemplate_basin\n",
    "\t\t\t\t\t),\n",
    "\t\t\t\t\trow=1, col=1)\n",
    "\n",
    "# Adding Female data to the figure\n",
    "fig.add_trace(go.Bar(y = y_age90, \n",
    "\t\t\t\t\tx = x_five_county90,\n",
    "\t\t\t\t\tname = 'Five County', \n",
    "\t\t\t\t\torientation = 'h', \n",
    "\t\t\t\t\tmarker_color=fcolor,\n",
    "\t\t\t\t\tlegendgroup ='Five County',\n",
    "\t\t\t\t\tcustomdata = np.stack((df1990['County_Proprotion'], df1990['Age'], df1990['County_Percentage']), axis=-1),\n",
    "\t\t\t\t\thovertemplate= hovertemplate_counties\n",
    "\t\t\t\t\t),\n",
    "\t\t\t\t\trow=1, col=1)\n",
    "\n",
    "\n",
    "# Adding Male data to the figure\n",
    "fig.add_trace(go.Bar(y= y_age00, \n",
    "\t\t\t\t\tx = x_basin00,\n",
    "\t\t\t\t\tname = 'Basin',\n",
    "\t\t\t\t\torientation = 'h',\n",
    "\t\t\t\t\tmarker_color=mcolor,\n",
    "\t\t\t\t\tlegendgroup = 'Basin',\n",
    "                    showlegend  = False,\n",
    "\t\t\t\t\tcustomdata = np.stack((df2000['Basin_Proprotion'], df2000['Age'], df2000['Basin_Percentage']), axis=-1),\n",
    "\t\t\t\t\thovertemplate=hovertemplate_basin\n",
    "\t\t\t\t\t),\n",
    "\t\t\t\t\trow=1, col=2)\n",
    "\n",
    "# Adding Female data to the figure\n",
    "fig.add_trace(go.Bar(y = y_age00, \n",
    "\t\t\t\t\tx = x_five_county00,\n",
    "\t\t\t\t\tname = 'Five County', \n",
    "\t\t\t\t\torientation = 'h', \n",
    "\t\t\t\t\tmarker_color=fcolor,\n",
    "\t\t\t\t\tlegendgroup ='Five County',\n",
    "                    showlegend  = False,\n",
    "\t\t\t\t\tcustomdata = np.stack((df2000['County_Proprotion'], df2000['Age'], df2000['County_Percentage']), axis=-1),\n",
    "\t\t\t\t\thovertemplate=hovertemplate_counties\n",
    "\t\t\t\t\t),\n",
    "\t\t\t\t\trow=1, col=2)\n",
    "\n",
    "# Adding Male data to the figure\n",
    "fig.add_trace(go.Bar(y= y_age10, \n",
    "\t\t\t\t\tx = x_basin10,\n",
    "\t\t\t\t\tname = 'Basin',\n",
    "\t\t\t\t\torientation = 'h',\n",
    "\t\t\t\t\tmarker_color=mcolor,\n",
    "\t\t\t\t\tlegendgroup = 'Basin',\n",
    "\t\t\t\t\tshowlegend  = False,\n",
    "\t\t\t\t\tcustomdata = np.stack((df2010['Basin_Proprotion'], df2010['Age'], df2010['Basin_Percentage']), axis=-1),\n",
    "\t\t\t\t\thovertemplate=hovertemplate_basin\n",
    "\t\t\t\t\t),\n",
    "\t\t\t\t\trow=1, col=3)\n",
    "\n",
    "# Adding Female data to the figure\n",
    "fig.add_trace(go.Bar(y = y_age10, \n",
    "\t\t\t\t\tx = x_five_county10,\n",
    "\t\t\t\t\tname = 'Five County', \n",
    "\t\t\t\t\torientation = 'h', \n",
    "\t\t\t\t\tmarker_color=fcolor,\n",
    "\t\t\t\t\tlegendgroup = 'Five County',\n",
    "\t\t\t\t\tshowlegend  = False,\n",
    "\t\t\t\t\tcustomdata = np.stack((df2010['County_Proprotion'], df2010['Age'], df2010['County_Percentage']), axis=-1),\n",
    "\t\t\t\t\thovertemplate=hovertemplate_counties\n",
    "\t\t\t\t\t),\n",
    "\t\t\t\t\trow=1, col=3)\n",
    "\n",
    "# Adding Male data to the figure\n",
    "fig.add_trace(go.Bar(y= y_age20, \n",
    "\t\t\t\t\tx = x_basin20,\n",
    "\t\t\t\t\tname = 'Basin',\n",
    "\t\t\t\t\torientation = 'h',\n",
    "\t\t\t\t\tmarker_color=mcolor,\n",
    "\t\t\t\t\tlegendgroup = 'Basin',\n",
    "\t\t\t\t\tshowlegend  = False,\n",
    "\t\t\t\t\tcustomdata = np.stack((df2020['Basin_Proprotion'], df2020['Age'], df2020['Basin_Percentage']), axis=-1),\n",
    "\t\t\t\t\thovertemplate=hovertemplate_basin\n",
    "\t\t\t\t\t),\n",
    "\t\t\t\t\trow=1, col=4)\n",
    "\n",
    "# Adding Female data to the figure\n",
    "fig.add_trace(go.Bar(y = y_age20, \n",
    "\t\t\t\t\tx = x_five_county20,\n",
    "\t\t\t\t\tname = 'Five County', \n",
    "\t\t\t\t\torientation = 'h', \n",
    "\t\t\t\t\tmarker_color=fcolor,\n",
    "\t\t\t\t\tlegendgroup =\"Five County\",\n",
    "\t\t\t\t\tshowlegend  = False,\n",
    "\t\t\t\t\tcustomdata = np.stack((df2020['County_Proprotion'], df2020['Age'], df2020['County_Percentage']), axis=-1),\n",
    "\t\t\t\t\thovertemplate=hovertemplate_counties\n",
    "\t\t\t\t\t),\n",
    "\t\t\t\t\trow=1, col=4)\n",
    "\n",
    "# Updating the layout\n",
    "proportion_tick_values = [-.5, -.25, 0, .25, .5]\n",
    "proportion_tick_text = ['-.5', '-.25', '0', '.25', '.5']\n",
    "# Updating the layout\n",
    "fig.update_layout(title = 'Basin vs Five Counties Age Profile: 5 Year Increments',\n",
    "\t\t\t\ttitle_x=0.5,\n",
    "\t\t\t\ttitle_font_size = 22, barmode = 'relative',\n",
    "\t\t\t\tbargap = 0.0, bargroupgap = 0,\n",
    "\t\t\t\thovermode=\"y unified\",\n",
    "\t\t\t\txaxis = dict(tickvals = proportion_tick_values,\n",
    "\t\t\t\t\t\t\t\t\n",
    "\t\t\t\t\t\t\tticktext = proportion_tick_text,\n",
    "\t\t\t\t\t\t\ttitle_font_size = 14),\n",
    "\t\t\t\txaxis2 = dict(tickvals = proportion_tick_values,\n",
    "\t\t\t\t\t\t\t\t\n",
    "\t\t\t\t\t\t\tticktext = proportion_tick_text,\n",
    "\t\t\t\t\t\t\ttitle_font_size = 14),\n",
    "\t\t\t\txaxis3 = dict(tickvals = proportion_tick_values,\n",
    "\t\t\t\t\t\t\t\t\n",
    "\t\t\t\t\t\t\tticktext = proportion_tick_text,\n",
    "\t\t\t\t\t\t\ttitle_font_size = 14),\n",
    "                xaxis4 = dict(tickvals = proportion_tick_values,\n",
    "\t\t\t\t\t\t\t\t\n",
    "\t\t\t\t\t\t\tticktext = proportion_tick_text,\n",
    "\t\t\t\t\t\t\ttitle_font_size = 14),\n",
    "\t\t\t\tyaxis = dict(\t\t\t\t\t\n",
    "\t\t\t\t\t\t\ttitle = 'Age',\n",
    "\t\t\t\t\t\t\ttitle_font_size = 14)\t\t\t\n",
    "\t\t\t\t)\n",
    "\n",
    "# edit axis labels\n",
    "fig['layout']['xaxis']['title'] ='1990 Decennial Census'\n",
    "fig['layout']['xaxis2']['title']='2000 Decennial Census'\n",
    "fig['layout']['xaxis3']['title']='2010 Decennial Census'\n",
    "fig['layout']['xaxis4']['title']='2020 Decennial Census'\n",
    "\n",
    "fig.show()\n",
    "fig.write_html(os.path.join(workspace, \"Demographics_Tahoe_AgeProfile_5Counties.html\")) "
   ]
  },
  {
   "cell_type": "code",
   "execution_count": 16,
   "id": "4f178c91",
   "metadata": {},
   "outputs": [
    {
     "data": {
      "application/vnd.plotly.v1+json": {
       "config": {
        "plotlyServerURL": "https://plot.ly"
       },
       "data": [
        {
         "customdata": [
          [
           0.1456195666040934,
           "Under 10",
           14.56
          ],
          [
           0.10475860686362062,
           "10 to 19",
           10.48
          ],
          [
           0.1499936211704241,
           "20 to 29",
           15
          ],
          [
           0.23419417157229036,
           "30 to 39",
           23.42
          ],
          [
           0.15203484663471176,
           "40 to 49",
           15.2
          ],
          [
           0.08709836155206037,
           "50 to 59",
           8.71
          ],
          [
           0.07503326103993148,
           "60 to 69",
           7.5
          ],
          [
           0.040897410195192184,
           "70 to 79",
           4.09
          ],
          [
           0.010370154367675737,
           "Over 80",
           1.04
          ]
         ],
         "hovertemplate": "Basin: %{customdata[2]:,.1f}% <extra></extra>",
         "legendgroup": "Basin",
         "marker": {
          "color": "#405d74"
         },
         "name": "Basin",
         "orientation": "h",
         "type": "bar",
         "x": [
          0.1456195666040934,
          0.10475860686362062,
          0.1499936211704241,
          0.23419417157229036,
          0.15203484663471176,
          0.08709836155206037,
          0.07503326103993148,
          0.040897410195192184,
          0.010370154367675737
         ],
         "xaxis": "x",
         "y": [
          "Under 10",
          "10 to 19",
          "20 to 29",
          "30 to 39",
          "40 to 49",
          "50 to 59",
          "60 to 69",
          "70 to 79",
          "Over 80"
         ],
         "yaxis": "y"
        },
        {
         "customdata": [
          [
           0.14394614377352766,
           "Under 10",
           14.39
          ],
          [
           0.12293405541500226,
           "10 to 19",
           12.29
          ],
          [
           0.1330852775893724,
           "20 to 29",
           13.31
          ],
          [
           0.1887007935110291,
           "30 to 39",
           18.87
          ],
          [
           0.1512239179672448,
           "40 to 49",
           15.12
          ],
          [
           0.09653425209275239,
           "50 to 59",
           9.65
          ],
          [
           0.08727749521818502,
           "60 to 69",
           8.73
          ],
          [
           0.054705358248173144,
           "70 to 79",
           5.47
          ],
          [
           0.021592706184713185,
           "Over 80",
           2.16
          ]
         ],
         "hovertemplate": "5-Counties: %{customdata[2]:,.1f}% <extra></extra>",
         "legendgroup": "Five County",
         "marker": {
          "color": "#e28743"
         },
         "name": "Five County",
         "orientation": "h",
         "type": "bar",
         "x": [
          -0.14394614377352766,
          -0.12293405541500226,
          -0.1330852775893724,
          -0.1887007935110291,
          -0.1512239179672448,
          -0.09653425209275239,
          -0.08727749521818502,
          -0.054705358248173144,
          -0.021592706184713185
         ],
         "xaxis": "x",
         "y": [
          "Under 10",
          "10 to 19",
          "20 to 29",
          "30 to 39",
          "40 to 49",
          "50 to 59",
          "60 to 69",
          "70 to 79",
          "Over 80"
         ],
         "yaxis": "y"
        },
        {
         "customdata": [
          [
           0.11879221892912485,
           "Under 10",
           11.88
          ],
          [
           0.13022612044712573,
           "10 to 19",
           13.02
          ],
          [
           0.1349802163414524,
           "20 to 29",
           13.5
          ],
          [
           0.15553114985933292,
           "30 to 39",
           15.55
          ],
          [
           0.18557523055860628,
           "40 to 49",
           18.56
          ],
          [
           0.13505543937775505,
           "50 to 59",
           13.51
          ],
          [
           0.07671245242142954,
           "60 to 69",
           7.67
          ],
          [
           0.046653327114895664,
           "70 to 79",
           4.67
          ],
          [
           0.016473844950277573,
           "Over 80",
           1.65
          ]
         ],
         "hovertemplate": "Basin: %{customdata[2]:,.1f}% <extra></extra>",
         "legendgroup": "Basin",
         "marker": {
          "color": "#405d74"
         },
         "name": "Basin",
         "orientation": "h",
         "showlegend": false,
         "type": "bar",
         "x": [
          0.11879221892912485,
          0.13022612044712573,
          0.1349802163414524,
          0.15553114985933292,
          0.18557523055860628,
          0.13505543937775505,
          0.07671245242142954,
          0.046653327114895664,
          0.016473844950277573
         ],
         "xaxis": "x2",
         "y": [
          "Under 10",
          "10 to 19",
          "20 to 29",
          "30 to 39",
          "40 to 49",
          "50 to 59",
          "60 to 69",
          "70 to 79",
          "Over 80"
         ],
         "yaxis": "y2"
        },
        {
         "customdata": [
          [
           0.13663205633130446,
           "Under 10",
           13.66
          ],
          [
           0.14346700083542188,
           "10 to 19",
           14.35
          ],
          [
           0.11237617854159207,
           "20 to 29",
           11.24
          ],
          [
           0.1497219238572622,
           "30 to 39",
           14.97
          ],
          [
           0.16895572263993316,
           "40 to 49",
           16.9
          ],
          [
           0.12572860723236662,
           "50 to 59",
           12.57
          ],
          [
           0.07748538011695906,
           "60 to 69",
           7.75
          ],
          [
           0.05757369614512472,
           "70 to 79",
           5.76
          ],
          [
           0.028059434300035803,
           "Over 80",
           2.81
          ]
         ],
         "hovertemplate": "5-Counties: %{customdata[2]:,.1f}% <extra></extra>",
         "legendgroup": "Five County",
         "marker": {
          "color": "#e28743"
         },
         "name": "Five County",
         "orientation": "h",
         "showlegend": false,
         "type": "bar",
         "x": [
          -0.13663205633130446,
          -0.14346700083542188,
          -0.11237617854159207,
          -0.1497219238572622,
          -0.16895572263993316,
          -0.12572860723236662,
          -0.07748538011695906,
          -0.05757369614512472,
          -0.028059434300035803
         ],
         "xaxis": "x2",
         "y": [
          "Under 10",
          "10 to 19",
          "20 to 29",
          "30 to 39",
          "40 to 49",
          "50 to 59",
          "60 to 69",
          "70 to 79",
          "Over 80"
         ],
         "yaxis": "y2"
        },
        {
         "customdata": [
          [
           0.09955733593657953,
           "Under 10",
           9.96
          ],
          [
           0.10852843653745813,
           "10 to 19",
           10.85
          ],
          [
           0.14209011495800583,
           "20 to 29",
           14.21
          ],
          [
           0.12766566239711846,
           "30 to 39",
           12.77
          ],
          [
           0.1409792469661522,
           "40 to 49",
           14.1
          ],
          [
           0.17475973271842862,
           "50 to 59",
           17.48
          ],
          [
           0.12711022840119166,
           "60 to 69",
           12.71
          ],
          [
           0.05455035093329743,
           "70 to 79",
           5.46
          ],
          [
           0.02475889115176813,
           "Over 80",
           2.48
          ]
         ],
         "hovertemplate": "Basin: %{customdata[2]:,.1f}% <extra></extra>",
         "legendgroup": "Basin",
         "marker": {
          "color": "#405d74"
         },
         "name": "Basin",
         "orientation": "h",
         "showlegend": false,
         "type": "bar",
         "x": [
          0.09955733593657953,
          0.10852843653745813,
          0.14209011495800583,
          0.12766566239711846,
          0.1409792469661522,
          0.17475973271842862,
          0.12711022840119166,
          0.05455035093329743,
          0.02475889115176813
         ],
         "xaxis": "x3",
         "y": [
          "Under 10",
          "10 to 19",
          "20 to 29",
          "30 to 39",
          "40 to 49",
          "50 to 59",
          "60 to 69",
          "70 to 79",
          "Over 80"
         ],
         "yaxis": "y3"
        },
        {
         "customdata": [
          [
           0.12482908709721525,
           "Under 10",
           12.48
          ],
          [
           0.13637805174483084,
           "10 to 19",
           13.64
          ],
          [
           0.12117819759050788,
           "20 to 29",
           12.12
          ],
          [
           0.11818627227564833,
           "30 to 39",
           11.82
          ],
          [
           0.14572223994652325,
           "40 to 49",
           14.57
          ],
          [
           0.14807988848882608,
           "50 to 59",
           14.81
          ],
          [
           0.11091107971377785,
           "60 to 69",
           11.09
          ],
          [
           0.059123520653874787,
           "70 to 79",
           5.91
          ],
          [
           0.03559166248879571,
           "Over 80",
           3.56
          ]
         ],
         "hovertemplate": "5-Counties: %{customdata[2]:,.1f}% <extra></extra>",
         "legendgroup": "Five County",
         "marker": {
          "color": "#e28743"
         },
         "name": "Five County",
         "orientation": "h",
         "showlegend": false,
         "type": "bar",
         "x": [
          -0.12482908709721525,
          -0.13637805174483084,
          -0.12117819759050788,
          -0.11818627227564833,
          -0.14572223994652325,
          -0.14807988848882608,
          -0.11091107971377785,
          -0.059123520653874787,
          -0.03559166248879571
         ],
         "xaxis": "x3",
         "y": [
          "Under 10",
          "10 to 19",
          "20 to 29",
          "30 to 39",
          "40 to 49",
          "50 to 59",
          "60 to 69",
          "70 to 79",
          "Over 80"
         ],
         "yaxis": "y3"
        },
        {
         "customdata": [
          [
           0.08524831967281808,
           "Under 10",
           8.52
          ],
          [
           0.10299860880642296,
           "10 to 19",
           10.3
          ],
          [
           0.11022275858601097,
           "20 to 29",
           11.02
          ],
          [
           0.14262248369956923,
           "30 to 39",
           14.26
          ],
          [
           0.11994435225691825,
           "40 to 49",
           11.99
          ],
          [
           0.14423157506578838,
           "50 to 59",
           14.42
          ],
          [
           0.16655771777207892,
           "60 to 69",
           16.66
          ],
          [
           0.09701480028829554,
           "70 to 79",
           9.7
          ],
          [
           0.031159383852097686,
           "Over 80",
           3.12
          ]
         ],
         "hovertemplate": "Basin: %{customdata[2]:,.1f}% <extra></extra>",
         "legendgroup": "Basin",
         "marker": {
          "color": "#405d74"
         },
         "name": "Basin",
         "orientation": "h",
         "showlegend": false,
         "type": "bar",
         "x": [
          0.08524831967281808,
          0.10299860880642296,
          0.11022275858601097,
          0.14262248369956923,
          0.11994435225691825,
          0.14423157506578838,
          0.16655771777207892,
          0.09701480028829554,
          0.031159383852097686
         ],
         "xaxis": "x4",
         "y": [
          "Under 10",
          "10 to 19",
          "20 to 29",
          "30 to 39",
          "40 to 49",
          "50 to 59",
          "60 to 69",
          "70 to 79",
          "Over 80"
         ],
         "yaxis": "y4"
        },
        {
         "customdata": [
          [
           0.10950549455164577,
           "Under 10",
           10.95
          ],
          [
           0.12779462816546736,
           "10 to 19",
           12.78
          ],
          [
           0.11529360972262237,
           "20 to 29",
           11.53
          ],
          [
           0.12482371489312019,
           "30 to 39",
           12.48
          ],
          [
           0.1191817515201047,
           "40 to 49",
           11.92
          ],
          [
           0.1333467165822654,
           "50 to 59",
           13.33
          ],
          [
           0.13454616926898064,
           "60 to 69",
           13.45
          ],
          [
           0.0921512284730581,
           "70 to 79",
           9.22
          ],
          [
           0.04335668682273551,
           "Over 80",
           4.34
          ]
         ],
         "hovertemplate": "5-Counties: %{customdata[2]:,.1f}% <extra></extra>",
         "legendgroup": "Five County",
         "marker": {
          "color": "#e28743"
         },
         "name": "Five County",
         "orientation": "h",
         "showlegend": false,
         "type": "bar",
         "x": [
          -0.10950549455164577,
          -0.12779462816546736,
          -0.11529360972262237,
          -0.12482371489312019,
          -0.1191817515201047,
          -0.1333467165822654,
          -0.13454616926898064,
          -0.0921512284730581,
          -0.04335668682273551
         ],
         "xaxis": "x4",
         "y": [
          "Under 10",
          "10 to 19",
          "20 to 29",
          "30 to 39",
          "40 to 49",
          "50 to 59",
          "60 to 69",
          "70 to 79",
          "Over 80"
         ],
         "yaxis": "y4"
        }
       ],
       "layout": {
        "bargap": 0,
        "bargroupgap": 0,
        "barmode": "relative",
        "hovermode": "y unified",
        "template": {
         "data": {
          "bar": [
           {
            "error_x": {
             "color": "#2a3f5f"
            },
            "error_y": {
             "color": "#2a3f5f"
            },
            "marker": {
             "line": {
              "color": "#E5ECF6",
              "width": 0.5
             },
             "pattern": {
              "fillmode": "overlay",
              "size": 10,
              "solidity": 0.2
             }
            },
            "type": "bar"
           }
          ],
          "barpolar": [
           {
            "marker": {
             "line": {
              "color": "#E5ECF6",
              "width": 0.5
             },
             "pattern": {
              "fillmode": "overlay",
              "size": 10,
              "solidity": 0.2
             }
            },
            "type": "barpolar"
           }
          ],
          "carpet": [
           {
            "aaxis": {
             "endlinecolor": "#2a3f5f",
             "gridcolor": "white",
             "linecolor": "white",
             "minorgridcolor": "white",
             "startlinecolor": "#2a3f5f"
            },
            "baxis": {
             "endlinecolor": "#2a3f5f",
             "gridcolor": "white",
             "linecolor": "white",
             "minorgridcolor": "white",
             "startlinecolor": "#2a3f5f"
            },
            "type": "carpet"
           }
          ],
          "choropleth": [
           {
            "colorbar": {
             "outlinewidth": 0,
             "ticks": ""
            },
            "type": "choropleth"
           }
          ],
          "contour": [
           {
            "colorbar": {
             "outlinewidth": 0,
             "ticks": ""
            },
            "colorscale": [
             [
              0,
              "#0d0887"
             ],
             [
              0.1111111111111111,
              "#46039f"
             ],
             [
              0.2222222222222222,
              "#7201a8"
             ],
             [
              0.3333333333333333,
              "#9c179e"
             ],
             [
              0.4444444444444444,
              "#bd3786"
             ],
             [
              0.5555555555555556,
              "#d8576b"
             ],
             [
              0.6666666666666666,
              "#ed7953"
             ],
             [
              0.7777777777777778,
              "#fb9f3a"
             ],
             [
              0.8888888888888888,
              "#fdca26"
             ],
             [
              1,
              "#f0f921"
             ]
            ],
            "type": "contour"
           }
          ],
          "contourcarpet": [
           {
            "colorbar": {
             "outlinewidth": 0,
             "ticks": ""
            },
            "type": "contourcarpet"
           }
          ],
          "heatmap": [
           {
            "colorbar": {
             "outlinewidth": 0,
             "ticks": ""
            },
            "colorscale": [
             [
              0,
              "#0d0887"
             ],
             [
              0.1111111111111111,
              "#46039f"
             ],
             [
              0.2222222222222222,
              "#7201a8"
             ],
             [
              0.3333333333333333,
              "#9c179e"
             ],
             [
              0.4444444444444444,
              "#bd3786"
             ],
             [
              0.5555555555555556,
              "#d8576b"
             ],
             [
              0.6666666666666666,
              "#ed7953"
             ],
             [
              0.7777777777777778,
              "#fb9f3a"
             ],
             [
              0.8888888888888888,
              "#fdca26"
             ],
             [
              1,
              "#f0f921"
             ]
            ],
            "type": "heatmap"
           }
          ],
          "heatmapgl": [
           {
            "colorbar": {
             "outlinewidth": 0,
             "ticks": ""
            },
            "colorscale": [
             [
              0,
              "#0d0887"
             ],
             [
              0.1111111111111111,
              "#46039f"
             ],
             [
              0.2222222222222222,
              "#7201a8"
             ],
             [
              0.3333333333333333,
              "#9c179e"
             ],
             [
              0.4444444444444444,
              "#bd3786"
             ],
             [
              0.5555555555555556,
              "#d8576b"
             ],
             [
              0.6666666666666666,
              "#ed7953"
             ],
             [
              0.7777777777777778,
              "#fb9f3a"
             ],
             [
              0.8888888888888888,
              "#fdca26"
             ],
             [
              1,
              "#f0f921"
             ]
            ],
            "type": "heatmapgl"
           }
          ],
          "histogram": [
           {
            "marker": {
             "pattern": {
              "fillmode": "overlay",
              "size": 10,
              "solidity": 0.2
             }
            },
            "type": "histogram"
           }
          ],
          "histogram2d": [
           {
            "colorbar": {
             "outlinewidth": 0,
             "ticks": ""
            },
            "colorscale": [
             [
              0,
              "#0d0887"
             ],
             [
              0.1111111111111111,
              "#46039f"
             ],
             [
              0.2222222222222222,
              "#7201a8"
             ],
             [
              0.3333333333333333,
              "#9c179e"
             ],
             [
              0.4444444444444444,
              "#bd3786"
             ],
             [
              0.5555555555555556,
              "#d8576b"
             ],
             [
              0.6666666666666666,
              "#ed7953"
             ],
             [
              0.7777777777777778,
              "#fb9f3a"
             ],
             [
              0.8888888888888888,
              "#fdca26"
             ],
             [
              1,
              "#f0f921"
             ]
            ],
            "type": "histogram2d"
           }
          ],
          "histogram2dcontour": [
           {
            "colorbar": {
             "outlinewidth": 0,
             "ticks": ""
            },
            "colorscale": [
             [
              0,
              "#0d0887"
             ],
             [
              0.1111111111111111,
              "#46039f"
             ],
             [
              0.2222222222222222,
              "#7201a8"
             ],
             [
              0.3333333333333333,
              "#9c179e"
             ],
             [
              0.4444444444444444,
              "#bd3786"
             ],
             [
              0.5555555555555556,
              "#d8576b"
             ],
             [
              0.6666666666666666,
              "#ed7953"
             ],
             [
              0.7777777777777778,
              "#fb9f3a"
             ],
             [
              0.8888888888888888,
              "#fdca26"
             ],
             [
              1,
              "#f0f921"
             ]
            ],
            "type": "histogram2dcontour"
           }
          ],
          "mesh3d": [
           {
            "colorbar": {
             "outlinewidth": 0,
             "ticks": ""
            },
            "type": "mesh3d"
           }
          ],
          "parcoords": [
           {
            "line": {
             "colorbar": {
              "outlinewidth": 0,
              "ticks": ""
             }
            },
            "type": "parcoords"
           }
          ],
          "pie": [
           {
            "automargin": true,
            "type": "pie"
           }
          ],
          "scatter": [
           {
            "marker": {
             "colorbar": {
              "outlinewidth": 0,
              "ticks": ""
             }
            },
            "type": "scatter"
           }
          ],
          "scatter3d": [
           {
            "line": {
             "colorbar": {
              "outlinewidth": 0,
              "ticks": ""
             }
            },
            "marker": {
             "colorbar": {
              "outlinewidth": 0,
              "ticks": ""
             }
            },
            "type": "scatter3d"
           }
          ],
          "scattercarpet": [
           {
            "marker": {
             "colorbar": {
              "outlinewidth": 0,
              "ticks": ""
             }
            },
            "type": "scattercarpet"
           }
          ],
          "scattergeo": [
           {
            "marker": {
             "colorbar": {
              "outlinewidth": 0,
              "ticks": ""
             }
            },
            "type": "scattergeo"
           }
          ],
          "scattergl": [
           {
            "marker": {
             "colorbar": {
              "outlinewidth": 0,
              "ticks": ""
             }
            },
            "type": "scattergl"
           }
          ],
          "scattermapbox": [
           {
            "marker": {
             "colorbar": {
              "outlinewidth": 0,
              "ticks": ""
             }
            },
            "type": "scattermapbox"
           }
          ],
          "scatterpolar": [
           {
            "marker": {
             "colorbar": {
              "outlinewidth": 0,
              "ticks": ""
             }
            },
            "type": "scatterpolar"
           }
          ],
          "scatterpolargl": [
           {
            "marker": {
             "colorbar": {
              "outlinewidth": 0,
              "ticks": ""
             }
            },
            "type": "scatterpolargl"
           }
          ],
          "scatterternary": [
           {
            "marker": {
             "colorbar": {
              "outlinewidth": 0,
              "ticks": ""
             }
            },
            "type": "scatterternary"
           }
          ],
          "surface": [
           {
            "colorbar": {
             "outlinewidth": 0,
             "ticks": ""
            },
            "colorscale": [
             [
              0,
              "#0d0887"
             ],
             [
              0.1111111111111111,
              "#46039f"
             ],
             [
              0.2222222222222222,
              "#7201a8"
             ],
             [
              0.3333333333333333,
              "#9c179e"
             ],
             [
              0.4444444444444444,
              "#bd3786"
             ],
             [
              0.5555555555555556,
              "#d8576b"
             ],
             [
              0.6666666666666666,
              "#ed7953"
             ],
             [
              0.7777777777777778,
              "#fb9f3a"
             ],
             [
              0.8888888888888888,
              "#fdca26"
             ],
             [
              1,
              "#f0f921"
             ]
            ],
            "type": "surface"
           }
          ],
          "table": [
           {
            "cells": {
             "fill": {
              "color": "#EBF0F8"
             },
             "line": {
              "color": "white"
             }
            },
            "header": {
             "fill": {
              "color": "#C8D4E3"
             },
             "line": {
              "color": "white"
             }
            },
            "type": "table"
           }
          ]
         },
         "layout": {
          "annotationdefaults": {
           "arrowcolor": "#2a3f5f",
           "arrowhead": 0,
           "arrowwidth": 1
          },
          "autotypenumbers": "strict",
          "coloraxis": {
           "colorbar": {
            "outlinewidth": 0,
            "ticks": ""
           }
          },
          "colorscale": {
           "diverging": [
            [
             0,
             "#8e0152"
            ],
            [
             0.1,
             "#c51b7d"
            ],
            [
             0.2,
             "#de77ae"
            ],
            [
             0.3,
             "#f1b6da"
            ],
            [
             0.4,
             "#fde0ef"
            ],
            [
             0.5,
             "#f7f7f7"
            ],
            [
             0.6,
             "#e6f5d0"
            ],
            [
             0.7,
             "#b8e186"
            ],
            [
             0.8,
             "#7fbc41"
            ],
            [
             0.9,
             "#4d9221"
            ],
            [
             1,
             "#276419"
            ]
           ],
           "sequential": [
            [
             0,
             "#0d0887"
            ],
            [
             0.1111111111111111,
             "#46039f"
            ],
            [
             0.2222222222222222,
             "#7201a8"
            ],
            [
             0.3333333333333333,
             "#9c179e"
            ],
            [
             0.4444444444444444,
             "#bd3786"
            ],
            [
             0.5555555555555556,
             "#d8576b"
            ],
            [
             0.6666666666666666,
             "#ed7953"
            ],
            [
             0.7777777777777778,
             "#fb9f3a"
            ],
            [
             0.8888888888888888,
             "#fdca26"
            ],
            [
             1,
             "#f0f921"
            ]
           ],
           "sequentialminus": [
            [
             0,
             "#0d0887"
            ],
            [
             0.1111111111111111,
             "#46039f"
            ],
            [
             0.2222222222222222,
             "#7201a8"
            ],
            [
             0.3333333333333333,
             "#9c179e"
            ],
            [
             0.4444444444444444,
             "#bd3786"
            ],
            [
             0.5555555555555556,
             "#d8576b"
            ],
            [
             0.6666666666666666,
             "#ed7953"
            ],
            [
             0.7777777777777778,
             "#fb9f3a"
            ],
            [
             0.8888888888888888,
             "#fdca26"
            ],
            [
             1,
             "#f0f921"
            ]
           ]
          },
          "colorway": [
           "#636efa",
           "#EF553B",
           "#00cc96",
           "#ab63fa",
           "#FFA15A",
           "#19d3f3",
           "#FF6692",
           "#B6E880",
           "#FF97FF",
           "#FECB52"
          ],
          "font": {
           "color": "#2a3f5f"
          },
          "geo": {
           "bgcolor": "white",
           "lakecolor": "white",
           "landcolor": "#E5ECF6",
           "showlakes": true,
           "showland": true,
           "subunitcolor": "white"
          },
          "hoverlabel": {
           "align": "left"
          },
          "hovermode": "closest",
          "mapbox": {
           "style": "light"
          },
          "paper_bgcolor": "white",
          "plot_bgcolor": "#E5ECF6",
          "polar": {
           "angularaxis": {
            "gridcolor": "white",
            "linecolor": "white",
            "ticks": ""
           },
           "bgcolor": "#E5ECF6",
           "radialaxis": {
            "gridcolor": "white",
            "linecolor": "white",
            "ticks": ""
           }
          },
          "scene": {
           "xaxis": {
            "backgroundcolor": "#E5ECF6",
            "gridcolor": "white",
            "gridwidth": 2,
            "linecolor": "white",
            "showbackground": true,
            "ticks": "",
            "zerolinecolor": "white"
           },
           "yaxis": {
            "backgroundcolor": "#E5ECF6",
            "gridcolor": "white",
            "gridwidth": 2,
            "linecolor": "white",
            "showbackground": true,
            "ticks": "",
            "zerolinecolor": "white"
           },
           "zaxis": {
            "backgroundcolor": "#E5ECF6",
            "gridcolor": "white",
            "gridwidth": 2,
            "linecolor": "white",
            "showbackground": true,
            "ticks": "",
            "zerolinecolor": "white"
           }
          },
          "shapedefaults": {
           "line": {
            "color": "#2a3f5f"
           }
          },
          "ternary": {
           "aaxis": {
            "gridcolor": "white",
            "linecolor": "white",
            "ticks": ""
           },
           "baxis": {
            "gridcolor": "white",
            "linecolor": "white",
            "ticks": ""
           },
           "bgcolor": "#E5ECF6",
           "caxis": {
            "gridcolor": "white",
            "linecolor": "white",
            "ticks": ""
           }
          },
          "title": {
           "x": 0.05
          },
          "xaxis": {
           "automargin": true,
           "gridcolor": "white",
           "linecolor": "white",
           "ticks": "",
           "title": {
            "standoff": 15
           },
           "zerolinecolor": "white",
           "zerolinewidth": 2
          },
          "yaxis": {
           "automargin": true,
           "gridcolor": "white",
           "linecolor": "white",
           "ticks": "",
           "title": {
            "standoff": 15
           },
           "zerolinecolor": "white",
           "zerolinewidth": 2
          }
         }
        },
        "title": {
         "font": {
          "size": 22
         },
         "text": "Basin vs Five Counties Age Profile: 5 Year Increments",
         "x": 0.5
        },
        "xaxis": {
         "anchor": "y",
         "domain": [
          0,
          0.2125
         ],
         "ticktext": [
          "-.5",
          "-.25",
          "0",
          ".25",
          ".5"
         ],
         "tickvals": [
          -0.5,
          -0.25,
          0,
          0.25,
          0.5
         ],
         "title": {
          "text": "1990 Decennial Census"
         }
        },
        "xaxis2": {
         "anchor": "y2",
         "domain": [
          0.2625,
          0.475
         ],
         "ticktext": [
          "-.5",
          "-.25",
          "0",
          ".25",
          ".5"
         ],
         "tickvals": [
          -0.5,
          -0.25,
          0,
          0.25,
          0.5
         ],
         "title": {
          "text": "2000 Decennial Census"
         }
        },
        "xaxis3": {
         "anchor": "y3",
         "domain": [
          0.525,
          0.7375
         ],
         "ticktext": [
          "-.5",
          "-.25",
          "0",
          ".25",
          ".5"
         ],
         "tickvals": [
          -0.5,
          -0.25,
          0,
          0.25,
          0.5
         ],
         "title": {
          "text": "2010 Decennial Census"
         }
        },
        "xaxis4": {
         "anchor": "y4",
         "domain": [
          0.7875,
          1
         ],
         "ticktext": [
          "-.5",
          "-.25",
          "0",
          ".25",
          ".5"
         ],
         "tickvals": [
          -0.5,
          -0.25,
          0,
          0.25,
          0.5
         ],
         "title": {
          "text": "2020 Decennial Census"
         }
        },
        "yaxis": {
         "anchor": "x",
         "domain": [
          0,
          1
         ],
         "title": {
          "font": {
           "size": 14
          },
          "text": "Age"
         }
        },
        "yaxis2": {
         "anchor": "x2",
         "domain": [
          0,
          1
         ],
         "matches": "y",
         "showticklabels": false
        },
        "yaxis3": {
         "anchor": "x3",
         "domain": [
          0,
          1
         ],
         "matches": "y",
         "showticklabels": false
        },
        "yaxis4": {
         "anchor": "x4",
         "domain": [
          0,
          1
         ],
         "matches": "y",
         "showticklabels": false
        }
       }
      },
      "text/html": [
       "<div>                            <div id=\"1d0105d3-63a4-4402-abfc-43afa9fa27d5\" class=\"plotly-graph-div\" style=\"height:525px; width:100%;\"></div>            <script type=\"text/javascript\">                require([\"plotly\"], function(Plotly) {                    window.PLOTLYENV=window.PLOTLYENV || {};                                    if (document.getElementById(\"1d0105d3-63a4-4402-abfc-43afa9fa27d5\")) {                    Plotly.newPlot(                        \"1d0105d3-63a4-4402-abfc-43afa9fa27d5\",                        [{\"customdata\":[[0.1456195666040934,\"Under 10\",14.56],[0.10475860686362062,\"10 to 19\",10.48],[0.1499936211704241,\"20 to 29\",15.0],[0.23419417157229036,\"30 to 39\",23.42],[0.15203484663471176,\"40 to 49\",15.2],[0.08709836155206037,\"50 to 59\",8.71],[0.07503326103993148,\"60 to 69\",7.5],[0.040897410195192184,\"70 to 79\",4.09],[0.010370154367675737,\"Over 80\",1.04]],\"hovertemplate\":\"Basin: %{customdata[2]:,.1f}% <extra></extra>\",\"legendgroup\":\"Basin\",\"marker\":{\"color\":\"#405d74\"},\"name\":\"Basin\",\"orientation\":\"h\",\"x\":[0.1456195666040934,0.10475860686362062,0.1499936211704241,0.23419417157229036,0.15203484663471176,0.08709836155206037,0.07503326103993148,0.040897410195192184,0.010370154367675737],\"y\":[\"Under 10\",\"10 to 19\",\"20 to 29\",\"30 to 39\",\"40 to 49\",\"50 to 59\",\"60 to 69\",\"70 to 79\",\"Over 80\"],\"type\":\"bar\",\"xaxis\":\"x\",\"yaxis\":\"y\"},{\"customdata\":[[0.14394614377352766,\"Under 10\",14.39],[0.12293405541500226,\"10 to 19\",12.29],[0.1330852775893724,\"20 to 29\",13.31],[0.1887007935110291,\"30 to 39\",18.87],[0.1512239179672448,\"40 to 49\",15.12],[0.09653425209275239,\"50 to 59\",9.65],[0.08727749521818502,\"60 to 69\",8.73],[0.054705358248173144,\"70 to 79\",5.47],[0.021592706184713185,\"Over 80\",2.16]],\"hovertemplate\":\"5-Counties: %{customdata[2]:,.1f}% <extra></extra>\",\"legendgroup\":\"Five County\",\"marker\":{\"color\":\"#e28743\"},\"name\":\"Five County\",\"orientation\":\"h\",\"x\":[-0.14394614377352766,-0.12293405541500226,-0.1330852775893724,-0.1887007935110291,-0.1512239179672448,-0.09653425209275239,-0.08727749521818502,-0.054705358248173144,-0.021592706184713185],\"y\":[\"Under 10\",\"10 to 19\",\"20 to 29\",\"30 to 39\",\"40 to 49\",\"50 to 59\",\"60 to 69\",\"70 to 79\",\"Over 80\"],\"type\":\"bar\",\"xaxis\":\"x\",\"yaxis\":\"y\"},{\"customdata\":[[0.11879221892912485,\"Under 10\",11.88],[0.13022612044712573,\"10 to 19\",13.02],[0.1349802163414524,\"20 to 29\",13.5],[0.15553114985933292,\"30 to 39\",15.55],[0.18557523055860628,\"40 to 49\",18.56],[0.13505543937775505,\"50 to 59\",13.51],[0.07671245242142954,\"60 to 69\",7.67],[0.046653327114895664,\"70 to 79\",4.67],[0.016473844950277573,\"Over 80\",1.65]],\"hovertemplate\":\"Basin: %{customdata[2]:,.1f}% <extra></extra>\",\"legendgroup\":\"Basin\",\"marker\":{\"color\":\"#405d74\"},\"name\":\"Basin\",\"orientation\":\"h\",\"showlegend\":false,\"x\":[0.11879221892912485,0.13022612044712573,0.1349802163414524,0.15553114985933292,0.18557523055860628,0.13505543937775505,0.07671245242142954,0.046653327114895664,0.016473844950277573],\"y\":[\"Under 10\",\"10 to 19\",\"20 to 29\",\"30 to 39\",\"40 to 49\",\"50 to 59\",\"60 to 69\",\"70 to 79\",\"Over 80\"],\"type\":\"bar\",\"xaxis\":\"x2\",\"yaxis\":\"y2\"},{\"customdata\":[[0.13663205633130446,\"Under 10\",13.66],[0.14346700083542188,\"10 to 19\",14.35],[0.11237617854159207,\"20 to 29\",11.24],[0.1497219238572622,\"30 to 39\",14.97],[0.16895572263993316,\"40 to 49\",16.9],[0.12572860723236662,\"50 to 59\",12.57],[0.07748538011695906,\"60 to 69\",7.75],[0.05757369614512472,\"70 to 79\",5.76],[0.028059434300035803,\"Over 80\",2.81]],\"hovertemplate\":\"5-Counties: %{customdata[2]:,.1f}% <extra></extra>\",\"legendgroup\":\"Five County\",\"marker\":{\"color\":\"#e28743\"},\"name\":\"Five County\",\"orientation\":\"h\",\"showlegend\":false,\"x\":[-0.13663205633130446,-0.14346700083542188,-0.11237617854159207,-0.1497219238572622,-0.16895572263993316,-0.12572860723236662,-0.07748538011695906,-0.05757369614512472,-0.028059434300035803],\"y\":[\"Under 10\",\"10 to 19\",\"20 to 29\",\"30 to 39\",\"40 to 49\",\"50 to 59\",\"60 to 69\",\"70 to 79\",\"Over 80\"],\"type\":\"bar\",\"xaxis\":\"x2\",\"yaxis\":\"y2\"},{\"customdata\":[[0.09955733593657953,\"Under 10\",9.96],[0.10852843653745813,\"10 to 19\",10.85],[0.14209011495800583,\"20 to 29\",14.21],[0.12766566239711846,\"30 to 39\",12.77],[0.1409792469661522,\"40 to 49\",14.1],[0.17475973271842862,\"50 to 59\",17.48],[0.12711022840119166,\"60 to 69\",12.71],[0.05455035093329743,\"70 to 79\",5.46],[0.02475889115176813,\"Over 80\",2.48]],\"hovertemplate\":\"Basin: %{customdata[2]:,.1f}% <extra></extra>\",\"legendgroup\":\"Basin\",\"marker\":{\"color\":\"#405d74\"},\"name\":\"Basin\",\"orientation\":\"h\",\"showlegend\":false,\"x\":[0.09955733593657953,0.10852843653745813,0.14209011495800583,0.12766566239711846,0.1409792469661522,0.17475973271842862,0.12711022840119166,0.05455035093329743,0.02475889115176813],\"y\":[\"Under 10\",\"10 to 19\",\"20 to 29\",\"30 to 39\",\"40 to 49\",\"50 to 59\",\"60 to 69\",\"70 to 79\",\"Over 80\"],\"type\":\"bar\",\"xaxis\":\"x3\",\"yaxis\":\"y3\"},{\"customdata\":[[0.12482908709721525,\"Under 10\",12.48],[0.13637805174483084,\"10 to 19\",13.64],[0.12117819759050788,\"20 to 29\",12.12],[0.11818627227564833,\"30 to 39\",11.82],[0.14572223994652325,\"40 to 49\",14.57],[0.14807988848882608,\"50 to 59\",14.81],[0.11091107971377785,\"60 to 69\",11.09],[0.059123520653874787,\"70 to 79\",5.91],[0.03559166248879571,\"Over 80\",3.56]],\"hovertemplate\":\"5-Counties: %{customdata[2]:,.1f}% <extra></extra>\",\"legendgroup\":\"Five County\",\"marker\":{\"color\":\"#e28743\"},\"name\":\"Five County\",\"orientation\":\"h\",\"showlegend\":false,\"x\":[-0.12482908709721525,-0.13637805174483084,-0.12117819759050788,-0.11818627227564833,-0.14572223994652325,-0.14807988848882608,-0.11091107971377785,-0.059123520653874787,-0.03559166248879571],\"y\":[\"Under 10\",\"10 to 19\",\"20 to 29\",\"30 to 39\",\"40 to 49\",\"50 to 59\",\"60 to 69\",\"70 to 79\",\"Over 80\"],\"type\":\"bar\",\"xaxis\":\"x3\",\"yaxis\":\"y3\"},{\"customdata\":[[0.08524831967281808,\"Under 10\",8.52],[0.10299860880642296,\"10 to 19\",10.3],[0.11022275858601097,\"20 to 29\",11.02],[0.14262248369956923,\"30 to 39\",14.26],[0.11994435225691825,\"40 to 49\",11.99],[0.14423157506578838,\"50 to 59\",14.42],[0.16655771777207892,\"60 to 69\",16.66],[0.09701480028829554,\"70 to 79\",9.7],[0.031159383852097686,\"Over 80\",3.12]],\"hovertemplate\":\"Basin: %{customdata[2]:,.1f}% <extra></extra>\",\"legendgroup\":\"Basin\",\"marker\":{\"color\":\"#405d74\"},\"name\":\"Basin\",\"orientation\":\"h\",\"showlegend\":false,\"x\":[0.08524831967281808,0.10299860880642296,0.11022275858601097,0.14262248369956923,0.11994435225691825,0.14423157506578838,0.16655771777207892,0.09701480028829554,0.031159383852097686],\"y\":[\"Under 10\",\"10 to 19\",\"20 to 29\",\"30 to 39\",\"40 to 49\",\"50 to 59\",\"60 to 69\",\"70 to 79\",\"Over 80\"],\"type\":\"bar\",\"xaxis\":\"x4\",\"yaxis\":\"y4\"},{\"customdata\":[[0.10950549455164577,\"Under 10\",10.95],[0.12779462816546736,\"10 to 19\",12.78],[0.11529360972262237,\"20 to 29\",11.53],[0.12482371489312019,\"30 to 39\",12.48],[0.1191817515201047,\"40 to 49\",11.92],[0.1333467165822654,\"50 to 59\",13.33],[0.13454616926898064,\"60 to 69\",13.45],[0.0921512284730581,\"70 to 79\",9.22],[0.04335668682273551,\"Over 80\",4.34]],\"hovertemplate\":\"5-Counties: %{customdata[2]:,.1f}% <extra></extra>\",\"legendgroup\":\"Five County\",\"marker\":{\"color\":\"#e28743\"},\"name\":\"Five County\",\"orientation\":\"h\",\"showlegend\":false,\"x\":[-0.10950549455164577,-0.12779462816546736,-0.11529360972262237,-0.12482371489312019,-0.1191817515201047,-0.1333467165822654,-0.13454616926898064,-0.0921512284730581,-0.04335668682273551],\"y\":[\"Under 10\",\"10 to 19\",\"20 to 29\",\"30 to 39\",\"40 to 49\",\"50 to 59\",\"60 to 69\",\"70 to 79\",\"Over 80\"],\"type\":\"bar\",\"xaxis\":\"x4\",\"yaxis\":\"y4\"}],                        {\"template\":{\"data\":{\"bar\":[{\"error_x\":{\"color\":\"#2a3f5f\"},\"error_y\":{\"color\":\"#2a3f5f\"},\"marker\":{\"line\":{\"color\":\"#E5ECF6\",\"width\":0.5},\"pattern\":{\"fillmode\":\"overlay\",\"size\":10,\"solidity\":0.2}},\"type\":\"bar\"}],\"barpolar\":[{\"marker\":{\"line\":{\"color\":\"#E5ECF6\",\"width\":0.5},\"pattern\":{\"fillmode\":\"overlay\",\"size\":10,\"solidity\":0.2}},\"type\":\"barpolar\"}],\"carpet\":[{\"aaxis\":{\"endlinecolor\":\"#2a3f5f\",\"gridcolor\":\"white\",\"linecolor\":\"white\",\"minorgridcolor\":\"white\",\"startlinecolor\":\"#2a3f5f\"},\"baxis\":{\"endlinecolor\":\"#2a3f5f\",\"gridcolor\":\"white\",\"linecolor\":\"white\",\"minorgridcolor\":\"white\",\"startlinecolor\":\"#2a3f5f\"},\"type\":\"carpet\"}],\"choropleth\":[{\"colorbar\":{\"outlinewidth\":0,\"ticks\":\"\"},\"type\":\"choropleth\"}],\"contour\":[{\"colorbar\":{\"outlinewidth\":0,\"ticks\":\"\"},\"colorscale\":[[0.0,\"#0d0887\"],[0.1111111111111111,\"#46039f\"],[0.2222222222222222,\"#7201a8\"],[0.3333333333333333,\"#9c179e\"],[0.4444444444444444,\"#bd3786\"],[0.5555555555555556,\"#d8576b\"],[0.6666666666666666,\"#ed7953\"],[0.7777777777777778,\"#fb9f3a\"],[0.8888888888888888,\"#fdca26\"],[1.0,\"#f0f921\"]],\"type\":\"contour\"}],\"contourcarpet\":[{\"colorbar\":{\"outlinewidth\":0,\"ticks\":\"\"},\"type\":\"contourcarpet\"}],\"heatmap\":[{\"colorbar\":{\"outlinewidth\":0,\"ticks\":\"\"},\"colorscale\":[[0.0,\"#0d0887\"],[0.1111111111111111,\"#46039f\"],[0.2222222222222222,\"#7201a8\"],[0.3333333333333333,\"#9c179e\"],[0.4444444444444444,\"#bd3786\"],[0.5555555555555556,\"#d8576b\"],[0.6666666666666666,\"#ed7953\"],[0.7777777777777778,\"#fb9f3a\"],[0.8888888888888888,\"#fdca26\"],[1.0,\"#f0f921\"]],\"type\":\"heatmap\"}],\"heatmapgl\":[{\"colorbar\":{\"outlinewidth\":0,\"ticks\":\"\"},\"colorscale\":[[0.0,\"#0d0887\"],[0.1111111111111111,\"#46039f\"],[0.2222222222222222,\"#7201a8\"],[0.3333333333333333,\"#9c179e\"],[0.4444444444444444,\"#bd3786\"],[0.5555555555555556,\"#d8576b\"],[0.6666666666666666,\"#ed7953\"],[0.7777777777777778,\"#fb9f3a\"],[0.8888888888888888,\"#fdca26\"],[1.0,\"#f0f921\"]],\"type\":\"heatmapgl\"}],\"histogram\":[{\"marker\":{\"pattern\":{\"fillmode\":\"overlay\",\"size\":10,\"solidity\":0.2}},\"type\":\"histogram\"}],\"histogram2d\":[{\"colorbar\":{\"outlinewidth\":0,\"ticks\":\"\"},\"colorscale\":[[0.0,\"#0d0887\"],[0.1111111111111111,\"#46039f\"],[0.2222222222222222,\"#7201a8\"],[0.3333333333333333,\"#9c179e\"],[0.4444444444444444,\"#bd3786\"],[0.5555555555555556,\"#d8576b\"],[0.6666666666666666,\"#ed7953\"],[0.7777777777777778,\"#fb9f3a\"],[0.8888888888888888,\"#fdca26\"],[1.0,\"#f0f921\"]],\"type\":\"histogram2d\"}],\"histogram2dcontour\":[{\"colorbar\":{\"outlinewidth\":0,\"ticks\":\"\"},\"colorscale\":[[0.0,\"#0d0887\"],[0.1111111111111111,\"#46039f\"],[0.2222222222222222,\"#7201a8\"],[0.3333333333333333,\"#9c179e\"],[0.4444444444444444,\"#bd3786\"],[0.5555555555555556,\"#d8576b\"],[0.6666666666666666,\"#ed7953\"],[0.7777777777777778,\"#fb9f3a\"],[0.8888888888888888,\"#fdca26\"],[1.0,\"#f0f921\"]],\"type\":\"histogram2dcontour\"}],\"mesh3d\":[{\"colorbar\":{\"outlinewidth\":0,\"ticks\":\"\"},\"type\":\"mesh3d\"}],\"parcoords\":[{\"line\":{\"colorbar\":{\"outlinewidth\":0,\"ticks\":\"\"}},\"type\":\"parcoords\"}],\"pie\":[{\"automargin\":true,\"type\":\"pie\"}],\"scatter\":[{\"marker\":{\"colorbar\":{\"outlinewidth\":0,\"ticks\":\"\"}},\"type\":\"scatter\"}],\"scatter3d\":[{\"line\":{\"colorbar\":{\"outlinewidth\":0,\"ticks\":\"\"}},\"marker\":{\"colorbar\":{\"outlinewidth\":0,\"ticks\":\"\"}},\"type\":\"scatter3d\"}],\"scattercarpet\":[{\"marker\":{\"colorbar\":{\"outlinewidth\":0,\"ticks\":\"\"}},\"type\":\"scattercarpet\"}],\"scattergeo\":[{\"marker\":{\"colorbar\":{\"outlinewidth\":0,\"ticks\":\"\"}},\"type\":\"scattergeo\"}],\"scattergl\":[{\"marker\":{\"colorbar\":{\"outlinewidth\":0,\"ticks\":\"\"}},\"type\":\"scattergl\"}],\"scattermapbox\":[{\"marker\":{\"colorbar\":{\"outlinewidth\":0,\"ticks\":\"\"}},\"type\":\"scattermapbox\"}],\"scatterpolar\":[{\"marker\":{\"colorbar\":{\"outlinewidth\":0,\"ticks\":\"\"}},\"type\":\"scatterpolar\"}],\"scatterpolargl\":[{\"marker\":{\"colorbar\":{\"outlinewidth\":0,\"ticks\":\"\"}},\"type\":\"scatterpolargl\"}],\"scatterternary\":[{\"marker\":{\"colorbar\":{\"outlinewidth\":0,\"ticks\":\"\"}},\"type\":\"scatterternary\"}],\"surface\":[{\"colorbar\":{\"outlinewidth\":0,\"ticks\":\"\"},\"colorscale\":[[0.0,\"#0d0887\"],[0.1111111111111111,\"#46039f\"],[0.2222222222222222,\"#7201a8\"],[0.3333333333333333,\"#9c179e\"],[0.4444444444444444,\"#bd3786\"],[0.5555555555555556,\"#d8576b\"],[0.6666666666666666,\"#ed7953\"],[0.7777777777777778,\"#fb9f3a\"],[0.8888888888888888,\"#fdca26\"],[1.0,\"#f0f921\"]],\"type\":\"surface\"}],\"table\":[{\"cells\":{\"fill\":{\"color\":\"#EBF0F8\"},\"line\":{\"color\":\"white\"}},\"header\":{\"fill\":{\"color\":\"#C8D4E3\"},\"line\":{\"color\":\"white\"}},\"type\":\"table\"}]},\"layout\":{\"annotationdefaults\":{\"arrowcolor\":\"#2a3f5f\",\"arrowhead\":0,\"arrowwidth\":1},\"autotypenumbers\":\"strict\",\"coloraxis\":{\"colorbar\":{\"outlinewidth\":0,\"ticks\":\"\"}},\"colorscale\":{\"diverging\":[[0,\"#8e0152\"],[0.1,\"#c51b7d\"],[0.2,\"#de77ae\"],[0.3,\"#f1b6da\"],[0.4,\"#fde0ef\"],[0.5,\"#f7f7f7\"],[0.6,\"#e6f5d0\"],[0.7,\"#b8e186\"],[0.8,\"#7fbc41\"],[0.9,\"#4d9221\"],[1,\"#276419\"]],\"sequential\":[[0.0,\"#0d0887\"],[0.1111111111111111,\"#46039f\"],[0.2222222222222222,\"#7201a8\"],[0.3333333333333333,\"#9c179e\"],[0.4444444444444444,\"#bd3786\"],[0.5555555555555556,\"#d8576b\"],[0.6666666666666666,\"#ed7953\"],[0.7777777777777778,\"#fb9f3a\"],[0.8888888888888888,\"#fdca26\"],[1.0,\"#f0f921\"]],\"sequentialminus\":[[0.0,\"#0d0887\"],[0.1111111111111111,\"#46039f\"],[0.2222222222222222,\"#7201a8\"],[0.3333333333333333,\"#9c179e\"],[0.4444444444444444,\"#bd3786\"],[0.5555555555555556,\"#d8576b\"],[0.6666666666666666,\"#ed7953\"],[0.7777777777777778,\"#fb9f3a\"],[0.8888888888888888,\"#fdca26\"],[1.0,\"#f0f921\"]]},\"colorway\":[\"#636efa\",\"#EF553B\",\"#00cc96\",\"#ab63fa\",\"#FFA15A\",\"#19d3f3\",\"#FF6692\",\"#B6E880\",\"#FF97FF\",\"#FECB52\"],\"font\":{\"color\":\"#2a3f5f\"},\"geo\":{\"bgcolor\":\"white\",\"lakecolor\":\"white\",\"landcolor\":\"#E5ECF6\",\"showlakes\":true,\"showland\":true,\"subunitcolor\":\"white\"},\"hoverlabel\":{\"align\":\"left\"},\"hovermode\":\"closest\",\"mapbox\":{\"style\":\"light\"},\"paper_bgcolor\":\"white\",\"plot_bgcolor\":\"#E5ECF6\",\"polar\":{\"angularaxis\":{\"gridcolor\":\"white\",\"linecolor\":\"white\",\"ticks\":\"\"},\"bgcolor\":\"#E5ECF6\",\"radialaxis\":{\"gridcolor\":\"white\",\"linecolor\":\"white\",\"ticks\":\"\"}},\"scene\":{\"xaxis\":{\"backgroundcolor\":\"#E5ECF6\",\"gridcolor\":\"white\",\"gridwidth\":2,\"linecolor\":\"white\",\"showbackground\":true,\"ticks\":\"\",\"zerolinecolor\":\"white\"},\"yaxis\":{\"backgroundcolor\":\"#E5ECF6\",\"gridcolor\":\"white\",\"gridwidth\":2,\"linecolor\":\"white\",\"showbackground\":true,\"ticks\":\"\",\"zerolinecolor\":\"white\"},\"zaxis\":{\"backgroundcolor\":\"#E5ECF6\",\"gridcolor\":\"white\",\"gridwidth\":2,\"linecolor\":\"white\",\"showbackground\":true,\"ticks\":\"\",\"zerolinecolor\":\"white\"}},\"shapedefaults\":{\"line\":{\"color\":\"#2a3f5f\"}},\"ternary\":{\"aaxis\":{\"gridcolor\":\"white\",\"linecolor\":\"white\",\"ticks\":\"\"},\"baxis\":{\"gridcolor\":\"white\",\"linecolor\":\"white\",\"ticks\":\"\"},\"bgcolor\":\"#E5ECF6\",\"caxis\":{\"gridcolor\":\"white\",\"linecolor\":\"white\",\"ticks\":\"\"}},\"title\":{\"x\":0.05},\"xaxis\":{\"automargin\":true,\"gridcolor\":\"white\",\"linecolor\":\"white\",\"ticks\":\"\",\"title\":{\"standoff\":15},\"zerolinecolor\":\"white\",\"zerolinewidth\":2},\"yaxis\":{\"automargin\":true,\"gridcolor\":\"white\",\"linecolor\":\"white\",\"ticks\":\"\",\"title\":{\"standoff\":15},\"zerolinecolor\":\"white\",\"zerolinewidth\":2}}},\"xaxis\":{\"anchor\":\"y\",\"domain\":[0.0,0.2125],\"title\":{\"text\":\"1990 Decennial Census\"},\"tickvals\":[-0.5,-0.25,0,0.25,0.5],\"ticktext\":[\"-.5\",\"-.25\",\"0\",\".25\",\".5\"]},\"yaxis\":{\"anchor\":\"x\",\"domain\":[0.0,1.0],\"title\":{\"text\":\"Age\",\"font\":{\"size\":14}}},\"xaxis2\":{\"anchor\":\"y2\",\"domain\":[0.2625,0.475],\"title\":{\"text\":\"2000 Decennial Census\"},\"tickvals\":[-0.5,-0.25,0,0.25,0.5],\"ticktext\":[\"-.5\",\"-.25\",\"0\",\".25\",\".5\"]},\"yaxis2\":{\"anchor\":\"x2\",\"domain\":[0.0,1.0],\"matches\":\"y\",\"showticklabels\":false},\"xaxis3\":{\"anchor\":\"y3\",\"domain\":[0.525,0.7375],\"title\":{\"text\":\"2010 Decennial Census\"},\"tickvals\":[-0.5,-0.25,0,0.25,0.5],\"ticktext\":[\"-.5\",\"-.25\",\"0\",\".25\",\".5\"]},\"yaxis3\":{\"anchor\":\"x3\",\"domain\":[0.0,1.0],\"matches\":\"y\",\"showticklabels\":false},\"xaxis4\":{\"anchor\":\"y4\",\"domain\":[0.7875,1.0],\"title\":{\"text\":\"2020 Decennial Census\"},\"tickvals\":[-0.5,-0.25,0,0.25,0.5],\"ticktext\":[\"-.5\",\"-.25\",\"0\",\".25\",\".5\"]},\"yaxis4\":{\"anchor\":\"x4\",\"domain\":[0.0,1.0],\"matches\":\"y\",\"showticklabels\":false},\"title\":{\"text\":\"Basin vs Five Counties Age Profile: 5 Year Increments\",\"x\":0.5,\"font\":{\"size\":22}},\"barmode\":\"relative\",\"bargap\":0.0,\"bargroupgap\":0,\"hovermode\":\"y unified\"},                        {\"responsive\": true}                    ).then(function(){\n",
       "                            \n",
       "var gd = document.getElementById('1d0105d3-63a4-4402-abfc-43afa9fa27d5');\n",
       "var x = new MutationObserver(function (mutations, observer) {{\n",
       "        var display = window.getComputedStyle(gd).display;\n",
       "        if (!display || display === 'none') {{\n",
       "            console.log([gd, 'removed!']);\n",
       "            Plotly.purge(gd);\n",
       "            observer.disconnect();\n",
       "        }}\n",
       "}});\n",
       "\n",
       "// Listen for the removal of the full notebook cells\n",
       "var notebookContainer = gd.closest('#notebook-container');\n",
       "if (notebookContainer) {{\n",
       "    x.observe(notebookContainer, {childList: true});\n",
       "}}\n",
       "\n",
       "// Listen for the clearing of the current output cell\n",
       "var outputEl = gd.closest('.output');\n",
       "if (outputEl) {{\n",
       "    x.observe(outputEl, {childList: true});\n",
       "}}\n",
       "\n",
       "                        })                };                });            </script>        </div>"
      ]
     },
     "metadata": {},
     "output_type": "display_data"
    }
   ],
   "source": [
    "dfAge = census_data.loc[census_data['variable_category'].isin(['TRPA 10-year Age Categories Grouped: Age'])&(census_data['sample_level'].isin(['tract', 'County']))]\n",
    "#dfAge_Tahoe = dfAge.loc[dfAgeSex['sample_level']=='tract']\n",
    "# group by variable name/code/year and sum values\n",
    "df = dfAge.groupby(['variable_name','variable_code','year_sample', 'sample_level'], as_index= False).sum(['value'])\n",
    "\n",
    "df_test = df\n",
    "# ordered list to sort age category by\n",
    "sort_list = [ 'Under 10',\n",
    "'10 to 19',\n",
    "'20 to 29',\n",
    "'30 to 39',\n",
    "'40 to 49',\n",
    "'50 to 59',\n",
    "'60 to 69',\n",
    "'70 to 79',\n",
    "'Over 80'\n",
    "]\n",
    "\n",
    "\n",
    "# setup a new Year column and format it\n",
    "df['Year'] = pd.to_datetime(df['year_sample'], format='%Y') \n",
    "df['Year']   = df['Year'].dt.strftime('%Y')\n",
    "# setup a new Count field based on the summed values\n",
    "df['Count'] = df['value']\n",
    "df['Age'] = df['variable_name']\n",
    "# cast count as integer type\n",
    "df = df.astype({'Count':int})\n",
    "\n",
    "# keep the new columsn\n",
    "df = df[['Age','Year','sample_level','Count']]\n",
    "\n",
    "# set Age to be a categorical field with the same order as the list\n",
    "df['Age'] = pd.Categorical(df['Age'], categories = sort_list)\n",
    "# sort the age category\n",
    "df = df.sort_values(by='Age')\n",
    "\n",
    "pivotTable = pd.pivot_table(df, values='Count', index=['Age','Year'],\n",
    "                       columns=['sample_level'], aggfunc=np.sum)\n",
    "flat = pd.DataFrame(pivotTable.to_records())\n",
    "df = flat\n",
    "\n",
    "\n",
    "\n",
    "# Creating instance of the figure\n",
    "\n",
    "# Creating instance of the figure\n",
    "fig = make_subplots(rows=1, cols=4, shared_yaxes=True)\n",
    "\n",
    "df['Basin']=df['tract'] \n",
    "df['Five_County']=df['County']\n",
    "\n",
    "\n",
    "df['TotalCounty'] = df.groupby(['Year'], as_index=False)['Five_County'].transform('sum')\n",
    "df['TotalBasin'] = df.groupby(['Year'], as_index=False)['Basin'].transform('sum')\n",
    "\n",
    "df['Basin_Proprotion'] = df['Basin']/df['TotalBasin']\n",
    "df['County_Proprotion'] = df['County']/df['TotalCounty']\n",
    "\n",
    "df['Basin_Percentage'] =  round((df['Basin_Proprotion']*100),2)\n",
    "df['County_Percentage'] = round((df['County_Proprotion']*100),2)\n",
    "\n",
    " # Filter by single year\n",
    "df1990 = df[df['Year']== '1990']\n",
    "df2000 = df[df['Year']== '2000']\n",
    "df2010 = df[df['Year']== '2010']\n",
    "df2020 = df[df['Year']== '2020']\n",
    "\n",
    "# set x and y variables for plot\n",
    "y_age90    = df1990['Age']\n",
    "x_basin90   = df1990['Basin_Proprotion']\n",
    "x_five_county90 = df1990['County_Proprotion'] * -1\n",
    "\n",
    "# set x and y variables for plot\n",
    "y_age00    = df2000['Age']\n",
    "x_basin00   = df2000['Basin_Proprotion']\n",
    "x_five_county00 = df2000['County_Proprotion'] * -1\n",
    "\n",
    "# set x and y variables for plot\n",
    "y_age10    = df2010['Age']\n",
    "x_basin10   = df2010['Basin_Proprotion']\n",
    "x_five_county10 = df2010['County_Proprotion'] * -1\n",
    "\n",
    "# set x and y variables for plot\n",
    "y_age20    = df2020['Age']\n",
    "x_basin20   = df2020['Basin_Proprotion']\n",
    "x_five_county20 = df2020['County_Proprotion'] * -1\n",
    "\n",
    "mcolor = '#405d74'\n",
    "fcolor = '#e28743'\n",
    "hovertemplate_percent = '%{customdata[1]}: %{customdata[2]:,.1f}% <extra></extra>'\n",
    "hovertemplate_basin = 'Basin: %{customdata[2]:,.1f}% <extra></extra>'\n",
    "hovertemplate_counties = '5-Counties: %{customdata[2]:,.1f}% <extra></extra>'\n",
    "# Adding Male data to the figure\n",
    "\n",
    "# Creating instance of the figure\n",
    "fig = make_subplots(rows=1, cols=4, shared_yaxes=True)\n",
    "fig.add_trace(go.Bar(y= y_age90, \n",
    "\t\t\t\t\tx = x_basin90,\n",
    "\t\t\t\t\tname = 'Basin',\n",
    "\t\t\t\t\torientation = 'h',\n",
    "\t\t\t\t\tmarker_color=mcolor,\n",
    "\t\t\t\t\tlegendgroup = 'Basin',\n",
    "\t\t\t\t\tcustomdata = np.stack((df1990['Basin_Proprotion'], df1990['Age'], df1990['Basin_Percentage']), axis=-1),\n",
    "\t\t\t\t\thovertemplate= hovertemplate_basin\n",
    "\t\t\t\t\t),\n",
    "\t\t\t\t\trow=1, col=1)\n",
    "\n",
    "# Adding Female data to the figure\n",
    "fig.add_trace(go.Bar(y = y_age90, \n",
    "\t\t\t\t\tx = x_five_county90,\n",
    "\t\t\t\t\tname = 'Five County', \n",
    "\t\t\t\t\torientation = 'h', \n",
    "\t\t\t\t\tmarker_color=fcolor,\n",
    "\t\t\t\t\tlegendgroup ='Five County',\n",
    "\t\t\t\t\tcustomdata = np.stack((df1990['County_Proprotion'], df1990['Age'], df1990['County_Percentage']), axis=-1),\n",
    "\t\t\t\t\thovertemplate= hovertemplate_counties\n",
    "\t\t\t\t\t),\n",
    "\t\t\t\t\trow=1, col=1)\n",
    "\n",
    "\n",
    "# Adding Male data to the figure\n",
    "fig.add_trace(go.Bar(y= y_age00, \n",
    "\t\t\t\t\tx = x_basin00,\n",
    "\t\t\t\t\tname = 'Basin',\n",
    "\t\t\t\t\torientation = 'h',\n",
    "\t\t\t\t\tmarker_color=mcolor,\n",
    "\t\t\t\t\tlegendgroup = 'Basin',\n",
    "                    showlegend  = False,\n",
    "\t\t\t\t\tcustomdata = np.stack((df2000['Basin_Proprotion'], df2000['Age'], df2000['Basin_Percentage']), axis=-1),\n",
    "\t\t\t\t\thovertemplate=hovertemplate_basin\n",
    "\t\t\t\t\t),\n",
    "\t\t\t\t\trow=1, col=2)\n",
    "\n",
    "# Adding Female data to the figure\n",
    "fig.add_trace(go.Bar(y = y_age00, \n",
    "\t\t\t\t\tx = x_five_county00,\n",
    "\t\t\t\t\tname = 'Five County', \n",
    "\t\t\t\t\torientation = 'h', \n",
    "\t\t\t\t\tmarker_color=fcolor,\n",
    "\t\t\t\t\tlegendgroup ='Five County',\n",
    "                    showlegend  = False,\n",
    "\t\t\t\t\tcustomdata = np.stack((df2000['County_Proprotion'], df2000['Age'], df2000['County_Percentage']), axis=-1),\n",
    "\t\t\t\t\thovertemplate=hovertemplate_counties\n",
    "\t\t\t\t\t),\n",
    "\t\t\t\t\trow=1, col=2)\n",
    "\n",
    "# Adding Male data to the figure\n",
    "fig.add_trace(go.Bar(y= y_age10, \n",
    "\t\t\t\t\tx = x_basin10,\n",
    "\t\t\t\t\tname = 'Basin',\n",
    "\t\t\t\t\torientation = 'h',\n",
    "\t\t\t\t\tmarker_color=mcolor,\n",
    "\t\t\t\t\tlegendgroup = 'Basin',\n",
    "\t\t\t\t\tshowlegend  = False,\n",
    "\t\t\t\t\tcustomdata = np.stack((df2010['Basin_Proprotion'], df2010['Age'], df2010['Basin_Percentage']), axis=-1),\n",
    "\t\t\t\t\thovertemplate=hovertemplate_basin\n",
    "\t\t\t\t\t),\n",
    "\t\t\t\t\trow=1, col=3)\n",
    "\n",
    "# Adding Female data to the figure\n",
    "fig.add_trace(go.Bar(y = y_age10, \n",
    "\t\t\t\t\tx = x_five_county10,\n",
    "\t\t\t\t\tname = 'Five County', \n",
    "\t\t\t\t\torientation = 'h', \n",
    "\t\t\t\t\tmarker_color=fcolor,\n",
    "\t\t\t\t\tlegendgroup = 'Five County',\n",
    "\t\t\t\t\tshowlegend  = False,\n",
    "\t\t\t\t\tcustomdata = np.stack((df2010['County_Proprotion'], df2010['Age'], df2010['County_Percentage']), axis=-1),\n",
    "\t\t\t\t\thovertemplate=hovertemplate_counties\n",
    "\t\t\t\t\t),\n",
    "\t\t\t\t\trow=1, col=3)\n",
    "\n",
    "# Adding Male data to the figure\n",
    "fig.add_trace(go.Bar(y= y_age20, \n",
    "\t\t\t\t\tx = x_basin20,\n",
    "\t\t\t\t\tname = 'Basin',\n",
    "\t\t\t\t\torientation = 'h',\n",
    "\t\t\t\t\tmarker_color=mcolor,\n",
    "\t\t\t\t\tlegendgroup = 'Basin',\n",
    "\t\t\t\t\tshowlegend  = False,\n",
    "\t\t\t\t\tcustomdata = np.stack((df2020['Basin_Proprotion'], df2020['Age'], df2020['Basin_Percentage']), axis=-1),\n",
    "\t\t\t\t\thovertemplate=hovertemplate_basin\n",
    "\t\t\t\t\t),\n",
    "\t\t\t\t\trow=1, col=4)\n",
    "\n",
    "# Adding Female data to the figure\n",
    "fig.add_trace(go.Bar(y = y_age20, \n",
    "\t\t\t\t\tx = x_five_county20,\n",
    "\t\t\t\t\tname = 'Five County', \n",
    "\t\t\t\t\torientation = 'h', \n",
    "\t\t\t\t\tmarker_color=fcolor,\n",
    "\t\t\t\t\tlegendgroup =\"Five County\",\n",
    "\t\t\t\t\tshowlegend  = False,\n",
    "\t\t\t\t\tcustomdata = np.stack((df2020['County_Proprotion'], df2020['Age'], df2020['County_Percentage']), axis=-1),\n",
    "\t\t\t\t\thovertemplate=hovertemplate_counties\n",
    "\t\t\t\t\t),\n",
    "\t\t\t\t\trow=1, col=4)\n",
    "\n",
    "# Updating the layout\n",
    "proportion_tick_values = [-.5, -.25, 0, .25, .5]\n",
    "proportion_tick_text = ['-.5', '-.25', '0', '.25', '.5']\n",
    "# Updating the layout\n",
    "fig.update_layout(title = 'Basin vs Five Counties Age Profile: 5 Year Increments',\n",
    "\t\t\t\ttitle_x=0.5,\n",
    "\t\t\t\ttitle_font_size = 22, barmode = 'relative',\n",
    "\t\t\t\tbargap = 0.0, bargroupgap = 0,\n",
    "\t\t\t\thovermode=\"y unified\",\n",
    "\t\t\t\txaxis = dict(tickvals = proportion_tick_values,\n",
    "\t\t\t\t\t\t\t\t\n",
    "\t\t\t\t\t\t\tticktext = proportion_tick_text,\n",
    "\t\t\t\t\t\t\ttitle_font_size = 14),\n",
    "\t\t\t\txaxis2 = dict(tickvals = proportion_tick_values,\n",
    "\t\t\t\t\t\t\t\t\n",
    "\t\t\t\t\t\t\tticktext = proportion_tick_text,\n",
    "\t\t\t\t\t\t\ttitle_font_size = 14),\n",
    "\t\t\t\txaxis3 = dict(tickvals = proportion_tick_values,\n",
    "\t\t\t\t\t\t\t\t\n",
    "\t\t\t\t\t\t\tticktext = proportion_tick_text,\n",
    "\t\t\t\t\t\t\ttitle_font_size = 14),\n",
    "                xaxis4 = dict(tickvals = proportion_tick_values,\n",
    "\t\t\t\t\t\t\t\t\n",
    "\t\t\t\t\t\t\tticktext = proportion_tick_text,\n",
    "\t\t\t\t\t\t\ttitle_font_size = 14),\n",
    "\t\t\t\tyaxis = dict(\t\t\t\t\t\n",
    "\t\t\t\t\t\t\ttitle = 'Age',\n",
    "\t\t\t\t\t\t\ttitle_font_size = 14)\t\t\t\n",
    "\t\t\t\t)\n",
    "\n",
    "# edit axis labels\n",
    "fig['layout']['xaxis']['title'] ='1990 Decennial Census'\n",
    "fig['layout']['xaxis2']['title']='2000 Decennial Census'\n",
    "fig['layout']['xaxis3']['title']='2010 Decennial Census'\n",
    "fig['layout']['xaxis4']['title']='2020 Decennial Census'\n",
    "\n",
    "fig.show()\n",
    "fig.write_html(os.path.join(workspace, \"Demographics_Tahoe_AgeProfile_5Counties.html\")) "
   ]
  },
  {
   "cell_type": "code",
   "execution_count": null,
   "id": "7a77990e",
   "metadata": {},
   "outputs": [],
   "source": [
    "# get data\n",
    "#dfCensus = pd.read_sql(\"SELECT * FROM sde.SDE.Census_Demographics\", conn)\n",
    "dfAgeSex = census_data.loc[census_data['variable_category'].isin(['TRPA Census Age Sex Categories Grouped: Age'])]\n",
    "dfAgeSex_Tahoe = dfAgeSex.loc[dfAgeSex['sample_level']=='tract']\n",
    "dfAgeSex_5_County = dfAgeSex.loc[dfAgeSex['sample_level']=='county']\n",
    "# group by variable name/code/year and sum values\n",
    "df = dfAgeSex_Tahoe.groupby(['variable_name','variable_code','year_sample'], as_index= False).sum(['value'])\n",
    "df= dfAgeSex_5_County.groupby(['variable_name','variable_code','year_sample'], as_index= False).sum(['value'])\n",
    "# ordered list to sort age category by\n",
    "sort_list = [ 'Under 5', '5 to 9','10 to 14', '15 to 19', '20 to 24', \n",
    "            '25 to 29', '30 to 34', '35 to 39', '40 to 44', '45 to 49', \n",
    "            '50 to 54', '55 to 59', '60 to 64', '65 to 69', '70 to 74', \n",
    "            '75 to 79', '80 to 84', 'Over 85']\n",
    "\n",
    "# setup new fields\n",
    "# gender is tagged on the end of variable name. split it out after the colon\n",
    "df['Gender'] = df['variable_name'].str.split(':').str[-1]\n",
    "# age is the first part of the variable name string\n",
    "df['Age']    = df['variable_name'].str.split(':').str[0]\n",
    "# drop the rows that represent the Totals\n",
    "df = df[df.Age != 'Total']\n",
    "# setup a new Year column and format it\n",
    "df['Year'] = pd.to_datetime(df['year_sample'], format='%Y') \n",
    "df['Year']   = df['Year'].dt.strftime('%Y')\n",
    "# setup a new Count field based on the summed values\n",
    "df['Count'] = df['value']\n",
    "\n",
    "# cast count as integer type\n",
    "df = df.astype({'Count':int})\n",
    "\n",
    "# keep the new columsn\n",
    "df = df[['Age','Year','Gender','Count']]\n",
    "\n",
    "# set Age to be a categorical field with the same order as the list\n",
    "df['Age'] = pd.Categorical(df['Age'], categories = sort_list)\n",
    "# sort the age category\n",
    "df = df.sort_values(by='Age')\n",
    "\n",
    "pivotTable = pd.pivot_table(df, values='Count', index=['Age','Year'],\n",
    "                       columns=['Gender'], aggfunc=np.sum)\n",
    "flat = pd.DataFrame(pivotTable.to_records())\n",
    "df = flat\n",
    "# remove space in column names 'Male' and \"Female\"\n",
    "df.columns = df.columns.str.replace(' ', '')\n",
    "\n",
    "df['Total_Population'] = df['Female']+df['Male']\n",
    "df['TotalSum'] = df.groupby(['Year'], as_index=False)['Total_Population'].transform('sum')\n",
    "df['Female_Proprotion'] = df['Female']/df['TotalSum']\n",
    "df['Male_Proprotion'] = df['Male']/df['TotalSum']\n",
    "\n",
    "# Creating instance of the figure\n",
    "fig = make_subplots(rows=1, cols=4, shared_yaxes=True)\n",
    "\n",
    " # Filter by single year\n",
    "df1990 = df[df['Year']== '1990']\n",
    "df2000 = df[df['Year']== '2000']\n",
    "df2010 = df[df['Year']== '2010']\n",
    "df2020 = df[df['Year']== '2020']\n",
    "\n",
    "# set x and y variables for plot\n",
    "y_age90    = df1990['Age']\n",
    "x_male90   = df1990['Male_Proprotion']\n",
    "x_female90 = df1990['Female_Proprotion'] * -1\n",
    "\n",
    "# set x and y variables for plot\n",
    "y_age00    = df2000['Age']\n",
    "x_male00   = df2000['Male_Proprotion']\n",
    "x_female00 = df2000['Female_Proprotion'] * -1\n",
    "\n",
    "# set x and y variables for plot\n",
    "y_age10    = df2010['Age']\n",
    "x_male10   = df2010['Male_Proprotion']\n",
    "x_female10 = df2010['Female_Proprotion'] * -1\n",
    "\n",
    "# set x and y variables for plot\n",
    "y_age20    = df2020['Age']\n",
    "x_male20   = df2020['Male_Proprotion']\n",
    "x_female20 = df2020['Female_Proprotion'] * -1\n",
    "\n",
    "mcolor = '#405d74'\n",
    "fcolor = '#679ab8'\n",
    "# Adding Male data to the figure\n",
    "fig.add_trace(go.Bar(y= y_age90, \n",
    "\t\t\t\t\tx = x_male90,\n",
    "\t\t\t\t\tname = 'Male',\n",
    "\t\t\t\t\torientation = 'h',\n",
    "\t\t\t\t\tmarker_color=mcolor,\n",
    "\t\t\t\t\tlegendgroup = 'Male',\n",
    "\t\t\t\t\tcustomdata = np.stack((df1990['Male_Proprotion'], df1990['Age']), axis=-1),\n",
    "\t\t\t\t\thovertemplate='%{customdata[0]:,.0f} males<extra></extra>'\n",
    "\t\t\t\t\t),\n",
    "\t\t\t\t\trow=1, col=1)\n",
    "\n",
    "# Adding Female data to the figure\n",
    "fig.add_trace(go.Bar(y = y_age90, \n",
    "\t\t\t\t\tx = x_female90,\n",
    "\t\t\t\t\tname = 'Female', \n",
    "\t\t\t\t\torientation = 'h', \n",
    "\t\t\t\t\tmarker_color=fcolor,\n",
    "\t\t\t\t\tlegendgroup ='Female',\n",
    "\t\t\t\t\tcustomdata = np.stack((df1990['Female_Proprotion'], df1990['Age']), axis=-1),\n",
    "\t\t\t\t\thovertemplate='%{customdata[0]:,.0f} females<extra></extra>'\n",
    "\t\t\t\t\t),\n",
    "\t\t\t\t\trow=1, col=1)\n",
    "\n",
    "\n",
    "# Adding Male data to the figure\n",
    "fig.add_trace(go.Bar(y= y_age00, \n",
    "\t\t\t\t\tx = x_male00,\n",
    "\t\t\t\t\tname = 'Male',\n",
    "\t\t\t\t\torientation = 'h',\n",
    "\t\t\t\t\tmarker_color=mcolor,\n",
    "\t\t\t\t\tlegendgroup = 'Male',\n",
    "                    showlegend  = False,\n",
    "\t\t\t\t\tcustomdata = np.stack((df2000['Male_Proprotion'], df2000['Age']), axis=-1),\n",
    "\t\t\t\t\thovertemplate='%{customdata[0]:,.0f} males<extra></extra>'\n",
    "\t\t\t\t\t),\n",
    "\t\t\t\t\trow=1, col=2)\n",
    "\n",
    "# Adding Female data to the figure\n",
    "fig.add_trace(go.Bar(y = y_age00, \n",
    "\t\t\t\t\tx = x_female00,\n",
    "\t\t\t\t\tname = 'Female', \n",
    "\t\t\t\t\torientation = 'h', \n",
    "\t\t\t\t\tmarker_color=fcolor,\n",
    "\t\t\t\t\tlegendgroup ='Female',\n",
    "                    showlegend  = False,\n",
    "\t\t\t\t\tcustomdata = np.stack((df2000['Female_Proprotion'], df2000['Age']), axis=-1),\n",
    "\t\t\t\t\thovertemplate='%{customdata[0]:,.0f} females<extra></extra>'\n",
    "\t\t\t\t\t),\n",
    "\t\t\t\t\trow=1, col=2)\n",
    "\n",
    "# Adding Male data to the figure\n",
    "fig.add_trace(go.Bar(y= y_age10, \n",
    "\t\t\t\t\tx = x_male10,\n",
    "\t\t\t\t\tname = 'Male',\n",
    "\t\t\t\t\torientation = 'h',\n",
    "\t\t\t\t\tmarker_color=mcolor,\n",
    "\t\t\t\t\tlegendgroup = 'Male',\n",
    "\t\t\t\t\tshowlegend  = False,\n",
    "\t\t\t\t\tcustomdata = np.stack((df2010['Male_Proprotion'], df2010['Age']), axis=-1),\n",
    "\t\t\t\t\thovertemplate='%{customdata[0]:,.0f} males<extra></extra>'\n",
    "\t\t\t\t\t),\n",
    "\t\t\t\t\trow=1, col=3)\n",
    "\n",
    "# Adding Female data to the figure\n",
    "fig.add_trace(go.Bar(y = y_age10, \n",
    "\t\t\t\t\tx = x_female10,\n",
    "\t\t\t\t\tname = 'Female', \n",
    "\t\t\t\t\torientation = 'h', \n",
    "\t\t\t\t\tmarker_color=fcolor,\n",
    "\t\t\t\t\tlegendgroup = 'Female',\n",
    "\t\t\t\t\tshowlegend  = False,\n",
    "\t\t\t\t\tcustomdata = np.stack((df2010['Female_Proprotion'], df2010['Age']), axis=-1),\n",
    "\t\t\t\t\thovertemplate='%{customdata[0]:,.0f} females<extra></extra>'\n",
    "\t\t\t\t\t),\n",
    "\t\t\t\t\trow=1, col=3)\n",
    "\n",
    "# Adding Male data to the figure\n",
    "fig.add_trace(go.Bar(y= y_age20, \n",
    "\t\t\t\t\tx = x_male20,\n",
    "\t\t\t\t\tname = 'Male',\n",
    "\t\t\t\t\torientation = 'h',\n",
    "\t\t\t\t\tmarker_color=mcolor,\n",
    "\t\t\t\t\tlegendgroup = 'Male',\n",
    "\t\t\t\t\tshowlegend  = False,\n",
    "\t\t\t\t\tcustomdata = np.stack((df2020['Male_Proprotion'], df2020['Age']), axis=-1),\n",
    "\t\t\t\t\thovertemplate='%{customdata[0]:,.0f} males<extra></extra>'\n",
    "\t\t\t\t\t),\n",
    "\t\t\t\t\trow=1, col=4)\n",
    "\n",
    "# Adding Female data to the figure\n",
    "fig.add_trace(go.Bar(y = y_age20, \n",
    "\t\t\t\t\tx = x_female20,\n",
    "\t\t\t\t\tname = 'Female', \n",
    "\t\t\t\t\torientation = 'h', \n",
    "\t\t\t\t\tmarker_color=fcolor,\n",
    "\t\t\t\t\tlegendgroup =\"Female\",\n",
    "\t\t\t\t\tshowlegend  = False,\n",
    "\t\t\t\t\tcustomdata = np.stack((df2020['Female_Proprotion'], df2020['Age']), axis=-1),\n",
    "\t\t\t\t\thovertemplate='%{customdata[0]:,.0f} females<extra></extra>'\n",
    "\t\t\t\t\t),\n",
    "\t\t\t\t\trow=1, col=4)\n",
    "\n",
    "proportion_tick_values = [-.5, -.25, 0, .25, .5]\n",
    "proportion_tick_text = ['-.5', '-.25', '0', '.25', '.5']\n",
    "# Updating the layout\n",
    "fig.update_layout(title = 'Five County Age Profile: 5 Year Increments',\n",
    "\t\t\t\ttitle_x=0.5,\n",
    "\t\t\t\ttitle_font_size = 22, barmode = 'relative',\n",
    "\t\t\t\tbargap = 0.0, bargroupgap = 0,\n",
    "\t\t\t\thovermode=\"y unified\",\n",
    "\t\t\t\txaxis = dict(tickvals = proportion_tick_values,\n",
    "\t\t\t\t\t\t\t\t\n",
    "\t\t\t\t\t\t\tticktext = proportion_tick_text,\n",
    "\t\t\t\t\t\t\ttitle_font_size = 14),\n",
    "\t\t\t\txaxis2 = dict(tickvals = proportion_tick_values,\n",
    "\t\t\t\t\t\t\t\t\n",
    "\t\t\t\t\t\t\tticktext = proportion_tick_text,\n",
    "\t\t\t\t\t\t\ttitle_font_size = 14),\n",
    "\t\t\t\txaxis3 = dict(tickvals = proportion_tick_values,\n",
    "\t\t\t\t\t\t\t\t\n",
    "\t\t\t\t\t\t\tticktext = proportion_tick_text,\n",
    "\t\t\t\t\t\t\ttitle_font_size = 14),\n",
    "                xaxis4 = dict(tickvals = proportion_tick_values,\n",
    "\t\t\t\t\t\t\t\t\n",
    "\t\t\t\t\t\t\tticktext = proportion_tick_text,\n",
    "\t\t\t\t\t\t\ttitle_font_size = 14),\n",
    "\t\t\t\tyaxis = dict(\t\t\t\t\t\n",
    "\t\t\t\t\t\t\ttitle = 'Age',\n",
    "\t\t\t\t\t\t\ttitle_font_size = 14)\t\t\t\n",
    "\t\t\t\t)\n",
    "\n",
    "\n",
    "# edit axis labels\n",
    "fig['layout']['xaxis']['title'] ='1990 Decennial Census'\n",
    "fig['layout']['xaxis2']['title']='2000 Decennial Census'\n",
    "fig['layout']['xaxis3']['title']='2010 Decennial Census'\n",
    "fig['layout']['xaxis4']['title']='2020 Decennial Census'\n",
    "\n",
    "fig.show()\n",
    "fig.write_html(os.path.join(workspace, \"Demographics_Non_Tahoe_AgeProfile_DecadeSubplots_proportion.html\"))"
   ]
  },
  {
   "cell_type": "code",
   "execution_count": null,
   "id": "9d3b61ad",
   "metadata": {},
   "outputs": [],
   "source": [
    "# get data\n",
    "dfCensus = pd.read_sql(\"SELECT * FROM sde.SDE.Census_Demographics\", conn)\n",
    "dfAgeSex = dfCensus.loc[dfCensus['variable_category'].isin(['TRPA Census Age Sex Categories Grouped: Age'])]\n",
    "dfAgeSex_Tahoe = dfAgeSex.loc[dfAgeSex['sample_level']=='tract']\n",
    "dfAgeSex_5_County = dfAgeSex.loc[dfAgeSex['sample_level']=='county']\n",
    "# group by variable name/code/year and sum values\n",
    "df = dfAgeSex_Tahoe.groupby(['variable_name','variable_code','year_sample'], as_index= False).sum(['value'])\n",
    "#df= dfAgeSex_5_County.groupby(['variable_name','variable_code','year_sample'], as_index= False).sum(['value'])\n",
    "# ordered list to sort age category by\n",
    "sort_list = [ 'Under 5', '5 to 9','10 to 14', '15 to 19', '20 to 24', \n",
    "            '25 to 29', '30 to 34', '35 to 39', '40 to 44', '45 to 49', \n",
    "            '50 to 54', '55 to 59', '60 to 64', '65 to 69', '70 to 74', \n",
    "            '75 to 79', '80 to 84', 'Over 85']\n",
    "\n",
    "# setup new fields\n",
    "# gender is tagged on the end of variable name. split it out after the colon\n",
    "df['Gender'] = df['variable_name'].str.split(':').str[-1]\n",
    "# age is the first part of the variable name string\n",
    "df['Age']    = df['variable_name'].str.split(':').str[0]\n",
    "# drop the rows that represent the Totals\n",
    "df = df[df.Age != 'Total']\n",
    "# setup a new Year column and format it\n",
    "df['Year'] = pd.to_datetime(df['year_sample'], format='%Y') \n",
    "df['Year']   = df['Year'].dt.strftime('%Y')\n",
    "# setup a new Count field based on the summed values\n",
    "df['Count'] = df['value']\n",
    "\n",
    "# cast count as integer type\n",
    "df = df.astype({'Count':int})\n",
    "\n",
    "# keep the new columsn\n",
    "df = df[['Age','Year','Gender','Count']]\n",
    "\n",
    "# set Age to be a categorical field with the same order as the list\n",
    "df['Age'] = pd.Categorical(df['Age'], categories = sort_list)\n",
    "# sort the age category\n",
    "df = df.sort_values(by='Age')\n",
    "\n",
    "pivotTable = pd.pivot_table(df, values='Count', index=['Age','Year'],\n",
    "                       columns=['Gender'], aggfunc=np.sum)\n",
    "flat = pd.DataFrame(pivotTable.to_records())\n",
    "df = flat\n",
    "# remove space in column names 'Male' and \"Female\"\n",
    "df.columns = df.columns.str.replace(' ', '')\n",
    "\n",
    "df['Total_Population'] = df['Female']+df['Male']\n",
    "df['TotalSum'] = df.groupby(['Year'], as_index=False)['Total_Population'].transform('sum')\n",
    "df['Female_Proprotion'] = df['Female']/df['TotalSum']\n",
    "df['Male_Proprotion'] = df['Male']/df['TotalSum']\n",
    "\n",
    "# Creating instance of the figure\n",
    "fig = make_subplots(rows=1, cols=4, shared_yaxes=True)\n",
    "\n",
    " # Filter by single year\n",
    "df1990 = df[df['Year']== '1990']\n",
    "df2000 = df[df['Year']== '2000']\n",
    "df2010 = df[df['Year']== '2010']\n",
    "df2020 = df[df['Year']== '2020']\n",
    "\n",
    "# set x and y variables for plot\n",
    "y_age90    = df1990['Age']\n",
    "x_male90   = df1990['Male_Proprotion']\n",
    "x_female90 = df1990['Female_Proprotion'] * -1\n",
    "\n",
    "# set x and y variables for plot\n",
    "y_age00    = df2000['Age']\n",
    "x_male00   = df2000['Male_Proprotion']\n",
    "x_female00 = df2000['Female_Proprotion'] * -1\n",
    "\n",
    "# set x and y variables for plot\n",
    "y_age10    = df2010['Age']\n",
    "x_male10   = df2010['Male_Proprotion']\n",
    "x_female10 = df2010['Female_Proprotion'] * -1\n",
    "\n",
    "# set x and y variables for plot\n",
    "y_age20    = df2020['Age']\n",
    "x_male20   = df2020['Male_Proprotion']\n",
    "x_female20 = df2020['Female_Proprotion'] * -1\n",
    "\n",
    "mcolor = '#405d74'\n",
    "fcolor = '#679ab8'\n",
    "# Adding Male data to the figure\n",
    "fig.add_trace(go.Bar(y= y_age90, \n",
    "\t\t\t\t\tx = x_male90,\n",
    "\t\t\t\t\tname = 'Male',\n",
    "\t\t\t\t\torientation = 'h',\n",
    "\t\t\t\t\tmarker_color=mcolor,\n",
    "\t\t\t\t\tlegendgroup = 'Male',\n",
    "\t\t\t\t\tcustomdata = np.stack((df1990['Male_Proprotion'], df1990['Age']), axis=-1),\n",
    "\t\t\t\t\thovertemplate='%{customdata[0]:,.0f} males<extra></extra>'\n",
    "\t\t\t\t\t),\n",
    "\t\t\t\t\trow=1, col=1)\n",
    "\n",
    "# Adding Female data to the figure\n",
    "fig.add_trace(go.Bar(y = y_age90, \n",
    "\t\t\t\t\tx = x_female90,\n",
    "\t\t\t\t\tname = 'Female', \n",
    "\t\t\t\t\torientation = 'h', \n",
    "\t\t\t\t\tmarker_color=fcolor,\n",
    "\t\t\t\t\tlegendgroup ='Female',\n",
    "\t\t\t\t\tcustomdata = np.stack((df1990['Female_Proprotion'], df1990['Age']), axis=-1),\n",
    "\t\t\t\t\thovertemplate='%{customdata[0]:,.0f} females<extra></extra>'\n",
    "\t\t\t\t\t),\n",
    "\t\t\t\t\trow=1, col=1)\n",
    "\n",
    "\n",
    "# Adding Male data to the figure\n",
    "fig.add_trace(go.Bar(y= y_age00, \n",
    "\t\t\t\t\tx = x_male00,\n",
    "\t\t\t\t\tname = 'Male',\n",
    "\t\t\t\t\torientation = 'h',\n",
    "\t\t\t\t\tmarker_color=mcolor,\n",
    "\t\t\t\t\tlegendgroup = 'Male',\n",
    "                    showlegend  = False,\n",
    "\t\t\t\t\tcustomdata = np.stack((df2000['Male_Proprotion'], df2000['Age']), axis=-1),\n",
    "\t\t\t\t\thovertemplate='%{customdata[0]:,.0f} males<extra></extra>'\n",
    "\t\t\t\t\t),\n",
    "\t\t\t\t\trow=1, col=2)\n",
    "\n",
    "# Adding Female data to the figure\n",
    "fig.add_trace(go.Bar(y = y_age00, \n",
    "\t\t\t\t\tx = x_female00,\n",
    "\t\t\t\t\tname = 'Female', \n",
    "\t\t\t\t\torientation = 'h', \n",
    "\t\t\t\t\tmarker_color=fcolor,\n",
    "\t\t\t\t\tlegendgroup ='Female',\n",
    "                    showlegend  = False,\n",
    "\t\t\t\t\tcustomdata = np.stack((df2000['Female_Proprotion'], df2000['Age']), axis=-1),\n",
    "\t\t\t\t\thovertemplate='%{customdata[0]:,.0f} females<extra></extra>'\n",
    "\t\t\t\t\t),\n",
    "\t\t\t\t\trow=1, col=2)\n",
    "\n",
    "# Adding Male data to the figure\n",
    "fig.add_trace(go.Bar(y= y_age10, \n",
    "\t\t\t\t\tx = x_male10,\n",
    "\t\t\t\t\tname = 'Male',\n",
    "\t\t\t\t\torientation = 'h',\n",
    "\t\t\t\t\tmarker_color=mcolor,\n",
    "\t\t\t\t\tlegendgroup = 'Male',\n",
    "\t\t\t\t\tshowlegend  = False,\n",
    "\t\t\t\t\tcustomdata = np.stack((df2010['Male_Proprotion'], df2010['Age']), axis=-1),\n",
    "\t\t\t\t\thovertemplate='%{customdata[0]:,.0f} males<extra></extra>'\n",
    "\t\t\t\t\t),\n",
    "\t\t\t\t\trow=1, col=3)\n",
    "\n",
    "# Adding Female data to the figure\n",
    "fig.add_trace(go.Bar(y = y_age10, \n",
    "\t\t\t\t\tx = x_female10,\n",
    "\t\t\t\t\tname = 'Female', \n",
    "\t\t\t\t\torientation = 'h', \n",
    "\t\t\t\t\tmarker_color=fcolor,\n",
    "\t\t\t\t\tlegendgroup = 'Female',\n",
    "\t\t\t\t\tshowlegend  = False,\n",
    "\t\t\t\t\tcustomdata = np.stack((df2010['Female_Proprotion'], df2010['Age']), axis=-1),\n",
    "\t\t\t\t\thovertemplate='%{customdata[0]:,.0f} females<extra></extra>'\n",
    "\t\t\t\t\t),\n",
    "\t\t\t\t\trow=1, col=3)\n",
    "\n",
    "# Adding Male data to the figure\n",
    "fig.add_trace(go.Bar(y= y_age20, \n",
    "\t\t\t\t\tx = x_male20,\n",
    "\t\t\t\t\tname = 'Male',\n",
    "\t\t\t\t\torientation = 'h',\n",
    "\t\t\t\t\tmarker_color=mcolor,\n",
    "\t\t\t\t\tlegendgroup = 'Male',\n",
    "\t\t\t\t\tshowlegend  = False,\n",
    "\t\t\t\t\tcustomdata = np.stack((df2020['Male_Proprotion'], df2020['Age']), axis=-1),\n",
    "\t\t\t\t\thovertemplate='%{customdata[0]:,.0f} males<extra></extra>'\n",
    "\t\t\t\t\t),\n",
    "\t\t\t\t\trow=1, col=4)\n",
    "\n",
    "# Adding Female data to the figure\n",
    "fig.add_trace(go.Bar(y = y_age20, \n",
    "\t\t\t\t\tx = x_female20,\n",
    "\t\t\t\t\tname = 'Female', \n",
    "\t\t\t\t\torientation = 'h', \n",
    "\t\t\t\t\tmarker_color=fcolor,\n",
    "\t\t\t\t\tlegendgroup =\"Female\",\n",
    "\t\t\t\t\tshowlegend  = False,\n",
    "\t\t\t\t\tcustomdata = np.stack((df2020['Female_Proprotion'], df2020['Age']), axis=-1),\n",
    "\t\t\t\t\thovertemplate='%{customdata[0]:,.0f} females<extra></extra>'\n",
    "\t\t\t\t\t),\n",
    "\t\t\t\t\trow=1, col=4)\n",
    "\n",
    "proportion_tick_values = [-.5, -.25, 0, .25, .5]\n",
    "proportion_tick_text = ['-.5', '-.25', '0', '.25', '.5']\n",
    "# Updating the layout\n",
    "fig.update_layout(title = 'Tahoe Basin Age Profile: 5 Year Increments',\n",
    "\t\t\t\ttitle_x=0.5,\n",
    "\t\t\t\ttitle_font_size = 22, barmode = 'relative',\n",
    "\t\t\t\tbargap = 0.0, bargroupgap = 0,\n",
    "\t\t\t\thovermode=\"y unified\",\n",
    "\t\t\t\txaxis = dict(tickvals = proportion_tick_values,\n",
    "\t\t\t\t\t\t\t\t\n",
    "\t\t\t\t\t\t\tticktext = proportion_tick_text,\n",
    "\t\t\t\t\t\t\ttitle_font_size = 14),\n",
    "\t\t\t\txaxis2 = dict(tickvals = proportion_tick_values,\n",
    "\t\t\t\t\t\t\t\t\n",
    "\t\t\t\t\t\t\tticktext = proportion_tick_text,\n",
    "\t\t\t\t\t\t\ttitle_font_size = 14),\n",
    "\t\t\t\txaxis3 = dict(tickvals = proportion_tick_values,\n",
    "\t\t\t\t\t\t\t\t\n",
    "\t\t\t\t\t\t\tticktext = proportion_tick_text,\n",
    "\t\t\t\t\t\t\ttitle_font_size = 14),\n",
    "                xaxis4 = dict(tickvals = proportion_tick_values,\n",
    "\t\t\t\t\t\t\t\t\n",
    "\t\t\t\t\t\t\tticktext = proportion_tick_text,\n",
    "\t\t\t\t\t\t\ttitle_font_size = 14),\n",
    "\t\t\t\tyaxis = dict(\t\t\t\t\t\n",
    "\t\t\t\t\t\t\ttitle = 'Age',\n",
    "\t\t\t\t\t\t\ttitle_font_size = 14)\t\t\t\n",
    "\t\t\t\t)\n",
    "\n",
    "\n",
    "# edit axis labels\n",
    "fig['layout']['xaxis']['title'] ='1990 Decennial Census'\n",
    "fig['layout']['xaxis2']['title']='2000 Decennial Census'\n",
    "fig['layout']['xaxis3']['title']='2010 Decennial Census'\n",
    "fig['layout']['xaxis4']['title']='2020 Decennial Census'\n",
    "\n",
    "fig.show()\n",
    "fig.write_html(os.path.join(workspace, \"Demographics_Tahoe_AgeProfile_DecadeSubplots_proportion.html\"))"
   ]
  },
  {
   "cell_type": "markdown",
   "id": "225bdbe2",
   "metadata": {},
   "source": [
    "### Race"
   ]
  },
  {
   "cell_type": "code",
   "execution_count": null,
   "id": "0884c4cf",
   "metadata": {},
   "outputs": [],
   "source": [
    "## get race data\n",
    "dfCensus = pd.read_sql(\"SELECT * FROM sde.SDE.Census_Demographics\", conn)\n",
    "dfRace = dfCensus.loc[dfCensus.variable_category.isin(['Race'])]\n",
    "dfRace = dfRace.loc[dfRace['year_sample']!=1990]\n",
    "dfRace = dfRace[dfRace.dataset != 'acs/acs5']\n",
    "# group by variable name/code/year and sum values\n",
    "df = dfRace.groupby(['variable_name','variable_code','year_sample'], as_index= False).sum(['value'])\n",
    "\n",
    "# setup new fields\n",
    "# fix text of race names and filter out non-hispanic so we get a true total of all races\n",
    "df['Race'] = df['variable_name'].str.split(':').str[-1]\n",
    "# strips off the prefix\n",
    "df.loc[df['Race'].str.split(';').str[0] == '  Not Hispanic or Latino', 'Race'] =  df['Race'].str.split(';').str[-1]\n",
    "# get rid of spaces\n",
    "df.Race = df.Race.str.strip()\n",
    "# drop the not hispanic total rows\n",
    "df = df[df.Race != 'Not Hispanic or Latino']\n",
    "# setup a new Year column and format it\n",
    "df['Year'] = pd.to_datetime(df['year_sample'], format='%Y') \n",
    "df['Year']   = df['Year'].dt.strftime('%Y')\n",
    "# setup a new Count field based on the summed values\n",
    "df['Count'] = df['value']\n",
    "# cast count as integer type\n",
    "df = df.astype({'Count':int})\n",
    "df['Percent'] = 0.0\n",
    "# keep the new columns\n",
    "df = df[['Race','Year','Percent','Count']]\n",
    "\n",
    "df00 = df[df['Year']== '2000']\n",
    "df10 = df[df['Year']== '2010']\n",
    "df20 = df[df['Year']== '2020']\n",
    "# df21 = df[df['Year']== '2021']\n",
    "\n",
    "# calculate percents of total for each year\n",
    "df.loc[df['Year'] == '2000', 'Percent'] =  (df00['Count'] / df00['Count'].sum()) * 100\n",
    "df.loc[df['Year'] == '2010', 'Percent'] =  (df10['Count'] / df10['Count'].sum()) * 100\n",
    "df.loc[df['Year'] == '2020', 'Percent'] =  (df20['Count'] / df20['Count'].sum()) * 100\n",
    "# df.loc[df['Year'] == '2021', 'Percent'] =  (df21['Count'] / df21['Count'].sum()) * 100\n",
    "\n",
    "raceList = ['American Indian and Alaska Native alone',\n",
    " 'Asian alone',\n",
    " 'Black or African American alone',\n",
    " 'Hispanic or Latino',\n",
    " 'Native Hawaiian and Other Pacific Islander alone',\n",
    " 'Some other race alone',\n",
    " 'Two or more races',\n",
    " 'White alone']\n",
    "\n",
    "pivotRace = pd.pivot_table(df,index=['Year'],\n",
    "                              columns='Race',\n",
    "                              values='Percent')\n",
    "\n",
    "flat = pd.DataFrame(pivotRace.to_records())\n",
    "df = flat\n",
    "\n",
    "raceList = df.columns.to_list()\n",
    "raceList.remove('Year')\n",
    "fig = px.bar(df, x=\"Year\", \n",
    "             y=raceList, \n",
    "             color_discrete_sequence=colors\n",
    "             )\n",
    "\n",
    "fig.update_traces(hovertemplate='<br> %{y:.2f}%')\n",
    "\n",
    "# set layout\n",
    "fig.update_layout(title='Race', \n",
    "                    font_family=font,\n",
    "                    template=template,\n",
    "                    showlegend=True,\n",
    "                    legend_title='',\n",
    "                    hovermode=\"x unified\",\n",
    "                    xaxis = dict(\n",
    "                        type='category',\n",
    "                        tickmode = 'linear'\n",
    "                    ),\n",
    "                    yaxis = dict(\n",
    "                        tickmode = 'linear',\n",
    "                        tick0 = 0,\n",
    "                        dtick = 10,\n",
    "                        range=[0, 100],\n",
    "                        title_text='Percent'\n",
    "                    )\n",
    "                 )\n",
    "\n",
    "fig.show()\n",
    "fig.write_html(os.path.join(workspace, \"Demographics_Tahoe_RaceDistribution.html\"))"
   ]
  },
  {
   "cell_type": "markdown",
   "id": "2efb9aaa",
   "metadata": {},
   "source": [
    "### Population change by neighborhood"
   ]
  },
  {
   "cell_type": "code",
   "execution_count": null,
   "id": "c164251d",
   "metadata": {},
   "outputs": [],
   "source": [
    "service_url = 'https://maps.trpa.org/server/rest/services/Demographics/FeatureServer/31'\n",
    "\n",
    "feature_layer = FeatureLayer(service_url)\n",
    "query_result = feature_layer.query()\n",
    "# Convert the query result to a list of dictionaries\n",
    "feature_list = query_result.features\n",
    "\n",
    "# Create a pandas DataFrame from the list of dictionaries\n",
    "neighborhood_data = pd.DataFrame([feature.attributes for feature in feature_list])\n"
   ]
  },
  {
   "cell_type": "code",
   "execution_count": null,
   "id": "eb548e4a",
   "metadata": {},
   "outputs": [],
   "source": [
    "neighborhood_pop_change = neighborhood_data[['NEIGHBORHOOD', 'STATE', 'Population_Change']]\n",
    "\n",
    "neighborhood_pop_change.sort_values(by=['STATE','NEIGHBORHOOD'], inplace=True, ascending=False, ignore_index = True)\n",
    "\n",
    "color_mapping = {\n",
    "    'NV': '#ed954d',\n",
    "    'CA': '#07467c'\n",
    "}\n",
    "\n",
    "\n",
    "'''def conditional_color(row):\n",
    "    if row['STATE'] == 'CA' and row['Population_Change']>=0:\n",
    "        return '#0a4c86'\n",
    "    if row['STATE'] == 'CA' and row['Population_Change']<0:\n",
    "        return '#4fb5ce'\n",
    "    if row['STATE'] == 'NV' and row['Population_Change']>=0:\n",
    "        return '#f87e3b'\n",
    "    if row['STATE'] == 'NV' and row['Population_Change']<0:\n",
    "        return '#f0d087'\n",
    "\n",
    "\n",
    "neighborhood_pop_change['Color']= neighborhood_pop_change.apply(conditional_color, axis=1)\n",
    "'''\n",
    "\n",
    "fig = px.bar(neighborhood_pop_change, x='Population_Change', \n",
    "             y=\"NEIGHBORHOOD\", color= 'STATE', \n",
    "            color_discrete_map=color_mapping\n",
    "             )\n",
    "#fig.update_traces(marker_color=neighborhood_pop_change[\"Color\"])\n",
    "fig.update_layout(\n",
    "    title='Population Change by Community: 2010 to 2020',\n",
    "    title_x= 0.5,\n",
    "    title_font = dict(size=24),\n",
    "    xaxis_title='Population Change',\n",
    "    yaxis_title='Community',\n",
    "    plot_bgcolor='rgba(0,0,0,0)',\n",
    "    legend=dict(\n",
    "        title='State',  # Legend title\n",
    "        \n",
    "        x=0.85,  # X-position of the legend\n",
    "        y=1,  # Y-position of the legend\n",
    "        traceorder = 'reversed',\n",
    "        font=dict(size=16)\n",
    "    )\n",
    "    #legend_title='State',\n",
    "    #legend_traceorder='reversed'\n",
    ")\n",
    "\n",
    "fig.update_xaxes(\n",
    "    range=[-800, 800]  # Set the x-axis range\n",
    ")\n",
    "fig.show()\n",
    "\n",
    "fig.write_html(os.path.join(workspace, \"Demographics_Tahoe_Population_Change_Neighborhood.html\"))\n"
   ]
  },
  {
   "cell_type": "markdown",
   "id": "8c65b0d6",
   "metadata": {},
   "source": [
    "### Color Adjusted"
   ]
  },
  {
   "cell_type": "code",
   "execution_count": null,
   "id": "842c138b",
   "metadata": {},
   "outputs": [],
   "source": [
    "neighborhood_pop_change = neighborhood_data[['NEIGHBORHOOD', 'STATE', 'Population_Change']]\n",
    "\n",
    "neighborhood_pop_change.sort_values(by=['STATE','NEIGHBORHOOD'], inplace=True, ascending=False, ignore_index = True)\n",
    "\n",
    "color_mapping = {\n",
    "    'NV': '#ed954d',\n",
    "    'CA': '#07467c'\n",
    "}\n",
    "\n",
    "\n",
    "color_mapping_pos = {\n",
    "    'NV_Pos': '#ed954d',\n",
    "    'CA_Pos': '#07467c',\n",
    "    'NV_Neg': '#f3db9d',\n",
    "    'CA_Neg': '#87d0df',\n",
    "\n",
    "}\n",
    "\n",
    "def conditional_color(row):\n",
    "    if row['STATE'] == 'CA' and row['Population_Change']>=0:\n",
    "        return 'CA_Pos'\n",
    "    if row['STATE'] == 'CA' and row['Population_Change']<0:\n",
    "        return 'CA_Neg'\n",
    "    if row['STATE'] == 'NV' and row['Population_Change']>=0:\n",
    "        return 'NV_Pos'\n",
    "    if row['STATE'] == 'NV' and row['Population_Change']<0:\n",
    "        return '#NV_Neg'\n",
    "\n",
    "\n",
    "neighborhood_pop_change['Color']= neighborhood_pop_change.apply(conditional_color, axis=1)\n",
    "neighborhood_pop_change['Alpha'] = np.where(neighborhood_pop_change['Population_Change'] >= 0, 1, 0.3)\n",
    "'''\n",
    "fig = px.bar(neighborhood_pop_change, x='Population_Change', \n",
    "             y=\"NEIGHBORHOOD\", color= 'STATE',\n",
    "            color_discrete_map=color_mapping\n",
    "             )\n",
    "'''\n",
    "'''\n",
    "for index, row in neighborhood_pop_change.iterrows():\n",
    "    alpha = row['Alpha']\n",
    "    print(index)\n",
    "    print(alpha)\n",
    "    fig.update_traces(marker=dict(opacity=alpha), selector=dict(index=index))\n",
    "'''\n",
    "'''\n",
    "fig.update_traces(marker=dict(color='#440900'), selector=dict(index=4))\n",
    "\n",
    "#fig.update_traces(marker_color=neighborhood_pop_change[\"Color\"])\n",
    "fig.update_layout(\n",
    "    title='Population Change by Community: 2010 to 2020',\n",
    "    title_x= 0.5,\n",
    "    title_font = dict(size=24),\n",
    "    xaxis_title='Population Change',\n",
    "    yaxis_title='Community',\n",
    "    plot_bgcolor='rgba(0,0,0,0)',\n",
    "    legend=dict(\n",
    "        title='State',  # Legend title\n",
    "        \n",
    "        x=0.85,  # X-position of the legend\n",
    "        y=1,  # Y-position of the legend\n",
    "        traceorder = 'reversed',\n",
    "        font=dict(size=16)\n",
    "    )\n",
    "    #legend_title='State',\n",
    "    #legend_traceorder='reversed'\n",
    ")\n",
    "\n",
    "fig.update_xaxes(\n",
    "    range=[-800, 800]  # Set the x-axis range\n",
    ")\n",
    "fig.show()\n",
    "for i, trace in enumerate(fig.data):\n",
    "    print(f\"Trace {i} index: {trace.index}\")\n",
    "#fig.write_html(os.path.join(workspace, \"Demographics_Tahoe_Population_Change_Neighborhood.html\"))\n",
    "\n",
    "\n",
    "'''\n",
    "fig = go.Figure()\n",
    "\n",
    "legend_added = set()  # To track added legends\n",
    "\n",
    "for index, row in neighborhood_pop_change.iterrows():\n",
    "    color = color_mapping_pos.get(row['Color'], 'gray')  # Default to gray if no mapping\n",
    "    state_color  = color_mapping.get(row['STATE'], 'gray')\n",
    "    if row['STATE'] not in legend_added:\n",
    "        legend_added.add(row['STATE'])  # Add to the set of added legends\n",
    "        \n",
    "        fig.add_trace(go.Bar(y=[row['NEIGHBORHOOD']], x=[0], orientation='h', marker_color=state_color,\n",
    "                             opacity=1, name=row['STATE'], legendgroup=row['STATE']))\n",
    "        \n",
    "    fig.add_trace(go.Bar(y=[row['NEIGHBORHOOD']], x=[row['Population_Change']], orientation='h', marker_color=color,\n",
    "                          # Use alpha column for transparency in traces,\n",
    "                         legendgroup=row['STATE'], showlegend=False))\n",
    "\n",
    "fig.update_layout(\n",
    "    title='Population Change by Community: 2010 to 2020',\n",
    "    title_x= 0.5,\n",
    "    barmode = 'relative',\n",
    "    title_font = dict(size=24),\n",
    "    xaxis_title='Population Change',\n",
    "    yaxis_title='Community',\n",
    "    plot_bgcolor='rgba(0,0,0,0)',\n",
    "    legend=dict(\n",
    "        title='State',  # Legend title\n",
    "        \n",
    "        x=0.85,  # X-position of the legend\n",
    "        y=1,  # Y-position of the legend\n",
    "        traceorder = 'reversed',\n",
    "        font=dict(size=16)\n",
    "    )\n",
    "    #legend_title='State',\n",
    "    #legend_traceorder='reversed'\n",
    ")\n",
    "\n",
    "fig.update_xaxes(\n",
    "    range=[-800, 800]  # Set the x-axis range\n",
    ")\n",
    "fig.show()\n",
    "\n",
    "fig.write_html(os.path.join(workspace, \"Demographics_Tahoe_Population_Change_Neighborhood_colormod.html\"))\n"
   ]
  },
  {
   "cell_type": "markdown",
   "id": "6443e0c3",
   "metadata": {},
   "source": [
    "### Alpha adjusted"
   ]
  },
  {
   "cell_type": "code",
   "execution_count": null,
   "id": "48503e72",
   "metadata": {},
   "outputs": [],
   "source": [
    "neighborhood_pop_change = neighborhood_data[['NEIGHBORHOOD', 'STATE', 'Population_Change']]\n",
    "\n",
    "neighborhood_pop_change.sort_values(by=['STATE','NEIGHBORHOOD'], inplace=True, ascending=False, ignore_index = True)\n",
    "\n",
    "color_mapping = {\n",
    "    'NV': '#ed954d',\n",
    "    'CA': '#07467c'\n",
    "}\n",
    "\n",
    "\n",
    "color_mapping_pos = {\n",
    "    'NV_Pos': '#ed954d',\n",
    "    'CA_Pos': '#07467c',\n",
    "    'NV_Neg': '#f3db9d',\n",
    "    'CA_Neg': '#87d0df',\n",
    "\n",
    "}\n",
    "\n",
    "def conditional_color(row):\n",
    "    if row['STATE'] == 'CA' and row['Population_Change']>=0:\n",
    "        return 'CA_Pos'\n",
    "    if row['STATE'] == 'CA' and row['Population_Change']<0:\n",
    "        return 'CA_Neg'\n",
    "    if row['STATE'] == 'NV' and row['Population_Change']>=0:\n",
    "        return 'NV_Pos'\n",
    "    if row['STATE'] == 'NV' and row['Population_Change']<0:\n",
    "        return '#NV_Neg'\n",
    "\n",
    "\n",
    "neighborhood_pop_change['Color']= neighborhood_pop_change.apply(conditional_color, axis=1)\n",
    "neighborhood_pop_change['Alpha'] = np.where(neighborhood_pop_change['Population_Change'] >= 0, 1, 0.6)\n",
    "\n",
    "fig = go.Figure()\n",
    "\n",
    "legend_added = set()  # To track added legends\n",
    "\n",
    "for index, row in neighborhood_pop_change.iterrows():\n",
    "    color =color_mapping.get(row['STATE'], 'gray') # Default to gray if no mapping\n",
    "    state_color  = color_mapping.get(row['STATE'], 'gray')\n",
    "    if row['STATE'] not in legend_added:\n",
    "        legend_added.add(row['STATE'])  # Add to the set of added legends\n",
    "        \n",
    "        fig.add_trace(go.Bar(y=[row['NEIGHBORHOOD']], x=[0], orientation='h', marker_color=state_color,\n",
    "                             opacity=1, name=row['STATE'], legendgroup=row['STATE']))\n",
    "        \n",
    "    fig.add_trace(go.Bar(y=[row['NEIGHBORHOOD']], x=[row['Population_Change']], orientation='h', marker_color=color,\n",
    "                          # Use alpha column for transparency in traces,\n",
    "                          opacity=row['Alpha'], \n",
    "                         legendgroup=row['STATE'], showlegend=False))\n",
    "\n",
    "fig.update_layout(\n",
    "    title='Population Change by Community: 2010 to 2020',\n",
    "    title_x= 0.5,\n",
    "    barmode = 'relative',\n",
    "    title_font = dict(size=24),\n",
    "    xaxis_title='Population Change',\n",
    "    yaxis_title='Community',\n",
    "    plot_bgcolor='rgba(0,0,0,0)',\n",
    "    legend=dict(\n",
    "        title='State',  # Legend title\n",
    "        \n",
    "        x=0.85,  # X-position of the legend\n",
    "        y=1,  # Y-position of the legend\n",
    "        traceorder = 'reversed',\n",
    "        font=dict(size=16)\n",
    "    )\n",
    "    #legend_title='State',\n",
    "    #legend_traceorder='reversed'\n",
    ")\n",
    "\n",
    "fig.update_xaxes(\n",
    "    range=[-800, 800]  # Set the x-axis range\n",
    ")\n",
    "fig.show()\n",
    "\n",
    "fig.write_html(os.path.join(workspace, \"Demographics_Tahoe_Population_Change_Neighborhood_alphamod.html\"))\n"
   ]
  },
  {
   "cell_type": "code",
   "execution_count": null,
   "id": "cac25a06",
   "metadata": {},
   "outputs": [],
   "source": [
    "neighborhood_housing_change = neighborhood_data[['NEIGHBORHOOD', 'STATE', 'Housing_Unit_Change']]\n",
    "\n",
    "neighborhood_housing_change.sort_values(by=['STATE','NEIGHBORHOOD'], inplace=True, ascending=False)\n",
    "\n",
    "\n",
    "color_mapping = {\n",
    "    'NV': '#ed954d',\n",
    "    'CA': '#07467c'\n",
    "}\n",
    "\n",
    "neighborhood_housing_change['Alpha'] = np.where(neighborhood_housing_change['Housing_Unit_Change'] >= 0, 1, 0.6)\n",
    "\n",
    "fig = go.Figure()\n",
    "\n",
    "legend_added = set()  # To track added legends\n",
    "\n",
    "for index, row in neighborhood_housing_change.iterrows():\n",
    "    color =color_mapping.get(row['STATE'], 'gray') # Default to gray if no mapping\n",
    "    state_color  = color_mapping.get(row['STATE'], 'gray')\n",
    "    if row['STATE'] not in legend_added:\n",
    "        legend_added.add(row['STATE'])  # Add to the set of added legends\n",
    "        \n",
    "        fig.add_trace(go.Bar(y=[row['NEIGHBORHOOD']], x=[0], orientation='h', marker_color=state_color,\n",
    "                             opacity=1, name=row['STATE'], legendgroup=row['STATE']))\n",
    "        \n",
    "    fig.add_trace(go.Bar(y=[row['NEIGHBORHOOD']], x=[row['Housing_Unit_Change']], orientation='h', marker_color=color,\n",
    "                          # Use alpha column for transparency in traces,\n",
    "                          opacity=row['Alpha'], \n",
    "                         legendgroup=row['STATE'], showlegend=False))\n",
    "\n",
    "fig.update_layout(\n",
    "    title='Housing Unit Change by Community: 2010 to 2020',\n",
    "    title_x= 0.5,\n",
    "    barmode = 'relative',\n",
    "    title_font = dict(size=24),\n",
    "    xaxis_title='Housing Unit Change',\n",
    "    yaxis_title='Community',\n",
    "    plot_bgcolor='rgba(0,0,0,0)',\n",
    "    legend=dict(\n",
    "        title='State',  # Legend title\n",
    "        \n",
    "        x=0.85,  # X-position of the legend\n",
    "        y=1,  # Y-position of the legend\n",
    "        traceorder = 'reversed',\n",
    "        font=dict(size=16)\n",
    "    )\n",
    "    #legend_title='State',\n",
    "    #legend_traceorder='reversed'\n",
    ")\n",
    "\n",
    "fig.update_xaxes(\n",
    "    range=[-1000, 1000]  # Set the x-axis range\n",
    ")\n",
    "fig.show()\n",
    "\n",
    "fig.write_html(os.path.join(workspace, \"Demographics_Tahoe_Housing_Change_Neighborhood_alphamod.html\"))\n",
    "\n"
   ]
  },
  {
   "cell_type": "code",
   "execution_count": null,
   "id": "4479fc17",
   "metadata": {},
   "outputs": [],
   "source": [
    "neighborhood_housing_change = neighborhood_data[['NEIGHBORHOOD', 'STATE', 'Housing_Unit_Change']]\n",
    "\n",
    "neighborhood_housing_change.sort_values(by=['STATE','NEIGHBORHOOD'], inplace=True, ascending=False)\n",
    "\n",
    "\n",
    "color_mapping = {\n",
    "    'NV': '#ed954d',\n",
    "    'CA': '#07467c'\n",
    "}\n",
    "\n",
    "\n",
    "\n",
    "\n",
    "fig = px.bar(neighborhood_housing_change, x='Housing_Unit_Change', \n",
    "             y=\"NEIGHBORHOOD\", color= \"STATE\",\n",
    "             color_discrete_map=color_mapping\n",
    "             )\n",
    "\n",
    "fig.update_layout(\n",
    "    title='Housing Unit Change by Community: 2010 to 2020',\n",
    "    title_x= 0.5,\n",
    "    title_font = dict(size=24),\n",
    "    xaxis_title='Housing Unit Change',\n",
    "    yaxis_title='Community',\n",
    "    plot_bgcolor='rgba(0,0,0,0)',\n",
    "    legend=dict(\n",
    "        title='State',  # Legend title\n",
    "        \n",
    "        x=0.85,  # X-position of the legend\n",
    "        y=1,  # Y-position of the legend\n",
    "        traceorder = 'reversed',\n",
    "        font=dict(size=16)\n",
    "    )\n",
    "    #legend_title='State',\n",
    "    #legend_traceorder='reversed'\n",
    ")\n",
    "\n",
    "fig.update_xaxes(\n",
    "    range=[-1000, 1000]  # Set the x-axis range\n",
    ")\n",
    "fig.show()\n",
    "\n",
    "fig.write_html(os.path.join(workspace, \"Demographics_Tahoe_Housing_Change_Neighborhood.html\"))\n"
   ]
  },
  {
   "cell_type": "markdown",
   "id": "f312696b",
   "metadata": {},
   "source": [
    "### Population and Housing Unit by neighborhood on the same figure"
   ]
  },
  {
   "cell_type": "code",
   "execution_count": null,
   "id": "3d5a1dc9",
   "metadata": {},
   "outputs": [],
   "source": [
    "#Not working right now\n",
    "fig = make_subplots(rows=2, cols=1, shared_yaxes=True)\n",
    "\n",
    "fig.add_trace(go.Bar(y = neighborhood_pop_change['NEIGHBORHOOD'], \n",
    "\t\t\t\t\tx = neighborhood_pop_change['Population_Change']\n",
    "             ),\n",
    "\t\t\t row=1, col=1)\n",
    "\n",
    "\"\"\"fig.add_trace(go.Bar(neighborhood_housing_change, x='Housing_Unit_Change', \n",
    "             y=\"NEIGHBORHOOD\", color= \"STATE\",\n",
    "             color_discrete_map=color_mapping\n",
    "             ),\n",
    "\t\t\t\t\trow=2, col=1)\"\"\"\n",
    "fig.show()"
   ]
  },
  {
   "cell_type": "markdown",
   "id": "cde378d6",
   "metadata": {},
   "source": [
    "### Housing"
   ]
  },
  {
   "cell_type": "code",
   "execution_count": null,
   "id": "c7c170ff",
   "metadata": {},
   "outputs": [],
   "source": [
    "## get housing unit data\n",
    "dfCensus = pd.read_sql(\"SELECT * FROM sde.SDE.Census_Demographics\", conn)\n",
    "dfHousing = dfCensus.loc[dfCensus.variable_category.isin(['Housing Units'])]\n",
    "dfHousing = dfHousing[dfHousing.dataset != 'acs/acs5']\n",
    "\n",
    "# group the data\n",
    "df = dfHousing.groupby(['variable_name','variable_code', 'year_sample'], as_index = False).sum(['value'])\n",
    "\n",
    "# Define the new row to be added\n",
    "new_row = {'variable_name': 'Vacant Housing Units: Other', 'year_sample': 2020, 'value': 0}\n",
    "# Use the loc method to add the new row to the DataFrame\n",
    "df.loc[len(df)] = new_row\n",
    "# Define the new row to be added\n",
    "new_row = {'variable_name': 'Vacant Housing Units: Other', 'year_sample': 2010, 'value': 0}\n",
    "# Use the loc method to add the new row to the DataFrame\n",
    "df.loc[len(df)] = new_row\n",
    "# Define the new row to be added\n",
    "new_row = {'variable_name': 'Vacant Housing Units: Other', 'year_sample': 2000, 'value': 0}\n",
    "# Use the loc method to add the new row to the DataFrame\n",
    "df.loc[len(df)] = new_row\n",
    "\n",
    "# Define conditions for rows\n",
    "year2000 = df['year_sample'] == 2000\n",
    "year2010 = df['year_sample'] == 2010\n",
    "year2020 = df['year_sample'] == 2020\n",
    "\n",
    "condition1 = df['variable_name'] == 'Total Housing Units: Vacant'\n",
    "condition2 = df['variable_name'] == 'Vacant Housing Units: Seasonal, recreational, or occasional use'\n",
    "target_row = df['variable_name'] == 'Vacant Housing Units: Other'\n",
    "\n",
    "# Calculate the difference between rows based on conditions\n",
    "diff_values00 = df.loc[year2000&condition1, 'value'].reset_index(drop=True) - df.loc[year2000&condition2, 'value'].reset_index(drop=True)\n",
    "diff_values10 = df.loc[year2010&condition1, 'value'].reset_index(drop=True) - df.loc[year2010&condition2, 'value'].reset_index(drop=True)\n",
    "diff_values20 = df.loc[year2020&condition1, 'value'].reset_index(drop=True) - df.loc[year2020&condition2, 'value'].reset_index(drop=True)\n",
    "\n",
    "# Update the 'value' column for rows with the difference values for each year\n",
    "df.loc[target_row&year2000, 'value'] = diff_values00[0]\n",
    "df.loc[target_row&year2010, 'value'] = diff_values10[0]\n",
    "df.loc[target_row&year2020, 'value'] = diff_values20[0]\n",
    "\n",
    "# filter dataframe\n",
    "df = df[~df.variable_name.isin(['Total Housing Units', 'Total Housing Units: Occupied', 'Total Housing Units: Vacant' ])]\n",
    "\n",
    "# setup new fields\n",
    "df['Housing Units'] = df['variable_name']\n",
    "# setup a new Year column and format it\n",
    "df['Year'] = pd.to_datetime(df['year_sample'], format='%Y') \n",
    "df['Year']   = df['Year'].dt.strftime('%Y')\n",
    "# setup a new Count field based on the summed values\n",
    "df['Count'] = df['value']\n",
    "# cast count as integer type\n",
    "df = df.astype({'Count':int})\n",
    "df['Percent'] = 0.0\n",
    "# keep the new columns\n",
    "df = df[['Housing Units','Year','Percent','Count']]\n",
    "\n",
    "df00 = df[df['Year']== '2000']\n",
    "df10 = df[df['Year']== '2010']\n",
    "df20 = df[df['Year']== '2020']\n",
    "\n",
    "# calculate percents of total for each year\n",
    "df.loc[df['Year'] == '2000', 'Percent'] =  (df00['Count'] / df00['Count'].sum()) * 100\n",
    "df.loc[df['Year'] == '2010', 'Percent'] =  (df10['Count'] / df10['Count'].sum()) * 100\n",
    "df.loc[df['Year'] == '2020', 'Percent'] =  (df20['Count'] / df20['Count'].sum()) * 100\n",
    "\n",
    "pivotRace = pd.pivot_table(df,index=['Year'],\n",
    "                              columns='Housing Units',\n",
    "                              values='Percent')\n",
    "\n",
    "flat = pd.DataFrame(pivotRace.to_records())\n",
    "df = flat\n",
    "\n",
    "# dcitionary to map old column names to new column names\n",
    "new_column_names = {\n",
    "    'Occupied Housing Units: Owner Occupied': 'Owner Occupied',\n",
    "    'Occupied Housing Units: Renter Occupied': 'Renter Occupied',\n",
    "    'Vacant Housing Units: Other': 'Vacant: other',\n",
    "    'Vacant Housing Units: Seasonal, recreational, or occasional use': 'Vacant: seasonal or occasional use'\n",
    "}\n",
    "\n",
    "# Rename the columns\n",
    "df = df.rename(columns=new_column_names)\n",
    "\n",
    "# get list of columns to stack in bar chart\n",
    "houseList = df.columns.to_list()\n",
    "houseList.remove('Year')\n",
    "\n",
    "# setup the figure\n",
    "fig = px.bar(df, x=\"Year\", \n",
    "             y=houseList, \n",
    "             color_discrete_sequence=colors\n",
    "             )\n",
    "\n",
    "fig.update_traces(hovertemplate='<br>%{y:.2f}%')\n",
    "\n",
    "# set layout\n",
    "fig.update_layout(title='Housing Units', \n",
    "                    font_family=font,\n",
    "                    template=template,\n",
    "                    showlegend=True,\n",
    "                    legend_title='',\n",
    "                    hovermode=\"x unified\",\n",
    "                    xaxis = dict(\n",
    "                        type='category',\n",
    "                        tickmode = 'linear'\n",
    "                    ),\n",
    "                    yaxis = dict(\n",
    "                        tickmode = 'linear',\n",
    "                        tick0 = 0,\n",
    "                        dtick = 10,\n",
    "                        range=[0, 100],\n",
    "                        title_text='Percent'\n",
    "                    )\n",
    "                 )\n",
    "\n",
    "fig.show()\n",
    "fig.write_html(os.path.join(workspace, \"Demographics_Tahoe_HousingUnits.html\"))\n"
   ]
  },
  {
   "cell_type": "markdown",
   "id": "ac3eb4db",
   "metadata": {},
   "source": [
    "### Population by State, County, and Selected Neighborhoods for Census Maps"
   ]
  },
  {
   "cell_type": "code",
   "execution_count": null,
   "id": "af406276",
   "metadata": {},
   "outputs": [],
   "source": [
    "service_url = 'https://maps.trpa.org/server/rest/services/Demographics/FeatureServer/31'\n",
    "\n",
    "feature_layer = FeatureLayer(service_url)\n",
    "query_result = feature_layer.query()\n",
    "# Convert the query result to a list of dictionaries\n",
    "feature_list = query_result.features\n",
    "\n",
    "# Create a pandas DataFrame from the list of dictionaries\n",
    "neighborhood_data = pd.DataFrame([feature.attributes for feature in feature_list])"
   ]
  },
  {
   "cell_type": "code",
   "execution_count": null,
   "id": "ceae399a",
   "metadata": {},
   "outputs": [],
   "source": [
    "grouped_neighborhood = neighborhood_data.groupby(\"STATE\")['Neighborhood_Population_2020'].sum().reset_index()\n",
    "# Add Formatting\n",
    "\n",
    "color_mapping = {\n",
    "    'NV': '#ed954d',\n",
    "    'CA': '#07467c'\n",
    "}\n",
    "\n",
    "fig = px.bar(grouped_neighborhood, x='STATE', \n",
    "             y=\"Neighborhood_Population_2020\", color = 'STATE', opacity = .90,\n",
    "              labels={'Category': 'STATE', 'Value': 'Neighborhood_Population_2020'},\n",
    "             color_discrete_map=color_mapping\n",
    "\n",
    "             )\n",
    "grouped_neighborhood['legend_column'] = grouped_neighborhood.apply(lambda row: f\"{row['STATE']} ({int(row['Neighborhood_Population_2020']):,d} Residents)\", axis=1)\n",
    "custom_names = grouped_neighborhood.set_index('STATE')['legend_column'].to_dict()\n",
    "fig.for_each_trace(lambda t: t.update(name = custom_names[t.name]))\n",
    "\n",
    "fig.update_layout(\n",
    "    title='',\n",
    "    title_x= 0.5,\n",
    "    xaxis_title='',\n",
    "    yaxis_title='',\n",
    "    plot_bgcolor='rgba(0,0,0,0)',\n",
    "    legend=dict(\n",
    "        title='State',  # Legend title\n",
    "        \n",
    "        x=0.85,  # X-position of the legend\n",
    "        y=1,  # Y-position of the legend\n",
    "        traceorder = 'reversed',\n",
    "        font=dict(size=16)\n",
    "    )\n",
    "    #legend_title='State',\n",
    "    #legend_traceorder='reversed'\n",
    ")\n",
    "fig.update_xaxes(showticklabels=False)\n",
    "fig.update_layout(showlegend=False)\n",
    "\n",
    "fig.update_layout(yaxis=dict( tickfont=dict(size=64)))\n",
    "\n",
    "\n",
    "image_width = 1000\n",
    "image_height = 1000\n",
    "fig.show()\n",
    "\n",
    "#Maybe update this for \n",
    "\n",
    "fig.write_html(os.path.join(workspace, \"census_presentation_state.html\"))\n",
    "pio.write_image(fig, 'census_presentation_state.png', width=image_width, height=image_height)\n"
   ]
  },
  {
   "cell_type": "code",
   "execution_count": null,
   "id": "972e2931",
   "metadata": {},
   "outputs": [],
   "source": [
    "import kaleido\n",
    "import plotly.io as pio\n",
    "\n",
    "color_mapping={\n",
    "'Douglas County': '#674A40',\n",
    "'El Dorado County': '#50A3A4',\n",
    "'Placer County': '#FCAF38',\n",
    "'Washoe County': '#F95335',\n",
    "}\n",
    "\n",
    "grouped_neighborhood = neighborhood_data.groupby(\"County\")['Neighborhood_Population_2020'].sum().reset_index()\n",
    "fig = px.bar(grouped_neighborhood, x='County', \n",
    "             y=\"Neighborhood_Population_2020\", color = 'County',\n",
    "             color_discrete_map=color_mapping, opacity = .90,\n",
    "              labels={'Category': 'County', 'Value': 'Neighborhood_Population_2020'}\n",
    "             )\n",
    "\n",
    "grouped_neighborhood['legend_column'] = grouped_neighborhood.apply(lambda row: f\"{row['County']} ({int(row['Neighborhood_Population_2020']):,d} Residents)\", axis=1)\n",
    "custom_names = grouped_neighborhood.set_index(\"County\")['legend_column'].to_dict()\n",
    "fig.for_each_trace(lambda t: t.update(name = custom_names[t.name]))\n",
    "\n",
    "fig.update_layout(\n",
    "    title='',\n",
    "    title_x= 0.5,\n",
    "    #title_font = dict(size=40),\n",
    "    xaxis_title='',\n",
    "    yaxis_title='',\n",
    "    plot_bgcolor='rgba(0,0,0,0)'\n",
    "    \n",
    ")\n",
    "fig.update_xaxes(showticklabels=False)\n",
    "fig.update_layout(showlegend=False)\n",
    "\n",
    "fig.update_layout(yaxis=dict( tickfont=dict(size=64)))\n",
    "\n",
    "fig.show()\n",
    "image_width = 1000\n",
    "image_height = 1000\n",
    "\n",
    "fig.write_html(os.path.join(workspace, \"census_presentation_county.html\"))\n",
    "pio.write_image(fig, 'bar_chart.png', width=image_width, height=image_height)"
   ]
  },
  {
   "cell_type": "code",
   "execution_count": null,
   "id": "55354e6a",
   "metadata": {},
   "outputs": [],
   "source": [
    "\n",
    "\n",
    "neighborhood_detail = ['Central Incline Village', 'South Lake Tahoe', 'Crystal Bay /surrounding Incline Village', 'Kings Beach /Brockway', \n",
    "                       'Glenbrook/ Kingsbury/ E. Shore Douglas', 'Meyers / Hope Valley / Luther Pass']\n",
    "neighborhood_data['Grouped_Neighborhoods'] = np.where(neighborhood_data['NEIGHBORHOOD'].isin(neighborhood_detail), neighborhood_data['NEIGHBORHOOD'], 'Other')\n",
    "color_mapping = {'Central Incline Village' : '#E8631E', 'South Lake Tahoe':'#88d8b0', 'Crystal Bay /surrounding Incline Village':'#ffeead', 'Kings Beach /Brockway':'#ff6f69', \n",
    "                       'Glenbrook/ Kingsbury/ E. Shore Douglas': '#5FB1E4', 'Meyers / Hope Valley / Luther Pass':'#ffcc5c', 'Other':'#828282'\n",
    "\n",
    "}\n",
    "\n",
    "#neighborhood_data['Grouped_Neighborhoods'] = neighborhood_data['NEIGHBORHOOD']\n",
    "grouped_neighborhood = neighborhood_data.groupby('Grouped_Neighborhoods')['Neighborhood_Population_2020'].sum().reset_index()\n",
    "\n",
    "neighborhood_order = ['Central Incline Village', 'Crystal Bay /surrounding Incline Village',  'Glenbrook/ Kingsbury/ E. Shore Douglas', 'Kings Beach /Brockway', \n",
    "                       'Meyers / Hope Valley / Luther Pass', 'South Lake Tahoe', 'Other']\n",
    "\n",
    "# Sort the DataFrame based on the custom order of the 'Name' column\n",
    "grouped_neighborhood = grouped_neighborhood.sort_values(by=['Grouped_Neighborhoods'], key=lambda x: x.map({v: i for i, v in enumerate(neighborhood_order)}))\n",
    "\n",
    "grouped_neighborhood.reset_index(drop=True, inplace=True)\n",
    "\n",
    "\n",
    "fig = px.bar(grouped_neighborhood, x='Grouped_Neighborhoods', \n",
    "             y=\"Neighborhood_Population_2020\", color = 'Grouped_Neighborhoods',\n",
    "             color_discrete_map=color_mapping, opacity = .90,\n",
    "              labels={'Category': 'Grouped_Neighborhoods', 'Value': 'Neighborhood_Population_2020'}\n",
    "             )\n",
    "\n",
    "grouped_neighborhood['legend_column'] = grouped_neighborhood.apply(lambda row: f\"{row['Grouped_Neighborhoods']} ({int(row['Neighborhood_Population_2020']):,d} Residents)\", axis=1)\n",
    "custom_names = grouped_neighborhood.set_index('Grouped_Neighborhoods')['legend_column'].to_dict()\n",
    "fig.for_each_trace(lambda t: t.update(name = custom_names[t.name]))\n",
    "\n",
    "#fig.update_layout(xaxis={'categoryorder':'total ascending'})\n",
    "\n",
    "fig.update_layout(\n",
    "    title='',\n",
    "    title_x= 0.5,\n",
    "    title_font = dict(size=32),\n",
    "    xaxis_title='',\n",
    "    yaxis_title='Population',\n",
    "    plot_bgcolor='rgba(0,0,0,0)'\n",
    "    \n",
    ")\n",
    "fig.update_xaxes(showticklabels=False)\n",
    "#fig.update_layout(showlegend=False)\n",
    "\n",
    "fig.update_layout(\n",
    "    title='',\n",
    "    title_x= 0.5,\n",
    "    #title_font = dict(size=40),\n",
    "    xaxis_title='',\n",
    "    yaxis_title='',\n",
    "    plot_bgcolor='rgba(0,0,0,0)'\n",
    "    \n",
    ")\n",
    "fig.update_xaxes(showticklabels=False)\n",
    "fig.update_layout(showlegend=False)\n",
    "\n",
    "fig.update_layout(yaxis=dict( tickfont=dict(size=64)))\n",
    "\n",
    "fig.show()\n",
    "image_width = 1000\n",
    "image_height = 1000\n",
    "fig.write_html(os.path.join(workspace, \"census_presentation_community.html\"))\n",
    "pio.write_image(fig, 'community_chart.png', width=image_width, height=image_height)"
   ]
  },
  {
   "cell_type": "markdown",
   "id": "545beb94",
   "metadata": {},
   "source": [
    "#### Tenancy"
   ]
  },
  {
   "cell_type": "markdown",
   "id": "78f4b695",
   "metadata": {},
   "source": [
    "### Housing Tenancy Chart"
   ]
  },
  {
   "cell_type": "markdown",
   "id": "c07faa1c",
   "metadata": {},
   "source": [
    "#### Values"
   ]
  },
  {
   "cell_type": "code",
   "execution_count": null,
   "id": "54c02782",
   "metadata": {},
   "outputs": [],
   "source": []
  },
  {
   "cell_type": "markdown",
   "id": "57a86ba1",
   "metadata": {},
   "source": [
    "#### Rents"
   ]
  },
  {
   "cell_type": "code",
   "execution_count": null,
   "id": "2392d798",
   "metadata": {},
   "outputs": [],
   "source": []
  },
  {
   "cell_type": "markdown",
   "id": "8b441e29",
   "metadata": {},
   "source": [
    "### Income"
   ]
  },
  {
   "cell_type": "markdown",
   "id": "4c409415",
   "metadata": {},
   "source": [
    "## Median Income graphs"
   ]
  },
  {
   "cell_type": "markdown",
   "id": "21ac50d6",
   "metadata": {},
   "source": [
    "### Import median income data"
   ]
  },
  {
   "cell_type": "code",
   "execution_count": null,
   "id": "07624507",
   "metadata": {},
   "outputs": [],
   "source": [
    "service_url = 'https://maps.trpa.org/server/rest/services/Demographics/FeatureServer/18'\n",
    "\n",
    "feature_layer = FeatureLayer(service_url)\n",
    "query_result = feature_layer.query()\n",
    "# Convert the query result to a list of dictionaries\n",
    "feature_list = query_result.features\n",
    "\n",
    "# Create a pandas DataFrame from the list of dictionaries\n",
    "all_data = pd.DataFrame([feature.attributes for feature in feature_list])\n",
    "\n",
    "acs_median_income_data = all_data.loc[(all_data['Category']=='Household Income (2021 Inflation Adjusted Dollars)')&(all_data['Year']>2010)]\n",
    "counties = ['El Dorado County (Tahoe Basin)','Douglas County (Tahoe Basin)', 'Placer County (Tahoe Basin)', 'Washoe County (Tahoe Basin)']\n",
    "acs_median_income_data_county = acs_median_income_data.loc[acs_median_income_data['Geography'].isin(counties)]\n",
    "acs_median_income_data_north_south = acs_median_income_data.loc[acs_median_income_data['Geography'].isin(['North Lake', 'South Lake'])]\n",
    "acs_median_income_data_Basin = acs_median_income_data.loc[acs_median_income_data['Geography'].isin(['Basin'])]"
   ]
  },
  {
   "cell_type": "markdown",
   "id": "f4021cb2",
   "metadata": {},
   "source": [
    "### Median Income Bar Chart"
   ]
  },
  {
   "cell_type": "code",
   "execution_count": null,
   "id": "2adfb409",
   "metadata": {},
   "outputs": [],
   "source": [
    "fig_bar = px.bar(acs_median_income_data_Basin, x=\"Year\", y=\"Value\",\n",
    "                labels=dict(Year='Year', Value='Median Income'),\n",
    "                title=\"Tahoe Median Income (2021 Dollars)\",\n",
    ")\n",
    "fig_bar.update_layout(font_family=font,\n",
    "                 template=template,\n",
    "                    hoverlabel=dict(\n",
    "                    bgcolor='white',\n",
    "                       font=dict(color='#6680A8') \n",
    "                    ),\n",
    "                    title=dict(\n",
    "                    x=0.5,\n",
    "                xanchor='center'),\n",
    "                    xaxis=dict(tick0=1990, dtick=10),\n",
    "                    yaxis=dict( ))\n",
    "fig_bar.update_traces(marker_color='#2F3F56',\n",
    "                     hovertemplate='Census Year: %{x} <br> Median Income: %{y:,.0f} ')\n",
    "fig_bar.show()\n",
    "\n",
    "\n",
    "\n",
    "fig_bar.write_html(os.path.join(workspace, \"Demographics_Tahoe_Median_Income_Bar.html\"))"
   ]
  },
  {
   "cell_type": "code",
   "execution_count": null,
   "id": "f5839752",
   "metadata": {},
   "outputs": [],
   "source": [
    "fig_line = px.line(acs_median_income_data_Basin, x='Year', y='Value',\n",
    "                   labels=dict(Year='Year', Value='Median Income'),\n",
    "                title=\"Tahoe Median Income (2021 Dollars)\")\n",
    "fig_line.update_layout(font_family=font,\n",
    "                 template=template,\n",
    "                    hoverlabel=dict(\n",
    "                    bgcolor='white',\n",
    "                       font=dict(color='#6680A8') \n",
    "                    ),\n",
    "                    title=dict(\n",
    "                    x=0.5,\n",
    "                xanchor='center'),\n",
    "                    yaxis=dict(  range=[0,90000])\n",
    "                    )\n",
    "fig_line.update_traces(marker_color='#2F3F56',\n",
    "                     hovertemplate='Census Year: %{x} <br> Median Income: %{y:,.0f} ')\n",
    "fig_line.show()\n",
    "\n",
    "fig_line.write_html(os.path.join(workspace, \"Demographics_Tahoe_Median_Income_Line.html\"))"
   ]
  },
  {
   "cell_type": "code",
   "execution_count": null,
   "id": "1d8ab77e",
   "metadata": {},
   "outputs": [],
   "source": [
    "counties = ['El Dorado County (Tahoe Basin)','Douglas County (Tahoe Basin)', 'Placer County (Tahoe Basin)', 'Washoe County (Tahoe Basin)', 'Basin']\n",
    "\n",
    "acs_median_income_data_county = acs_median_income_data.loc[acs_median_income_data['Geography'].isin(counties)]\n",
    "\n",
    "new_labels = {\n",
    "    'El Dorado County (Tahoe Basin)': 'El Dorado',\n",
    "    'Douglas County (Tahoe Basin)': 'Douglas', \n",
    "    'Placer County (Tahoe Basin)': 'Placer', \n",
    "    'Washoe County (Tahoe Basin)': 'Washoe', \n",
    "    'Basin': 'Basin (Median)'\n",
    "}\n",
    "\n",
    "acs_median_income_data_county['plot_labels'] = acs_median_income_data_county['Geography'].map(new_labels)\n",
    "\n",
    "fig_line = px.line(acs_median_income_data_county, x='Year', y='Value', color='plot_labels', hover_data=['Geography'],\n",
    "                   labels=dict(Year='Year', Value='Median Income'),\n",
    "                title=\"Median Income within Basin by County (2021 Dollars)\")\n",
    "fig_line.update_layout(font_family=font,\n",
    "                 template=template,\n",
    "                    hoverlabel=dict(\n",
    "                    bgcolor='white',\n",
    "                       font=dict(color='#6680A8') \n",
    "                    ),\n",
    "                    title=dict(\n",
    "                    x=0.5,\n",
    "                xanchor='center'),\n",
    "                    yaxis=dict(  range=[0,140000]),\n",
    "\n",
    "    plot_bgcolor='rgba(0,0,0,0)',\n",
    "    legend=dict(\n",
    "        title='County',  # Legend title\n",
    "        \n",
    "        \n",
    "        font=dict(size=16)\n",
    "    )\n",
    "    #legend_title='State',\n",
    "    #legend_traceorder='reversed'\n",
    "\n",
    "                    )\n",
    "fig_line.update_traces(hovertemplate='County: %{customdata[0]} <br> Census Year: %{x} <br> Median Income: $%{y:,.0f} ' )\n",
    "fig_line.update_traces(line=dict(dash=\"dash\"), selector=dict(name=\"Basin (Median)\"), opacity = .5)\n",
    "\n",
    "\n",
    "fig_line.show()\n",
    "\n",
    "fig_line.write_html(os.path.join(workspace, \"Demographics_Tahoe_County_Median_Income_Line.html\"))"
   ]
  },
  {
   "cell_type": "markdown",
   "id": "557d5949",
   "metadata": {},
   "source": [
    "# Census Presentation Graphs"
   ]
  },
  {
   "cell_type": "markdown",
   "id": "27ae1290",
   "metadata": {},
   "source": [
    "## Import Data "
   ]
  },
  {
   "cell_type": "code",
   "execution_count": null,
   "id": "b79c603a",
   "metadata": {},
   "outputs": [],
   "source": [
    "#Get Data\n",
    "service_url = 'https://maps.trpa.org/server/rest/services/Demographics/FeatureServer/28'\n",
    "\n",
    "feature_layer = FeatureLayer(service_url)\n",
    "query_result = feature_layer.query()\n",
    "# Convert the query result to a list of dictionaries\n",
    "feature_list = query_result.features\n",
    "\n",
    "# Create a pandas DataFrame from the list of dictionaries\n",
    "all_data = pd.DataFrame([feature.attributes for feature in feature_list])"
   ]
  },
  {
   "cell_type": "markdown",
   "id": "0bc376fc",
   "metadata": {},
   "source": [
    "#### Income Distribution By Year"
   ]
  },
  {
   "cell_type": "code",
   "execution_count": null,
   "id": "e5643d4c",
   "metadata": {},
   "outputs": [],
   "source": [
    "income_data = all_data.loc[(all_data['sample_level']=='tract')&(all_data['county']!='510')&\n",
    "                           (all_data['variable_category']=='Household Income')&\n",
    "                           (all_data['dataset']=='acs/acs5')]\n",
    "income_data = income_data.loc[income_data['year_sample']>2015]\n",
    "\n",
    "color_mapping = {\n",
    "    'Under $40k/Yr': '#F73D34',\n",
    "    '$40k to $75k': '#1B91F7',\n",
    "'$75k to $150k': '#E9F702',\n",
    "'Over $150k': '#A1AB0A'\n",
    "}\n",
    "\n",
    "grouped_income_categories = {\n",
    "    '$10,000 to $14,999' : 'Under $40k/Yr',\n",
    "'$100,000 to $124,999' : '$75k to $150k',\n",
    "'$125,000 to $149,999' : '$75k to $150k',\n",
    "'$15,000 to $19,999' : 'Under $40k/Yr',\n",
    "'$150,000 to $199,999' : 'Over $150k',\n",
    "'$20,000 to $24,999' : 'Under $40k/Yr',\n",
    "'$200,000 or more' : 'Over $150k',\n",
    "'$25,000 to $29,999' : 'Under $40k/Yr',\n",
    "'$30,000 to $34,999' : 'Under $40k/Yr',\n",
    "'$35,000 to $39,999' : 'Under $40k/Yr',\n",
    "'$40,000 to $44,999' : '$40k to $75k',\n",
    "'$45,000 to $49,999' : '$40k to $75k',\n",
    "'$50,000 to $59,999' : '$40k to $75k',\n",
    "'$60,000 to $74,999' : '$40k to $75k',\n",
    "'$75,000 to $99,999' : '$75k to $150k',\n",
    "'Less than $10,000' : 'Under $40k/Yr'\n",
    "\n",
    "}\n",
    "\n",
    "income_data['grouped_income'] = income_data['variable_name'].map(grouped_income_categories)\n",
    "income_data['Year'] = income_data['year_sample'].astype(int).astype('str')\n",
    "\n",
    "grouped_income_data = income_data.groupby(['Year', 'grouped_income'], as_index=False)['value'].sum()\n",
    "\n",
    "# Define a custom sorting order for the 'Name' column\n",
    "custom_order = ['Under $40k/Yr', '$40k to $75k', '$75k to $150k', 'Over $150k']\n",
    "\n",
    "# Sort the DataFrame based on the custom order of the 'Name' column\n",
    "grouped_income_data = grouped_income_data.sort_values(by=['grouped_income'], key=lambda x: x.map({v: i for i, v in enumerate(custom_order)}))\n",
    "\n",
    "grouped_income_data.reset_index(drop=True, inplace=True)\n",
    "\n",
    "\n",
    "fig_bar = px.bar(grouped_income_data, x=\"Year\", y=\"value\", color = 'grouped_income', barmode='group',\n",
    "                 color_discrete_sequence=px.colors.qualitative.Safe,\n",
    "                #labels=dict(Year='Year', Value='Median Income'),\n",
    "                title=\"Tahoe Household Income\")\n",
    "                 #color_discrete_sequence=px.colors.qualitative.Safe)\n",
    "                #labels=dict(Year='Year', Value='Median Income'),\n",
    "                #title=\"Tahoe Median Income (2021 Dollars)\",\n",
    "\n",
    "# Replace Hover Text\n",
    "fig_bar.update_layout(font_family=font,\n",
    "                 template=template,\n",
    "                 bargroupgap = 0.10,\n",
    "                    hoverlabel=dict(\n",
    "                    bgcolor='white',\n",
    "                  \n",
    "                       font=dict(color='#6680A8') \n",
    "                    ),\n",
    "                title=dict(\n",
    "                    x=0.5,\n",
    "                    xanchor='center',\n",
    "                    font=dict(size=24)\n",
    "                    ),\n",
    "    legend=dict(\n",
    "        title='Household Income',  # Legend title\n",
    "        font=dict(size=16)\n",
    "        ), xaxis_title='',\n",
    "    yaxis_title='',yaxis=dict(\n",
    "        tickformat=\",.0f\"\n",
    "),\n",
    "\n",
    ")\n",
    "\n",
    "\n",
    "fig_bar.update_yaxes(\n",
    "    range=[0, 8000]  # Set the x-axis range\n",
    ")\n",
    "#fig_bar.update_traces(marker_color='#2F3F56',\n",
    "#                     hovertemplate='Census Year: %{x} <br> Median Income: %{y:,.0f} ')\n",
    "fig_bar.show()\n",
    "\n",
    "image_width = 1800\n",
    "image_height = 600\n",
    "\n",
    "fig_bar.write_html(os.path.join(workspace, \"Demographics_Tahoe_Income_Categories_Bar_Year.html\"))\n",
    "\n",
    "#pio.write_image(fig_bar, 'Chart_Outputs\\Demographics_Tahoe_Income_Categories_Bar_Year.png', width=image_width, height=image_height)\n"
   ]
  },
  {
   "cell_type": "code",
   "execution_count": null,
   "id": "77b01988",
   "metadata": {},
   "outputs": [],
   "source": [
    "custom_order = ['2016', '2017', '2018', '2019', '2020', '2021']\n",
    "font = \"Arial\"\n",
    "# Sort the DataFrame based on the custom order of the 'Name' column\n",
    "grouped_income_data = grouped_income_data.sort_values(by=['Year'], key=lambda x: x.map({v: i for i, v in enumerate(custom_order)}))\n",
    "\n",
    "grouped_income_data.reset_index(drop=True, inplace=True)\n",
    "\n",
    "\n",
    "fig_bar = px.bar(grouped_income_data, x='grouped_income', y=\"value\", color = 'Year', barmode='group',\n",
    "                 color_discrete_sequence=px.colors.qualitative.Safe,\n",
    "                #labels=dict(Year='Year', Value='Median Income'),\n",
    "                title=\"Tahoe Region Households by Household Income\")\n",
    "                 #color_discrete_sequence=px.colors.qualitative.Safe)\n",
    "                #labels=dict(Year='Year', Value='Median Income'),\n",
    "                #title=\"Tahoe Median Income (2021 Dollars)\",\n",
    "\n",
    "# Replace Hover Text\n",
    "fig_bar.update_layout(font_family=font,\n",
    "                 template=template,\n",
    "                 bargroupgap = 0.10,\n",
    "                    hoverlabel=dict(\n",
    "                    bgcolor='white',\n",
    "                  \n",
    "                       font=dict(color='#6680A8') \n",
    "                    ),\n",
    "                title=dict(\n",
    "                    x=0.5,\n",
    "                    font= dict(size=24),\n",
    "                    xanchor='center'\n",
    "                    ),\n",
    "    legend=dict(\n",
    "        title='Year',  # Legend title\n",
    "        font=dict(size=16)\n",
    "        ), xaxis_title='',\n",
    "\n",
    "    yaxis_title='',yaxis=dict(\n",
    "        tickformat=\",.0f\"\n",
    "),\n",
    "\n",
    ")\n",
    "\n",
    "fig_bar.update_xaxes(\n",
    "    title_font=dict(size=16), tickfont = dict(size=20)\n",
    ")\n",
    "fig_bar.update_yaxes(\n",
    "    range=[0, 8000]  # Set the x-axis range\n",
    ")\n",
    "#fig_bar.update_traces(marker_color='#2F3F56',\n",
    "#                     hovertemplate='Census Year: %{x} <br> Median Income: %{y:,.0f} ')\n",
    "fig_bar.show()\n",
    "\n",
    "\n",
    "\n",
    "fig_bar.write_html(os.path.join(workspace, \"Demographics_Tahoe_Income_Categories_Bar.html\"))"
   ]
  },
  {
   "cell_type": "markdown",
   "id": "27aaf79e",
   "metadata": {},
   "source": [
    "### Age distribution"
   ]
  },
  {
   "cell_type": "code",
   "execution_count": null,
   "id": "d321183a",
   "metadata": {},
   "outputs": [],
   "source": [
    "age_data = all_data.loc[(all_data['sample_level']=='tract')&(all_data['county']!='510')&\n",
    "                           (all_data['variable_category']=='TRPA 10-year Age Categories Grouped: Age')&\n",
    "                           (all_data['variable_name']!='Total')]\n",
    "#age_data = age_data.loc[age_data['year_sample']>2015]\n",
    "\n",
    "\n",
    "Age_Mapping = {'10 to 19' : 'Under 30',\n",
    "'20 to 29' : 'Under 30',\n",
    "'30 to 39' : 'Ages 30-49',\n",
    "'40 to 49' : 'Ages 30-49',\n",
    "'50 to 59' : 'Age 50 and Over',\n",
    "'60 to 69' : 'Age 50 and Over',\n",
    "'70 to 79' : 'Age 50 and Over',\n",
    "'Over 80' : 'Age 50 and Over',\n",
    "'Under 10' : 'Under 30'}\n",
    "\n",
    "\n",
    "age_data['grouped_age'] = age_data['variable_name'].map(Age_Mapping)\n",
    "age_data['Year'] = age_data['year_sample'].astype(int).astype('str')\n",
    "\n",
    "grouped_age_data = age_data.groupby(['Year', 'grouped_age'], as_index=False)['value'].sum()\n",
    "\n",
    "# Define a custom sorting order for the 'Name' column\n",
    "custom_order = ['Under 30', 'Ages 30-49', 'Age 50 and Over']\n",
    "\n",
    "# Sort the DataFrame based on the custom order of the 'Name' column\n",
    "grouped_age_data = grouped_age_data.sort_values(by=['grouped_age'], key=lambda x: x.map({v: i for i, v in enumerate(custom_order)}))\n",
    "\n",
    "grouped_age_data.reset_index(drop=True, inplace=True)\n",
    "\n",
    "fig_bar = px.bar(grouped_age_data, x=\"Year\", y=\"value\", color = 'grouped_age', barmode='group',\n",
    "                 color_discrete_sequence=px.colors.qualitative.T10, opacity = .9,\n",
    "                #labels=dict(Year='Year', Value='Median Income'),\n",
    "                title=\"Tahoe is Getting Older\")\n",
    "\n",
    "fig_bar.update_layout(font_family=font,\n",
    "                 template=template,\n",
    "                    hoverlabel=dict(\n",
    "                    bgcolor='white',\n",
    "                       font=dict(color='#6680A8') \n",
    "                    ),\n",
    "                    title=dict(\n",
    "                    x=0.5,\n",
    "                xanchor='center', font=dict(size=36)), bargroupgap = 0.10,\n",
    "    legend=dict(\n",
    "        title='',  # Legend title\n",
    "        font=dict(size=18),\n",
    "        orientation = 'h',\n",
    "        yanchor = 'bottom',\n",
    "        y=-.4,\n",
    "        x=.3), xaxis_title='',\n",
    "    yaxis_title='Number of Residents',yaxis=dict(\n",
    "        tickformat=\",.0f\"  # Format ticks as full numbers without decimal places and commas for thousands separator\n",
    "    ))\n",
    "\n",
    "fig_bar.update_xaxes(\n",
    "    title_font=dict(size=16), tickfont = dict(size=20)\n",
    ")\n",
    "fig_bar.update_yaxes(\n",
    "    title_font=dict(size=16), tickfont = dict(size=20)\n",
    ")\n",
    "#fig_bar.update_traces(marker_color='#2F3F56',\n",
    "#                     hovertemplate='Census Year: %{x} <br> Median Income: %{y:,.0f} ')\n",
    "fig_bar.show()\n",
    "\n",
    "\n",
    "\n",
    "fig_bar.write_html(os.path.join(workspace, \"Demographics_Tahoe_age_Categories_Bar_Year.html\"))\n"
   ]
  },
  {
   "cell_type": "code",
   "execution_count": null,
   "id": "ae0d0e34",
   "metadata": {},
   "outputs": [],
   "source": [
    "age_data = all_data.loc[(all_data['sample_level']=='tract')&(all_data['county']!='510')&\n",
    "                           (all_data['variable_category']=='TRPA 10-year Age Categories Grouped: Age')&\n",
    "                           (all_data['variable_name']!='Total')]\n",
    "#age_data = age_data.loc[age_data['year_sample']>2015]\n",
    "\n",
    "\n",
    "Age_Mapping = {'10 to 19' : 'Under 30',\n",
    "'20 to 29' : 'Under 30',\n",
    "'30 to 39' : 'Ages 30-49',\n",
    "'40 to 49' : 'Ages 30-49',\n",
    "'50 to 59' : 'Age 50 and Over',\n",
    "'60 to 69' : 'Age 50 and Over',\n",
    "'70 to 79' : 'Age 50 and Over',\n",
    "'Over 80' : 'Age 50 and Over',\n",
    "'Under 10' : 'Under 30'}\n",
    "\n",
    "\n",
    "color_mapping = {'1990':'#FF7014' , '2000': '#E669DD', '2010': '#4682FA', '2020':'#9AE6B5'}\n",
    "\n",
    "age_data['grouped_age'] = age_data['variable_name'].map(Age_Mapping)\n",
    "age_data['Year'] = age_data['year_sample'].astype(int).astype('str')\n",
    "\n",
    "grouped_age_data = age_data.groupby(['Year', 'grouped_age'], as_index=False)['value'].sum()\n",
    "\n",
    "# Define a custom sorting order for the 'Name' column\n",
    "custom_order = ['Under 30', 'Ages 30-49', 'Age 50 and Over']\n",
    "\n",
    "# Sort the DataFrame based on the custom order of the 'Name' column\n",
    "grouped_age_data = grouped_age_data.sort_values(by=['grouped_age'], key=lambda x: x.map({v: i for i, v in enumerate(custom_order)}))\n",
    "\n",
    "grouped_age_data.reset_index(drop=True, inplace=True)\n",
    "\n",
    "fig_bar = px.bar(grouped_age_data, x=\"grouped_age\", y=\"value\", color = 'Year', barmode='group',\n",
    " color_discrete_sequence=px.colors.qualitative.T10, opacity = .9,\n",
    "                #labels=dict(Year='Year', Value='Median Income'),\n",
    "                title=\"Tahoe is Getting Older\")\n",
    "\n",
    "fig_bar.update_layout(font_family=font,\n",
    "                 template=template,\n",
    "                    hoverlabel=dict(\n",
    "                    bgcolor='white',\n",
    "                       font=dict(color='#6680A8') \n",
    "                    ),\n",
    "                    title=dict(\n",
    "                    x=0.5,\n",
    "                xanchor='center', font=dict(size=36)), bargroupgap = 0.10,\n",
    "    legend=dict(\n",
    "        title='',  # Legend title\n",
    "        font=dict(size=18),\n",
    "        orientation = 'h',\n",
    "        yanchor = 'bottom',\n",
    "        y=-.4,\n",
    "        x=.3), xaxis_title='',\n",
    "    yaxis_title='',yaxis=dict(\n",
    "        tickformat=\",.0f\"  # Format ticks as full numbers without decimal places and commas for thousands separator\n",
    "    ))\n",
    "\n",
    "fig_bar.update_xaxes(\n",
    "    title_font=dict(size=16), tickfont = dict(size=20)\n",
    ")\n",
    "fig_bar.update_yaxes(\n",
    "    title_font=dict(size=16), tickfont = dict(size=20)\n",
    ")\n",
    "#fig_bar.update_traces(marker_color='#2F3F56',\n",
    "#                     hovertemplate='Census Year: %{x} <br> Median Income: %{y:,.0f} ')\n",
    "fig_bar.show()\n",
    "\n",
    "\n",
    "\n",
    "\n",
    "fig_bar.write_html(os.path.join(workspace, \"Demographics_Tahoe_age_Categories_Bar_category.html\"))\n"
   ]
  },
  {
   "cell_type": "markdown",
   "id": "797237d4",
   "metadata": {},
   "source": [
    "#### Source of Income"
   ]
  },
  {
   "cell_type": "code",
   "execution_count": null,
   "id": "5ccbf0c8",
   "metadata": {},
   "outputs": [],
   "source": []
  },
  {
   "cell_type": "markdown",
   "id": "2bc220f9",
   "metadata": {},
   "source": [
    "#### Housing Affordability"
   ]
  },
  {
   "cell_type": "code",
   "execution_count": null,
   "id": "6b0c63a8",
   "metadata": {},
   "outputs": [],
   "source": []
  },
  {
   "cell_type": "markdown",
   "id": "267903bc",
   "metadata": {},
   "source": [
    "### Workforce"
   ]
  },
  {
   "cell_type": "markdown",
   "id": "e4efd253",
   "metadata": {},
   "source": [
    "#### Place of Work"
   ]
  },
  {
   "cell_type": "code",
   "execution_count": null,
   "id": "4a7ef776",
   "metadata": {},
   "outputs": [],
   "source": []
  },
  {
   "cell_type": "markdown",
   "id": "0c8f8234",
   "metadata": {},
   "source": [
    "#### Travel Time to Work"
   ]
  },
  {
   "cell_type": "code",
   "execution_count": null,
   "id": "960b7e89",
   "metadata": {},
   "outputs": [],
   "source": []
  },
  {
   "cell_type": "markdown",
   "id": "2ba68d15",
   "metadata": {},
   "source": [
    "### Jobs"
   ]
  },
  {
   "cell_type": "markdown",
   "id": "9158381d",
   "metadata": {},
   "source": [
    "#### Unemployment"
   ]
  },
  {
   "cell_type": "markdown",
   "id": "08ad9d8d",
   "metadata": {},
   "source": []
  },
  {
   "cell_type": "markdown",
   "id": "aecefb1c",
   "metadata": {},
   "source": [
    "#### Employment"
   ]
  },
  {
   "cell_type": "code",
   "execution_count": null,
   "id": "6bf6041e",
   "metadata": {},
   "outputs": [],
   "source": [
    "#Employment numbers\n",
    "dfEmployment = pd.read_sql(\"SELECT * FROM sde_tabular.SDE.Demographics where category = 'Employment'\", conn)\n",
    "dfEmployment = dfEmployment.sort_values(by=['Year'], ignore_index=True)\n",
    "\n",
    "fig_Employment = px.line(dfEmployment, x=\"Year\", y=\"Value\",\n",
    "                labels=dict(Year='Year', Value='Employment'),\n",
    "                title=\"Tahoe Basin Demographics\")\n",
    "\n",
    "fig_Employment.update_traces(mode='markers+lines', \n",
    "                     patch={\"line\": {\n",
    "                           \"shape\": \"spline\"}},\n",
    "                     hovertemplate='Census Year: %{x} <br> Population: %{y:,.0f} '\n",
    "                    )\n",
    "fig_Employment.update_layout(font_family=font,\n",
    "                 template=template,\n",
    "                    hoverlabel=dict(\n",
    "                    bgcolor='white',\n",
    "                       font=dict(color='blue') \n",
    "                    ),\n",
    "                    title=dict(\n",
    "                    x=0.5,\n",
    "                xanchor='center'),\n",
    "                    xaxis=dict(tick0=2000, dtick=10)\n",
    "                            )\n",
    "\n",
    "fig_Employment.show()"
   ]
  },
  {
   "cell_type": "markdown",
   "id": "f4020f78",
   "metadata": {},
   "source": [
    "### Industries"
   ]
  },
  {
   "cell_type": "markdown",
   "id": "774886a3",
   "metadata": {},
   "source": [
    "#### Establishements"
   ]
  },
  {
   "cell_type": "code",
   "execution_count": null,
   "id": "80d71fe0",
   "metadata": {},
   "outputs": [],
   "source": []
  },
  {
   "cell_type": "markdown",
   "id": "c2a896cf",
   "metadata": {},
   "source": []
  }
 ],
 "metadata": {
  "kernelspec": {
   "display_name": "Python 3",
   "language": "python",
   "name": "python3"
  },
  "language_info": {
   "codemirror_mode": {
    "name": "ipython",
    "version": 3
   },
   "file_extension": ".py",
   "mimetype": "text/x-python",
   "name": "python",
   "nbconvert_exporter": "python",
   "pygments_lexer": "ipython3",
   "version": "3.9.11"
  }
 },
 "nbformat": 4,
 "nbformat_minor": 5
}
